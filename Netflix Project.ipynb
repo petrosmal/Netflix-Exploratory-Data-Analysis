{
 "cells": [
  {
   "cell_type": "code",
   "execution_count": 83,
   "metadata": {},
   "outputs": [
    {
     "data": {
      "text/html": [
       "<div>\n",
       "<style scoped>\n",
       "    .dataframe tbody tr th:only-of-type {\n",
       "        vertical-align: middle;\n",
       "    }\n",
       "\n",
       "    .dataframe tbody tr th {\n",
       "        vertical-align: top;\n",
       "    }\n",
       "\n",
       "    .dataframe thead th {\n",
       "        text-align: right;\n",
       "    }\n",
       "</style>\n",
       "<table border=\"1\" class=\"dataframe\">\n",
       "  <thead>\n",
       "    <tr style=\"text-align: right;\">\n",
       "      <th></th>\n",
       "      <th>show_id</th>\n",
       "      <th>type</th>\n",
       "      <th>title</th>\n",
       "      <th>director</th>\n",
       "      <th>cast</th>\n",
       "      <th>country</th>\n",
       "      <th>date_added</th>\n",
       "      <th>release_year</th>\n",
       "      <th>rating</th>\n",
       "      <th>duration</th>\n",
       "      <th>listed_in</th>\n",
       "      <th>description</th>\n",
       "    </tr>\n",
       "  </thead>\n",
       "  <tbody>\n",
       "    <tr>\n",
       "      <th>0</th>\n",
       "      <td>s1</td>\n",
       "      <td>Movie</td>\n",
       "      <td>Dick Johnson Is Dead</td>\n",
       "      <td>Kirsten Johnson</td>\n",
       "      <td>NaN</td>\n",
       "      <td>United States</td>\n",
       "      <td>September 25, 2021</td>\n",
       "      <td>2020</td>\n",
       "      <td>PG-13</td>\n",
       "      <td>90 min</td>\n",
       "      <td>Documentaries</td>\n",
       "      <td>As her father nears the end of his life, filmm...</td>\n",
       "    </tr>\n",
       "    <tr>\n",
       "      <th>1</th>\n",
       "      <td>s2</td>\n",
       "      <td>TV Show</td>\n",
       "      <td>Blood &amp; Water</td>\n",
       "      <td>NaN</td>\n",
       "      <td>Ama Qamata, Khosi Ngema, Gail Mabalane, Thaban...</td>\n",
       "      <td>South Africa</td>\n",
       "      <td>September 24, 2021</td>\n",
       "      <td>2021</td>\n",
       "      <td>TV-MA</td>\n",
       "      <td>2 Seasons</td>\n",
       "      <td>International TV Shows, TV Dramas, TV Mysteries</td>\n",
       "      <td>After crossing paths at a party, a Cape Town t...</td>\n",
       "    </tr>\n",
       "    <tr>\n",
       "      <th>2</th>\n",
       "      <td>s3</td>\n",
       "      <td>TV Show</td>\n",
       "      <td>Ganglands</td>\n",
       "      <td>Julien Leclercq</td>\n",
       "      <td>Sami Bouajila, Tracy Gotoas, Samuel Jouy, Nabi...</td>\n",
       "      <td>NaN</td>\n",
       "      <td>September 24, 2021</td>\n",
       "      <td>2021</td>\n",
       "      <td>TV-MA</td>\n",
       "      <td>1 Season</td>\n",
       "      <td>Crime TV Shows, International TV Shows, TV Act...</td>\n",
       "      <td>To protect his family from a powerful drug lor...</td>\n",
       "    </tr>\n",
       "    <tr>\n",
       "      <th>3</th>\n",
       "      <td>s4</td>\n",
       "      <td>TV Show</td>\n",
       "      <td>Jailbirds New Orleans</td>\n",
       "      <td>NaN</td>\n",
       "      <td>NaN</td>\n",
       "      <td>NaN</td>\n",
       "      <td>September 24, 2021</td>\n",
       "      <td>2021</td>\n",
       "      <td>TV-MA</td>\n",
       "      <td>1 Season</td>\n",
       "      <td>Docuseries, Reality TV</td>\n",
       "      <td>Feuds, flirtations and toilet talk go down amo...</td>\n",
       "    </tr>\n",
       "    <tr>\n",
       "      <th>4</th>\n",
       "      <td>s5</td>\n",
       "      <td>TV Show</td>\n",
       "      <td>Kota Factory</td>\n",
       "      <td>NaN</td>\n",
       "      <td>Mayur More, Jitendra Kumar, Ranjan Raj, Alam K...</td>\n",
       "      <td>India</td>\n",
       "      <td>September 24, 2021</td>\n",
       "      <td>2021</td>\n",
       "      <td>TV-MA</td>\n",
       "      <td>2 Seasons</td>\n",
       "      <td>International TV Shows, Romantic TV Shows, TV ...</td>\n",
       "      <td>In a city of coaching centers known to train I...</td>\n",
       "    </tr>\n",
       "    <tr>\n",
       "      <th>...</th>\n",
       "      <td>...</td>\n",
       "      <td>...</td>\n",
       "      <td>...</td>\n",
       "      <td>...</td>\n",
       "      <td>...</td>\n",
       "      <td>...</td>\n",
       "      <td>...</td>\n",
       "      <td>...</td>\n",
       "      <td>...</td>\n",
       "      <td>...</td>\n",
       "      <td>...</td>\n",
       "      <td>...</td>\n",
       "    </tr>\n",
       "    <tr>\n",
       "      <th>8802</th>\n",
       "      <td>s8803</td>\n",
       "      <td>Movie</td>\n",
       "      <td>Zodiac</td>\n",
       "      <td>David Fincher</td>\n",
       "      <td>Mark Ruffalo, Jake Gyllenhaal, Robert Downey J...</td>\n",
       "      <td>United States</td>\n",
       "      <td>November 20, 2019</td>\n",
       "      <td>2007</td>\n",
       "      <td>R</td>\n",
       "      <td>158 min</td>\n",
       "      <td>Cult Movies, Dramas, Thrillers</td>\n",
       "      <td>A political cartoonist, a crime reporter and a...</td>\n",
       "    </tr>\n",
       "    <tr>\n",
       "      <th>8803</th>\n",
       "      <td>s8804</td>\n",
       "      <td>TV Show</td>\n",
       "      <td>Zombie Dumb</td>\n",
       "      <td>NaN</td>\n",
       "      <td>NaN</td>\n",
       "      <td>NaN</td>\n",
       "      <td>July 1, 2019</td>\n",
       "      <td>2018</td>\n",
       "      <td>TV-Y7</td>\n",
       "      <td>2 Seasons</td>\n",
       "      <td>Kids' TV, Korean TV Shows, TV Comedies</td>\n",
       "      <td>While living alone in a spooky town, a young g...</td>\n",
       "    </tr>\n",
       "    <tr>\n",
       "      <th>8804</th>\n",
       "      <td>s8805</td>\n",
       "      <td>Movie</td>\n",
       "      <td>Zombieland</td>\n",
       "      <td>Ruben Fleischer</td>\n",
       "      <td>Jesse Eisenberg, Woody Harrelson, Emma Stone, ...</td>\n",
       "      <td>United States</td>\n",
       "      <td>November 1, 2019</td>\n",
       "      <td>2009</td>\n",
       "      <td>R</td>\n",
       "      <td>88 min</td>\n",
       "      <td>Comedies, Horror Movies</td>\n",
       "      <td>Looking to survive in a world taken over by zo...</td>\n",
       "    </tr>\n",
       "    <tr>\n",
       "      <th>8805</th>\n",
       "      <td>s8806</td>\n",
       "      <td>Movie</td>\n",
       "      <td>Zoom</td>\n",
       "      <td>Peter Hewitt</td>\n",
       "      <td>Tim Allen, Courteney Cox, Chevy Chase, Kate Ma...</td>\n",
       "      <td>United States</td>\n",
       "      <td>January 11, 2020</td>\n",
       "      <td>2006</td>\n",
       "      <td>PG</td>\n",
       "      <td>88 min</td>\n",
       "      <td>Children &amp; Family Movies, Comedies</td>\n",
       "      <td>Dragged from civilian life, a former superhero...</td>\n",
       "    </tr>\n",
       "    <tr>\n",
       "      <th>8806</th>\n",
       "      <td>s8807</td>\n",
       "      <td>Movie</td>\n",
       "      <td>Zubaan</td>\n",
       "      <td>Mozez Singh</td>\n",
       "      <td>Vicky Kaushal, Sarah-Jane Dias, Raaghav Chanan...</td>\n",
       "      <td>India</td>\n",
       "      <td>March 2, 2019</td>\n",
       "      <td>2015</td>\n",
       "      <td>TV-14</td>\n",
       "      <td>111 min</td>\n",
       "      <td>Dramas, International Movies, Music &amp; Musicals</td>\n",
       "      <td>A scrappy but poor boy worms his way into a ty...</td>\n",
       "    </tr>\n",
       "  </tbody>\n",
       "</table>\n",
       "<p>8807 rows × 12 columns</p>\n",
       "</div>"
      ],
      "text/plain": [
       "     show_id     type                  title         director  \\\n",
       "0         s1    Movie   Dick Johnson Is Dead  Kirsten Johnson   \n",
       "1         s2  TV Show          Blood & Water              NaN   \n",
       "2         s3  TV Show              Ganglands  Julien Leclercq   \n",
       "3         s4  TV Show  Jailbirds New Orleans              NaN   \n",
       "4         s5  TV Show           Kota Factory              NaN   \n",
       "...      ...      ...                    ...              ...   \n",
       "8802   s8803    Movie                 Zodiac    David Fincher   \n",
       "8803   s8804  TV Show            Zombie Dumb              NaN   \n",
       "8804   s8805    Movie             Zombieland  Ruben Fleischer   \n",
       "8805   s8806    Movie                   Zoom     Peter Hewitt   \n",
       "8806   s8807    Movie                 Zubaan      Mozez Singh   \n",
       "\n",
       "                                                   cast        country  \\\n",
       "0                                                   NaN  United States   \n",
       "1     Ama Qamata, Khosi Ngema, Gail Mabalane, Thaban...   South Africa   \n",
       "2     Sami Bouajila, Tracy Gotoas, Samuel Jouy, Nabi...            NaN   \n",
       "3                                                   NaN            NaN   \n",
       "4     Mayur More, Jitendra Kumar, Ranjan Raj, Alam K...          India   \n",
       "...                                                 ...            ...   \n",
       "8802  Mark Ruffalo, Jake Gyllenhaal, Robert Downey J...  United States   \n",
       "8803                                                NaN            NaN   \n",
       "8804  Jesse Eisenberg, Woody Harrelson, Emma Stone, ...  United States   \n",
       "8805  Tim Allen, Courteney Cox, Chevy Chase, Kate Ma...  United States   \n",
       "8806  Vicky Kaushal, Sarah-Jane Dias, Raaghav Chanan...          India   \n",
       "\n",
       "              date_added  release_year rating   duration  \\\n",
       "0     September 25, 2021          2020  PG-13     90 min   \n",
       "1     September 24, 2021          2021  TV-MA  2 Seasons   \n",
       "2     September 24, 2021          2021  TV-MA   1 Season   \n",
       "3     September 24, 2021          2021  TV-MA   1 Season   \n",
       "4     September 24, 2021          2021  TV-MA  2 Seasons   \n",
       "...                  ...           ...    ...        ...   \n",
       "8802   November 20, 2019          2007      R    158 min   \n",
       "8803        July 1, 2019          2018  TV-Y7  2 Seasons   \n",
       "8804    November 1, 2019          2009      R     88 min   \n",
       "8805    January 11, 2020          2006     PG     88 min   \n",
       "8806       March 2, 2019          2015  TV-14    111 min   \n",
       "\n",
       "                                              listed_in  \\\n",
       "0                                         Documentaries   \n",
       "1       International TV Shows, TV Dramas, TV Mysteries   \n",
       "2     Crime TV Shows, International TV Shows, TV Act...   \n",
       "3                                Docuseries, Reality TV   \n",
       "4     International TV Shows, Romantic TV Shows, TV ...   \n",
       "...                                                 ...   \n",
       "8802                     Cult Movies, Dramas, Thrillers   \n",
       "8803             Kids' TV, Korean TV Shows, TV Comedies   \n",
       "8804                            Comedies, Horror Movies   \n",
       "8805                 Children & Family Movies, Comedies   \n",
       "8806     Dramas, International Movies, Music & Musicals   \n",
       "\n",
       "                                            description  \n",
       "0     As her father nears the end of his life, filmm...  \n",
       "1     After crossing paths at a party, a Cape Town t...  \n",
       "2     To protect his family from a powerful drug lor...  \n",
       "3     Feuds, flirtations and toilet talk go down amo...  \n",
       "4     In a city of coaching centers known to train I...  \n",
       "...                                                 ...  \n",
       "8802  A political cartoonist, a crime reporter and a...  \n",
       "8803  While living alone in a spooky town, a young g...  \n",
       "8804  Looking to survive in a world taken over by zo...  \n",
       "8805  Dragged from civilian life, a former superhero...  \n",
       "8806  A scrappy but poor boy worms his way into a ty...  \n",
       "\n",
       "[8807 rows x 12 columns]"
      ]
     },
     "execution_count": 83,
     "metadata": {},
     "output_type": "execute_result"
    }
   ],
   "source": [
    "import pandas as pd\n",
    "import numpy as np\n",
    "import matplotlib.pyplot as plt\n",
    "import seaborn as sns\n",
    "\n",
    "movies = pd.read_csv('netflix_titles.csv')\n",
    "movies"
   ]
  },
  {
   "cell_type": "markdown",
   "metadata": {},
   "source": [
    "# Checking for Duplicates\n",
    "## Is there any Duplicate Record in this dataset ? If yes, then remove the duplicate records.\n"
   ]
  },
  {
   "cell_type": "code",
   "execution_count": 84,
   "metadata": {},
   "outputs": [
    {
     "data": {
      "text/plain": [
       "0"
      ]
     },
     "execution_count": 84,
     "metadata": {},
     "output_type": "execute_result"
    }
   ],
   "source": [
    "len(movies[movies.duplicated()])"
   ]
  },
  {
   "cell_type": "markdown",
   "metadata": {},
   "source": [
    "# Checking for missing values\n",
    "##  Is there any Null Value present in any column ? Show with Heat-map.\n"
   ]
  },
  {
   "cell_type": "code",
   "execution_count": 85,
   "metadata": {},
   "outputs": [
    {
     "data": {
      "text/plain": [
       "show_id            0\n",
       "type               0\n",
       "title              0\n",
       "director        2634\n",
       "cast             825\n",
       "country          831\n",
       "date_added        10\n",
       "release_year       0\n",
       "rating             4\n",
       "duration           3\n",
       "listed_in          0\n",
       "description        0\n",
       "dtype: int64"
      ]
     },
     "execution_count": 85,
     "metadata": {},
     "output_type": "execute_result"
    }
   ],
   "source": [
    "movies.isna().sum()"
   ]
  },
  {
   "cell_type": "code",
   "execution_count": 86,
   "metadata": {},
   "outputs": [
    {
     "data": {
      "image/png": "[encoded data removed]",
      "text/plain": [
       "<Figure size 432x288 with 2 Axes>"
      ]
     },
     "metadata": {},
     "output_type": "display_data"
    }
   ],
   "source": [
    "sns.heatmap(data = movies.isna(),cmap='coolwarm')\n",
    "plt.show()"
   ]
  },
  {
   "cell_type": "markdown",
   "metadata": {},
   "source": [
    "# Question 1: For 'House of Cards', what is the Show Id and Who is the Director of this show ?\n"
   ]
  },
  {
   "cell_type": "code",
   "execution_count": 87,
   "metadata": {},
   "outputs": [
    {
     "data": {
      "text/html": [
       "<div>\n",
       "<style scoped>\n",
       "    .dataframe tbody tr th:only-of-type {\n",
       "        vertical-align: middle;\n",
       "    }\n",
       "\n",
       "    .dataframe tbody tr th {\n",
       "        vertical-align: top;\n",
       "    }\n",
       "\n",
       "    .dataframe thead th {\n",
       "        text-align: right;\n",
       "    }\n",
       "</style>\n",
       "<table border=\"1\" class=\"dataframe\">\n",
       "  <thead>\n",
       "    <tr style=\"text-align: right;\">\n",
       "      <th></th>\n",
       "      <th>show_id</th>\n",
       "      <th>director</th>\n",
       "    </tr>\n",
       "  </thead>\n",
       "  <tbody>\n",
       "    <tr>\n",
       "      <th>1059</th>\n",
       "      <td>s1060</td>\n",
       "      <td>NaN</td>\n",
       "    </tr>\n",
       "  </tbody>\n",
       "</table>\n",
       "</div>"
      ],
      "text/plain": [
       "     show_id director\n",
       "1059   s1060      NaN"
      ]
     },
     "execution_count": 87,
     "metadata": {},
     "output_type": "execute_result"
    }
   ],
   "source": [
    "movies.loc[movies['title']=='House of Cards'][['show_id','director']]"
   ]
  },
  {
   "cell_type": "code",
   "execution_count": 88,
   "metadata": {},
   "outputs": [
    {
     "data": {
      "text/html": [
       "<div>\n",
       "<style scoped>\n",
       "    .dataframe tbody tr th:only-of-type {\n",
       "        vertical-align: middle;\n",
       "    }\n",
       "\n",
       "    .dataframe tbody tr th {\n",
       "        vertical-align: top;\n",
       "    }\n",
       "\n",
       "    .dataframe thead th {\n",
       "        text-align: right;\n",
       "    }\n",
       "</style>\n",
       "<table border=\"1\" class=\"dataframe\">\n",
       "  <thead>\n",
       "    <tr style=\"text-align: right;\">\n",
       "      <th></th>\n",
       "      <th>show_id</th>\n",
       "      <th>director</th>\n",
       "    </tr>\n",
       "  </thead>\n",
       "  <tbody>\n",
       "    <tr>\n",
       "      <th>1059</th>\n",
       "      <td>s1060</td>\n",
       "      <td>NaN</td>\n",
       "    </tr>\n",
       "  </tbody>\n",
       "</table>\n",
       "</div>"
      ],
      "text/plain": [
       "     show_id director\n",
       "1059   s1060      NaN"
      ]
     },
     "execution_count": 88,
     "metadata": {},
     "output_type": "execute_result"
    }
   ],
   "source": [
    "movies[movies['title'].isin(['House of Cards'])][['show_id','director']]"
   ]
  },
  {
   "cell_type": "code",
   "execution_count": 89,
   "metadata": {},
   "outputs": [
    {
     "data": {
      "text/html": [
       "<div>\n",
       "<style scoped>\n",
       "    .dataframe tbody tr th:only-of-type {\n",
       "        vertical-align: middle;\n",
       "    }\n",
       "\n",
       "    .dataframe tbody tr th {\n",
       "        vertical-align: top;\n",
       "    }\n",
       "\n",
       "    .dataframe thead th {\n",
       "        text-align: right;\n",
       "    }\n",
       "</style>\n",
       "<table border=\"1\" class=\"dataframe\">\n",
       "  <thead>\n",
       "    <tr style=\"text-align: right;\">\n",
       "      <th></th>\n",
       "      <th>show_id</th>\n",
       "      <th>director</th>\n",
       "    </tr>\n",
       "  </thead>\n",
       "  <tbody>\n",
       "    <tr>\n",
       "      <th>1059</th>\n",
       "      <td>s1060</td>\n",
       "      <td>NaN</td>\n",
       "    </tr>\n",
       "  </tbody>\n",
       "</table>\n",
       "</div>"
      ],
      "text/plain": [
       "     show_id director\n",
       "1059   s1060      NaN"
      ]
     },
     "execution_count": 89,
     "metadata": {},
     "output_type": "execute_result"
    }
   ],
   "source": [
    "movies[movies['title'].str.contains('House of Cards')][['show_id','director']]\n"
   ]
  },
  {
   "cell_type": "markdown",
   "metadata": {},
   "source": [
    "# Question 2: In which year the highest number of the TV Shows & Movies were released ? Show with Bar Graph.\n"
   ]
  },
  {
   "cell_type": "code",
   "execution_count": 90,
   "metadata": {},
   "outputs": [
    {
     "name": "stdout",
     "output_type": "stream",
     "text": [
      "<class 'pandas.core.frame.DataFrame'>\n",
      "RangeIndex: 8807 entries, 0 to 8806\n",
      "Data columns (total 12 columns):\n",
      " #   Column        Non-Null Count  Dtype \n",
      "---  ------        --------------  ----- \n",
      " 0   show_id       8807 non-null   object\n",
      " 1   type          8807 non-null   object\n",
      " 2   title         8807 non-null   object\n",
      " 3   director      6173 non-null   object\n",
      " 4   cast          7982 non-null   object\n",
      " 5   country       7976 non-null   object\n",
      " 6   date_added    8797 non-null   object\n",
      " 7   release_year  8807 non-null   int64 \n",
      " 8   rating        8803 non-null   object\n",
      " 9   duration      8804 non-null   object\n",
      " 10  listed_in     8807 non-null   object\n",
      " 11  description   8807 non-null   object\n",
      "dtypes: int64(1), object(11)\n",
      "memory usage: 825.8+ KB\n"
     ]
    }
   ],
   "source": [
    "movies.info()"
   ]
  },
  {
   "cell_type": "code",
   "execution_count": 91,
   "metadata": {},
   "outputs": [
    {
     "data": {
      "text/plain": [
       "<matplotlib.axes._subplots.AxesSubplot at 0x174bad60408>"
      ]
     },
     "execution_count": 91,
     "metadata": {},
     "output_type": "execute_result"
    },
    {
     "data": {
      "image/png": "[encoded data removed]",
      "text/plain": [
       "<Figure size 432x288 with 1 Axes>"
      ]
     },
     "metadata": {},
     "output_type": "display_data"
    }
   ],
   "source": [
    "movies['release_year'].value_counts().head(5).plot(kind='bar',color='green',xlabel='Release Year',ylabel='Number of Titles')"
   ]
  },
  {
   "cell_type": "markdown",
   "metadata": {},
   "source": [
    "# Question 3: How many Movies & TV Shows are in the dataset ? Show with Bar Graph.\n"
   ]
  },
  {
   "cell_type": "code",
   "execution_count": 92,
   "metadata": {},
   "outputs": [
    {
     "data": {
      "text/plain": [
       "Movie      6131\n",
       "TV Show    2676\n",
       "Name: type, dtype: int64"
      ]
     },
     "execution_count": 92,
     "metadata": {},
     "output_type": "execute_result"
    }
   ],
   "source": [
    "movies['type'].value_counts()"
   ]
  },
  {
   "cell_type": "code",
   "execution_count": 93,
   "metadata": {},
   "outputs": [
    {
     "data": {
      "image/png": "[encoded data removed]",
      "text/plain": [
       "<Figure size 432x288 with 1 Axes>"
      ]
     },
     "metadata": {},
     "output_type": "display_data"
    }
   ],
   "source": [
    "sns.countplot(data=movies,x='type')\n",
    "plt.show()"
   ]
  },
  {
   "cell_type": "markdown",
   "metadata": {},
   "source": [
    "# Question 4: Show all the Movies that were released in year 2000.\n"
   ]
  },
  {
   "cell_type": "code",
   "execution_count": 94,
   "metadata": {},
   "outputs": [
    {
     "data": {
      "text/html": [
       "<div>\n",
       "<style scoped>\n",
       "    .dataframe tbody tr th:only-of-type {\n",
       "        vertical-align: middle;\n",
       "    }\n",
       "\n",
       "    .dataframe tbody tr th {\n",
       "        vertical-align: top;\n",
       "    }\n",
       "\n",
       "    .dataframe thead th {\n",
       "        text-align: right;\n",
       "    }\n",
       "</style>\n",
       "<table border=\"1\" class=\"dataframe\">\n",
       "  <thead>\n",
       "    <tr style=\"text-align: right;\">\n",
       "      <th></th>\n",
       "      <th>show_id</th>\n",
       "      <th>type</th>\n",
       "      <th>title</th>\n",
       "      <th>director</th>\n",
       "      <th>cast</th>\n",
       "      <th>country</th>\n",
       "      <th>date_added</th>\n",
       "      <th>release_year</th>\n",
       "      <th>rating</th>\n",
       "      <th>duration</th>\n",
       "      <th>listed_in</th>\n",
       "      <th>description</th>\n",
       "    </tr>\n",
       "  </thead>\n",
       "  <tbody>\n",
       "    <tr>\n",
       "      <th>180</th>\n",
       "      <td>s181</td>\n",
       "      <td>Movie</td>\n",
       "      <td>The Nutty Professor II: The Klumps</td>\n",
       "      <td>Peter Segal</td>\n",
       "      <td>Eddie Murphy, Janet Jackson, Larry Miller, Joh...</td>\n",
       "      <td>NaN</td>\n",
       "      <td>September 1, 2021</td>\n",
       "      <td>2000</td>\n",
       "      <td>PG-13</td>\n",
       "      <td>107 min</td>\n",
       "      <td>Comedies, Romantic Movies</td>\n",
       "      <td>After getting engaged, Sherman Klump prepares ...</td>\n",
       "    </tr>\n",
       "    <tr>\n",
       "      <th>350</th>\n",
       "      <td>s351</td>\n",
       "      <td>Movie</td>\n",
       "      <td>Space Cowboys</td>\n",
       "      <td>Clint Eastwood</td>\n",
       "      <td>Clint Eastwood, Tommy Lee Jones, Donald Suther...</td>\n",
       "      <td>United States</td>\n",
       "      <td>August 1, 2021</td>\n",
       "      <td>2000</td>\n",
       "      <td>PG-13</td>\n",
       "      <td>130 min</td>\n",
       "      <td>Action &amp; Adventure, Dramas, Sci-Fi &amp; Fantasy</td>\n",
       "      <td>A retired engineer agrees to help NASA prevent...</td>\n",
       "    </tr>\n",
       "    <tr>\n",
       "      <th>359</th>\n",
       "      <td>s360</td>\n",
       "      <td>Movie</td>\n",
       "      <td>The Original Kings of Comedy</td>\n",
       "      <td>Spike Lee</td>\n",
       "      <td>Steve Harvey, D.L. Hughley, Cedric the Enterta...</td>\n",
       "      <td>United States</td>\n",
       "      <td>August 1, 2021</td>\n",
       "      <td>2000</td>\n",
       "      <td>R</td>\n",
       "      <td>111 min</td>\n",
       "      <td>Stand-Up Comedy</td>\n",
       "      <td>Comedians Steve Harvey, Cedric the Entertainer...</td>\n",
       "    </tr>\n",
       "    <tr>\n",
       "      <th>566</th>\n",
       "      <td>s567</td>\n",
       "      <td>Movie</td>\n",
       "      <td>Charlie's Angels</td>\n",
       "      <td>McG</td>\n",
       "      <td>Cameron Diaz, Drew Barrymore, Lucy Liu, Bill M...</td>\n",
       "      <td>United States, Germany</td>\n",
       "      <td>July 1, 2021</td>\n",
       "      <td>2000</td>\n",
       "      <td>PG-13</td>\n",
       "      <td>98 min</td>\n",
       "      <td>Action &amp; Adventure, Comedies</td>\n",
       "      <td>A tight-knit trio of specially trained agents ...</td>\n",
       "    </tr>\n",
       "    <tr>\n",
       "      <th>593</th>\n",
       "      <td>s594</td>\n",
       "      <td>Movie</td>\n",
       "      <td>Snow Day</td>\n",
       "      <td>Chris Koch</td>\n",
       "      <td>Chris Elliott, Mark Webber, Jean Smart, Schuyl...</td>\n",
       "      <td>United States</td>\n",
       "      <td>July 1, 2021</td>\n",
       "      <td>2000</td>\n",
       "      <td>PG</td>\n",
       "      <td>89 min</td>\n",
       "      <td>Children &amp; Family Movies, Comedies</td>\n",
       "      <td>When a snow day shuts down the whole town, the...</td>\n",
       "    </tr>\n",
       "    <tr>\n",
       "      <th>779</th>\n",
       "      <td>s780</td>\n",
       "      <td>Movie</td>\n",
       "      <td>Battlefield Earth</td>\n",
       "      <td>Roger Christian</td>\n",
       "      <td>John Travolta, Barry Pepper, Forest Whitaker, ...</td>\n",
       "      <td>United States</td>\n",
       "      <td>June 2, 2021</td>\n",
       "      <td>2000</td>\n",
       "      <td>PG-13</td>\n",
       "      <td>118 min</td>\n",
       "      <td>Action &amp; Adventure, Cult Movies, Sci-Fi &amp; Fantasy</td>\n",
       "      <td>In the year 3000, an alien race known as the P...</td>\n",
       "    </tr>\n",
       "    <tr>\n",
       "      <th>952</th>\n",
       "      <td>s953</td>\n",
       "      <td>Movie</td>\n",
       "      <td>The Whole Nine Yards</td>\n",
       "      <td>Jonathan Lynn</td>\n",
       "      <td>Bruce Willis, Matthew Perry, Rosanna Arquette,...</td>\n",
       "      <td>United States</td>\n",
       "      <td>May 1, 2021</td>\n",
       "      <td>2000</td>\n",
       "      <td>R</td>\n",
       "      <td>99 min</td>\n",
       "      <td>Action &amp; Adventure, Comedies</td>\n",
       "      <td>An unhappily married dentist becomes mixed up ...</td>\n",
       "    </tr>\n",
       "    <tr>\n",
       "      <th>3472</th>\n",
       "      <td>s3473</td>\n",
       "      <td>Movie</td>\n",
       "      <td>Rugrats in Paris: The Movie</td>\n",
       "      <td>Stig Bergqvist, Paul Demeyer</td>\n",
       "      <td>Elizabeth Daily, Tara Strong, Cheryl Chase, Ch...</td>\n",
       "      <td>Germany, United States</td>\n",
       "      <td>October 1, 2019</td>\n",
       "      <td>2000</td>\n",
       "      <td>G</td>\n",
       "      <td>79 min</td>\n",
       "      <td>Children &amp; Family Movies, Comedies</td>\n",
       "      <td>The Rugrats take to the big screen and visit P...</td>\n",
       "    </tr>\n",
       "    <tr>\n",
       "      <th>4545</th>\n",
       "      <td>s4546</td>\n",
       "      <td>Movie</td>\n",
       "      <td>Monty Python: Before the Flying Circus</td>\n",
       "      <td>Will Yapp</td>\n",
       "      <td>Graham Chapman, Eric Idle, Terry Jones, Michae...</td>\n",
       "      <td>United Kingdom</td>\n",
       "      <td>October 2, 2018</td>\n",
       "      <td>2000</td>\n",
       "      <td>TV-MA</td>\n",
       "      <td>56 min</td>\n",
       "      <td>Comedies, Documentaries</td>\n",
       "      <td>Discover how six seemingly ordinary but suprem...</td>\n",
       "    </tr>\n",
       "    <tr>\n",
       "      <th>4723</th>\n",
       "      <td>s4724</td>\n",
       "      <td>Movie</td>\n",
       "      <td>Fiza</td>\n",
       "      <td>Khalid Mohamed</td>\n",
       "      <td>Karisma Kapoor, Jaya Bhaduri, Hrithik Roshan, ...</td>\n",
       "      <td>India</td>\n",
       "      <td>August 2, 2018</td>\n",
       "      <td>2000</td>\n",
       "      <td>TV-14</td>\n",
       "      <td>163 min</td>\n",
       "      <td>Dramas, International Movies, Music &amp; Musicals</td>\n",
       "      <td>Fiza's brother disappears during Mumbai's horr...</td>\n",
       "    </tr>\n",
       "    <tr>\n",
       "      <th>4956</th>\n",
       "      <td>s4957</td>\n",
       "      <td>Movie</td>\n",
       "      <td>Phir Bhi Dil Hai Hindustani</td>\n",
       "      <td>Aziz Mirza</td>\n",
       "      <td>Shah Rukh Khan, Juhi Chawla, Paresh Rawal, Sat...</td>\n",
       "      <td>India</td>\n",
       "      <td>April 1, 2018</td>\n",
       "      <td>2000</td>\n",
       "      <td>TV-14</td>\n",
       "      <td>159 min</td>\n",
       "      <td>Comedies, Dramas, International Movies</td>\n",
       "      <td>In this Bollywood entertainment, two journalis...</td>\n",
       "    </tr>\n",
       "    <tr>\n",
       "      <th>5953</th>\n",
       "      <td>s5954</td>\n",
       "      <td>Movie</td>\n",
       "      <td>Joseph: King of Dreams</td>\n",
       "      <td>Rob LaDuca, Robert C. Ramirez</td>\n",
       "      <td>Ben Affleck, Mark Hamill, Richard Herd, Mauree...</td>\n",
       "      <td>United States, France, United Kingdom</td>\n",
       "      <td>September 27, 2011</td>\n",
       "      <td>2000</td>\n",
       "      <td>TV-PG</td>\n",
       "      <td>75 min</td>\n",
       "      <td>Children &amp; Family Movies, Dramas, Faith &amp; Spir...</td>\n",
       "      <td>With his gift of dream interpretation and his ...</td>\n",
       "    </tr>\n",
       "    <tr>\n",
       "      <th>6006</th>\n",
       "      <td>s6007</td>\n",
       "      <td>Movie</td>\n",
       "      <td>28 Days</td>\n",
       "      <td>Betty Thomas</td>\n",
       "      <td>Sandra Bullock, Viggo Mortensen, Dominic West,...</td>\n",
       "      <td>United States</td>\n",
       "      <td>September 30, 2020</td>\n",
       "      <td>2000</td>\n",
       "      <td>PG-13</td>\n",
       "      <td>104 min</td>\n",
       "      <td>Comedies, Dramas</td>\n",
       "      <td>After her drunken antics result in property da...</td>\n",
       "    </tr>\n",
       "    <tr>\n",
       "      <th>6147</th>\n",
       "      <td>s6148</td>\n",
       "      <td>Movie</td>\n",
       "      <td>American Psycho</td>\n",
       "      <td>Mary Harron</td>\n",
       "      <td>Christian Bale, Willem Dafoe, Jared Leto, Rees...</td>\n",
       "      <td>United States, Canada</td>\n",
       "      <td>September 1, 2019</td>\n",
       "      <td>2000</td>\n",
       "      <td>R</td>\n",
       "      <td>102 min</td>\n",
       "      <td>Comedies, Cult Movies, Dramas</td>\n",
       "      <td>With chiseled good looks that belie his insani...</td>\n",
       "    </tr>\n",
       "    <tr>\n",
       "      <th>6154</th>\n",
       "      <td>s6155</td>\n",
       "      <td>Movie</td>\n",
       "      <td>An American Tail: The Treasures of Manhattan I...</td>\n",
       "      <td>Larry Latham</td>\n",
       "      <td>Thomas Dekker, Dom DeLuise, Pat Musick, Nehemi...</td>\n",
       "      <td>United States</td>\n",
       "      <td>April 1, 2018</td>\n",
       "      <td>2000</td>\n",
       "      <td>G</td>\n",
       "      <td>79 min</td>\n",
       "      <td>Children &amp; Family Movies</td>\n",
       "      <td>When Fievel and friends go hunting for buried ...</td>\n",
       "    </tr>\n",
       "    <tr>\n",
       "      <th>6311</th>\n",
       "      <td>s6312</td>\n",
       "      <td>Movie</td>\n",
       "      <td>Billy Elliot</td>\n",
       "      <td>Stephen Daldry</td>\n",
       "      <td>Jamie Bell, Gary Lewis, Stuart Wells, Billy Fa...</td>\n",
       "      <td>United Kingdom, France</td>\n",
       "      <td>February 1, 2019</td>\n",
       "      <td>2000</td>\n",
       "      <td>R</td>\n",
       "      <td>110 min</td>\n",
       "      <td>Dramas, Independent Movies, International Movies</td>\n",
       "      <td>When a boy trades boxing school for ballet les...</td>\n",
       "    </tr>\n",
       "    <tr>\n",
       "      <th>6437</th>\n",
       "      <td>s6438</td>\n",
       "      <td>Movie</td>\n",
       "      <td>Center Stage</td>\n",
       "      <td>Nicholas Hytner</td>\n",
       "      <td>Amanda Schull, Zoe Saldana, Susan May Pratt, P...</td>\n",
       "      <td>United States</td>\n",
       "      <td>January 1, 2020</td>\n",
       "      <td>2000</td>\n",
       "      <td>PG-13</td>\n",
       "      <td>116 min</td>\n",
       "      <td>Dramas</td>\n",
       "      <td>Vying for a spot in the American Ballet Compan...</td>\n",
       "    </tr>\n",
       "    <tr>\n",
       "      <th>6440</th>\n",
       "      <td>s6441</td>\n",
       "      <td>Movie</td>\n",
       "      <td>Chal Mere Bhai</td>\n",
       "      <td>David Dhawan</td>\n",
       "      <td>Sanjay Dutt, Salman Khan, Karisma Kapoor, Dali...</td>\n",
       "      <td>India</td>\n",
       "      <td>December 31, 2019</td>\n",
       "      <td>2000</td>\n",
       "      <td>TV-14</td>\n",
       "      <td>132 min</td>\n",
       "      <td>Comedies, International Movies, Romantic Movies</td>\n",
       "      <td>When a secretary saves her tycoon boss's life,...</td>\n",
       "    </tr>\n",
       "    <tr>\n",
       "      <th>6543</th>\n",
       "      <td>s6544</td>\n",
       "      <td>Movie</td>\n",
       "      <td>Crouching Tiger, Hidden Dragon</td>\n",
       "      <td>Ang Lee</td>\n",
       "      <td>Chow Yun Fat, Michelle Yeoh, Zhang Ziyi, Chang...</td>\n",
       "      <td>Taiwan, Hong Kong, United States, China</td>\n",
       "      <td>March 1, 2019</td>\n",
       "      <td>2000</td>\n",
       "      <td>PG-13</td>\n",
       "      <td>120 min</td>\n",
       "      <td>Action &amp; Adventure, International Movies, Roma...</td>\n",
       "      <td>A young woman in ancient China longs for an ad...</td>\n",
       "    </tr>\n",
       "    <tr>\n",
       "      <th>6643</th>\n",
       "      <td>s6644</td>\n",
       "      <td>Movie</td>\n",
       "      <td>Dragonheart: A New Beginning</td>\n",
       "      <td>Doug Lefler</td>\n",
       "      <td>Christopher Masterson, Harry Van Gorkum, Rona ...</td>\n",
       "      <td>United States</td>\n",
       "      <td>January 1, 2020</td>\n",
       "      <td>2000</td>\n",
       "      <td>PG</td>\n",
       "      <td>84 min</td>\n",
       "      <td>Action &amp; Adventure, Sci-Fi &amp; Fantasy</td>\n",
       "      <td>This sequel introduces Draco the dragon's offs...</td>\n",
       "    </tr>\n",
       "    <tr>\n",
       "      <th>6753</th>\n",
       "      <td>s6754</td>\n",
       "      <td>Movie</td>\n",
       "      <td>Final Destination</td>\n",
       "      <td>James Wong</td>\n",
       "      <td>Devon Sawa, Ali Larter, Kerr Smith, Kristen Cl...</td>\n",
       "      <td>United States</td>\n",
       "      <td>January 1, 2020</td>\n",
       "      <td>2000</td>\n",
       "      <td>R</td>\n",
       "      <td>98 min</td>\n",
       "      <td>Cult Movies, Horror Movies, Thrillers</td>\n",
       "      <td>After narrowly avoiding a fatal plane explosio...</td>\n",
       "    </tr>\n",
       "    <tr>\n",
       "      <th>6912</th>\n",
       "      <td>s6913</td>\n",
       "      <td>Movie</td>\n",
       "      <td>Hamara Dil Aapke Paas Hai</td>\n",
       "      <td>Satish Kaushik</td>\n",
       "      <td>Anil Kapoor, Aishwarya Rai Bachchan, Sonali Be...</td>\n",
       "      <td>India</td>\n",
       "      <td>March 1, 2018</td>\n",
       "      <td>2000</td>\n",
       "      <td>TV-14</td>\n",
       "      <td>158 min</td>\n",
       "      <td>Dramas, International Movies, Music &amp; Musicals</td>\n",
       "      <td>Love blooms when kind-hearted Avinash takes in...</td>\n",
       "    </tr>\n",
       "    <tr>\n",
       "      <th>7013</th>\n",
       "      <td>s7014</td>\n",
       "      <td>Movie</td>\n",
       "      <td>How the Grinch Stole Christmas</td>\n",
       "      <td>Ron Howard</td>\n",
       "      <td>Jim Carrey, Taylor Momsen, Jeffrey Tambor, Chr...</td>\n",
       "      <td>United States</td>\n",
       "      <td>June 1, 2017</td>\n",
       "      <td>2000</td>\n",
       "      <td>PG</td>\n",
       "      <td>105 min</td>\n",
       "      <td>Children &amp; Family Movies, Comedies</td>\n",
       "      <td>The Grinch decides to rob Whoville of Christma...</td>\n",
       "    </tr>\n",
       "    <tr>\n",
       "      <th>7247</th>\n",
       "      <td>s7248</td>\n",
       "      <td>Movie</td>\n",
       "      <td>Kya Kehna</td>\n",
       "      <td>Kundan Shah</td>\n",
       "      <td>Preity Zinta, Saif Ali Khan, Anupam Kher, Fari...</td>\n",
       "      <td>India</td>\n",
       "      <td>April 1, 2018</td>\n",
       "      <td>2000</td>\n",
       "      <td>TV-PG</td>\n",
       "      <td>149 min</td>\n",
       "      <td>Dramas, International Movies, Romantic Movies</td>\n",
       "      <td>A young university student's world is shaken a...</td>\n",
       "    </tr>\n",
       "    <tr>\n",
       "      <th>7316</th>\n",
       "      <td>s7317</td>\n",
       "      <td>Movie</td>\n",
       "      <td>Little Nicky</td>\n",
       "      <td>Steve Brill</td>\n",
       "      <td>Adam Sandler, Patricia Arquette, Harvey Keitel...</td>\n",
       "      <td>United States</td>\n",
       "      <td>December 1, 2020</td>\n",
       "      <td>2000</td>\n",
       "      <td>PG-13</td>\n",
       "      <td>90 min</td>\n",
       "      <td>Comedies</td>\n",
       "      <td>The devil sends his sweet son Nicky to Earth t...</td>\n",
       "    </tr>\n",
       "    <tr>\n",
       "      <th>7702</th>\n",
       "      <td>s7703</td>\n",
       "      <td>Movie</td>\n",
       "      <td>Papa the Great</td>\n",
       "      <td>Bhagyaraj</td>\n",
       "      <td>Krishan Kumar, Nagma, Satya Prakash, Master Bo...</td>\n",
       "      <td>India</td>\n",
       "      <td>December 8, 2017</td>\n",
       "      <td>2000</td>\n",
       "      <td>TV-PG</td>\n",
       "      <td>137 min</td>\n",
       "      <td>Comedies, Dramas, International Movies</td>\n",
       "      <td>After witnessing a murder, a meek family man m...</td>\n",
       "    </tr>\n",
       "    <tr>\n",
       "      <th>7801</th>\n",
       "      <td>s7802</td>\n",
       "      <td>Movie</td>\n",
       "      <td>Pukar</td>\n",
       "      <td>Rajkumar Santoshi</td>\n",
       "      <td>Anil Kapoor, Madhuri Dixit, Namrata Shirodkar,...</td>\n",
       "      <td>India</td>\n",
       "      <td>March 1, 2018</td>\n",
       "      <td>2000</td>\n",
       "      <td>TV-14</td>\n",
       "      <td>165 min</td>\n",
       "      <td>Action &amp; Adventure, Dramas, International Movies</td>\n",
       "      <td>A notorious terrorist manipulates an Indian ar...</td>\n",
       "    </tr>\n",
       "    <tr>\n",
       "      <th>7955</th>\n",
       "      <td>s7956</td>\n",
       "      <td>Movie</td>\n",
       "      <td>Scary Movie</td>\n",
       "      <td>Keenen Ivory Wayans</td>\n",
       "      <td>Anna Faris, Jon Abrahams, Shannon Elizabeth, S...</td>\n",
       "      <td>United States</td>\n",
       "      <td>January 1, 2020</td>\n",
       "      <td>2000</td>\n",
       "      <td>R</td>\n",
       "      <td>88 min</td>\n",
       "      <td>Comedies, Horror Movies</td>\n",
       "      <td>The Wayans brothers spoof some of Hollywood's ...</td>\n",
       "    </tr>\n",
       "    <tr>\n",
       "      <th>7962</th>\n",
       "      <td>s7963</td>\n",
       "      <td>Movie</td>\n",
       "      <td>Scream 3</td>\n",
       "      <td>Wes Craven</td>\n",
       "      <td>David Arquette, Neve Campbell, Courteney Cox, ...</td>\n",
       "      <td>United States</td>\n",
       "      <td>July 1, 2019</td>\n",
       "      <td>2000</td>\n",
       "      <td>R</td>\n",
       "      <td>117 min</td>\n",
       "      <td>Horror Movies</td>\n",
       "      <td>This installment of the tongue-in-cheek horror...</td>\n",
       "    </tr>\n",
       "    <tr>\n",
       "      <th>8196</th>\n",
       "      <td>s8197</td>\n",
       "      <td>Movie</td>\n",
       "      <td>The Art of War</td>\n",
       "      <td>Christian Duguay</td>\n",
       "      <td>Wesley Snipes, Anne Archer, Maury Chaykin, Mar...</td>\n",
       "      <td>United States, Canada</td>\n",
       "      <td>July 1, 2020</td>\n",
       "      <td>2000</td>\n",
       "      <td>R</td>\n",
       "      <td>117 min</td>\n",
       "      <td>Action &amp; Adventure</td>\n",
       "      <td>Framed for the murder of an ambassador, a form...</td>\n",
       "    </tr>\n",
       "    <tr>\n",
       "      <th>8305</th>\n",
       "      <td>s8306</td>\n",
       "      <td>Movie</td>\n",
       "      <td>The Flintstones in Viva Rock Vegas</td>\n",
       "      <td>Brian Levant</td>\n",
       "      <td>Mark Addy, Stephen Baldwin, Kristen Johnston, ...</td>\n",
       "      <td>United States</td>\n",
       "      <td>October 1, 2019</td>\n",
       "      <td>2000</td>\n",
       "      <td>PG</td>\n",
       "      <td>91 min</td>\n",
       "      <td>Children &amp; Family Movies, Comedies, Romantic M...</td>\n",
       "      <td>Yabba-dabba-doo! Digital dinosaurs rule the da...</td>\n",
       "    </tr>\n",
       "    <tr>\n",
       "      <th>8722</th>\n",
       "      <td>s8723</td>\n",
       "      <td>Movie</td>\n",
       "      <td>What Lies Beneath</td>\n",
       "      <td>Robert Zemeckis</td>\n",
       "      <td>Harrison Ford, Michelle Pfeiffer, Diana Scarwi...</td>\n",
       "      <td>United States</td>\n",
       "      <td>January 1, 2020</td>\n",
       "      <td>2000</td>\n",
       "      <td>PG-13</td>\n",
       "      <td>130 min</td>\n",
       "      <td>Horror Movies, Thrillers</td>\n",
       "      <td>When Claire Spencer starts hearing ghostly voi...</td>\n",
       "    </tr>\n",
       "    <tr>\n",
       "      <th>8729</th>\n",
       "      <td>s8730</td>\n",
       "      <td>Movie</td>\n",
       "      <td>Where the Money Is</td>\n",
       "      <td>Marek Kanievska</td>\n",
       "      <td>Paul Newman, Linda Fiorentino, Dermot Mulroney...</td>\n",
       "      <td>Germany, United States, United Kingdom, Canada</td>\n",
       "      <td>January 15, 2020</td>\n",
       "      <td>2000</td>\n",
       "      <td>PG-13</td>\n",
       "      <td>89 min</td>\n",
       "      <td>Action &amp; Adventure, Comedies, Dramas</td>\n",
       "      <td>Paul Newman proves he's still got prodigious a...</td>\n",
       "    </tr>\n",
       "  </tbody>\n",
       "</table>\n",
       "</div>"
      ],
      "text/plain": [
       "     show_id   type                                              title  \\\n",
       "180     s181  Movie                 The Nutty Professor II: The Klumps   \n",
       "350     s351  Movie                                      Space Cowboys   \n",
       "359     s360  Movie                       The Original Kings of Comedy   \n",
       "566     s567  Movie                                   Charlie's Angels   \n",
       "593     s594  Movie                                           Snow Day   \n",
       "779     s780  Movie                                  Battlefield Earth   \n",
       "952     s953  Movie                               The Whole Nine Yards   \n",
       "3472   s3473  Movie                        Rugrats in Paris: The Movie   \n",
       "4545   s4546  Movie             Monty Python: Before the Flying Circus   \n",
       "4723   s4724  Movie                                               Fiza   \n",
       "4956   s4957  Movie                        Phir Bhi Dil Hai Hindustani   \n",
       "5953   s5954  Movie                             Joseph: King of Dreams   \n",
       "6006   s6007  Movie                                            28 Days   \n",
       "6147   s6148  Movie                                    American Psycho   \n",
       "6154   s6155  Movie  An American Tail: The Treasures of Manhattan I...   \n",
       "6311   s6312  Movie                                       Billy Elliot   \n",
       "6437   s6438  Movie                                       Center Stage   \n",
       "6440   s6441  Movie                                     Chal Mere Bhai   \n",
       "6543   s6544  Movie                     Crouching Tiger, Hidden Dragon   \n",
       "6643   s6644  Movie                       Dragonheart: A New Beginning   \n",
       "6753   s6754  Movie                                  Final Destination   \n",
       "6912   s6913  Movie                          Hamara Dil Aapke Paas Hai   \n",
       "7013   s7014  Movie                     How the Grinch Stole Christmas   \n",
       "7247   s7248  Movie                                          Kya Kehna   \n",
       "7316   s7317  Movie                                       Little Nicky   \n",
       "7702   s7703  Movie                                     Papa the Great   \n",
       "7801   s7802  Movie                                              Pukar   \n",
       "7955   s7956  Movie                                        Scary Movie   \n",
       "7962   s7963  Movie                                           Scream 3   \n",
       "8196   s8197  Movie                                     The Art of War   \n",
       "8305   s8306  Movie                 The Flintstones in Viva Rock Vegas   \n",
       "8722   s8723  Movie                                  What Lies Beneath   \n",
       "8729   s8730  Movie                                 Where the Money Is   \n",
       "\n",
       "                           director  \\\n",
       "180                     Peter Segal   \n",
       "350                  Clint Eastwood   \n",
       "359                       Spike Lee   \n",
       "566                             McG   \n",
       "593                      Chris Koch   \n",
       "779                 Roger Christian   \n",
       "952                   Jonathan Lynn   \n",
       "3472   Stig Bergqvist, Paul Demeyer   \n",
       "4545                      Will Yapp   \n",
       "4723                 Khalid Mohamed   \n",
       "4956                     Aziz Mirza   \n",
       "5953  Rob LaDuca, Robert C. Ramirez   \n",
       "6006                   Betty Thomas   \n",
       "6147                    Mary Harron   \n",
       "6154                   Larry Latham   \n",
       "6311                 Stephen Daldry   \n",
       "6437                Nicholas Hytner   \n",
       "6440                   David Dhawan   \n",
       "6543                        Ang Lee   \n",
       "6643                    Doug Lefler   \n",
       "6753                     James Wong   \n",
       "6912                 Satish Kaushik   \n",
       "7013                     Ron Howard   \n",
       "7247                    Kundan Shah   \n",
       "7316                    Steve Brill   \n",
       "7702                      Bhagyaraj   \n",
       "7801              Rajkumar Santoshi   \n",
       "7955            Keenen Ivory Wayans   \n",
       "7962                     Wes Craven   \n",
       "8196               Christian Duguay   \n",
       "8305                   Brian Levant   \n",
       "8722                Robert Zemeckis   \n",
       "8729                Marek Kanievska   \n",
       "\n",
       "                                                   cast  \\\n",
       "180   Eddie Murphy, Janet Jackson, Larry Miller, Joh...   \n",
       "350   Clint Eastwood, Tommy Lee Jones, Donald Suther...   \n",
       "359   Steve Harvey, D.L. Hughley, Cedric the Enterta...   \n",
       "566   Cameron Diaz, Drew Barrymore, Lucy Liu, Bill M...   \n",
       "593   Chris Elliott, Mark Webber, Jean Smart, Schuyl...   \n",
       "779   John Travolta, Barry Pepper, Forest Whitaker, ...   \n",
       "952   Bruce Willis, Matthew Perry, Rosanna Arquette,...   \n",
       "3472  Elizabeth Daily, Tara Strong, Cheryl Chase, Ch...   \n",
       "4545  Graham Chapman, Eric Idle, Terry Jones, Michae...   \n",
       "4723  Karisma Kapoor, Jaya Bhaduri, Hrithik Roshan, ...   \n",
       "4956  Shah Rukh Khan, Juhi Chawla, Paresh Rawal, Sat...   \n",
       "5953  Ben Affleck, Mark Hamill, Richard Herd, Mauree...   \n",
       "6006  Sandra Bullock, Viggo Mortensen, Dominic West,...   \n",
       "6147  Christian Bale, Willem Dafoe, Jared Leto, Rees...   \n",
       "6154  Thomas Dekker, Dom DeLuise, Pat Musick, Nehemi...   \n",
       "6311  Jamie Bell, Gary Lewis, Stuart Wells, Billy Fa...   \n",
       "6437  Amanda Schull, Zoe Saldana, Susan May Pratt, P...   \n",
       "6440  Sanjay Dutt, Salman Khan, Karisma Kapoor, Dali...   \n",
       "6543  Chow Yun Fat, Michelle Yeoh, Zhang Ziyi, Chang...   \n",
       "6643  Christopher Masterson, Harry Van Gorkum, Rona ...   \n",
       "6753  Devon Sawa, Ali Larter, Kerr Smith, Kristen Cl...   \n",
       "6912  Anil Kapoor, Aishwarya Rai Bachchan, Sonali Be...   \n",
       "7013  Jim Carrey, Taylor Momsen, Jeffrey Tambor, Chr...   \n",
       "7247  Preity Zinta, Saif Ali Khan, Anupam Kher, Fari...   \n",
       "7316  Adam Sandler, Patricia Arquette, Harvey Keitel...   \n",
       "7702  Krishan Kumar, Nagma, Satya Prakash, Master Bo...   \n",
       "7801  Anil Kapoor, Madhuri Dixit, Namrata Shirodkar,...   \n",
       "7955  Anna Faris, Jon Abrahams, Shannon Elizabeth, S...   \n",
       "7962  David Arquette, Neve Campbell, Courteney Cox, ...   \n",
       "8196  Wesley Snipes, Anne Archer, Maury Chaykin, Mar...   \n",
       "8305  Mark Addy, Stephen Baldwin, Kristen Johnston, ...   \n",
       "8722  Harrison Ford, Michelle Pfeiffer, Diana Scarwi...   \n",
       "8729  Paul Newman, Linda Fiorentino, Dermot Mulroney...   \n",
       "\n",
       "                                             country          date_added  \\\n",
       "180                                              NaN   September 1, 2021   \n",
       "350                                    United States      August 1, 2021   \n",
       "359                                    United States      August 1, 2021   \n",
       "566                           United States, Germany        July 1, 2021   \n",
       "593                                    United States        July 1, 2021   \n",
       "779                                    United States        June 2, 2021   \n",
       "952                                    United States         May 1, 2021   \n",
       "3472                          Germany, United States     October 1, 2019   \n",
       "4545                                  United Kingdom     October 2, 2018   \n",
       "4723                                           India      August 2, 2018   \n",
       "4956                                           India       April 1, 2018   \n",
       "5953           United States, France, United Kingdom  September 27, 2011   \n",
       "6006                                   United States  September 30, 2020   \n",
       "6147                           United States, Canada   September 1, 2019   \n",
       "6154                                   United States       April 1, 2018   \n",
       "6311                          United Kingdom, France    February 1, 2019   \n",
       "6437                                   United States     January 1, 2020   \n",
       "6440                                           India   December 31, 2019   \n",
       "6543         Taiwan, Hong Kong, United States, China       March 1, 2019   \n",
       "6643                                   United States     January 1, 2020   \n",
       "6753                                   United States     January 1, 2020   \n",
       "6912                                           India       March 1, 2018   \n",
       "7013                                   United States        June 1, 2017   \n",
       "7247                                           India       April 1, 2018   \n",
       "7316                                   United States    December 1, 2020   \n",
       "7702                                           India    December 8, 2017   \n",
       "7801                                           India       March 1, 2018   \n",
       "7955                                   United States     January 1, 2020   \n",
       "7962                                   United States        July 1, 2019   \n",
       "8196                           United States, Canada        July 1, 2020   \n",
       "8305                                   United States     October 1, 2019   \n",
       "8722                                   United States     January 1, 2020   \n",
       "8729  Germany, United States, United Kingdom, Canada    January 15, 2020   \n",
       "\n",
       "      release_year rating duration  \\\n",
       "180           2000  PG-13  107 min   \n",
       "350           2000  PG-13  130 min   \n",
       "359           2000      R  111 min   \n",
       "566           2000  PG-13   98 min   \n",
       "593           2000     PG   89 min   \n",
       "779           2000  PG-13  118 min   \n",
       "952           2000      R   99 min   \n",
       "3472          2000      G   79 min   \n",
       "4545          2000  TV-MA   56 min   \n",
       "4723          2000  TV-14  163 min   \n",
       "4956          2000  TV-14  159 min   \n",
       "5953          2000  TV-PG   75 min   \n",
       "6006          2000  PG-13  104 min   \n",
       "6147          2000      R  102 min   \n",
       "6154          2000      G   79 min   \n",
       "6311          2000      R  110 min   \n",
       "6437          2000  PG-13  116 min   \n",
       "6440          2000  TV-14  132 min   \n",
       "6543          2000  PG-13  120 min   \n",
       "6643          2000     PG   84 min   \n",
       "6753          2000      R   98 min   \n",
       "6912          2000  TV-14  158 min   \n",
       "7013          2000     PG  105 min   \n",
       "7247          2000  TV-PG  149 min   \n",
       "7316          2000  PG-13   90 min   \n",
       "7702          2000  TV-PG  137 min   \n",
       "7801          2000  TV-14  165 min   \n",
       "7955          2000      R   88 min   \n",
       "7962          2000      R  117 min   \n",
       "8196          2000      R  117 min   \n",
       "8305          2000     PG   91 min   \n",
       "8722          2000  PG-13  130 min   \n",
       "8729          2000  PG-13   89 min   \n",
       "\n",
       "                                              listed_in  \\\n",
       "180                           Comedies, Romantic Movies   \n",
       "350        Action & Adventure, Dramas, Sci-Fi & Fantasy   \n",
       "359                                     Stand-Up Comedy   \n",
       "566                        Action & Adventure, Comedies   \n",
       "593                  Children & Family Movies, Comedies   \n",
       "779   Action & Adventure, Cult Movies, Sci-Fi & Fantasy   \n",
       "952                        Action & Adventure, Comedies   \n",
       "3472                 Children & Family Movies, Comedies   \n",
       "4545                            Comedies, Documentaries   \n",
       "4723     Dramas, International Movies, Music & Musicals   \n",
       "4956             Comedies, Dramas, International Movies   \n",
       "5953  Children & Family Movies, Dramas, Faith & Spir...   \n",
       "6006                                   Comedies, Dramas   \n",
       "6147                      Comedies, Cult Movies, Dramas   \n",
       "6154                           Children & Family Movies   \n",
       "6311   Dramas, Independent Movies, International Movies   \n",
       "6437                                             Dramas   \n",
       "6440    Comedies, International Movies, Romantic Movies   \n",
       "6543  Action & Adventure, International Movies, Roma...   \n",
       "6643               Action & Adventure, Sci-Fi & Fantasy   \n",
       "6753              Cult Movies, Horror Movies, Thrillers   \n",
       "6912     Dramas, International Movies, Music & Musicals   \n",
       "7013                 Children & Family Movies, Comedies   \n",
       "7247      Dramas, International Movies, Romantic Movies   \n",
       "7316                                           Comedies   \n",
       "7702             Comedies, Dramas, International Movies   \n",
       "7801   Action & Adventure, Dramas, International Movies   \n",
       "7955                            Comedies, Horror Movies   \n",
       "7962                                      Horror Movies   \n",
       "8196                                 Action & Adventure   \n",
       "8305  Children & Family Movies, Comedies, Romantic M...   \n",
       "8722                           Horror Movies, Thrillers   \n",
       "8729               Action & Adventure, Comedies, Dramas   \n",
       "\n",
       "                                            description  \n",
       "180   After getting engaged, Sherman Klump prepares ...  \n",
       "350   A retired engineer agrees to help NASA prevent...  \n",
       "359   Comedians Steve Harvey, Cedric the Entertainer...  \n",
       "566   A tight-knit trio of specially trained agents ...  \n",
       "593   When a snow day shuts down the whole town, the...  \n",
       "779   In the year 3000, an alien race known as the P...  \n",
       "952   An unhappily married dentist becomes mixed up ...  \n",
       "3472  The Rugrats take to the big screen and visit P...  \n",
       "4545  Discover how six seemingly ordinary but suprem...  \n",
       "4723  Fiza's brother disappears during Mumbai's horr...  \n",
       "4956  In this Bollywood entertainment, two journalis...  \n",
       "5953  With his gift of dream interpretation and his ...  \n",
       "6006  After her drunken antics result in property da...  \n",
       "6147  With chiseled good looks that belie his insani...  \n",
       "6154  When Fievel and friends go hunting for buried ...  \n",
       "6311  When a boy trades boxing school for ballet les...  \n",
       "6437  Vying for a spot in the American Ballet Compan...  \n",
       "6440  When a secretary saves her tycoon boss's life,...  \n",
       "6543  A young woman in ancient China longs for an ad...  \n",
       "6643  This sequel introduces Draco the dragon's offs...  \n",
       "6753  After narrowly avoiding a fatal plane explosio...  \n",
       "6912  Love blooms when kind-hearted Avinash takes in...  \n",
       "7013  The Grinch decides to rob Whoville of Christma...  \n",
       "7247  A young university student's world is shaken a...  \n",
       "7316  The devil sends his sweet son Nicky to Earth t...  \n",
       "7702  After witnessing a murder, a meek family man m...  \n",
       "7801  A notorious terrorist manipulates an Indian ar...  \n",
       "7955  The Wayans brothers spoof some of Hollywood's ...  \n",
       "7962  This installment of the tongue-in-cheek horror...  \n",
       "8196  Framed for the murder of an ambassador, a form...  \n",
       "8305  Yabba-dabba-doo! Digital dinosaurs rule the da...  \n",
       "8722  When Claire Spencer starts hearing ghostly voi...  \n",
       "8729  Paul Newman proves he's still got prodigious a...  "
      ]
     },
     "execution_count": 94,
     "metadata": {},
     "output_type": "execute_result"
    }
   ],
   "source": [
    "movies.loc[(movies['type']=='Movie')&(movies['release_year']==2000)]"
   ]
  },
  {
   "cell_type": "markdown",
   "metadata": {},
   "source": [
    "# Question 5: Show only the Titles of all TV Shows that were released in India only.\n"
   ]
  },
  {
   "cell_type": "code",
   "execution_count": 95,
   "metadata": {},
   "outputs": [
    {
     "data": {
      "text/html": [
       "<div>\n",
       "<style scoped>\n",
       "    .dataframe tbody tr th:only-of-type {\n",
       "        vertical-align: middle;\n",
       "    }\n",
       "\n",
       "    .dataframe tbody tr th {\n",
       "        vertical-align: top;\n",
       "    }\n",
       "\n",
       "    .dataframe thead th {\n",
       "        text-align: right;\n",
       "    }\n",
       "</style>\n",
       "<table border=\"1\" class=\"dataframe\">\n",
       "  <thead>\n",
       "    <tr style=\"text-align: right;\">\n",
       "      <th></th>\n",
       "      <th>title</th>\n",
       "    </tr>\n",
       "  </thead>\n",
       "  <tbody>\n",
       "    <tr>\n",
       "      <th>4</th>\n",
       "      <td>Kota Factory</td>\n",
       "    </tr>\n",
       "    <tr>\n",
       "      <th>39</th>\n",
       "      <td>Chhota Bheem</td>\n",
       "    </tr>\n",
       "    <tr>\n",
       "      <th>50</th>\n",
       "      <td>Dharmakshetra</td>\n",
       "    </tr>\n",
       "    <tr>\n",
       "      <th>66</th>\n",
       "      <td>Raja Rasoi Aur Anya Kahaniyan</td>\n",
       "    </tr>\n",
       "    <tr>\n",
       "      <th>69</th>\n",
       "      <td>Stories by Rabindranath Tagore</td>\n",
       "    </tr>\n",
       "    <tr>\n",
       "      <th>...</th>\n",
       "      <td>...</td>\n",
       "    </tr>\n",
       "    <tr>\n",
       "      <th>8173</th>\n",
       "      <td>Thackeray</td>\n",
       "    </tr>\n",
       "    <tr>\n",
       "      <th>8235</th>\n",
       "      <td>The Calling</td>\n",
       "    </tr>\n",
       "    <tr>\n",
       "      <th>8321</th>\n",
       "      <td>The Golden Years with Javed Akhtar</td>\n",
       "    </tr>\n",
       "    <tr>\n",
       "      <th>8349</th>\n",
       "      <td>The House That Made Me</td>\n",
       "    </tr>\n",
       "    <tr>\n",
       "      <th>8775</th>\n",
       "      <td>Yeh Meri Family</td>\n",
       "    </tr>\n",
       "  </tbody>\n",
       "</table>\n",
       "<p>79 rows × 1 columns</p>\n",
       "</div>"
      ],
      "text/plain": [
       "                                   title\n",
       "4                           Kota Factory\n",
       "39                          Chhota Bheem\n",
       "50                         Dharmakshetra\n",
       "66         Raja Rasoi Aur Anya Kahaniyan\n",
       "69        Stories by Rabindranath Tagore\n",
       "...                                  ...\n",
       "8173                           Thackeray\n",
       "8235                         The Calling\n",
       "8321  The Golden Years with Javed Akhtar\n",
       "8349              The House That Made Me\n",
       "8775                     Yeh Meri Family\n",
       "\n",
       "[79 rows x 1 columns]"
      ]
     },
     "execution_count": 95,
     "metadata": {},
     "output_type": "execute_result"
    }
   ],
   "source": [
    "movies.loc[(movies['type']=='TV Show')&(movies['country']=='India')][['title']]"
   ]
  },
  {
   "cell_type": "markdown",
   "metadata": {},
   "source": [
    "# Question 6: Show Top 10 Directors, who gave the highest number of TV Shows & Movies to Netflix ?\n"
   ]
  },
  {
   "cell_type": "code",
   "execution_count": 96,
   "metadata": {},
   "outputs": [
    {
     "data": {
      "text/plain": [
       "Rajiv Chilaka             19\n",
       "Raúl Campos, Jan Suter    18\n",
       "Marcus Raboy              16\n",
       "Suhas Kadav               16\n",
       "Jay Karas                 14\n",
       "Cathy Garcia-Molina       13\n",
       "Martin Scorsese           12\n",
       "Youssef Chahine           12\n",
       "Jay Chapman               12\n",
       "Steven Spielberg          11\n",
       "Name: director, dtype: int64"
      ]
     },
     "execution_count": 96,
     "metadata": {},
     "output_type": "execute_result"
    }
   ],
   "source": [
    "movies['director'].value_counts().head(10)"
   ]
  },
  {
   "cell_type": "markdown",
   "metadata": {},
   "source": [
    "# Question 7: Show all the Records, where \"Category is Movie and Type is Comedies\" or \"Country is United Kingdom\".\n"
   ]
  },
  {
   "cell_type": "code",
   "execution_count": 97,
   "metadata": {},
   "outputs": [
    {
     "data": {
      "text/html": [
       "<div>\n",
       "<style scoped>\n",
       "    .dataframe tbody tr th:only-of-type {\n",
       "        vertical-align: middle;\n",
       "    }\n",
       "\n",
       "    .dataframe tbody tr th {\n",
       "        vertical-align: top;\n",
       "    }\n",
       "\n",
       "    .dataframe thead th {\n",
       "        text-align: right;\n",
       "    }\n",
       "</style>\n",
       "<table border=\"1\" class=\"dataframe\">\n",
       "  <thead>\n",
       "    <tr style=\"text-align: right;\">\n",
       "      <th></th>\n",
       "      <th>show_id</th>\n",
       "      <th>type</th>\n",
       "      <th>title</th>\n",
       "      <th>director</th>\n",
       "      <th>cast</th>\n",
       "      <th>country</th>\n",
       "      <th>date_added</th>\n",
       "      <th>release_year</th>\n",
       "      <th>rating</th>\n",
       "      <th>duration</th>\n",
       "      <th>listed_in</th>\n",
       "      <th>description</th>\n",
       "    </tr>\n",
       "  </thead>\n",
       "  <tbody>\n",
       "    <tr>\n",
       "      <th>8</th>\n",
       "      <td>s9</td>\n",
       "      <td>TV Show</td>\n",
       "      <td>The Great British Baking Show</td>\n",
       "      <td>Andy Devonshire</td>\n",
       "      <td>Mel Giedroyc, Sue Perkins, Mary Berry, Paul Ho...</td>\n",
       "      <td>United Kingdom</td>\n",
       "      <td>September 24, 2021</td>\n",
       "      <td>2021</td>\n",
       "      <td>TV-14</td>\n",
       "      <td>9 Seasons</td>\n",
       "      <td>British TV Shows, Reality TV</td>\n",
       "      <td>A talented batch of amateur bakers face off in...</td>\n",
       "    </tr>\n",
       "    <tr>\n",
       "      <th>27</th>\n",
       "      <td>s28</td>\n",
       "      <td>Movie</td>\n",
       "      <td>Grown Ups</td>\n",
       "      <td>Dennis Dugan</td>\n",
       "      <td>Adam Sandler, Kevin James, Chris Rock, David S...</td>\n",
       "      <td>United States</td>\n",
       "      <td>September 20, 2021</td>\n",
       "      <td>2010</td>\n",
       "      <td>PG-13</td>\n",
       "      <td>103 min</td>\n",
       "      <td>Comedies</td>\n",
       "      <td>Mourning the loss of their beloved junior high...</td>\n",
       "    </tr>\n",
       "    <tr>\n",
       "      <th>32</th>\n",
       "      <td>s33</td>\n",
       "      <td>TV Show</td>\n",
       "      <td>Sex Education</td>\n",
       "      <td>NaN</td>\n",
       "      <td>Asa Butterfield, Gillian Anderson, Ncuti Gatwa...</td>\n",
       "      <td>United Kingdom</td>\n",
       "      <td>September 17, 2021</td>\n",
       "      <td>2020</td>\n",
       "      <td>TV-MA</td>\n",
       "      <td>3 Seasons</td>\n",
       "      <td>British TV Shows, International TV Shows, TV C...</td>\n",
       "      <td>Insecure Otis has all the answers when it come...</td>\n",
       "    </tr>\n",
       "    <tr>\n",
       "      <th>65</th>\n",
       "      <td>s66</td>\n",
       "      <td>TV Show</td>\n",
       "      <td>Numberblocks</td>\n",
       "      <td>NaN</td>\n",
       "      <td>Beth Chalmers, David Holt, Marcel McCalla, Ter...</td>\n",
       "      <td>United Kingdom</td>\n",
       "      <td>September 15, 2021</td>\n",
       "      <td>2021</td>\n",
       "      <td>TV-Y</td>\n",
       "      <td>6 Seasons</td>\n",
       "      <td>Kids' TV</td>\n",
       "      <td>In a place called Numberland, math adds up to ...</td>\n",
       "    </tr>\n",
       "    <tr>\n",
       "      <th>72</th>\n",
       "      <td>s73</td>\n",
       "      <td>TV Show</td>\n",
       "      <td>Jack Whitehall: Travels with My Father</td>\n",
       "      <td>NaN</td>\n",
       "      <td>Jack Whitehall, Michael Whitehall</td>\n",
       "      <td>United Kingdom</td>\n",
       "      <td>September 14, 2021</td>\n",
       "      <td>2021</td>\n",
       "      <td>TV-MA</td>\n",
       "      <td>5 Seasons</td>\n",
       "      <td>British TV Shows, Docuseries, International TV...</td>\n",
       "      <td>Jovial comic Jack Whitehall invites his stuffy...</td>\n",
       "    </tr>\n",
       "    <tr>\n",
       "      <th>...</th>\n",
       "      <td>...</td>\n",
       "      <td>...</td>\n",
       "      <td>...</td>\n",
       "      <td>...</td>\n",
       "      <td>...</td>\n",
       "      <td>...</td>\n",
       "      <td>...</td>\n",
       "      <td>...</td>\n",
       "      <td>...</td>\n",
       "      <td>...</td>\n",
       "      <td>...</td>\n",
       "      <td>...</td>\n",
       "    </tr>\n",
       "    <tr>\n",
       "      <th>8740</th>\n",
       "      <td>s8741</td>\n",
       "      <td>TV Show</td>\n",
       "      <td>Wild Alaska</td>\n",
       "      <td>NaN</td>\n",
       "      <td>Dougray Scott</td>\n",
       "      <td>United Kingdom</td>\n",
       "      <td>March 31, 2017</td>\n",
       "      <td>2015</td>\n",
       "      <td>TV-PG</td>\n",
       "      <td>1 Season</td>\n",
       "      <td>British TV Shows, Docuseries, Science &amp; Nature TV</td>\n",
       "      <td>The natural bounty of Alaska sustains its dive...</td>\n",
       "    </tr>\n",
       "    <tr>\n",
       "      <th>8741</th>\n",
       "      <td>s8742</td>\n",
       "      <td>TV Show</td>\n",
       "      <td>Wild Arabia</td>\n",
       "      <td>NaN</td>\n",
       "      <td>Alexander Siddig</td>\n",
       "      <td>United Kingdom</td>\n",
       "      <td>March 31, 2017</td>\n",
       "      <td>2013</td>\n",
       "      <td>TV-PG</td>\n",
       "      <td>1 Season</td>\n",
       "      <td>British TV Shows, Docuseries, Science &amp; Nature TV</td>\n",
       "      <td>The widely varied geology and dramatic landsca...</td>\n",
       "    </tr>\n",
       "    <tr>\n",
       "      <th>8744</th>\n",
       "      <td>s8745</td>\n",
       "      <td>Movie</td>\n",
       "      <td>Williams</td>\n",
       "      <td>Morgan Matthews</td>\n",
       "      <td>NaN</td>\n",
       "      <td>United Kingdom</td>\n",
       "      <td>November 4, 2017</td>\n",
       "      <td>2017</td>\n",
       "      <td>TV-MA</td>\n",
       "      <td>105 min</td>\n",
       "      <td>Documentaries, International Movies, Sports Mo...</td>\n",
       "      <td>This inspiring documentary charts the birth of...</td>\n",
       "    </tr>\n",
       "    <tr>\n",
       "      <th>8758</th>\n",
       "      <td>s8759</td>\n",
       "      <td>TV Show</td>\n",
       "      <td>World's Busiest Cities</td>\n",
       "      <td>NaN</td>\n",
       "      <td>Anita Rani, Ade Adepitan, Dan Snow</td>\n",
       "      <td>United Kingdom</td>\n",
       "      <td>February 1, 2019</td>\n",
       "      <td>2017</td>\n",
       "      <td>TV-PG</td>\n",
       "      <td>1 Season</td>\n",
       "      <td>British TV Shows, Docuseries</td>\n",
       "      <td>From Moscow to Mexico City, three BBC journali...</td>\n",
       "    </tr>\n",
       "    <tr>\n",
       "      <th>8786</th>\n",
       "      <td>s8787</td>\n",
       "      <td>Movie</td>\n",
       "      <td>You Can Tutu</td>\n",
       "      <td>James Brown</td>\n",
       "      <td>Lily O'Regan, Jeannettsy Enriquez Borges, Joel...</td>\n",
       "      <td>United Kingdom</td>\n",
       "      <td>December 31, 2017</td>\n",
       "      <td>2017</td>\n",
       "      <td>TV-G</td>\n",
       "      <td>87 min</td>\n",
       "      <td>Children &amp; Family Movies</td>\n",
       "      <td>A gifted young ballet dancer struggles to find...</td>\n",
       "    </tr>\n",
       "  </tbody>\n",
       "</table>\n",
       "<p>521 rows × 12 columns</p>\n",
       "</div>"
      ],
      "text/plain": [
       "     show_id     type                                   title  \\\n",
       "8         s9  TV Show           The Great British Baking Show   \n",
       "27       s28    Movie                               Grown Ups   \n",
       "32       s33  TV Show                           Sex Education   \n",
       "65       s66  TV Show                            Numberblocks   \n",
       "72       s73  TV Show  Jack Whitehall: Travels with My Father   \n",
       "...      ...      ...                                     ...   \n",
       "8740   s8741  TV Show                             Wild Alaska   \n",
       "8741   s8742  TV Show                             Wild Arabia   \n",
       "8744   s8745    Movie                                Williams   \n",
       "8758   s8759  TV Show                  World's Busiest Cities   \n",
       "8786   s8787    Movie                            You Can Tutu   \n",
       "\n",
       "             director                                               cast  \\\n",
       "8     Andy Devonshire  Mel Giedroyc, Sue Perkins, Mary Berry, Paul Ho...   \n",
       "27       Dennis Dugan  Adam Sandler, Kevin James, Chris Rock, David S...   \n",
       "32                NaN  Asa Butterfield, Gillian Anderson, Ncuti Gatwa...   \n",
       "65                NaN  Beth Chalmers, David Holt, Marcel McCalla, Ter...   \n",
       "72                NaN                  Jack Whitehall, Michael Whitehall   \n",
       "...               ...                                                ...   \n",
       "8740              NaN                                      Dougray Scott   \n",
       "8741              NaN                                   Alexander Siddig   \n",
       "8744  Morgan Matthews                                                NaN   \n",
       "8758              NaN                 Anita Rani, Ade Adepitan, Dan Snow   \n",
       "8786      James Brown  Lily O'Regan, Jeannettsy Enriquez Borges, Joel...   \n",
       "\n",
       "             country          date_added  release_year rating   duration  \\\n",
       "8     United Kingdom  September 24, 2021          2021  TV-14  9 Seasons   \n",
       "27     United States  September 20, 2021          2010  PG-13    103 min   \n",
       "32    United Kingdom  September 17, 2021          2020  TV-MA  3 Seasons   \n",
       "65    United Kingdom  September 15, 2021          2021   TV-Y  6 Seasons   \n",
       "72    United Kingdom  September 14, 2021          2021  TV-MA  5 Seasons   \n",
       "...              ...                 ...           ...    ...        ...   \n",
       "8740  United Kingdom      March 31, 2017          2015  TV-PG   1 Season   \n",
       "8741  United Kingdom      March 31, 2017          2013  TV-PG   1 Season   \n",
       "8744  United Kingdom    November 4, 2017          2017  TV-MA    105 min   \n",
       "8758  United Kingdom    February 1, 2019          2017  TV-PG   1 Season   \n",
       "8786  United Kingdom   December 31, 2017          2017   TV-G     87 min   \n",
       "\n",
       "                                              listed_in  \\\n",
       "8                          British TV Shows, Reality TV   \n",
       "27                                             Comedies   \n",
       "32    British TV Shows, International TV Shows, TV C...   \n",
       "65                                             Kids' TV   \n",
       "72    British TV Shows, Docuseries, International TV...   \n",
       "...                                                 ...   \n",
       "8740  British TV Shows, Docuseries, Science & Nature TV   \n",
       "8741  British TV Shows, Docuseries, Science & Nature TV   \n",
       "8744  Documentaries, International Movies, Sports Mo...   \n",
       "8758                       British TV Shows, Docuseries   \n",
       "8786                           Children & Family Movies   \n",
       "\n",
       "                                            description  \n",
       "8     A talented batch of amateur bakers face off in...  \n",
       "27    Mourning the loss of their beloved junior high...  \n",
       "32    Insecure Otis has all the answers when it come...  \n",
       "65    In a place called Numberland, math adds up to ...  \n",
       "72    Jovial comic Jack Whitehall invites his stuffy...  \n",
       "...                                                 ...  \n",
       "8740  The natural bounty of Alaska sustains its dive...  \n",
       "8741  The widely varied geology and dramatic landsca...  \n",
       "8744  This inspiring documentary charts the birth of...  \n",
       "8758  From Moscow to Mexico City, three BBC journali...  \n",
       "8786  A gifted young ballet dancer struggles to find...  \n",
       "\n",
       "[521 rows x 12 columns]"
      ]
     },
     "execution_count": 97,
     "metadata": {},
     "output_type": "execute_result"
    }
   ],
   "source": [
    "movies[(movies['type']=='Movie')&(movies['listed_in']=='Comedies')|(movies['country']=='United Kingdom')]"
   ]
  },
  {
   "cell_type": "markdown",
   "metadata": {},
   "source": [
    "# Question 8: In how many movies/shows, Tom Cruise was cast ?\n"
   ]
  },
  {
   "cell_type": "code",
   "execution_count": 98,
   "metadata": {},
   "outputs": [
    {
     "name": "stdout",
     "output_type": "stream",
     "text": [
      "Tom Cruise\n",
      "Tom Cruise\n"
     ]
    }
   ],
   "source": [
    "Movies=movies.dropna()\n",
    "Movies\n",
    "cast = []\n",
    "for i in Movies['cast']:\n",
    "    cast.append(i)\n",
    "names = []\n",
    "for i in cast:\n",
    "        names.extend(i.split(', '))\n",
    "import re\n",
    "for i in names:\n",
    "    if re.match(r'Tom Cruise\\b',i):\n",
    "        print(i)    "
   ]
  },
  {
   "cell_type": "code",
   "execution_count": 99,
   "metadata": {},
   "outputs": [
    {
     "data": {
      "text/html": [
       "<div>\n",
       "<style scoped>\n",
       "    .dataframe tbody tr th:only-of-type {\n",
       "        vertical-align: middle;\n",
       "    }\n",
       "\n",
       "    .dataframe tbody tr th {\n",
       "        vertical-align: top;\n",
       "    }\n",
       "\n",
       "    .dataframe thead th {\n",
       "        text-align: right;\n",
       "    }\n",
       "</style>\n",
       "<table border=\"1\" class=\"dataframe\">\n",
       "  <thead>\n",
       "    <tr style=\"text-align: right;\">\n",
       "      <th></th>\n",
       "      <th>show_id</th>\n",
       "      <th>type</th>\n",
       "      <th>title</th>\n",
       "      <th>director</th>\n",
       "      <th>cast</th>\n",
       "      <th>country</th>\n",
       "      <th>date_added</th>\n",
       "      <th>release_year</th>\n",
       "      <th>rating</th>\n",
       "      <th>duration</th>\n",
       "      <th>listed_in</th>\n",
       "      <th>description</th>\n",
       "    </tr>\n",
       "  </thead>\n",
       "  <tbody>\n",
       "    <tr>\n",
       "      <th>341</th>\n",
       "      <td>s342</td>\n",
       "      <td>Movie</td>\n",
       "      <td>Magnolia</td>\n",
       "      <td>Paul Thomas Anderson</td>\n",
       "      <td>John C. Reilly, Philip Baker Hall, Tom Cruise,...</td>\n",
       "      <td>United States</td>\n",
       "      <td>August 1, 2021</td>\n",
       "      <td>1999</td>\n",
       "      <td>R</td>\n",
       "      <td>189 min</td>\n",
       "      <td>Dramas, Independent Movies</td>\n",
       "      <td>Through chance, history and divine interventio...</td>\n",
       "    </tr>\n",
       "    <tr>\n",
       "      <th>1254</th>\n",
       "      <td>s1255</td>\n",
       "      <td>Movie</td>\n",
       "      <td>Rain Man</td>\n",
       "      <td>Barry Levinson</td>\n",
       "      <td>Dustin Hoffman, Tom Cruise, Valeria Golino, Ge...</td>\n",
       "      <td>United States</td>\n",
       "      <td>March 1, 2021</td>\n",
       "      <td>1988</td>\n",
       "      <td>R</td>\n",
       "      <td>134 min</td>\n",
       "      <td>Classic Movies, Dramas</td>\n",
       "      <td>Motivated by money, a selfish workaholic seeki...</td>\n",
       "    </tr>\n",
       "  </tbody>\n",
       "</table>\n",
       "</div>"
      ],
      "text/plain": [
       "     show_id   type     title              director  \\\n",
       "341     s342  Movie  Magnolia  Paul Thomas Anderson   \n",
       "1254   s1255  Movie  Rain Man        Barry Levinson   \n",
       "\n",
       "                                                   cast        country  \\\n",
       "341   John C. Reilly, Philip Baker Hall, Tom Cruise,...  United States   \n",
       "1254  Dustin Hoffman, Tom Cruise, Valeria Golino, Ge...  United States   \n",
       "\n",
       "          date_added  release_year rating duration  \\\n",
       "341   August 1, 2021          1999      R  189 min   \n",
       "1254   March 1, 2021          1988      R  134 min   \n",
       "\n",
       "                       listed_in  \\\n",
       "341   Dramas, Independent Movies   \n",
       "1254      Classic Movies, Dramas   \n",
       "\n",
       "                                            description  \n",
       "341   Through chance, history and divine interventio...  \n",
       "1254  Motivated by money, a selfish workaholic seeki...  "
      ]
     },
     "execution_count": 99,
     "metadata": {},
     "output_type": "execute_result"
    }
   ],
   "source": [
    "# Another solution\n",
    "Movies[Movies['cast'].str.contains('Tom Cruise')]\n"
   ]
  },
  {
   "cell_type": "markdown",
   "metadata": {},
   "source": [
    "# Question 9: What are the different Ratings defined by Netflix ?\n"
   ]
  },
  {
   "cell_type": "code",
   "execution_count": 100,
   "metadata": {},
   "outputs": [
    {
     "data": {
      "text/plain": [
       "array(['PG-13', 'TV-MA', 'PG', 'TV-14', 'TV-PG', 'TV-Y', 'TV-Y7', 'R',\n",
       "       'TV-G', 'G', 'NC-17', '74 min', '84 min', '66 min', 'NR', nan,\n",
       "       'TV-Y7-FV', 'UR'], dtype=object)"
      ]
     },
     "execution_count": 100,
     "metadata": {},
     "output_type": "execute_result"
    }
   ],
   "source": [
    "movies['rating'].unique()"
   ]
  },
  {
   "cell_type": "markdown",
   "metadata": {},
   "source": [
    "## Question 9.1: How many Movies got the 'TV-14' rating, in Canada ?\n"
   ]
  },
  {
   "cell_type": "code",
   "execution_count": 101,
   "metadata": {},
   "outputs": [
    {
     "data": {
      "text/plain": [
       "(13, 12)"
      ]
     },
     "execution_count": 101,
     "metadata": {},
     "output_type": "execute_result"
    }
   ],
   "source": [
    "movies[(movies['type']=='Movie')&(movies['rating']=='TV-14')&(movies['country']=='Canada')].shape"
   ]
  },
  {
   "cell_type": "markdown",
   "metadata": {},
   "source": [
    "## Question 9.2: How many TV Shows got the 'R' rating, after year 2018 ?\n"
   ]
  },
  {
   "cell_type": "code",
   "execution_count": 102,
   "metadata": {},
   "outputs": [
    {
     "data": {
      "text/html": [
       "<div>\n",
       "<style scoped>\n",
       "    .dataframe tbody tr th:only-of-type {\n",
       "        vertical-align: middle;\n",
       "    }\n",
       "\n",
       "    .dataframe tbody tr th {\n",
       "        vertical-align: top;\n",
       "    }\n",
       "\n",
       "    .dataframe thead th {\n",
       "        text-align: right;\n",
       "    }\n",
       "</style>\n",
       "<table border=\"1\" class=\"dataframe\">\n",
       "  <thead>\n",
       "    <tr style=\"text-align: right;\">\n",
       "      <th></th>\n",
       "      <th>show_id</th>\n",
       "      <th>type</th>\n",
       "      <th>title</th>\n",
       "      <th>director</th>\n",
       "      <th>cast</th>\n",
       "      <th>country</th>\n",
       "      <th>date_added</th>\n",
       "      <th>release_year</th>\n",
       "      <th>rating</th>\n",
       "      <th>duration</th>\n",
       "      <th>listed_in</th>\n",
       "      <th>description</th>\n",
       "      <th>year</th>\n",
       "    </tr>\n",
       "  </thead>\n",
       "  <tbody>\n",
       "    <tr>\n",
       "      <th>3893</th>\n",
       "      <td>s3894</td>\n",
       "      <td>TV Show</td>\n",
       "      <td>The Hateful Eight: Extended Version</td>\n",
       "      <td>Quentin Tarantino</td>\n",
       "      <td>Samuel L. Jackson, Kurt Russell, Jennifer Jaso...</td>\n",
       "      <td>NaN</td>\n",
       "      <td>2019-04-25</td>\n",
       "      <td>2015</td>\n",
       "      <td>R</td>\n",
       "      <td>1 Season</td>\n",
       "      <td>TV Shows</td>\n",
       "      <td>Trapped at a stagecoach stop as a storm rages ...</td>\n",
       "      <td>2019.0</td>\n",
       "    </tr>\n",
       "  </tbody>\n",
       "</table>\n",
       "</div>"
      ],
      "text/plain": [
       "     show_id     type                                title           director  \\\n",
       "3893   s3894  TV Show  The Hateful Eight: Extended Version  Quentin Tarantino   \n",
       "\n",
       "                                                   cast country date_added  \\\n",
       "3893  Samuel L. Jackson, Kurt Russell, Jennifer Jaso...     NaN 2019-04-25   \n",
       "\n",
       "      release_year rating  duration listed_in  \\\n",
       "3893          2015      R  1 Season  TV Shows   \n",
       "\n",
       "                                            description    year  \n",
       "3893  Trapped at a stagecoach stop as a storm rages ...  2019.0  "
      ]
     },
     "execution_count": 102,
     "metadata": {},
     "output_type": "execute_result"
    }
   ],
   "source": [
    "import datetime as td\n",
    "movies['date_added']=pd.to_datetime(movies['date_added'])\n",
    "movies['year']=movies['date_added'].dt.year\n",
    "movies[(movies['type']=='TV Show')&(movies['rating']=='R')&(movies['year']>2018)]"
   ]
  },
  {
   "cell_type": "markdown",
   "metadata": {},
   "source": [
    "# Question 10: What is the maximum duration of a Movie/Show on Netflix ?\n"
   ]
  },
  {
   "cell_type": "code",
   "execution_count": 103,
   "metadata": {},
   "outputs": [],
   "source": [
    "movies[['Minutes','Unit']] = movies['duration'].str.split(' ',expand = True)\n"
   ]
  },
  {
   "cell_type": "code",
   "execution_count": 104,
   "metadata": {},
   "outputs": [
    {
     "data": {
      "text/html": [
       "<div>\n",
       "<style scoped>\n",
       "    .dataframe tbody tr th:only-of-type {\n",
       "        vertical-align: middle;\n",
       "    }\n",
       "\n",
       "    .dataframe tbody tr th {\n",
       "        vertical-align: top;\n",
       "    }\n",
       "\n",
       "    .dataframe thead th {\n",
       "        text-align: right;\n",
       "    }\n",
       "</style>\n",
       "<table border=\"1\" class=\"dataframe\">\n",
       "  <thead>\n",
       "    <tr style=\"text-align: right;\">\n",
       "      <th></th>\n",
       "      <th>show_id</th>\n",
       "      <th>type</th>\n",
       "      <th>title</th>\n",
       "      <th>director</th>\n",
       "      <th>cast</th>\n",
       "      <th>country</th>\n",
       "      <th>date_added</th>\n",
       "      <th>release_year</th>\n",
       "      <th>rating</th>\n",
       "      <th>duration</th>\n",
       "      <th>listed_in</th>\n",
       "      <th>description</th>\n",
       "      <th>year</th>\n",
       "      <th>Minutes</th>\n",
       "      <th>Unit</th>\n",
       "    </tr>\n",
       "  </thead>\n",
       "  <tbody>\n",
       "    <tr>\n",
       "      <th>337</th>\n",
       "      <td>s338</td>\n",
       "      <td>Movie</td>\n",
       "      <td>Good Luck Chuck</td>\n",
       "      <td>Mark Helfrich</td>\n",
       "      <td>Dane Cook, Jessica Alba, Dan Fogler, Ellia Eng...</td>\n",
       "      <td>United States, Canada</td>\n",
       "      <td>2021-08-01</td>\n",
       "      <td>2007</td>\n",
       "      <td>R</td>\n",
       "      <td>99 min</td>\n",
       "      <td>Comedies, Romantic Movies</td>\n",
       "      <td>Every time Chuck breaks up with a girlfriend, ...</td>\n",
       "      <td>2021.0</td>\n",
       "      <td>99</td>\n",
       "      <td>min</td>\n",
       "    </tr>\n",
       "    <tr>\n",
       "      <th>6915</th>\n",
       "      <td>s6916</td>\n",
       "      <td>Movie</td>\n",
       "      <td>Hangman</td>\n",
       "      <td>Johnny Martin</td>\n",
       "      <td>Al Pacino, Karl Urban, Brittany Snow, Joe Ande...</td>\n",
       "      <td>United States</td>\n",
       "      <td>2020-05-06</td>\n",
       "      <td>2017</td>\n",
       "      <td>R</td>\n",
       "      <td>99 min</td>\n",
       "      <td>Thrillers</td>\n",
       "      <td>A homicide detective, a criminal profiler and ...</td>\n",
       "      <td>2020.0</td>\n",
       "      <td>99</td>\n",
       "      <td>min</td>\n",
       "    </tr>\n",
       "    <tr>\n",
       "      <th>8625</th>\n",
       "      <td>s8626</td>\n",
       "      <td>Movie</td>\n",
       "      <td>Tremors 5:  Bloodline</td>\n",
       "      <td>Don Michael Paul</td>\n",
       "      <td>Michael Gross, Jamie Kennedy, Ernest Ndhlovu, ...</td>\n",
       "      <td>South Africa, United States</td>\n",
       "      <td>2020-01-01</td>\n",
       "      <td>2015</td>\n",
       "      <td>PG-13</td>\n",
       "      <td>99 min</td>\n",
       "      <td>Comedies, Horror Movies, Sci-Fi &amp; Fantasy</td>\n",
       "      <td>When he is hired to capture a deadly creature ...</td>\n",
       "      <td>2020.0</td>\n",
       "      <td>99</td>\n",
       "      <td>min</td>\n",
       "    </tr>\n",
       "    <tr>\n",
       "      <th>2183</th>\n",
       "      <td>s2184</td>\n",
       "      <td>Movie</td>\n",
       "      <td>What Keeps You Alive</td>\n",
       "      <td>Colin Minihan</td>\n",
       "      <td>Hannah Emily Anderson, Brittany Allen, Martha ...</td>\n",
       "      <td>Canada</td>\n",
       "      <td>2020-08-01</td>\n",
       "      <td>2018</td>\n",
       "      <td>R</td>\n",
       "      <td>99 min</td>\n",
       "      <td>LGBTQ Movies, Thrillers</td>\n",
       "      <td>A couple's romantic anniversary retreat to a r...</td>\n",
       "      <td>2020.0</td>\n",
       "      <td>99</td>\n",
       "      <td>min</td>\n",
       "    </tr>\n",
       "    <tr>\n",
       "      <th>721</th>\n",
       "      <td>s722</td>\n",
       "      <td>Movie</td>\n",
       "      <td>Rogue Warfare: Death of a Nation</td>\n",
       "      <td>Mike Gunther</td>\n",
       "      <td>Will Yun Lee, Jermaine Love, Rory Markham, Ber...</td>\n",
       "      <td>United States</td>\n",
       "      <td>2021-06-15</td>\n",
       "      <td>2020</td>\n",
       "      <td>R</td>\n",
       "      <td>99 min</td>\n",
       "      <td>Action &amp; Adventure</td>\n",
       "      <td>As their leader recovers from trauma, a global...</td>\n",
       "      <td>2021.0</td>\n",
       "      <td>99</td>\n",
       "      <td>min</td>\n",
       "    </tr>\n",
       "    <tr>\n",
       "      <th>...</th>\n",
       "      <td>...</td>\n",
       "      <td>...</td>\n",
       "      <td>...</td>\n",
       "      <td>...</td>\n",
       "      <td>...</td>\n",
       "      <td>...</td>\n",
       "      <td>...</td>\n",
       "      <td>...</td>\n",
       "      <td>...</td>\n",
       "      <td>...</td>\n",
       "      <td>...</td>\n",
       "      <td>...</td>\n",
       "      <td>...</td>\n",
       "      <td>...</td>\n",
       "      <td>...</td>\n",
       "    </tr>\n",
       "    <tr>\n",
       "      <th>4243</th>\n",
       "      <td>s4244</td>\n",
       "      <td>Movie</td>\n",
       "      <td>The Seven Deadly Sins the Movie: Prisoners of ...</td>\n",
       "      <td>Noriyuki Abe</td>\n",
       "      <td>Yuki Kaji, Sora Amamiya, Misaki Kuno, Aoi Yuki...</td>\n",
       "      <td>Japan</td>\n",
       "      <td>2018-12-31</td>\n",
       "      <td>2018</td>\n",
       "      <td>TV-14</td>\n",
       "      <td>100 min</td>\n",
       "      <td>Action &amp; Adventure, Anime Features, Internatio...</td>\n",
       "      <td>The Seven Deadly Sins aid the Sky People again...</td>\n",
       "      <td>2018.0</td>\n",
       "      <td>100</td>\n",
       "      <td>min</td>\n",
       "    </tr>\n",
       "    <tr>\n",
       "      <th>8200</th>\n",
       "      <td>s8201</td>\n",
       "      <td>Movie</td>\n",
       "      <td>The Bachelors</td>\n",
       "      <td>Kurt Voelker</td>\n",
       "      <td>J.K. Simmons, Josh Wiggins, Julie Delpy, Odeya...</td>\n",
       "      <td>United States</td>\n",
       "      <td>2018-02-21</td>\n",
       "      <td>2017</td>\n",
       "      <td>TV-14</td>\n",
       "      <td>100 min</td>\n",
       "      <td>Dramas</td>\n",
       "      <td>After the death of his wife, a teacher and his...</td>\n",
       "      <td>2018.0</td>\n",
       "      <td>100</td>\n",
       "      <td>min</td>\n",
       "    </tr>\n",
       "    <tr>\n",
       "      <th>461</th>\n",
       "      <td>s462</td>\n",
       "      <td>Movie</td>\n",
       "      <td>The Unknown Saint</td>\n",
       "      <td>Alaa Eddine Aljem</td>\n",
       "      <td>Younes Bouab, Salah Bensalah, Bouchaib Essamak...</td>\n",
       "      <td>NaN</td>\n",
       "      <td>2021-07-15</td>\n",
       "      <td>2019</td>\n",
       "      <td>TV-14</td>\n",
       "      <td>100 min</td>\n",
       "      <td>Comedies, Dramas, Independent Movies</td>\n",
       "      <td>Following a stint behind bars, a thief returns...</td>\n",
       "      <td>2021.0</td>\n",
       "      <td>100</td>\n",
       "      <td>min</td>\n",
       "    </tr>\n",
       "    <tr>\n",
       "      <th>8562</th>\n",
       "      <td>s8563</td>\n",
       "      <td>Movie</td>\n",
       "      <td>The Women's Balcony</td>\n",
       "      <td>Emil Ben-Shimon</td>\n",
       "      <td>Evelin Hagoel, Igal Naor, Orna Banay, Einat Sa...</td>\n",
       "      <td>Israel</td>\n",
       "      <td>2017-12-19</td>\n",
       "      <td>2016</td>\n",
       "      <td>TV-PG</td>\n",
       "      <td>100 min</td>\n",
       "      <td>Comedies, Dramas, Faith &amp; Spirituality</td>\n",
       "      <td>A conservative rabbi steps in to lead a congre...</td>\n",
       "      <td>2017.0</td>\n",
       "      <td>100</td>\n",
       "      <td>min</td>\n",
       "    </tr>\n",
       "    <tr>\n",
       "      <th>3535</th>\n",
       "      <td>s3536</td>\n",
       "      <td>Movie</td>\n",
       "      <td>American Factory: A Conversation with the Obamas</td>\n",
       "      <td>NaN</td>\n",
       "      <td>President Barack Obama, Michelle Obama, Julia ...</td>\n",
       "      <td>United States</td>\n",
       "      <td>2019-09-05</td>\n",
       "      <td>2019</td>\n",
       "      <td>TV-G</td>\n",
       "      <td>10 min</td>\n",
       "      <td>Documentaries</td>\n",
       "      <td>Barack and Michelle Obama talk with directors ...</td>\n",
       "      <td>2019.0</td>\n",
       "      <td>10</td>\n",
       "      <td>min</td>\n",
       "    </tr>\n",
       "  </tbody>\n",
       "</table>\n",
       "<p>6128 rows × 15 columns</p>\n",
       "</div>"
      ],
      "text/plain": [
       "     show_id   type                                              title  \\\n",
       "337     s338  Movie                                    Good Luck Chuck   \n",
       "6915   s6916  Movie                                            Hangman   \n",
       "8625   s8626  Movie                              Tremors 5:  Bloodline   \n",
       "2183   s2184  Movie                               What Keeps You Alive   \n",
       "721     s722  Movie                   Rogue Warfare: Death of a Nation   \n",
       "...      ...    ...                                                ...   \n",
       "4243   s4244  Movie  The Seven Deadly Sins the Movie: Prisoners of ...   \n",
       "8200   s8201  Movie                                      The Bachelors   \n",
       "461     s462  Movie                                  The Unknown Saint   \n",
       "8562   s8563  Movie                                The Women's Balcony   \n",
       "3535   s3536  Movie   American Factory: A Conversation with the Obamas   \n",
       "\n",
       "               director                                               cast  \\\n",
       "337       Mark Helfrich  Dane Cook, Jessica Alba, Dan Fogler, Ellia Eng...   \n",
       "6915      Johnny Martin  Al Pacino, Karl Urban, Brittany Snow, Joe Ande...   \n",
       "8625   Don Michael Paul  Michael Gross, Jamie Kennedy, Ernest Ndhlovu, ...   \n",
       "2183      Colin Minihan  Hannah Emily Anderson, Brittany Allen, Martha ...   \n",
       "721        Mike Gunther  Will Yun Lee, Jermaine Love, Rory Markham, Ber...   \n",
       "...                 ...                                                ...   \n",
       "4243       Noriyuki Abe  Yuki Kaji, Sora Amamiya, Misaki Kuno, Aoi Yuki...   \n",
       "8200       Kurt Voelker  J.K. Simmons, Josh Wiggins, Julie Delpy, Odeya...   \n",
       "461   Alaa Eddine Aljem  Younes Bouab, Salah Bensalah, Bouchaib Essamak...   \n",
       "8562    Emil Ben-Shimon  Evelin Hagoel, Igal Naor, Orna Banay, Einat Sa...   \n",
       "3535                NaN  President Barack Obama, Michelle Obama, Julia ...   \n",
       "\n",
       "                          country date_added  release_year rating duration  \\\n",
       "337         United States, Canada 2021-08-01          2007      R   99 min   \n",
       "6915                United States 2020-05-06          2017      R   99 min   \n",
       "8625  South Africa, United States 2020-01-01          2015  PG-13   99 min   \n",
       "2183                       Canada 2020-08-01          2018      R   99 min   \n",
       "721                 United States 2021-06-15          2020      R   99 min   \n",
       "...                           ...        ...           ...    ...      ...   \n",
       "4243                        Japan 2018-12-31          2018  TV-14  100 min   \n",
       "8200                United States 2018-02-21          2017  TV-14  100 min   \n",
       "461                           NaN 2021-07-15          2019  TV-14  100 min   \n",
       "8562                       Israel 2017-12-19          2016  TV-PG  100 min   \n",
       "3535                United States 2019-09-05          2019   TV-G   10 min   \n",
       "\n",
       "                                              listed_in  \\\n",
       "337                           Comedies, Romantic Movies   \n",
       "6915                                          Thrillers   \n",
       "8625          Comedies, Horror Movies, Sci-Fi & Fantasy   \n",
       "2183                            LGBTQ Movies, Thrillers   \n",
       "721                                  Action & Adventure   \n",
       "...                                                 ...   \n",
       "4243  Action & Adventure, Anime Features, Internatio...   \n",
       "8200                                             Dramas   \n",
       "461                Comedies, Dramas, Independent Movies   \n",
       "8562             Comedies, Dramas, Faith & Spirituality   \n",
       "3535                                      Documentaries   \n",
       "\n",
       "                                            description    year Minutes Unit  \n",
       "337   Every time Chuck breaks up with a girlfriend, ...  2021.0      99  min  \n",
       "6915  A homicide detective, a criminal profiler and ...  2020.0      99  min  \n",
       "8625  When he is hired to capture a deadly creature ...  2020.0      99  min  \n",
       "2183  A couple's romantic anniversary retreat to a r...  2020.0      99  min  \n",
       "721   As their leader recovers from trauma, a global...  2021.0      99  min  \n",
       "...                                                 ...     ...     ...  ...  \n",
       "4243  The Seven Deadly Sins aid the Sky People again...  2018.0     100  min  \n",
       "8200  After the death of his wife, a teacher and his...  2018.0     100  min  \n",
       "461   Following a stint behind bars, a thief returns...  2021.0     100  min  \n",
       "8562  A conservative rabbi steps in to lead a congre...  2017.0     100  min  \n",
       "3535  Barack and Michelle Obama talk with directors ...  2019.0      10  min  \n",
       "\n",
       "[6128 rows x 15 columns]"
      ]
     },
     "execution_count": 104,
     "metadata": {},
     "output_type": "execute_result"
    }
   ],
   "source": [
    "movies[movies['Unit']=='min'].sort_values('Minutes',ascending=False)"
   ]
  },
  {
   "cell_type": "code",
   "execution_count": 105,
   "metadata": {},
   "outputs": [
    {
     "data": {
      "text/html": [
       "<div>\n",
       "<style scoped>\n",
       "    .dataframe tbody tr th:only-of-type {\n",
       "        vertical-align: middle;\n",
       "    }\n",
       "\n",
       "    .dataframe tbody tr th {\n",
       "        vertical-align: top;\n",
       "    }\n",
       "\n",
       "    .dataframe thead th {\n",
       "        text-align: right;\n",
       "    }\n",
       "</style>\n",
       "<table border=\"1\" class=\"dataframe\">\n",
       "  <thead>\n",
       "    <tr style=\"text-align: right;\">\n",
       "      <th></th>\n",
       "      <th>show_id</th>\n",
       "      <th>type</th>\n",
       "      <th>title</th>\n",
       "      <th>director</th>\n",
       "      <th>cast</th>\n",
       "      <th>country</th>\n",
       "      <th>date_added</th>\n",
       "      <th>release_year</th>\n",
       "      <th>rating</th>\n",
       "      <th>duration</th>\n",
       "      <th>listed_in</th>\n",
       "      <th>description</th>\n",
       "      <th>year</th>\n",
       "      <th>Minutes</th>\n",
       "      <th>Unit</th>\n",
       "    </tr>\n",
       "  </thead>\n",
       "  <tbody>\n",
       "    <tr>\n",
       "      <th>4253</th>\n",
       "      <td>s4254</td>\n",
       "      <td>Movie</td>\n",
       "      <td>Black Mirror: Bandersnatch</td>\n",
       "      <td>NaN</td>\n",
       "      <td>Fionn Whitehead, Will Poulter, Craig Parkinson...</td>\n",
       "      <td>United States</td>\n",
       "      <td>2018-12-28</td>\n",
       "      <td>2018</td>\n",
       "      <td>TV-MA</td>\n",
       "      <td>312 min</td>\n",
       "      <td>Dramas, International Movies, Sci-Fi &amp; Fantasy</td>\n",
       "      <td>In 1984, a young programmer begins to question...</td>\n",
       "      <td>2018.0</td>\n",
       "      <td>312.0</td>\n",
       "      <td>min</td>\n",
       "    </tr>\n",
       "  </tbody>\n",
       "</table>\n",
       "</div>"
      ],
      "text/plain": [
       "     show_id   type                       title director  \\\n",
       "4253   s4254  Movie  Black Mirror: Bandersnatch      NaN   \n",
       "\n",
       "                                                   cast        country  \\\n",
       "4253  Fionn Whitehead, Will Poulter, Craig Parkinson...  United States   \n",
       "\n",
       "     date_added  release_year rating duration  \\\n",
       "4253 2018-12-28          2018  TV-MA  312 min   \n",
       "\n",
       "                                           listed_in  \\\n",
       "4253  Dramas, International Movies, Sci-Fi & Fantasy   \n",
       "\n",
       "                                            description    year  Minutes Unit  \n",
       "4253  In 1984, a young programmer begins to question...  2018.0    312.0  min  "
      ]
     },
     "execution_count": 105,
     "metadata": {},
     "output_type": "execute_result"
    }
   ],
   "source": [
    "# Max duration for Movies\n",
    "movies['Minutes'] = pd.to_numeric(movies['Minutes'])\n",
    "movies[movies['Unit']=='min'].sort_values('Minutes',ascending=False).head(1)"
   ]
  },
  {
   "cell_type": "code",
   "execution_count": 106,
   "metadata": {},
   "outputs": [
    {
     "data": {
      "text/html": [
       "<div>\n",
       "<style scoped>\n",
       "    .dataframe tbody tr th:only-of-type {\n",
       "        vertical-align: middle;\n",
       "    }\n",
       "\n",
       "    .dataframe tbody tr th {\n",
       "        vertical-align: top;\n",
       "    }\n",
       "\n",
       "    .dataframe thead th {\n",
       "        text-align: right;\n",
       "    }\n",
       "</style>\n",
       "<table border=\"1\" class=\"dataframe\">\n",
       "  <thead>\n",
       "    <tr style=\"text-align: right;\">\n",
       "      <th></th>\n",
       "      <th>show_id</th>\n",
       "      <th>type</th>\n",
       "      <th>title</th>\n",
       "      <th>director</th>\n",
       "      <th>cast</th>\n",
       "      <th>country</th>\n",
       "      <th>date_added</th>\n",
       "      <th>release_year</th>\n",
       "      <th>rating</th>\n",
       "      <th>duration</th>\n",
       "      <th>listed_in</th>\n",
       "      <th>description</th>\n",
       "      <th>year</th>\n",
       "      <th>Minutes</th>\n",
       "      <th>Unit</th>\n",
       "    </tr>\n",
       "  </thead>\n",
       "  <tbody>\n",
       "    <tr>\n",
       "      <th>3777</th>\n",
       "      <td>s3778</td>\n",
       "      <td>Movie</td>\n",
       "      <td>Silent</td>\n",
       "      <td>Limbert Fabian, Brandon Oldenburg</td>\n",
       "      <td>NaN</td>\n",
       "      <td>United States</td>\n",
       "      <td>2019-06-04</td>\n",
       "      <td>2014</td>\n",
       "      <td>TV-Y</td>\n",
       "      <td>3 min</td>\n",
       "      <td>Children &amp; Family Movies, Sci-Fi &amp; Fantasy</td>\n",
       "      <td>\"Silent\" is an animated short film created by ...</td>\n",
       "      <td>2019.0</td>\n",
       "      <td>3.0</td>\n",
       "      <td>min</td>\n",
       "    </tr>\n",
       "  </tbody>\n",
       "</table>\n",
       "</div>"
      ],
      "text/plain": [
       "     show_id   type   title                           director cast  \\\n",
       "3777   s3778  Movie  Silent  Limbert Fabian, Brandon Oldenburg  NaN   \n",
       "\n",
       "            country date_added  release_year rating duration  \\\n",
       "3777  United States 2019-06-04          2014   TV-Y    3 min   \n",
       "\n",
       "                                       listed_in  \\\n",
       "3777  Children & Family Movies, Sci-Fi & Fantasy   \n",
       "\n",
       "                                            description    year  Minutes Unit  \n",
       "3777  \"Silent\" is an animated short film created by ...  2019.0      3.0  min  "
      ]
     },
     "execution_count": 106,
     "metadata": {},
     "output_type": "execute_result"
    }
   ],
   "source": [
    "# Min duration for Movies\n",
    "movies[movies['Unit']=='min'].sort_values('Minutes',ascending=True).head(1)"
   ]
  },
  {
   "cell_type": "code",
   "execution_count": 107,
   "metadata": {},
   "outputs": [
    {
     "data": {
      "text/html": [
       "<div>\n",
       "<style scoped>\n",
       "    .dataframe tbody tr th:only-of-type {\n",
       "        vertical-align: middle;\n",
       "    }\n",
       "\n",
       "    .dataframe tbody tr th {\n",
       "        vertical-align: top;\n",
       "    }\n",
       "\n",
       "    .dataframe thead th {\n",
       "        text-align: right;\n",
       "    }\n",
       "</style>\n",
       "<table border=\"1\" class=\"dataframe\">\n",
       "  <thead>\n",
       "    <tr style=\"text-align: right;\">\n",
       "      <th></th>\n",
       "      <th>show_id</th>\n",
       "      <th>type</th>\n",
       "      <th>title</th>\n",
       "      <th>director</th>\n",
       "      <th>cast</th>\n",
       "      <th>country</th>\n",
       "      <th>date_added</th>\n",
       "      <th>release_year</th>\n",
       "      <th>rating</th>\n",
       "      <th>duration</th>\n",
       "      <th>listed_in</th>\n",
       "      <th>description</th>\n",
       "      <th>year</th>\n",
       "      <th>Minutes</th>\n",
       "      <th>Unit</th>\n",
       "    </tr>\n",
       "  </thead>\n",
       "  <tbody>\n",
       "    <tr>\n",
       "      <th>548</th>\n",
       "      <td>s549</td>\n",
       "      <td>TV Show</td>\n",
       "      <td>Grey's Anatomy</td>\n",
       "      <td>NaN</td>\n",
       "      <td>Ellen Pompeo, Sandra Oh, Katherine Heigl, Just...</td>\n",
       "      <td>United States</td>\n",
       "      <td>2021-07-03</td>\n",
       "      <td>2020</td>\n",
       "      <td>TV-14</td>\n",
       "      <td>17 Seasons</td>\n",
       "      <td>Romantic TV Shows, TV Dramas</td>\n",
       "      <td>Intern (and eventual resident) Meredith Grey f...</td>\n",
       "      <td>2021.0</td>\n",
       "      <td>17.0</td>\n",
       "      <td>Seasons</td>\n",
       "    </tr>\n",
       "  </tbody>\n",
       "</table>\n",
       "</div>"
      ],
      "text/plain": [
       "    show_id     type           title director  \\\n",
       "548    s549  TV Show  Grey's Anatomy      NaN   \n",
       "\n",
       "                                                  cast        country  \\\n",
       "548  Ellen Pompeo, Sandra Oh, Katherine Heigl, Just...  United States   \n",
       "\n",
       "    date_added  release_year rating    duration                     listed_in  \\\n",
       "548 2021-07-03          2020  TV-14  17 Seasons  Romantic TV Shows, TV Dramas   \n",
       "\n",
       "                                           description    year  Minutes  \\\n",
       "548  Intern (and eventual resident) Meredith Grey f...  2021.0     17.0   \n",
       "\n",
       "        Unit  \n",
       "548  Seasons  "
      ]
     },
     "execution_count": 107,
     "metadata": {},
     "output_type": "execute_result"
    }
   ],
   "source": [
    "# Max Seasons for TV Show\n",
    "movies[movies['Unit']=='Seasons'].sort_values('Minutes',ascending=False).head(1)"
   ]
  },
  {
   "cell_type": "code",
   "execution_count": 108,
   "metadata": {},
   "outputs": [
    {
     "data": {
      "text/html": [
       "<div>\n",
       "<style scoped>\n",
       "    .dataframe tbody tr th:only-of-type {\n",
       "        vertical-align: middle;\n",
       "    }\n",
       "\n",
       "    .dataframe tbody tr th {\n",
       "        vertical-align: top;\n",
       "    }\n",
       "\n",
       "    .dataframe thead th {\n",
       "        text-align: right;\n",
       "    }\n",
       "</style>\n",
       "<table border=\"1\" class=\"dataframe\">\n",
       "  <thead>\n",
       "    <tr style=\"text-align: right;\">\n",
       "      <th></th>\n",
       "      <th>show_id</th>\n",
       "      <th>type</th>\n",
       "      <th>title</th>\n",
       "      <th>director</th>\n",
       "      <th>cast</th>\n",
       "      <th>country</th>\n",
       "      <th>date_added</th>\n",
       "      <th>release_year</th>\n",
       "      <th>rating</th>\n",
       "      <th>duration</th>\n",
       "      <th>listed_in</th>\n",
       "      <th>description</th>\n",
       "      <th>year</th>\n",
       "      <th>Minutes</th>\n",
       "      <th>Unit</th>\n",
       "    </tr>\n",
       "  </thead>\n",
       "  <tbody>\n",
       "    <tr>\n",
       "      <th>2</th>\n",
       "      <td>s3</td>\n",
       "      <td>TV Show</td>\n",
       "      <td>Ganglands</td>\n",
       "      <td>Julien Leclercq</td>\n",
       "      <td>Sami Bouajila, Tracy Gotoas, Samuel Jouy, Nabi...</td>\n",
       "      <td>NaN</td>\n",
       "      <td>2021-09-24</td>\n",
       "      <td>2021</td>\n",
       "      <td>TV-MA</td>\n",
       "      <td>1 Season</td>\n",
       "      <td>Crime TV Shows, International TV Shows, TV Act...</td>\n",
       "      <td>To protect his family from a powerful drug lor...</td>\n",
       "      <td>2021.0</td>\n",
       "      <td>1.0</td>\n",
       "      <td>Season</td>\n",
       "    </tr>\n",
       "  </tbody>\n",
       "</table>\n",
       "</div>"
      ],
      "text/plain": [
       "  show_id     type      title         director  \\\n",
       "2      s3  TV Show  Ganglands  Julien Leclercq   \n",
       "\n",
       "                                                cast country date_added  \\\n",
       "2  Sami Bouajila, Tracy Gotoas, Samuel Jouy, Nabi...     NaN 2021-09-24   \n",
       "\n",
       "   release_year rating  duration  \\\n",
       "2          2021  TV-MA  1 Season   \n",
       "\n",
       "                                           listed_in  \\\n",
       "2  Crime TV Shows, International TV Shows, TV Act...   \n",
       "\n",
       "                                         description    year  Minutes    Unit  \n",
       "2  To protect his family from a powerful drug lor...  2021.0      1.0  Season  "
      ]
     },
     "execution_count": 108,
     "metadata": {},
     "output_type": "execute_result"
    }
   ],
   "source": [
    "# Minimum Season for TV Show\n",
    "movies[movies['Unit']=='Season'].sort_values('Minutes',ascending=True).head(1)"
   ]
  },
  {
   "cell_type": "markdown",
   "metadata": {},
   "source": [
    "# Question 11: Which individual country has the Highest No. of TV Shows ?\n"
   ]
  },
  {
   "cell_type": "code",
   "execution_count": 109,
   "metadata": {},
   "outputs": [
    {
     "data": {
      "text/html": [
       "<div>\n",
       "<style scoped>\n",
       "    .dataframe tbody tr th:only-of-type {\n",
       "        vertical-align: middle;\n",
       "    }\n",
       "\n",
       "    .dataframe tbody tr th {\n",
       "        vertical-align: top;\n",
       "    }\n",
       "\n",
       "    .dataframe thead th {\n",
       "        text-align: right;\n",
       "    }\n",
       "</style>\n",
       "<table border=\"1\" class=\"dataframe\">\n",
       "  <thead>\n",
       "    <tr style=\"text-align: right;\">\n",
       "      <th></th>\n",
       "      <th>show_id</th>\n",
       "    </tr>\n",
       "    <tr>\n",
       "      <th>country</th>\n",
       "      <th></th>\n",
       "    </tr>\n",
       "  </thead>\n",
       "  <tbody>\n",
       "    <tr>\n",
       "      <th>United States</th>\n",
       "      <td>760</td>\n",
       "    </tr>\n",
       "  </tbody>\n",
       "</table>\n",
       "</div>"
      ],
      "text/plain": [
       "               show_id\n",
       "country               \n",
       "United States      760"
      ]
     },
     "execution_count": 109,
     "metadata": {},
     "output_type": "execute_result"
    }
   ],
   "source": [
    "(movies[movies['type']=='TV Show']).groupby('country').count().sort_values('type',ascending=False).head(1)[['show_id']]\n"
   ]
  },
  {
   "cell_type": "markdown",
   "metadata": {},
   "source": [
    "# Question 12: How can we sort the dataset by Year ?\n"
   ]
  },
  {
   "cell_type": "code",
   "execution_count": 110,
   "metadata": {},
   "outputs": [
    {
     "data": {
      "text/html": [
       "<div>\n",
       "<style scoped>\n",
       "    .dataframe tbody tr th:only-of-type {\n",
       "        vertical-align: middle;\n",
       "    }\n",
       "\n",
       "    .dataframe tbody tr th {\n",
       "        vertical-align: top;\n",
       "    }\n",
       "\n",
       "    .dataframe thead th {\n",
       "        text-align: right;\n",
       "    }\n",
       "</style>\n",
       "<table border=\"1\" class=\"dataframe\">\n",
       "  <thead>\n",
       "    <tr style=\"text-align: right;\">\n",
       "      <th></th>\n",
       "      <th>show_id</th>\n",
       "      <th>type</th>\n",
       "      <th>title</th>\n",
       "      <th>director</th>\n",
       "      <th>cast</th>\n",
       "      <th>country</th>\n",
       "      <th>date_added</th>\n",
       "      <th>release_year</th>\n",
       "      <th>rating</th>\n",
       "      <th>duration</th>\n",
       "      <th>listed_in</th>\n",
       "      <th>description</th>\n",
       "      <th>year</th>\n",
       "      <th>Minutes</th>\n",
       "      <th>Unit</th>\n",
       "    </tr>\n",
       "  </thead>\n",
       "  <tbody>\n",
       "    <tr>\n",
       "      <th>0</th>\n",
       "      <td>s1</td>\n",
       "      <td>Movie</td>\n",
       "      <td>Dick Johnson Is Dead</td>\n",
       "      <td>Kirsten Johnson</td>\n",
       "      <td>NaN</td>\n",
       "      <td>United States</td>\n",
       "      <td>2021-09-25</td>\n",
       "      <td>2020</td>\n",
       "      <td>PG-13</td>\n",
       "      <td>90 min</td>\n",
       "      <td>Documentaries</td>\n",
       "      <td>As her father nears the end of his life, filmm...</td>\n",
       "      <td>2021.0</td>\n",
       "      <td>90.0</td>\n",
       "      <td>min</td>\n",
       "    </tr>\n",
       "    <tr>\n",
       "      <th>996</th>\n",
       "      <td>s997</td>\n",
       "      <td>Movie</td>\n",
       "      <td>HOMUNCULUS</td>\n",
       "      <td>Takashi Shimizu</td>\n",
       "      <td>Go Ayano, Ryo Narita, Yukino Kishii, Anna Ishi...</td>\n",
       "      <td>Japan</td>\n",
       "      <td>2021-04-22</td>\n",
       "      <td>2021</td>\n",
       "      <td>TV-MA</td>\n",
       "      <td>116 min</td>\n",
       "      <td>Horror Movies, International Movies, Thrillers</td>\n",
       "      <td>Truth and illusion blurs when a homeless amnes...</td>\n",
       "      <td>2021.0</td>\n",
       "      <td>116.0</td>\n",
       "      <td>min</td>\n",
       "    </tr>\n",
       "    <tr>\n",
       "      <th>1005</th>\n",
       "      <td>s1006</td>\n",
       "      <td>Movie</td>\n",
       "      <td>Keymon and Nani in Space Adventure</td>\n",
       "      <td>NaN</td>\n",
       "      <td>NaN</td>\n",
       "      <td>NaN</td>\n",
       "      <td>2021-04-20</td>\n",
       "      <td>2013</td>\n",
       "      <td>TV-Y</td>\n",
       "      <td>76 min</td>\n",
       "      <td>Children &amp; Family Movies, Comedies</td>\n",
       "      <td>For Rohan and his magical pal, Keymon, a trip ...</td>\n",
       "      <td>2021.0</td>\n",
       "      <td>76.0</td>\n",
       "      <td>min</td>\n",
       "    </tr>\n",
       "    <tr>\n",
       "      <th>1004</th>\n",
       "      <td>s1005</td>\n",
       "      <td>TV Show</td>\n",
       "      <td>Izzy's Koala World</td>\n",
       "      <td>NaN</td>\n",
       "      <td>Izzy Bee, Ali Bee, Tim Bee</td>\n",
       "      <td>Australia</td>\n",
       "      <td>2021-04-20</td>\n",
       "      <td>2021</td>\n",
       "      <td>TV-Y</td>\n",
       "      <td>2 Seasons</td>\n",
       "      <td>Kids' TV</td>\n",
       "      <td>Young koala caretaker Izzy Bee and her family ...</td>\n",
       "      <td>2021.0</td>\n",
       "      <td>2.0</td>\n",
       "      <td>Seasons</td>\n",
       "    </tr>\n",
       "    <tr>\n",
       "      <th>1003</th>\n",
       "      <td>s1004</td>\n",
       "      <td>TV Show</td>\n",
       "      <td>Zero</td>\n",
       "      <td>NaN</td>\n",
       "      <td>Giuseppe Dave Seke, Haroun Fall, Beatrice Gran...</td>\n",
       "      <td>Italy</td>\n",
       "      <td>2021-04-21</td>\n",
       "      <td>2021</td>\n",
       "      <td>TV-MA</td>\n",
       "      <td>1 Season</td>\n",
       "      <td>International TV Shows, TV Comedies, TV Dramas</td>\n",
       "      <td>A shy teen with the power to turn invisible mu...</td>\n",
       "      <td>2021.0</td>\n",
       "      <td>1.0</td>\n",
       "      <td>Season</td>\n",
       "    </tr>\n",
       "    <tr>\n",
       "      <th>...</th>\n",
       "      <td>...</td>\n",
       "      <td>...</td>\n",
       "      <td>...</td>\n",
       "      <td>...</td>\n",
       "      <td>...</td>\n",
       "      <td>...</td>\n",
       "      <td>...</td>\n",
       "      <td>...</td>\n",
       "      <td>...</td>\n",
       "      <td>...</td>\n",
       "      <td>...</td>\n",
       "      <td>...</td>\n",
       "      <td>...</td>\n",
       "      <td>...</td>\n",
       "      <td>...</td>\n",
       "    </tr>\n",
       "    <tr>\n",
       "      <th>7196</th>\n",
       "      <td>s7197</td>\n",
       "      <td>TV Show</td>\n",
       "      <td>Kikoriki</td>\n",
       "      <td>NaN</td>\n",
       "      <td>Igor Dmitriev</td>\n",
       "      <td>NaN</td>\n",
       "      <td>NaT</td>\n",
       "      <td>2010</td>\n",
       "      <td>TV-Y</td>\n",
       "      <td>2 Seasons</td>\n",
       "      <td>Kids' TV</td>\n",
       "      <td>A wacky rabbit and his gang of animal pals hav...</td>\n",
       "      <td>NaN</td>\n",
       "      <td>2.0</td>\n",
       "      <td>Seasons</td>\n",
       "    </tr>\n",
       "    <tr>\n",
       "      <th>7254</th>\n",
       "      <td>s7255</td>\n",
       "      <td>TV Show</td>\n",
       "      <td>La Familia P. Luche</td>\n",
       "      <td>NaN</td>\n",
       "      <td>Eugenio Derbez, Consuelo Duval, Luis Manuel Áv...</td>\n",
       "      <td>United States</td>\n",
       "      <td>NaT</td>\n",
       "      <td>2012</td>\n",
       "      <td>TV-14</td>\n",
       "      <td>3 Seasons</td>\n",
       "      <td>International TV Shows, Spanish-Language TV Sh...</td>\n",
       "      <td>This irreverent sitcom featues Ludovico, Feder...</td>\n",
       "      <td>NaN</td>\n",
       "      <td>3.0</td>\n",
       "      <td>Seasons</td>\n",
       "    </tr>\n",
       "    <tr>\n",
       "      <th>7406</th>\n",
       "      <td>s7407</td>\n",
       "      <td>TV Show</td>\n",
       "      <td>Maron</td>\n",
       "      <td>NaN</td>\n",
       "      <td>Marc Maron, Judd Hirsch, Josh Brener, Nora Zeh...</td>\n",
       "      <td>United States</td>\n",
       "      <td>NaT</td>\n",
       "      <td>2016</td>\n",
       "      <td>TV-MA</td>\n",
       "      <td>4 Seasons</td>\n",
       "      <td>TV Comedies</td>\n",
       "      <td>Marc Maron stars as Marc Maron, who interviews...</td>\n",
       "      <td>NaN</td>\n",
       "      <td>4.0</td>\n",
       "      <td>Seasons</td>\n",
       "    </tr>\n",
       "    <tr>\n",
       "      <th>7847</th>\n",
       "      <td>s7848</td>\n",
       "      <td>TV Show</td>\n",
       "      <td>Red vs. Blue</td>\n",
       "      <td>NaN</td>\n",
       "      <td>Burnie Burns, Jason Saldaña, Gustavo Sorola, G...</td>\n",
       "      <td>United States</td>\n",
       "      <td>NaT</td>\n",
       "      <td>2015</td>\n",
       "      <td>NR</td>\n",
       "      <td>13 Seasons</td>\n",
       "      <td>TV Action &amp; Adventure, TV Comedies, TV Sci-Fi ...</td>\n",
       "      <td>This parody of first-person shooter games, mil...</td>\n",
       "      <td>NaN</td>\n",
       "      <td>13.0</td>\n",
       "      <td>Seasons</td>\n",
       "    </tr>\n",
       "    <tr>\n",
       "      <th>8182</th>\n",
       "      <td>s8183</td>\n",
       "      <td>TV Show</td>\n",
       "      <td>The Adventures of Figaro Pho</td>\n",
       "      <td>NaN</td>\n",
       "      <td>Luke Jurevicius, Craig Behenna, Charlotte Haml...</td>\n",
       "      <td>Australia</td>\n",
       "      <td>NaT</td>\n",
       "      <td>2015</td>\n",
       "      <td>TV-Y7</td>\n",
       "      <td>2 Seasons</td>\n",
       "      <td>Kids' TV, TV Comedies</td>\n",
       "      <td>Imagine your worst fears, then multiply them: ...</td>\n",
       "      <td>NaN</td>\n",
       "      <td>2.0</td>\n",
       "      <td>Seasons</td>\n",
       "    </tr>\n",
       "  </tbody>\n",
       "</table>\n",
       "<p>8807 rows × 15 columns</p>\n",
       "</div>"
      ],
      "text/plain": [
       "     show_id     type                               title         director  \\\n",
       "0         s1    Movie                Dick Johnson Is Dead  Kirsten Johnson   \n",
       "996     s997    Movie                          HOMUNCULUS  Takashi Shimizu   \n",
       "1005   s1006    Movie  Keymon and Nani in Space Adventure              NaN   \n",
       "1004   s1005  TV Show                  Izzy's Koala World              NaN   \n",
       "1003   s1004  TV Show                                Zero              NaN   \n",
       "...      ...      ...                                 ...              ...   \n",
       "7196   s7197  TV Show                            Kikoriki              NaN   \n",
       "7254   s7255  TV Show                 La Familia P. Luche              NaN   \n",
       "7406   s7407  TV Show                               Maron              NaN   \n",
       "7847   s7848  TV Show                        Red vs. Blue              NaN   \n",
       "8182   s8183  TV Show        The Adventures of Figaro Pho              NaN   \n",
       "\n",
       "                                                   cast        country  \\\n",
       "0                                                   NaN  United States   \n",
       "996   Go Ayano, Ryo Narita, Yukino Kishii, Anna Ishi...          Japan   \n",
       "1005                                                NaN            NaN   \n",
       "1004                         Izzy Bee, Ali Bee, Tim Bee      Australia   \n",
       "1003  Giuseppe Dave Seke, Haroun Fall, Beatrice Gran...          Italy   \n",
       "...                                                 ...            ...   \n",
       "7196                                      Igor Dmitriev            NaN   \n",
       "7254  Eugenio Derbez, Consuelo Duval, Luis Manuel Áv...  United States   \n",
       "7406  Marc Maron, Judd Hirsch, Josh Brener, Nora Zeh...  United States   \n",
       "7847  Burnie Burns, Jason Saldaña, Gustavo Sorola, G...  United States   \n",
       "8182  Luke Jurevicius, Craig Behenna, Charlotte Haml...      Australia   \n",
       "\n",
       "     date_added  release_year rating    duration  \\\n",
       "0    2021-09-25          2020  PG-13      90 min   \n",
       "996  2021-04-22          2021  TV-MA     116 min   \n",
       "1005 2021-04-20          2013   TV-Y      76 min   \n",
       "1004 2021-04-20          2021   TV-Y   2 Seasons   \n",
       "1003 2021-04-21          2021  TV-MA    1 Season   \n",
       "...         ...           ...    ...         ...   \n",
       "7196        NaT          2010   TV-Y   2 Seasons   \n",
       "7254        NaT          2012  TV-14   3 Seasons   \n",
       "7406        NaT          2016  TV-MA   4 Seasons   \n",
       "7847        NaT          2015     NR  13 Seasons   \n",
       "8182        NaT          2015  TV-Y7   2 Seasons   \n",
       "\n",
       "                                              listed_in  \\\n",
       "0                                         Documentaries   \n",
       "996      Horror Movies, International Movies, Thrillers   \n",
       "1005                 Children & Family Movies, Comedies   \n",
       "1004                                           Kids' TV   \n",
       "1003     International TV Shows, TV Comedies, TV Dramas   \n",
       "...                                                 ...   \n",
       "7196                                           Kids' TV   \n",
       "7254  International TV Shows, Spanish-Language TV Sh...   \n",
       "7406                                        TV Comedies   \n",
       "7847  TV Action & Adventure, TV Comedies, TV Sci-Fi ...   \n",
       "8182                              Kids' TV, TV Comedies   \n",
       "\n",
       "                                            description    year  Minutes  \\\n",
       "0     As her father nears the end of his life, filmm...  2021.0     90.0   \n",
       "996   Truth and illusion blurs when a homeless amnes...  2021.0    116.0   \n",
       "1005  For Rohan and his magical pal, Keymon, a trip ...  2021.0     76.0   \n",
       "1004  Young koala caretaker Izzy Bee and her family ...  2021.0      2.0   \n",
       "1003  A shy teen with the power to turn invisible mu...  2021.0      1.0   \n",
       "...                                                 ...     ...      ...   \n",
       "7196  A wacky rabbit and his gang of animal pals hav...     NaN      2.0   \n",
       "7254  This irreverent sitcom featues Ludovico, Feder...     NaN      3.0   \n",
       "7406  Marc Maron stars as Marc Maron, who interviews...     NaN      4.0   \n",
       "7847  This parody of first-person shooter games, mil...     NaN     13.0   \n",
       "8182  Imagine your worst fears, then multiply them: ...     NaN      2.0   \n",
       "\n",
       "         Unit  \n",
       "0         min  \n",
       "996       min  \n",
       "1005      min  \n",
       "1004  Seasons  \n",
       "1003   Season  \n",
       "...       ...  \n",
       "7196  Seasons  \n",
       "7254  Seasons  \n",
       "7406  Seasons  \n",
       "7847  Seasons  \n",
       "8182  Seasons  \n",
       "\n",
       "[8807 rows x 15 columns]"
      ]
     },
     "execution_count": 110,
     "metadata": {},
     "output_type": "execute_result"
    }
   ],
   "source": [
    "movies.sort_values('year',ascending=False)"
   ]
  },
  {
   "cell_type": "markdown",
   "metadata": {},
   "source": [
    "# Question 13: Find all the instances where: Category is 'Movie' and Type is 'Dramas' or Category is 'TV Show' & Type is 'Kids' TV'.\n"
   ]
  },
  {
   "cell_type": "code",
   "execution_count": 111,
   "metadata": {},
   "outputs": [
    {
     "data": {
      "text/html": [
       "<div>\n",
       "<style scoped>\n",
       "    .dataframe tbody tr th:only-of-type {\n",
       "        vertical-align: middle;\n",
       "    }\n",
       "\n",
       "    .dataframe tbody tr th {\n",
       "        vertical-align: top;\n",
       "    }\n",
       "\n",
       "    .dataframe thead th {\n",
       "        text-align: right;\n",
       "    }\n",
       "</style>\n",
       "<table border=\"1\" class=\"dataframe\">\n",
       "  <thead>\n",
       "    <tr style=\"text-align: right;\">\n",
       "      <th></th>\n",
       "      <th>show_id</th>\n",
       "      <th>type</th>\n",
       "      <th>title</th>\n",
       "      <th>director</th>\n",
       "      <th>cast</th>\n",
       "      <th>country</th>\n",
       "      <th>date_added</th>\n",
       "      <th>release_year</th>\n",
       "      <th>rating</th>\n",
       "      <th>duration</th>\n",
       "      <th>listed_in</th>\n",
       "      <th>description</th>\n",
       "      <th>year</th>\n",
       "      <th>Minutes</th>\n",
       "      <th>Unit</th>\n",
       "    </tr>\n",
       "  </thead>\n",
       "  <tbody>\n",
       "    <tr>\n",
       "      <th>34</th>\n",
       "      <td>s35</td>\n",
       "      <td>TV Show</td>\n",
       "      <td>Tayo and Little Wizards</td>\n",
       "      <td>NaN</td>\n",
       "      <td>Dami Lee, Jason Lee, Bommie Catherine Han, Jen...</td>\n",
       "      <td>NaN</td>\n",
       "      <td>2021-09-17</td>\n",
       "      <td>2020</td>\n",
       "      <td>TV-Y7</td>\n",
       "      <td>1 Season</td>\n",
       "      <td>Kids' TV</td>\n",
       "      <td>Tayo speeds into an adventure when his friends...</td>\n",
       "      <td>2021.0</td>\n",
       "      <td>1.0</td>\n",
       "      <td>Season</td>\n",
       "    </tr>\n",
       "    <tr>\n",
       "      <th>39</th>\n",
       "      <td>s40</td>\n",
       "      <td>TV Show</td>\n",
       "      <td>Chhota Bheem</td>\n",
       "      <td>NaN</td>\n",
       "      <td>Vatsal Dubey, Julie Tejwani, Rupa Bhimani, Jig...</td>\n",
       "      <td>India</td>\n",
       "      <td>2021-09-16</td>\n",
       "      <td>2021</td>\n",
       "      <td>TV-Y7</td>\n",
       "      <td>3 Seasons</td>\n",
       "      <td>Kids' TV</td>\n",
       "      <td>A brave, energetic little boy with superhuman ...</td>\n",
       "      <td>2021.0</td>\n",
       "      <td>3.0</td>\n",
       "      <td>Seasons</td>\n",
       "    </tr>\n",
       "    <tr>\n",
       "      <th>65</th>\n",
       "      <td>s66</td>\n",
       "      <td>TV Show</td>\n",
       "      <td>Numberblocks</td>\n",
       "      <td>NaN</td>\n",
       "      <td>Beth Chalmers, David Holt, Marcel McCalla, Ter...</td>\n",
       "      <td>United Kingdom</td>\n",
       "      <td>2021-09-15</td>\n",
       "      <td>2021</td>\n",
       "      <td>TV-Y</td>\n",
       "      <td>6 Seasons</td>\n",
       "      <td>Kids' TV</td>\n",
       "      <td>In a place called Numberland, math adds up to ...</td>\n",
       "      <td>2021.0</td>\n",
       "      <td>6.0</td>\n",
       "      <td>Seasons</td>\n",
       "    </tr>\n",
       "    <tr>\n",
       "      <th>89</th>\n",
       "      <td>s90</td>\n",
       "      <td>TV Show</td>\n",
       "      <td>Mighty Raju</td>\n",
       "      <td>NaN</td>\n",
       "      <td>Julie Tejwani, Sabina Malik, Jigna Bhardwaj, R...</td>\n",
       "      <td>NaN</td>\n",
       "      <td>2021-09-09</td>\n",
       "      <td>2017</td>\n",
       "      <td>TV-Y7</td>\n",
       "      <td>4 Seasons</td>\n",
       "      <td>Kids' TV</td>\n",
       "      <td>Born with superhuman abilities, young Raju wan...</td>\n",
       "      <td>2021.0</td>\n",
       "      <td>4.0</td>\n",
       "      <td>Seasons</td>\n",
       "    </tr>\n",
       "    <tr>\n",
       "      <th>100</th>\n",
       "      <td>s101</td>\n",
       "      <td>TV Show</td>\n",
       "      <td>Tobot Galaxy Detectives</td>\n",
       "      <td>NaN</td>\n",
       "      <td>Austin Abell, Travis Turner, Cole Howard, Anna...</td>\n",
       "      <td>NaN</td>\n",
       "      <td>2021-09-07</td>\n",
       "      <td>2019</td>\n",
       "      <td>TV-Y7</td>\n",
       "      <td>2 Seasons</td>\n",
       "      <td>Kids' TV</td>\n",
       "      <td>An intergalactic device transforms toy cars in...</td>\n",
       "      <td>2021.0</td>\n",
       "      <td>2.0</td>\n",
       "      <td>Seasons</td>\n",
       "    </tr>\n",
       "    <tr>\n",
       "      <th>...</th>\n",
       "      <td>...</td>\n",
       "      <td>...</td>\n",
       "      <td>...</td>\n",
       "      <td>...</td>\n",
       "      <td>...</td>\n",
       "      <td>...</td>\n",
       "      <td>...</td>\n",
       "      <td>...</td>\n",
       "      <td>...</td>\n",
       "      <td>...</td>\n",
       "      <td>...</td>\n",
       "      <td>...</td>\n",
       "      <td>...</td>\n",
       "      <td>...</td>\n",
       "      <td>...</td>\n",
       "    </tr>\n",
       "    <tr>\n",
       "      <th>8691</th>\n",
       "      <td>s8692</td>\n",
       "      <td>Movie</td>\n",
       "      <td>Wakefield</td>\n",
       "      <td>Robin Swicord</td>\n",
       "      <td>Bryan Cranston, Jennifer Garner, Jason O'Mara,...</td>\n",
       "      <td>United States</td>\n",
       "      <td>2019-03-02</td>\n",
       "      <td>2016</td>\n",
       "      <td>R</td>\n",
       "      <td>109 min</td>\n",
       "      <td>Dramas</td>\n",
       "      <td>An unhappy father and lawyer quits his suburba...</td>\n",
       "      <td>2019.0</td>\n",
       "      <td>109.0</td>\n",
       "      <td>min</td>\n",
       "    </tr>\n",
       "    <tr>\n",
       "      <th>8696</th>\n",
       "      <td>s8697</td>\n",
       "      <td>Movie</td>\n",
       "      <td>War Horse</td>\n",
       "      <td>Steven Spielberg</td>\n",
       "      <td>Emily Watson, David Thewlis, Peter Mullan, Nie...</td>\n",
       "      <td>United States, India</td>\n",
       "      <td>2019-05-06</td>\n",
       "      <td>2011</td>\n",
       "      <td>PG-13</td>\n",
       "      <td>147 min</td>\n",
       "      <td>Dramas</td>\n",
       "      <td>During World War I, the bond between a young E...</td>\n",
       "      <td>2019.0</td>\n",
       "      <td>147.0</td>\n",
       "      <td>min</td>\n",
       "    </tr>\n",
       "    <tr>\n",
       "      <th>8783</th>\n",
       "      <td>s8784</td>\n",
       "      <td>TV Show</td>\n",
       "      <td>Yoko</td>\n",
       "      <td>NaN</td>\n",
       "      <td>Eileen Stevens, Alyson Leigh Rosenfeld, Sarah ...</td>\n",
       "      <td>NaN</td>\n",
       "      <td>2018-06-23</td>\n",
       "      <td>2016</td>\n",
       "      <td>TV-Y</td>\n",
       "      <td>1 Season</td>\n",
       "      <td>Kids' TV</td>\n",
       "      <td>Friends Mai, Oto and Vik's games at the park b...</td>\n",
       "      <td>2018.0</td>\n",
       "      <td>1.0</td>\n",
       "      <td>Season</td>\n",
       "    </tr>\n",
       "    <tr>\n",
       "      <th>8785</th>\n",
       "      <td>s8786</td>\n",
       "      <td>TV Show</td>\n",
       "      <td>YOM</td>\n",
       "      <td>NaN</td>\n",
       "      <td>Sairaj, Devyani Dagaonkar, Ketan Singh, Mayur ...</td>\n",
       "      <td>NaN</td>\n",
       "      <td>2018-06-07</td>\n",
       "      <td>2016</td>\n",
       "      <td>TV-Y7</td>\n",
       "      <td>1 Season</td>\n",
       "      <td>Kids' TV</td>\n",
       "      <td>With the mind of a human being, and the body o...</td>\n",
       "      <td>2018.0</td>\n",
       "      <td>1.0</td>\n",
       "      <td>Season</td>\n",
       "    </tr>\n",
       "    <tr>\n",
       "      <th>8797</th>\n",
       "      <td>s8798</td>\n",
       "      <td>TV Show</td>\n",
       "      <td>Zak Storm</td>\n",
       "      <td>NaN</td>\n",
       "      <td>Michael Johnston, Jessica Gee-George, Christin...</td>\n",
       "      <td>United States, France, South Korea, Indonesia</td>\n",
       "      <td>2018-09-13</td>\n",
       "      <td>2016</td>\n",
       "      <td>TV-Y7</td>\n",
       "      <td>3 Seasons</td>\n",
       "      <td>Kids' TV</td>\n",
       "      <td>Teen surfer Zak Storm is mysteriously transpor...</td>\n",
       "      <td>2018.0</td>\n",
       "      <td>3.0</td>\n",
       "      <td>Seasons</td>\n",
       "    </tr>\n",
       "  </tbody>\n",
       "</table>\n",
       "<p>358 rows × 15 columns</p>\n",
       "</div>"
      ],
      "text/plain": [
       "     show_id     type                    title          director  \\\n",
       "34       s35  TV Show  Tayo and Little Wizards               NaN   \n",
       "39       s40  TV Show             Chhota Bheem               NaN   \n",
       "65       s66  TV Show             Numberblocks               NaN   \n",
       "89       s90  TV Show              Mighty Raju               NaN   \n",
       "100     s101  TV Show  Tobot Galaxy Detectives               NaN   \n",
       "...      ...      ...                      ...               ...   \n",
       "8691   s8692    Movie                Wakefield     Robin Swicord   \n",
       "8696   s8697    Movie                War Horse  Steven Spielberg   \n",
       "8783   s8784  TV Show                     Yoko               NaN   \n",
       "8785   s8786  TV Show                      YOM               NaN   \n",
       "8797   s8798  TV Show                Zak Storm               NaN   \n",
       "\n",
       "                                                   cast  \\\n",
       "34    Dami Lee, Jason Lee, Bommie Catherine Han, Jen...   \n",
       "39    Vatsal Dubey, Julie Tejwani, Rupa Bhimani, Jig...   \n",
       "65    Beth Chalmers, David Holt, Marcel McCalla, Ter...   \n",
       "89    Julie Tejwani, Sabina Malik, Jigna Bhardwaj, R...   \n",
       "100   Austin Abell, Travis Turner, Cole Howard, Anna...   \n",
       "...                                                 ...   \n",
       "8691  Bryan Cranston, Jennifer Garner, Jason O'Mara,...   \n",
       "8696  Emily Watson, David Thewlis, Peter Mullan, Nie...   \n",
       "8783  Eileen Stevens, Alyson Leigh Rosenfeld, Sarah ...   \n",
       "8785  Sairaj, Devyani Dagaonkar, Ketan Singh, Mayur ...   \n",
       "8797  Michael Johnston, Jessica Gee-George, Christin...   \n",
       "\n",
       "                                            country date_added  release_year  \\\n",
       "34                                              NaN 2021-09-17          2020   \n",
       "39                                            India 2021-09-16          2021   \n",
       "65                                   United Kingdom 2021-09-15          2021   \n",
       "89                                              NaN 2021-09-09          2017   \n",
       "100                                             NaN 2021-09-07          2019   \n",
       "...                                             ...        ...           ...   \n",
       "8691                                  United States 2019-03-02          2016   \n",
       "8696                           United States, India 2019-05-06          2011   \n",
       "8783                                            NaN 2018-06-23          2016   \n",
       "8785                                            NaN 2018-06-07          2016   \n",
       "8797  United States, France, South Korea, Indonesia 2018-09-13          2016   \n",
       "\n",
       "     rating   duration listed_in  \\\n",
       "34    TV-Y7   1 Season  Kids' TV   \n",
       "39    TV-Y7  3 Seasons  Kids' TV   \n",
       "65     TV-Y  6 Seasons  Kids' TV   \n",
       "89    TV-Y7  4 Seasons  Kids' TV   \n",
       "100   TV-Y7  2 Seasons  Kids' TV   \n",
       "...     ...        ...       ...   \n",
       "8691      R    109 min    Dramas   \n",
       "8696  PG-13    147 min    Dramas   \n",
       "8783   TV-Y   1 Season  Kids' TV   \n",
       "8785  TV-Y7   1 Season  Kids' TV   \n",
       "8797  TV-Y7  3 Seasons  Kids' TV   \n",
       "\n",
       "                                            description    year  Minutes  \\\n",
       "34    Tayo speeds into an adventure when his friends...  2021.0      1.0   \n",
       "39    A brave, energetic little boy with superhuman ...  2021.0      3.0   \n",
       "65    In a place called Numberland, math adds up to ...  2021.0      6.0   \n",
       "89    Born with superhuman abilities, young Raju wan...  2021.0      4.0   \n",
       "100   An intergalactic device transforms toy cars in...  2021.0      2.0   \n",
       "...                                                 ...     ...      ...   \n",
       "8691  An unhappy father and lawyer quits his suburba...  2019.0    109.0   \n",
       "8696  During World War I, the bond between a young E...  2019.0    147.0   \n",
       "8783  Friends Mai, Oto and Vik's games at the park b...  2018.0      1.0   \n",
       "8785  With the mind of a human being, and the body o...  2018.0      1.0   \n",
       "8797  Teen surfer Zak Storm is mysteriously transpor...  2018.0      3.0   \n",
       "\n",
       "         Unit  \n",
       "34     Season  \n",
       "39    Seasons  \n",
       "65    Seasons  \n",
       "89    Seasons  \n",
       "100   Seasons  \n",
       "...       ...  \n",
       "8691      min  \n",
       "8696      min  \n",
       "8783   Season  \n",
       "8785   Season  \n",
       "8797  Seasons  \n",
       "\n",
       "[358 rows x 15 columns]"
      ]
     },
     "execution_count": 111,
     "metadata": {},
     "output_type": "execute_result"
    }
   ],
   "source": [
    "movies[(movies['type']=='Movie') & (movies['listed_in']=='Dramas') | (movies['type']=='TV Show') & (movies['listed_in']==\"Kids' TV\")]\n"
   ]
  },
  {
   "cell_type": "markdown",
   "metadata": {},
   "source": [
    "# EXTRA EDA"
   ]
  },
  {
   "cell_type": "markdown",
   "metadata": {},
   "source": [
    "# Which rating has the most movies and TV shows? Show it with a graph.\n",
    "Renaming the values of rating for better understanding."
   ]
  },
  {
   "cell_type": "code",
   "execution_count": 112,
   "metadata": {},
   "outputs": [
    {
     "data": {
      "image/png": "[encoded data removed]",
      "text/plain": [
       "<Figure size 1224x432 with 1 Axes>"
      ]
     },
     "metadata": {},
     "output_type": "display_data"
    }
   ],
   "source": [
    "dic = {'PG-13': 'Teens - Age above 12', 'TV-MA': 'Adults',\n",
    "'PG': 'Kids - with parental guidence',\n",
    "'TV-14': 'Teens - Age above 14',\n",
    "'TV-PG': 'Kids - with parental guidence',\n",
    "'TV-Y': 'Kids',\n",
    "'TV-Y7': 'Kids - Age above 7',\n",
    "'R': 'Adults',\n",
    "'TV-G': 'Kids',\n",
    " 'G': 'Kids',\n",
    "'NC-17': 'Adults',\n",
    "'NR': 'NR',\n",
    "'UR' : 'UR'}\n",
    "movies['rating']=movies['rating'].map(dic)\n",
    "plt.figure(figsize=(17,6))\n",
    "sns.countplot(x=\"rating\", data=movies, palette=\"Set2\", order=movies['rating'].value_counts().index[0:14])\n",
    "plt.title('Rating with the most movies and tv shows')\n",
    "plt.show()"
   ]
  },
  {
   "cell_type": "markdown",
   "metadata": {},
   "source": [
    "\n",
    "# About how long are most movies? Present it with a graph."
   ]
  },
  {
   "cell_type": "code",
   "execution_count": 113,
   "metadata": {},
   "outputs": [
    {
     "data": {
      "image/png": "[encoded data removed]",
      "text/plain": [
       "<Figure size 720x576 with 1 Axes>"
      ]
     },
     "metadata": {},
     "output_type": "display_data"
    }
   ],
   "source": [
    "plt.figure(figsize=(10,8))\n",
    "sns.set_style(\"darkgrid\")\n",
    "sns.kdeplot(data=movies[movies[\"Unit\"]=='min']['Minutes'], shade=True,legend=True)\n",
    "plt.title('Distribution of duration of movies')\n",
    "plt.show()"
   ]
  },
  {
   "cell_type": "markdown",
   "metadata": {},
   "source": [
    "## Conclusion\n",
    "From the chart above we can see that the most movies have duration beetween 80 and 100 minutes."
   ]
  },
  {
   "cell_type": "markdown",
   "metadata": {},
   "source": [
    "# In which year were the most movies and tv shows released? Show it with a graph."
   ]
  },
  {
   "cell_type": "code",
   "execution_count": 114,
   "metadata": {},
   "outputs": [
    {
     "data": {
      "image/png": "[encoded data removed]",
      "text/plain": [
       "<Figure size 864x720 with 1 Axes>"
      ]
     },
     "metadata": {},
     "output_type": "display_data"
    }
   ],
   "source": [
    "# index[:20] means top 20 years \n",
    "plt.figure(figsize=(12,10))\n",
    "sns.set_style(\"dark\")\n",
    "sns.countplot(data=movies, x=\"release_year\", order=movies['release_year'].value_counts().index[:20], palette=\"viridis\")\n",
    "plt.show()"
   ]
  },
  {
   "cell_type": "code",
   "execution_count": 115,
   "metadata": {},
   "outputs": [
    {
     "data": {
      "application/vnd.plotly.v1+json": {
       "config": {
        "plotlyServerURL": "https://plot.ly"
       },
       "data": [
        {
         "fillpattern": {
          "shape": ""
         },
         "hovertemplate": "release_year=%{x}<br>show_id=%{y}<extra></extra>",
         "legendgroup": "",
         "line": {
          "color": "rgb(103,0,31)"
         },
         "marker": {
          "symbol": "circle"
         },
         "mode": "lines",
         "name": "",
         "orientation": "v",
         "showlegend": false,
         "stackgroup": "1",
         "type": "scatter",
         "x": [
          2002,
          2003,
          2004,
          2005,
          2006,
          2007,
          2008,
          2009,
          2010,
          2011,
          2012,
          2013,
          2014,
          2015,
          2016,
          2017,
          2018,
          2019,
          2020,
          2021
         ],
         "xaxis": "x",
         "y": [
          51,
          61,
          64,
          80,
          96,
          88,
          136,
          152,
          194,
          185,
          237,
          288,
          352,
          560,
          902,
          1032,
          1147,
          1030,
          953,
          592
         ],
         "yaxis": "y"
        }
       ],
       "layout": {
        "legend": {
         "tracegroupgap": 0
        },
        "template": {
         "data": {
          "bar": [
           {
            "error_x": {
             "color": "#2a3f5f"
            },
            "error_y": {
             "color": "#2a3f5f"
            },
            "marker": {
             "line": {
              "color": "#E5ECF6",
              "width": 0.5
             },
             "pattern": {
              "fillmode": "overlay",
              "size": 10,
              "solidity": 0.2
             }
            },
            "type": "bar"
           }
          ],
          "barpolar": [
           {
            "marker": {
             "line": {
              "color": "#E5ECF6",
              "width": 0.5
             },
             "pattern": {
              "fillmode": "overlay",
              "size": 10,
              "solidity": 0.2
             }
            },
            "type": "barpolar"
           }
          ],
          "carpet": [
           {
            "aaxis": {
             "endlinecolor": "#2a3f5f",
             "gridcolor": "white",
             "linecolor": "white",
             "minorgridcolor": "white",
             "startlinecolor": "#2a3f5f"
            },
            "baxis": {
             "endlinecolor": "#2a3f5f",
             "gridcolor": "white",
             "linecolor": "white",
             "minorgridcolor": "white",
             "startlinecolor": "#2a3f5f"
            },
            "type": "carpet"
           }
          ],
          "choropleth": [
           {
            "colorbar": {
             "outlinewidth": 0,
             "ticks": ""
            },
            "type": "choropleth"
           }
          ],
          "contour": [
           {
            "colorbar": {
             "outlinewidth": 0,
             "ticks": ""
            },
            "colorscale": [
             [
              0,
              "#0d0887"
             ],
             [
              0.1111111111111111,
              "#46039f"
             ],
             [
              0.2222222222222222,
              "#7201a8"
             ],
             [
              0.3333333333333333,
              "#9c179e"
             ],
             [
              0.4444444444444444,
              "#bd3786"
             ],
             [
              0.5555555555555556,
              "#d8576b"
             ],
             [
              0.6666666666666666,
              "#ed7953"
             ],
             [
              0.7777777777777778,
              "#fb9f3a"
             ],
             [
              0.8888888888888888,
              "#fdca26"
             ],
             [
              1,
              "#f0f921"
             ]
            ],
            "type": "contour"
           }
          ],
          "contourcarpet": [
           {
            "colorbar": {
             "outlinewidth": 0,
             "ticks": ""
            },
            "type": "contourcarpet"
           }
          ],
          "heatmap": [
           {
            "colorbar": {
             "outlinewidth": 0,
             "ticks": ""
            },
            "colorscale": [
             [
              0,
              "#0d0887"
             ],
             [
              0.1111111111111111,
              "#46039f"
             ],
             [
              0.2222222222222222,
              "#7201a8"
             ],
             [
              0.3333333333333333,
              "#9c179e"
             ],
             [
              0.4444444444444444,
              "#bd3786"
             ],
             [
              0.5555555555555556,
              "#d8576b"
             ],
             [
              0.6666666666666666,
              "#ed7953"
             ],
             [
              0.7777777777777778,
              "#fb9f3a"
             ],
             [
              0.8888888888888888,
              "#fdca26"
             ],
             [
              1,
              "#f0f921"
             ]
            ],
            "type": "heatmap"
           }
          ],
          "heatmapgl": [
           {
            "colorbar": {
             "outlinewidth": 0,
             "ticks": ""
            },
            "colorscale": [
             [
              0,
              "#0d0887"
             ],
             [
              0.1111111111111111,
              "#46039f"
             ],
             [
              0.2222222222222222,
              "#7201a8"
             ],
             [
              0.3333333333333333,
              "#9c179e"
             ],
             [
              0.4444444444444444,
              "#bd3786"
             ],
             [
              0.5555555555555556,
              "#d8576b"
             ],
             [
              0.6666666666666666,
              "#ed7953"
             ],
             [
              0.7777777777777778,
              "#fb9f3a"
             ],
             [
              0.8888888888888888,
              "#fdca26"
             ],
             [
              1,
              "#f0f921"
             ]
            ],
            "type": "heatmapgl"
           }
          ],
          "histogram": [
           {
            "marker": {
             "pattern": {
              "fillmode": "overlay",
              "size": 10,
              "solidity": 0.2
             }
            },
            "type": "histogram"
           }
          ],
          "histogram2d": [
           {
            "colorbar": {
             "outlinewidth": 0,
             "ticks": ""
            },
            "colorscale": [
             [
              0,
              "#0d0887"
             ],
             [
              0.1111111111111111,
              "#46039f"
             ],
             [
              0.2222222222222222,
              "#7201a8"
             ],
             [
              0.3333333333333333,
              "#9c179e"
             ],
             [
              0.4444444444444444,
              "#bd3786"
             ],
             [
              0.5555555555555556,
              "#d8576b"
             ],
             [
              0.6666666666666666,
              "#ed7953"
             ],
             [
              0.7777777777777778,
              "#fb9f3a"
             ],
             [
              0.8888888888888888,
              "#fdca26"
             ],
             [
              1,
              "#f0f921"
             ]
            ],
            "type": "histogram2d"
           }
          ],
          "histogram2dcontour": [
           {
            "colorbar": {
             "outlinewidth": 0,
             "ticks": ""
            },
            "colorscale": [
             [
              0,
              "#0d0887"
             ],
             [
              0.1111111111111111,
              "#46039f"
             ],
             [
              0.2222222222222222,
              "#7201a8"
             ],
             [
              0.3333333333333333,
              "#9c179e"
             ],
             [
              0.4444444444444444,
              "#bd3786"
             ],
             [
              0.5555555555555556,
              "#d8576b"
             ],
             [
              0.6666666666666666,
              "#ed7953"
             ],
             [
              0.7777777777777778,
              "#fb9f3a"
             ],
             [
              0.8888888888888888,
              "#fdca26"
             ],
             [
              1,
              "#f0f921"
             ]
            ],
            "type": "histogram2dcontour"
           }
          ],
          "mesh3d": [
           {
            "colorbar": {
             "outlinewidth": 0,
             "ticks": ""
            },
            "type": "mesh3d"
           }
          ],
          "parcoords": [
           {
            "line": {
             "colorbar": {
              "outlinewidth": 0,
              "ticks": ""
             }
            },
            "type": "parcoords"
           }
          ],
          "pie": [
           {
            "automargin": true,
            "type": "pie"
           }
          ],
          "scatter": [
           {
            "fillpattern": {
             "fillmode": "overlay",
             "size": 10,
             "solidity": 0.2
            },
            "type": "scatter"
           }
          ],
          "scatter3d": [
           {
            "line": {
             "colorbar": {
              "outlinewidth": 0,
              "ticks": ""
             }
            },
            "marker": {
             "colorbar": {
              "outlinewidth": 0,
              "ticks": ""
             }
            },
            "type": "scatter3d"
           }
          ],
          "scattercarpet": [
           {
            "marker": {
             "colorbar": {
              "outlinewidth": 0,
              "ticks": ""
             }
            },
            "type": "scattercarpet"
           }
          ],
          "scattergeo": [
           {
            "marker": {
             "colorbar": {
              "outlinewidth": 0,
              "ticks": ""
             }
            },
            "type": "scattergeo"
           }
          ],
          "scattergl": [
           {
            "marker": {
             "colorbar": {
              "outlinewidth": 0,
              "ticks": ""
             }
            },
            "type": "scattergl"
           }
          ],
          "scattermapbox": [
           {
            "marker": {
             "colorbar": {
              "outlinewidth": 0,
              "ticks": ""
             }
            },
            "type": "scattermapbox"
           }
          ],
          "scatterpolar": [
           {
            "marker": {
             "colorbar": {
              "outlinewidth": 0,
              "ticks": ""
             }
            },
            "type": "scatterpolar"
           }
          ],
          "scatterpolargl": [
           {
            "marker": {
             "colorbar": {
              "outlinewidth": 0,
              "ticks": ""
             }
            },
            "type": "scatterpolargl"
           }
          ],
          "scatterternary": [
           {
            "marker": {
             "colorbar": {
              "outlinewidth": 0,
              "ticks": ""
             }
            },
            "type": "scatterternary"
           }
          ],
          "surface": [
           {
            "colorbar": {
             "outlinewidth": 0,
             "ticks": ""
            },
            "colorscale": [
             [
              0,
              "#0d0887"
             ],
             [
              0.1111111111111111,
              "#46039f"
             ],
             [
              0.2222222222222222,
              "#7201a8"
             ],
             [
              0.3333333333333333,
              "#9c179e"
             ],
             [
              0.4444444444444444,
              "#bd3786"
             ],
             [
              0.5555555555555556,
              "#d8576b"
             ],
             [
              0.6666666666666666,
              "#ed7953"
             ],
             [
              0.7777777777777778,
              "#fb9f3a"
             ],
             [
              0.8888888888888888,
              "#fdca26"
             ],
             [
              1,
              "#f0f921"
             ]
            ],
            "type": "surface"
           }
          ],
          "table": [
           {
            "cells": {
             "fill": {
              "color": "#EBF0F8"
             },
             "line": {
              "color": "white"
             }
            },
            "header": {
             "fill": {
              "color": "#C8D4E3"
             },
             "line": {
              "color": "white"
             }
            },
            "type": "table"
           }
          ]
         },
         "layout": {
          "annotationdefaults": {
           "arrowcolor": "#2a3f5f",
           "arrowhead": 0,
           "arrowwidth": 1
          },
          "autotypenumbers": "strict",
          "coloraxis": {
           "colorbar": {
            "outlinewidth": 0,
            "ticks": ""
           }
          },
          "colorscale": {
           "diverging": [
            [
             0,
             "#8e0152"
            ],
            [
             0.1,
             "#c51b7d"
            ],
            [
             0.2,
             "#de77ae"
            ],
            [
             0.3,
             "#f1b6da"
            ],
            [
             0.4,
             "#fde0ef"
            ],
            [
             0.5,
             "#f7f7f7"
            ],
            [
             0.6,
             "#e6f5d0"
            ],
            [
             0.7,
             "#b8e186"
            ],
            [
             0.8,
             "#7fbc41"
            ],
            [
             0.9,
             "#4d9221"
            ],
            [
             1,
             "#276419"
            ]
           ],
           "sequential": [
            [
             0,
             "#0d0887"
            ],
            [
             0.1111111111111111,
             "#46039f"
            ],
            [
             0.2222222222222222,
             "#7201a8"
            ],
            [
             0.3333333333333333,
             "#9c179e"
            ],
            [
             0.4444444444444444,
             "#bd3786"
            ],
            [
             0.5555555555555556,
             "#d8576b"
            ],
            [
             0.6666666666666666,
             "#ed7953"
            ],
            [
             0.7777777777777778,
             "#fb9f3a"
            ],
            [
             0.8888888888888888,
             "#fdca26"
            ],
            [
             1,
             "#f0f921"
            ]
           ],
           "sequentialminus": [
            [
             0,
             "#0d0887"
            ],
            [
             0.1111111111111111,
             "#46039f"
            ],
            [
             0.2222222222222222,
             "#7201a8"
            ],
            [
             0.3333333333333333,
             "#9c179e"
            ],
            [
             0.4444444444444444,
             "#bd3786"
            ],
            [
             0.5555555555555556,
             "#d8576b"
            ],
            [
             0.6666666666666666,
             "#ed7953"
            ],
            [
             0.7777777777777778,
             "#fb9f3a"
            ],
            [
             0.8888888888888888,
             "#fdca26"
            ],
            [
             1,
             "#f0f921"
            ]
           ]
          },
          "colorway": [
           "#636efa",
           "#EF553B",
           "#00cc96",
           "#ab63fa",
           "#FFA15A",
           "#19d3f3",
           "#FF6692",
           "#B6E880",
           "#FF97FF",
           "#FECB52"
          ],
          "font": {
           "color": "#2a3f5f"
          },
          "geo": {
           "bgcolor": "white",
           "lakecolor": "white",
           "landcolor": "#E5ECF6",
           "showlakes": true,
           "showland": true,
           "subunitcolor": "white"
          },
          "hoverlabel": {
           "align": "left"
          },
          "hovermode": "closest",
          "mapbox": {
           "style": "light"
          },
          "paper_bgcolor": "white",
          "plot_bgcolor": "#E5ECF6",
          "polar": {
           "angularaxis": {
            "gridcolor": "white",
            "linecolor": "white",
            "ticks": ""
           },
           "bgcolor": "#E5ECF6",
           "radialaxis": {
            "gridcolor": "white",
            "linecolor": "white",
            "ticks": ""
           }
          },
          "scene": {
           "xaxis": {
            "backgroundcolor": "#E5ECF6",
            "gridcolor": "white",
            "gridwidth": 2,
            "linecolor": "white",
            "showbackground": true,
            "ticks": "",
            "zerolinecolor": "white"
           },
           "yaxis": {
            "backgroundcolor": "#E5ECF6",
            "gridcolor": "white",
            "gridwidth": 2,
            "linecolor": "white",
            "showbackground": true,
            "ticks": "",
            "zerolinecolor": "white"
           },
           "zaxis": {
            "backgroundcolor": "#E5ECF6",
            "gridcolor": "white",
            "gridwidth": 2,
            "linecolor": "white",
            "showbackground": true,
            "ticks": "",
            "zerolinecolor": "white"
           }
          },
          "shapedefaults": {
           "line": {
            "color": "#2a3f5f"
           }
          },
          "ternary": {
           "aaxis": {
            "gridcolor": "white",
            "linecolor": "white",
            "ticks": ""
           },
           "baxis": {
            "gridcolor": "white",
            "linecolor": "white",
            "ticks": ""
           },
           "bgcolor": "#E5ECF6",
           "caxis": {
            "gridcolor": "white",
            "linecolor": "white",
            "ticks": ""
           }
          },
          "title": {
           "x": 0.05
          },
          "xaxis": {
           "automargin": true,
           "gridcolor": "white",
           "linecolor": "white",
           "ticks": "",
           "title": {
            "standoff": 15
           },
           "zerolinecolor": "white",
           "zerolinewidth": 2
          },
          "yaxis": {
           "automargin": true,
           "gridcolor": "white",
           "linecolor": "white",
           "ticks": "",
           "title": {
            "standoff": 15
           },
           "zerolinecolor": "white",
           "zerolinewidth": 2
          }
         }
        },
        "title": {
         "text": "Overall content release Trend"
        },
        "xaxis": {
         "anchor": "y",
         "domain": [
          0,
          1
         ],
         "title": {
          "text": "release_year"
         }
        },
        "yaxis": {
         "anchor": "x",
         "domain": [
          0,
          1
         ],
         "title": {
          "text": "show_id"
         }
        }
       }
      },
      "text/html": [
       "<div>                            <div id=\"2f8e44d9-50ca-4f29-b839-4e25f3a287b7\" class=\"plotly-graph-div\" style=\"height:525px; width:100%;\"></div>            <script type=\"text/javascript\">                require([\"plotly\"], function(Plotly) {                    window.PLOTLYENV=window.PLOTLYENV || {};                                    if (document.getElementById(\"2f8e44d9-50ca-4f29-b839-4e25f3a287b7\")) {                    Plotly.newPlot(                        \"2f8e44d9-50ca-4f29-b839-4e25f3a287b7\",                        [{\"fillpattern\":{\"shape\":\"\"},\"hovertemplate\":\"release_year=%{x}<br>show_id=%{y}<extra></extra>\",\"legendgroup\":\"\",\"line\":{\"color\":\"rgb(103,0,31)\"},\"marker\":{\"symbol\":\"circle\"},\"mode\":\"lines\",\"name\":\"\",\"orientation\":\"v\",\"showlegend\":false,\"stackgroup\":\"1\",\"x\":[2002,2003,2004,2005,2006,2007,2008,2009,2010,2011,2012,2013,2014,2015,2016,2017,2018,2019,2020,2021],\"xaxis\":\"x\",\"y\":[51,61,64,80,96,88,136,152,194,185,237,288,352,560,902,1032,1147,1030,953,592],\"yaxis\":\"y\",\"type\":\"scatter\"}],                        {\"template\":{\"data\":{\"histogram2dcontour\":[{\"type\":\"histogram2dcontour\",\"colorbar\":{\"outlinewidth\":0,\"ticks\":\"\"},\"colorscale\":[[0.0,\"#0d0887\"],[0.1111111111111111,\"#46039f\"],[0.2222222222222222,\"#7201a8\"],[0.3333333333333333,\"#9c179e\"],[0.4444444444444444,\"#bd3786\"],[0.5555555555555556,\"#d8576b\"],[0.6666666666666666,\"#ed7953\"],[0.7777777777777778,\"#fb9f3a\"],[0.8888888888888888,\"#fdca26\"],[1.0,\"#f0f921\"]]}],\"choropleth\":[{\"type\":\"choropleth\",\"colorbar\":{\"outlinewidth\":0,\"ticks\":\"\"}}],\"histogram2d\":[{\"type\":\"histogram2d\",\"colorbar\":{\"outlinewidth\":0,\"ticks\":\"\"},\"colorscale\":[[0.0,\"#0d0887\"],[0.1111111111111111,\"#46039f\"],[0.2222222222222222,\"#7201a8\"],[0.3333333333333333,\"#9c179e\"],[0.4444444444444444,\"#bd3786\"],[0.5555555555555556,\"#d8576b\"],[0.6666666666666666,\"#ed7953\"],[0.7777777777777778,\"#fb9f3a\"],[0.8888888888888888,\"#fdca26\"],[1.0,\"#f0f921\"]]}],\"heatmap\":[{\"type\":\"heatmap\",\"colorbar\":{\"outlinewidth\":0,\"ticks\":\"\"},\"colorscale\":[[0.0,\"#0d0887\"],[0.1111111111111111,\"#46039f\"],[0.2222222222222222,\"#7201a8\"],[0.3333333333333333,\"#9c179e\"],[0.4444444444444444,\"#bd3786\"],[0.5555555555555556,\"#d8576b\"],[0.6666666666666666,\"#ed7953\"],[0.7777777777777778,\"#fb9f3a\"],[0.8888888888888888,\"#fdca26\"],[1.0,\"#f0f921\"]]}],\"heatmapgl\":[{\"type\":\"heatmapgl\",\"colorbar\":{\"outlinewidth\":0,\"ticks\":\"\"},\"colorscale\":[[0.0,\"#0d0887\"],[0.1111111111111111,\"#46039f\"],[0.2222222222222222,\"#7201a8\"],[0.3333333333333333,\"#9c179e\"],[0.4444444444444444,\"#bd3786\"],[0.5555555555555556,\"#d8576b\"],[0.6666666666666666,\"#ed7953\"],[0.7777777777777778,\"#fb9f3a\"],[0.8888888888888888,\"#fdca26\"],[1.0,\"#f0f921\"]]}],\"contourcarpet\":[{\"type\":\"contourcarpet\",\"colorbar\":{\"outlinewidth\":0,\"ticks\":\"\"}}],\"contour\":[{\"type\":\"contour\",\"colorbar\":{\"outlinewidth\":0,\"ticks\":\"\"},\"colorscale\":[[0.0,\"#0d0887\"],[0.1111111111111111,\"#46039f\"],[0.2222222222222222,\"#7201a8\"],[0.3333333333333333,\"#9c179e\"],[0.4444444444444444,\"#bd3786\"],[0.5555555555555556,\"#d8576b\"],[0.6666666666666666,\"#ed7953\"],[0.7777777777777778,\"#fb9f3a\"],[0.8888888888888888,\"#fdca26\"],[1.0,\"#f0f921\"]]}],\"surface\":[{\"type\":\"surface\",\"colorbar\":{\"outlinewidth\":0,\"ticks\":\"\"},\"colorscale\":[[0.0,\"#0d0887\"],[0.1111111111111111,\"#46039f\"],[0.2222222222222222,\"#7201a8\"],[0.3333333333333333,\"#9c179e\"],[0.4444444444444444,\"#bd3786\"],[0.5555555555555556,\"#d8576b\"],[0.6666666666666666,\"#ed7953\"],[0.7777777777777778,\"#fb9f3a\"],[0.8888888888888888,\"#fdca26\"],[1.0,\"#f0f921\"]]}],\"mesh3d\":[{\"type\":\"mesh3d\",\"colorbar\":{\"outlinewidth\":0,\"ticks\":\"\"}}],\"scatter\":[{\"fillpattern\":{\"fillmode\":\"overlay\",\"size\":10,\"solidity\":0.2},\"type\":\"scatter\"}],\"parcoords\":[{\"type\":\"parcoords\",\"line\":{\"colorbar\":{\"outlinewidth\":0,\"ticks\":\"\"}}}],\"scatterpolargl\":[{\"type\":\"scatterpolargl\",\"marker\":{\"colorbar\":{\"outlinewidth\":0,\"ticks\":\"\"}}}],\"bar\":[{\"error_x\":{\"color\":\"#2a3f5f\"},\"error_y\":{\"color\":\"#2a3f5f\"},\"marker\":{\"line\":{\"color\":\"#E5ECF6\",\"width\":0.5},\"pattern\":{\"fillmode\":\"overlay\",\"size\":10,\"solidity\":0.2}},\"type\":\"bar\"}],\"scattergeo\":[{\"type\":\"scattergeo\",\"marker\":{\"colorbar\":{\"outlinewidth\":0,\"ticks\":\"\"}}}],\"scatterpolar\":[{\"type\":\"scatterpolar\",\"marker\":{\"colorbar\":{\"outlinewidth\":0,\"ticks\":\"\"}}}],\"histogram\":[{\"marker\":{\"pattern\":{\"fillmode\":\"overlay\",\"size\":10,\"solidity\":0.2}},\"type\":\"histogram\"}],\"scattergl\":[{\"type\":\"scattergl\",\"marker\":{\"colorbar\":{\"outlinewidth\":0,\"ticks\":\"\"}}}],\"scatter3d\":[{\"type\":\"scatter3d\",\"line\":{\"colorbar\":{\"outlinewidth\":0,\"ticks\":\"\"}},\"marker\":{\"colorbar\":{\"outlinewidth\":0,\"ticks\":\"\"}}}],\"scattermapbox\":[{\"type\":\"scattermapbox\",\"marker\":{\"colorbar\":{\"outlinewidth\":0,\"ticks\":\"\"}}}],\"scatterternary\":[{\"type\":\"scatterternary\",\"marker\":{\"colorbar\":{\"outlinewidth\":0,\"ticks\":\"\"}}}],\"scattercarpet\":[{\"type\":\"scattercarpet\",\"marker\":{\"colorbar\":{\"outlinewidth\":0,\"ticks\":\"\"}}}],\"carpet\":[{\"aaxis\":{\"endlinecolor\":\"#2a3f5f\",\"gridcolor\":\"white\",\"linecolor\":\"white\",\"minorgridcolor\":\"white\",\"startlinecolor\":\"#2a3f5f\"},\"baxis\":{\"endlinecolor\":\"#2a3f5f\",\"gridcolor\":\"white\",\"linecolor\":\"white\",\"minorgridcolor\":\"white\",\"startlinecolor\":\"#2a3f5f\"},\"type\":\"carpet\"}],\"table\":[{\"cells\":{\"fill\":{\"color\":\"#EBF0F8\"},\"line\":{\"color\":\"white\"}},\"header\":{\"fill\":{\"color\":\"#C8D4E3\"},\"line\":{\"color\":\"white\"}},\"type\":\"table\"}],\"barpolar\":[{\"marker\":{\"line\":{\"color\":\"#E5ECF6\",\"width\":0.5},\"pattern\":{\"fillmode\":\"overlay\",\"size\":10,\"solidity\":0.2}},\"type\":\"barpolar\"}],\"pie\":[{\"automargin\":true,\"type\":\"pie\"}]},\"layout\":{\"autotypenumbers\":\"strict\",\"colorway\":[\"#636efa\",\"#EF553B\",\"#00cc96\",\"#ab63fa\",\"#FFA15A\",\"#19d3f3\",\"#FF6692\",\"#B6E880\",\"#FF97FF\",\"#FECB52\"],\"font\":{\"color\":\"#2a3f5f\"},\"hovermode\":\"closest\",\"hoverlabel\":{\"align\":\"left\"},\"paper_bgcolor\":\"white\",\"plot_bgcolor\":\"#E5ECF6\",\"polar\":{\"bgcolor\":\"#E5ECF6\",\"angularaxis\":{\"gridcolor\":\"white\",\"linecolor\":\"white\",\"ticks\":\"\"},\"radialaxis\":{\"gridcolor\":\"white\",\"linecolor\":\"white\",\"ticks\":\"\"}},\"ternary\":{\"bgcolor\":\"#E5ECF6\",\"aaxis\":{\"gridcolor\":\"white\",\"linecolor\":\"white\",\"ticks\":\"\"},\"baxis\":{\"gridcolor\":\"white\",\"linecolor\":\"white\",\"ticks\":\"\"},\"caxis\":{\"gridcolor\":\"white\",\"linecolor\":\"white\",\"ticks\":\"\"}},\"coloraxis\":{\"colorbar\":{\"outlinewidth\":0,\"ticks\":\"\"}},\"colorscale\":{\"sequential\":[[0.0,\"#0d0887\"],[0.1111111111111111,\"#46039f\"],[0.2222222222222222,\"#7201a8\"],[0.3333333333333333,\"#9c179e\"],[0.4444444444444444,\"#bd3786\"],[0.5555555555555556,\"#d8576b\"],[0.6666666666666666,\"#ed7953\"],[0.7777777777777778,\"#fb9f3a\"],[0.8888888888888888,\"#fdca26\"],[1.0,\"#f0f921\"]],\"sequentialminus\":[[0.0,\"#0d0887\"],[0.1111111111111111,\"#46039f\"],[0.2222222222222222,\"#7201a8\"],[0.3333333333333333,\"#9c179e\"],[0.4444444444444444,\"#bd3786\"],[0.5555555555555556,\"#d8576b\"],[0.6666666666666666,\"#ed7953\"],[0.7777777777777778,\"#fb9f3a\"],[0.8888888888888888,\"#fdca26\"],[1.0,\"#f0f921\"]],\"diverging\":[[0,\"#8e0152\"],[0.1,\"#c51b7d\"],[0.2,\"#de77ae\"],[0.3,\"#f1b6da\"],[0.4,\"#fde0ef\"],[0.5,\"#f7f7f7\"],[0.6,\"#e6f5d0\"],[0.7,\"#b8e186\"],[0.8,\"#7fbc41\"],[0.9,\"#4d9221\"],[1,\"#276419\"]]},\"xaxis\":{\"gridcolor\":\"white\",\"linecolor\":\"white\",\"ticks\":\"\",\"title\":{\"standoff\":15},\"zerolinecolor\":\"white\",\"automargin\":true,\"zerolinewidth\":2},\"yaxis\":{\"gridcolor\":\"white\",\"linecolor\":\"white\",\"ticks\":\"\",\"title\":{\"standoff\":15},\"zerolinecolor\":\"white\",\"automargin\":true,\"zerolinewidth\":2},\"scene\":{\"xaxis\":{\"backgroundcolor\":\"#E5ECF6\",\"gridcolor\":\"white\",\"linecolor\":\"white\",\"showbackground\":true,\"ticks\":\"\",\"zerolinecolor\":\"white\",\"gridwidth\":2},\"yaxis\":{\"backgroundcolor\":\"#E5ECF6\",\"gridcolor\":\"white\",\"linecolor\":\"white\",\"showbackground\":true,\"ticks\":\"\",\"zerolinecolor\":\"white\",\"gridwidth\":2},\"zaxis\":{\"backgroundcolor\":\"#E5ECF6\",\"gridcolor\":\"white\",\"linecolor\":\"white\",\"showbackground\":true,\"ticks\":\"\",\"zerolinecolor\":\"white\",\"gridwidth\":2}},\"shapedefaults\":{\"line\":{\"color\":\"#2a3f5f\"}},\"annotationdefaults\":{\"arrowcolor\":\"#2a3f5f\",\"arrowhead\":0,\"arrowwidth\":1},\"geo\":{\"bgcolor\":\"white\",\"landcolor\":\"#E5ECF6\",\"subunitcolor\":\"white\",\"showland\":true,\"showlakes\":true,\"lakecolor\":\"white\"},\"title\":{\"x\":0.05},\"mapbox\":{\"style\":\"light\"}}},\"xaxis\":{\"anchor\":\"y\",\"domain\":[0.0,1.0],\"title\":{\"text\":\"release_year\"}},\"yaxis\":{\"anchor\":\"x\",\"domain\":[0.0,1.0],\"title\":{\"text\":\"show_id\"}},\"legend\":{\"tracegroupgap\":0},\"title\":{\"text\":\"Overall content release Trend\"}},                        {\"responsive\": true}                    ).then(function(){\n",
       "                            \n",
       "var gd = document.getElementById('2f8e44d9-50ca-4f29-b839-4e25f3a287b7');\n",
       "var x = new MutationObserver(function (mutations, observer) {{\n",
       "        var display = window.getComputedStyle(gd).display;\n",
       "        if (!display || display === 'none') {{\n",
       "            console.log([gd, 'removed!']);\n",
       "            Plotly.purge(gd);\n",
       "            observer.disconnect();\n",
       "        }}\n",
       "}});\n",
       "\n",
       "// Listen for the removal of the full notebook cells\n",
       "var notebookContainer = gd.closest('#notebook-container');\n",
       "if (notebookContainer) {{\n",
       "    x.observe(notebookContainer, {childList: true});\n",
       "}}\n",
       "\n",
       "// Listen for the clearing of the current output cell\n",
       "var outputEl = gd.closest('.output');\n",
       "if (outputEl) {{\n",
       "    x.observe(outputEl, {childList: true});\n",
       "}}\n",
       "\n",
       "                        })                };                });            </script>        </div>"
      ]
     },
     "metadata": {},
     "output_type": "display_data"
    }
   ],
   "source": [
    "# Another graph using Area chart\n",
    "import plotly.express as px\n",
    "movies_Area = movies.query(\"release_year >= 2002\")\n",
    "movies_Area = movies_Area.groupby(\"release_year\")[\"show_id\"].count().reset_index()\n",
    "\n",
    "fig = px.area(movies_Area, x='release_year', y='show_id', color_discrete_sequence=px.colors.sequential.RdBu,\n",
    "      title='Overall content release Trend')\n",
    "fig.show()"
   ]
  },
  {
   "cell_type": "markdown",
   "metadata": {},
   "source": [
    "# In which month were the most movies and tv shows released? Show it with a graph."
   ]
  },
  {
   "cell_type": "code",
   "execution_count": 116,
   "metadata": {},
   "outputs": [
    {
     "data": {
      "text/plain": [
       "Text(0.5, 1.0, 'Highest month of all time')"
      ]
     },
     "execution_count": 116,
     "metadata": {},
     "output_type": "execute_result"
    },
    {
     "data": {
      "image/png": "[encoded data removed]",
      "text/plain": [
       "<Figure size 432x288 with 1 Axes>"
      ]
     },
     "metadata": {},
     "output_type": "display_data"
    }
   ],
   "source": [
    "movies['month']=movies['date_added'].dt.month\n",
    "sns.countplot(x=movies['month'],order = movies['month'].value_counts().index)\n",
    "plt.title('Highest month of all time')"
   ]
  },
  {
   "cell_type": "markdown",
   "metadata": {},
   "source": [
    "# What about the USA content on netflix? Plot with a graph."
   ]
  },
  {
   "cell_type": "code",
   "execution_count": 117,
   "metadata": {},
   "outputs": [
    {
     "data": {
      "image/png": "[encoded data removed]",
      "text/plain": [
       "<Figure size 864x720 with 1 Axes>"
      ]
     },
     "metadata": {},
     "output_type": "display_data"
    }
   ],
   "source": [
    "movies_usa=movies[movies['country']=='United States']\n",
    "plt.figure(figsize=(12,10))\n",
    "sns.set_style(\"dark\")\n",
    "sns.countplot(data=movies_usa, y=\"release_year\", \n",
    "              order=movies_usa['release_year'].value_counts().index[:20], \n",
    "              palette=\"icefire\")\n",
    "plt.show()"
   ]
  },
  {
   "cell_type": "markdown",
   "metadata": {},
   "source": [
    "# What are the dynamics of content by years?"
   ]
  },
  {
   "cell_type": "code",
   "execution_count": 118,
   "metadata": {},
   "outputs": [
    {
     "data": {
      "application/vnd.plotly.v1+json": {
       "config": {
        "plotlyServerURL": "https://plot.ly"
       },
       "data": [
        {
         "coloraxis": "coloraxis",
         "geo": "geo",
         "hovertemplate": "release_year=1942<br>country=%{location}<br>counts=%{z}<extra></extra>",
         "locationmode": "country names",
         "locations": [
          "United States"
         ],
         "name": "",
         "type": "choropleth",
         "z": [
          2
         ]
        }
       ],
       "frames": [
        {
         "data": [
          {
           "coloraxis": "coloraxis",
           "geo": "geo",
           "hovertemplate": "release_year=1942<br>country=%{location}<br>counts=%{z}<extra></extra>",
           "locationmode": "country names",
           "locations": [
            "United States"
           ],
           "name": "",
           "type": "choropleth",
           "z": [
            2
           ]
          }
         ],
         "name": "1942"
        },
        {
         "data": [
          {
           "coloraxis": "coloraxis",
           "geo": "geo",
           "hovertemplate": "release_year=1943<br>country=%{location}<br>counts=%{z}<extra></extra>",
           "locationmode": "country names",
           "locations": [
            "United States"
           ],
           "name": "",
           "type": "choropleth",
           "z": [
            3
           ]
          }
         ],
         "name": "1943"
        },
        {
         "data": [
          {
           "coloraxis": "coloraxis",
           "geo": "geo",
           "hovertemplate": "release_year=1944<br>country=%{location}<br>counts=%{z}<extra></extra>",
           "locationmode": "country names",
           "locations": [
            "United States",
            "United States, United Kingdom"
           ],
           "name": "",
           "type": "choropleth",
           "z": [
            2,
            1
           ]
          }
         ],
         "name": "1944"
        },
        {
         "data": [
          {
           "coloraxis": "coloraxis",
           "geo": "geo",
           "hovertemplate": "release_year=1945<br>country=%{location}<br>counts=%{z}<extra></extra>",
           "locationmode": "country names",
           "locations": [
            "United States"
           ],
           "name": "",
           "type": "choropleth",
           "z": [
            4
           ]
          }
         ],
         "name": "1945"
        },
        {
         "data": [
          {
           "coloraxis": "coloraxis",
           "geo": "geo",
           "hovertemplate": "release_year=1946<br>country=%{location}<br>counts=%{z}<extra></extra>",
           "locationmode": "country names",
           "locations": [
            "United States"
           ],
           "name": "",
           "type": "choropleth",
           "z": [
            2
           ]
          }
         ],
         "name": "1946"
        },
        {
         "data": [
          {
           "coloraxis": "coloraxis",
           "geo": "geo",
           "hovertemplate": "release_year=1947<br>country=%{location}<br>counts=%{z}<extra></extra>",
           "locationmode": "country names",
           "locations": [
            "United States"
           ],
           "name": "",
           "type": "choropleth",
           "z": [
            1
           ]
          }
         ],
         "name": "1947"
        },
        {
         "data": [
          {
           "coloraxis": "coloraxis",
           "geo": "geo",
           "hovertemplate": "release_year=1954<br>country=%{location}<br>counts=%{z}<extra></extra>",
           "locationmode": "country names",
           "locations": [
            "Egypt",
            "United States"
           ],
           "name": "",
           "type": "choropleth",
           "z": [
            1,
            1
           ]
          }
         ],
         "name": "1954"
        },
        {
         "data": [
          {
           "coloraxis": "coloraxis",
           "geo": "geo",
           "hovertemplate": "release_year=1955<br>country=%{location}<br>counts=%{z}<extra></extra>",
           "locationmode": "country names",
           "locations": [
            "Italy",
            "Italy, France",
            "United States"
           ],
           "name": "",
           "type": "choropleth",
           "z": [
            1,
            1,
            1
           ]
          }
         ],
         "name": "1955"
        },
        {
         "data": [
          {
           "coloraxis": "coloraxis",
           "geo": "geo",
           "hovertemplate": "release_year=1956<br>country=%{location}<br>counts=%{z}<extra></extra>",
           "locationmode": "country names",
           "locations": [
            "Egypt",
            "United States"
           ],
           "name": "",
           "type": "choropleth",
           "z": [
            1,
            1
           ]
          }
         ],
         "name": "1956"
        },
        {
         "data": [
          {
           "coloraxis": "coloraxis",
           "geo": "geo",
           "hovertemplate": "release_year=1958<br>country=%{location}<br>counts=%{z}<extra></extra>",
           "locationmode": "country names",
           "locations": [
            "United States",
            "Egypt"
           ],
           "name": "",
           "type": "choropleth",
           "z": [
            2,
            1
           ]
          }
         ],
         "name": "1958"
        },
        {
         "data": [
          {
           "coloraxis": "coloraxis",
           "geo": "geo",
           "hovertemplate": "release_year=1959<br>country=%{location}<br>counts=%{z}<extra></extra>",
           "locationmode": "country names",
           "locations": [
            "India"
           ],
           "name": "",
           "type": "choropleth",
           "z": [
            1
           ]
          }
         ],
         "name": "1959"
        },
        {
         "data": [
          {
           "coloraxis": "coloraxis",
           "geo": "geo",
           "hovertemplate": "release_year=1960<br>country=%{location}<br>counts=%{z}<extra></extra>",
           "locationmode": "country names",
           "locations": [
            "United States",
            "India, Malaysia"
           ],
           "name": "",
           "type": "choropleth",
           "z": [
            2,
            1
           ]
          }
         ],
         "name": "1960"
        },
        {
         "data": [
          {
           "coloraxis": "coloraxis",
           "geo": "geo",
           "hovertemplate": "release_year=1961<br>country=%{location}<br>counts=%{z}<extra></extra>",
           "locationmode": "country names",
           "locations": [
            "United Kingdom, United States"
           ],
           "name": "",
           "type": "choropleth",
           "z": [
            1
           ]
          }
         ],
         "name": "1961"
        },
        {
         "data": [
          {
           "coloraxis": "coloraxis",
           "geo": "geo",
           "hovertemplate": "release_year=1962<br>country=%{location}<br>counts=%{z}<extra></extra>",
           "locationmode": "country names",
           "locations": [
            "India",
            "United Kingdom, United States",
            "United States"
           ],
           "name": "",
           "type": "choropleth",
           "z": [
            1,
            1,
            1
           ]
          }
         ],
         "name": "1962"
        },
        {
         "data": [
          {
           "coloraxis": "coloraxis",
           "geo": "geo",
           "hovertemplate": "release_year=1963<br>country=%{location}<br>counts=%{z}<extra></extra>",
           "locationmode": "country names",
           "locations": [
            "Egypt",
            "United States"
           ],
           "name": "",
           "type": "choropleth",
           "z": [
            1,
            1
           ]
          }
         ],
         "name": "1963"
        },
        {
         "data": [
          {
           "coloraxis": "coloraxis",
           "geo": "geo",
           "hovertemplate": "release_year=1964<br>country=%{location}<br>counts=%{z}<extra></extra>",
           "locationmode": "country names",
           "locations": [
            "India",
            "United States"
           ],
           "name": "",
           "type": "choropleth",
           "z": [
            1,
            1
           ]
          }
         ],
         "name": "1964"
        },
        {
         "data": [
          {
           "coloraxis": "coloraxis",
           "geo": "geo",
           "hovertemplate": "release_year=1965<br>country=%{location}<br>counts=%{z}<extra></extra>",
           "locationmode": "country names",
           "locations": [
            "United States",
            "United States, Italy, United Kingdom, Liechtenstein"
           ],
           "name": "",
           "type": "choropleth",
           "z": [
            1,
            1
           ]
          }
         ],
         "name": "1965"
        },
        {
         "data": [
          {
           "coloraxis": "coloraxis",
           "geo": "geo",
           "hovertemplate": "release_year=1966<br>country=%{location}<br>counts=%{z}<extra></extra>",
           "locationmode": "country names",
           "locations": [
            "India"
           ],
           "name": "",
           "type": "choropleth",
           "z": [
            1
           ]
          }
         ],
         "name": "1966"
        },
        {
         "data": [
          {
           "coloraxis": "coloraxis",
           "geo": "geo",
           "hovertemplate": "release_year=1967<br>country=%{location}<br>counts=%{z}<extra></extra>",
           "locationmode": "country names",
           "locations": [
            "United States",
            "Poland"
           ],
           "name": "",
           "type": "choropleth",
           "z": [
            4,
            1
           ]
          }
         ],
         "name": "1967"
        },
        {
         "data": [
          {
           "coloraxis": "coloraxis",
           "geo": "geo",
           "hovertemplate": "release_year=1968<br>country=%{location}<br>counts=%{z}<extra></extra>",
           "locationmode": "country names",
           "locations": [
            "Italy, United States",
            "United Kingdom, United States",
            "United States"
           ],
           "name": "",
           "type": "choropleth",
           "z": [
            1,
            1,
            1
           ]
          }
         ],
         "name": "1968"
        },
        {
         "data": [
          {
           "coloraxis": "coloraxis",
           "geo": "geo",
           "hovertemplate": "release_year=1969<br>country=%{location}<br>counts=%{z}<extra></extra>",
           "locationmode": "country names",
           "locations": [
            "India",
            "United States"
           ],
           "name": "",
           "type": "choropleth",
           "z": [
            1,
            1
           ]
          }
         ],
         "name": "1969"
        },
        {
         "data": [
          {
           "coloraxis": "coloraxis",
           "geo": "geo",
           "hovertemplate": "release_year=1970<br>country=%{location}<br>counts=%{z}<extra></extra>",
           "locationmode": "country names",
           "locations": [
            "Egypt",
            "Poland"
           ],
           "name": "",
           "type": "choropleth",
           "z": [
            1,
            1
           ]
          }
         ],
         "name": "1970"
        },
        {
         "data": [
          {
           "coloraxis": "coloraxis",
           "geo": "geo",
           "hovertemplate": "release_year=1971<br>country=%{location}<br>counts=%{z}<extra></extra>",
           "locationmode": "country names",
           "locations": [
            "India",
            "United Kingdom, United States",
            "United States",
            "United States, East Germany, West Germany"
           ],
           "name": "",
           "type": "choropleth",
           "z": [
            2,
            1,
            1,
            1
           ]
          }
         ],
         "name": "1971"
        },
        {
         "data": [
          {
           "coloraxis": "coloraxis",
           "geo": "geo",
           "hovertemplate": "release_year=1972<br>country=%{location}<br>counts=%{z}<extra></extra>",
           "locationmode": "country names",
           "locations": [
            "India",
            "United States",
            "United Kingdom, West Germany"
           ],
           "name": "",
           "type": "choropleth",
           "z": [
            2,
            2,
            1
           ]
          }
         ],
         "name": "1972"
        },
        {
         "data": [
          {
           "coloraxis": "coloraxis",
           "geo": "geo",
           "hovertemplate": "release_year=1973<br>country=%{location}<br>counts=%{z}<extra></extra>",
           "locationmode": "country names",
           "locations": [
            "United States",
            "India",
            "Egypt",
            "Hong Kong",
            "Hong Kong, United States",
            "Poland"
           ],
           "name": "",
           "type": "choropleth",
           "z": [
            4,
            2,
            1,
            1,
            1,
            1
           ]
          }
         ],
         "name": "1973"
        },
        {
         "data": [
          {
           "coloraxis": "coloraxis",
           "geo": "geo",
           "hovertemplate": "release_year=1974<br>country=%{location}<br>counts=%{z}<extra></extra>",
           "locationmode": "country names",
           "locations": [
            "United States",
            "India",
            "France",
            "United Kingdom"
           ],
           "name": "",
           "type": "choropleth",
           "z": [
            3,
            2,
            1,
            1
           ]
          }
         ],
         "name": "1974"
        },
        {
         "data": [
          {
           "coloraxis": "coloraxis",
           "geo": "geo",
           "hovertemplate": "release_year=1975<br>country=%{location}<br>counts=%{z}<extra></extra>",
           "locationmode": "country names",
           "locations": [
            "India",
            "Hong Kong",
            "Lebanon",
            "Poland,",
            "United Kingdom",
            "United States"
           ],
           "name": "",
           "type": "choropleth",
           "z": [
            2,
            1,
            1,
            1,
            1,
            1
           ]
          }
         ],
         "name": "1975"
        },
        {
         "data": [
          {
           "coloraxis": "coloraxis",
           "geo": "geo",
           "hovertemplate": "release_year=1976<br>country=%{location}<br>counts=%{z}<extra></extra>",
           "locationmode": "country names",
           "locations": [
            "United States",
            "Egypt",
            "India"
           ],
           "name": "",
           "type": "choropleth",
           "z": [
            5,
            2,
            2
           ]
          }
         ],
         "name": "1976"
        },
        {
         "data": [
          {
           "coloraxis": "coloraxis",
           "geo": "geo",
           "hovertemplate": "release_year=1977<br>country=%{location}<br>counts=%{z}<extra></extra>",
           "locationmode": "country names",
           "locations": [
            "India",
            "United States",
            "United Kingdom",
            "United States, United Kingdom",
            "West Germany"
           ],
           "name": "",
           "type": "choropleth",
           "z": [
            2,
            2,
            1,
            1,
            1
           ]
          }
         ],
         "name": "1977"
        },
        {
         "data": [
          {
           "coloraxis": "coloraxis",
           "geo": "geo",
           "hovertemplate": "release_year=1978<br>country=%{location}<br>counts=%{z}<extra></extra>",
           "locationmode": "country names",
           "locations": [
            "United States",
            "Hong Kong",
            "India",
            "Poland"
           ],
           "name": "",
           "type": "choropleth",
           "z": [
            3,
            2,
            1,
            1
           ]
          }
         ],
         "name": "1978"
        },
        {
         "data": [
          {
           "coloraxis": "coloraxis",
           "geo": "geo",
           "hovertemplate": "release_year=1979<br>country=%{location}<br>counts=%{z}<extra></extra>",
           "locationmode": "country names",
           "locations": [
            "India",
            "United States",
            "Australia, United States",
            "Egypt",
            "Egypt, Algeria",
            "Japan",
            "Lebanon, Canada, France",
            "Mexico",
            "United Kingdom"
           ],
           "name": "",
           "type": "choropleth",
           "z": [
            2,
            2,
            1,
            1,
            1,
            1,
            1,
            1,
            1
           ]
          }
         ],
         "name": "1979"
        },
        {
         "data": [
          {
           "coloraxis": "coloraxis",
           "geo": "geo",
           "hovertemplate": "release_year=1980<br>country=%{location}<br>counts=%{z}<extra></extra>",
           "locationmode": "country names",
           "locations": [
            "United States",
            "Hong Kong",
            "India",
            "Lebanon, Canada, France",
            "Soviet Union, India"
           ],
           "name": "",
           "type": "choropleth",
           "z": [
            5,
            2,
            2,
            1,
            1
           ]
          }
         ],
         "name": "1980"
        },
        {
         "data": [
          {
           "coloraxis": "coloraxis",
           "geo": "geo",
           "hovertemplate": "release_year=1981<br>country=%{location}<br>counts=%{z}<extra></extra>",
           "locationmode": "country names",
           "locations": [
            "United States",
            "Australia",
            "Egypt",
            "Hong Kong",
            "India",
            "Japan",
            "Kuwait"
           ],
           "name": "",
           "type": "choropleth",
           "z": [
            5,
            1,
            1,
            1,
            1,
            1,
            1
           ]
          }
         ],
         "name": "1981"
        },
        {
         "data": [
          {
           "coloraxis": "coloraxis",
           "geo": "geo",
           "hovertemplate": "release_year=1982<br>country=%{location}<br>counts=%{z}<extra></extra>",
           "locationmode": "country names",
           "locations": [
            "India",
            "Hong Kong",
            "United States",
            "Egypt",
            "France, Lebanon",
            "Poland",
            "United Kingdom",
            "United States, United Kingdom"
           ],
           "name": "",
           "type": "choropleth",
           "z": [
            6,
            2,
            2,
            1,
            1,
            1,
            1,
            1
           ]
          }
         ],
         "name": "1982"
        },
        {
         "data": [
          {
           "coloraxis": "coloraxis",
           "geo": "geo",
           "hovertemplate": "release_year=1983<br>country=%{location}<br>counts=%{z}<extra></extra>",
           "locationmode": "country names",
           "locations": [
            "India",
            "Hong Kong",
            "United States",
            "Poland"
           ],
           "name": "",
           "type": "choropleth",
           "z": [
            4,
            3,
            2,
            1
           ]
          }
         ],
         "name": "1983"
        },
        {
         "data": [
          {
           "coloraxis": "coloraxis",
           "geo": "geo",
           "hovertemplate": "release_year=1984<br>country=%{location}<br>counts=%{z}<extra></extra>",
           "locationmode": "country names",
           "locations": [
            "United States",
            "Hong Kong",
            "India",
            "India, Soviet Union",
            "Italy, United States"
           ],
           "name": "",
           "type": "choropleth",
           "z": [
            5,
            3,
            1,
            1,
            1
           ]
          }
         ],
         "name": "1984"
        },
        {
         "data": [
          {
           "coloraxis": "coloraxis",
           "geo": "geo",
           "hovertemplate": "release_year=1985<br>country=%{location}<br>counts=%{z}<extra></extra>",
           "locationmode": "country names",
           "locations": [
            "Argentina",
            "Hong Kong",
            "India",
            "Poland, West Germany",
            "United States",
            "United States, Japan"
           ],
           "name": "",
           "type": "choropleth",
           "z": [
            2,
            2,
            2,
            1,
            1,
            1
           ]
          }
         ],
         "name": "1985"
        },
        {
         "data": [
          {
           "coloraxis": "coloraxis",
           "geo": "geo",
           "hovertemplate": "release_year=1986<br>country=%{location}<br>counts=%{z}<extra></extra>",
           "locationmode": "country names",
           "locations": [
            "United States",
            "India",
            "Hong Kong, China",
            "Italy, South Africa, West Germany, Australia, United States",
            "Japan",
            "United Kingdom, United States",
            "United States, United Kingdom"
           ],
           "name": "",
           "type": "choropleth",
           "z": [
            6,
            2,
            1,
            1,
            1,
            1,
            1
           ]
          }
         ],
         "name": "1986"
        },
        {
         "data": [
          {
           "coloraxis": "coloraxis",
           "geo": "geo",
           "hovertemplate": "release_year=1987<br>country=%{location}<br>counts=%{z}<extra></extra>",
           "locationmode": "country names",
           "locations": [
            "United States",
            "India"
           ],
           "name": "",
           "type": "choropleth",
           "z": [
            7,
            1
           ]
          }
         ],
         "name": "1987"
        },
        {
         "data": [
          {
           "coloraxis": "coloraxis",
           "geo": "geo",
           "hovertemplate": "release_year=1988<br>country=%{location}<br>counts=%{z}<extra></extra>",
           "locationmode": "country names",
           "locations": [
            "United States",
            "India",
            "Hong Kong"
           ],
           "name": "",
           "type": "choropleth",
           "z": [
            14,
            2,
            1
           ]
          }
         ],
         "name": "1988"
        },
        {
         "data": [
          {
           "coloraxis": "coloraxis",
           "geo": "geo",
           "hovertemplate": "release_year=1989<br>country=%{location}<br>counts=%{z}<extra></extra>",
           "locationmode": "country names",
           "locations": [
            "United States",
            "India",
            "Denmark, France, Poland",
            "France, Egypt",
            "Hong Kong",
            "Ireland, United Kingdom, United States",
            "United Kingdom",
            "United States, Canada"
           ],
           "name": "",
           "type": "choropleth",
           "z": [
            8,
            2,
            1,
            1,
            1,
            1,
            1,
            1
           ]
          }
         ],
         "name": "1989"
        },
        {
         "data": [
          {
           "coloraxis": "coloraxis",
           "geo": "geo",
           "hovertemplate": "release_year=1990<br>country=%{location}<br>counts=%{z}<extra></extra>",
           "locationmode": "country names",
           "locations": [
            "United States",
            "India",
            "Australia, United States",
            "Hong Kong",
            "Poland",
            "United States, Mexico",
            "United States, United Kingdom"
           ],
           "name": "",
           "type": "choropleth",
           "z": [
            11,
            4,
            1,
            1,
            1,
            1,
            1
           ]
          }
         ],
         "name": "1990"
        },
        {
         "data": [
          {
           "coloraxis": "coloraxis",
           "geo": "geo",
           "hovertemplate": "release_year=1991<br>country=%{location}<br>counts=%{z}<extra></extra>",
           "locationmode": "country names",
           "locations": [
            "United States",
            "France, Belgium, Italy",
            "India, Soviet Union",
            "Mexico",
            "United Kingdom",
            "United Kingdom, United States",
            "United States, Hong Kong"
           ],
           "name": "",
           "type": "choropleth",
           "z": [
            9,
            1,
            1,
            1,
            1,
            1,
            1
           ]
          }
         ],
         "name": "1991"
        },
        {
         "data": [
          {
           "coloraxis": "coloraxis",
           "geo": "geo",
           "hovertemplate": "release_year=1992<br>country=%{location}<br>counts=%{z}<extra></extra>",
           "locationmode": "country names",
           "locations": [
            "United States",
            "Hong Kong",
            "United Kingdom",
            "United Kingdom, Japan, United States",
            "Australia",
            "Australia, United Kingdom",
            "France, United States",
            "India",
            "Mexico",
            "United States, France",
            "United States, United Kingdom"
           ],
           "name": "",
           "type": "choropleth",
           "z": [
            8,
            3,
            2,
            2,
            1,
            1,
            1,
            1,
            1,
            1,
            1
           ]
          }
         ],
         "name": "1992"
        },
        {
         "data": [
          {
           "coloraxis": "coloraxis",
           "geo": "geo",
           "hovertemplate": "release_year=1993<br>country=%{location}<br>counts=%{z}<extra></extra>",
           "locationmode": "country names",
           "locations": [
            "United States",
            "India",
            "Hong Kong",
            "Argentina, Spain",
            "France, United Kingdom, India",
            "New Zealand, Australia, France, United States",
            "United Kingdom",
            "United Kingdom, United States",
            "United States, Canada",
            "United States, France, Mexico",
            "United States, Ghana, Burkina Faso, United Kingdom, Germany, Ethiopia",
            "United States, Italy, France, Japan"
           ],
           "name": "",
           "type": "choropleth",
           "z": [
            13,
            3,
            2,
            1,
            1,
            1,
            1,
            1,
            1,
            1,
            1,
            1
           ]
          }
         ],
         "name": "1993"
        },
        {
         "data": [
          {
           "coloraxis": "coloraxis",
           "geo": "geo",
           "hovertemplate": "release_year=1994<br>country=%{location}<br>counts=%{z}<extra></extra>",
           "locationmode": "country names",
           "locations": [
            "United States",
            "India",
            "United Kingdom",
            "Egypt, France",
            "Hong Kong",
            "United States, France",
            "United States, Mexico"
           ],
           "name": "",
           "type": "choropleth",
           "z": [
            9,
            5,
            3,
            1,
            1,
            1,
            1
           ]
          }
         ],
         "name": "1994"
        },
        {
         "data": [
          {
           "coloraxis": "coloraxis",
           "geo": "geo",
           "hovertemplate": "release_year=1995<br>country=%{location}<br>counts=%{z}<extra></extra>",
           "locationmode": "country names",
           "locations": [
            "United States",
            "India",
            "Hong Kong",
            "Japan",
            "United Kingdom, United States"
           ],
           "name": "",
           "type": "choropleth",
           "z": [
            15,
            5,
            2,
            1,
            1
           ]
          }
         ],
         "name": "1995"
        },
        {
         "data": [
          {
           "coloraxis": "coloraxis",
           "geo": "geo",
           "hovertemplate": "release_year=1996<br>country=%{location}<br>counts=%{z}<extra></extra>",
           "locationmode": "country names",
           "locations": [
            "United States",
            "India",
            "United Kingdom",
            "United States, France, Japan"
           ],
           "name": "",
           "type": "choropleth",
           "z": [
            16,
            3,
            1,
            1
           ]
          }
         ],
         "name": "1996"
        },
        {
         "data": [
          {
           "coloraxis": "coloraxis",
           "geo": "geo",
           "hovertemplate": "release_year=1997<br>country=%{location}<br>counts=%{z}<extra></extra>",
           "locationmode": "country names",
           "locations": [
            "United States",
            "Canada, United States",
            "India",
            "United Kingdom, United States",
            "United States, France, Japan",
            "United States, Germany",
            "France, Egypt",
            "Hong Kong",
            "Hong Kong, China",
            "Japan"
           ],
           "name": "",
           "type": "choropleth",
           "z": [
            20,
            3,
            3,
            3,
            2,
            2,
            1,
            1,
            1,
            1
           ]
          }
         ],
         "name": "1997"
        },
        {
         "data": [
          {
           "coloraxis": "coloraxis",
           "geo": "geo",
           "hovertemplate": "release_year=1998<br>country=%{location}<br>counts=%{z}<extra></extra>",
           "locationmode": "country names",
           "locations": [
            "United States",
            "India",
            "Canada",
            "Japan",
            "United Kingdom",
            "Argentina",
            "Australia",
            "Ireland, United Kingdom, France, Germany",
            "United States, France, Japan",
            "United States, Germany, Mexico",
            "United States, New Zealand"
           ],
           "name": "",
           "type": "choropleth",
           "z": [
            18,
            6,
            2,
            2,
            2,
            1,
            1,
            1,
            1,
            1,
            1
           ]
          }
         ],
         "name": "1998"
        },
        {
         "data": [
          {
           "coloraxis": "coloraxis",
           "geo": "geo",
           "hovertemplate": "release_year=1999<br>country=%{location}<br>counts=%{z}<extra></extra>",
           "locationmode": "country names",
           "locations": [
            "United States",
            "India",
            "Germany, United States",
            "United Kingdom",
            "Australia",
            "France, Egypt",
            "France, Norway, Lebanon, Belgium",
            "Japan",
            "Mexico",
            "Thailand",
            "Turkey",
            "United Kingdom, United States",
            "United States, France, Japan",
            "United States, Germany, Canada",
            "United States, Mexico"
           ],
           "name": "",
           "type": "choropleth",
           "z": [
            17,
            6,
            2,
            2,
            1,
            1,
            1,
            1,
            1,
            1,
            1,
            1,
            1,
            1,
            1
           ]
          }
         ],
         "name": "1999"
        },
        {
         "data": [
          {
           "coloraxis": "coloraxis",
           "geo": "geo",
           "hovertemplate": "release_year=2000<br>country=%{location}<br>counts=%{z}<extra></extra>",
           "locationmode": "country names",
           "locations": [
            "United States",
            "India",
            "United States, Canada",
            "France, Japan, United States",
            "Germany, United States",
            "Germany, United States, United Kingdom, Canada",
            "Japan",
            "Taiwan, Hong Kong, United States, China",
            "United Kingdom",
            "United Kingdom, France",
            "United States, France, United Kingdom",
            "United States, Germany"
           ],
           "name": "",
           "type": "choropleth",
           "z": [
            18,
            7,
            2,
            1,
            1,
            1,
            1,
            1,
            1,
            1,
            1,
            1
           ]
          }
         ],
         "name": "2000"
        },
        {
         "data": [
          {
           "coloraxis": "coloraxis",
           "geo": "geo",
           "hovertemplate": "release_year=2001<br>country=%{location}<br>counts=%{z}<extra></extra>",
           "locationmode": "country names",
           "locations": [
            "United States",
            "India",
            "Japan",
            "United Kingdom",
            "Australia, United States",
            "Germany, Canada, United States",
            "Hong Kong",
            "India, United Kingdom",
            "Mexico",
            "Turkey",
            "United States, Germany, Canada",
            "United States, Spain",
            "United States, United Kingdom",
            "United States, United Kingdom, Italy"
           ],
           "name": "",
           "type": "choropleth",
           "z": [
            23,
            7,
            2,
            2,
            1,
            1,
            1,
            1,
            1,
            1,
            1,
            1,
            1,
            1
           ]
          }
         ],
         "name": "2001"
        },
        {
         "data": [
          {
           "coloraxis": "coloraxis",
           "geo": "geo",
           "hovertemplate": "release_year=2002<br>country=%{location}<br>counts=%{z}<extra></extra>",
           "locationmode": "country names",
           "locations": [
            "United States",
            "India",
            "Japan",
            "Taiwan",
            "Brazil, France, Germany",
            "France",
            "France, United States",
            "Hong Kong",
            "Indonesia",
            "New Zealand, United States",
            "South Africa, United States",
            "Thailand",
            "United Kingdom",
            "United Kingdom, France, Poland, Germany, United States",
            "United Kingdom, Germany, Canada, United States",
            "United Kingdom, United States",
            "United Kingdom, United States, France, Germany",
            "United States, Canada",
            "United States, Germany",
            "United States, Germany, Canada",
            "United States, Italy",
            "United States, Netherlands, Japan, France",
            "United States, United Arab Emirates"
           ],
           "name": "",
           "type": "choropleth",
           "z": [
            16,
            10,
            3,
            2,
            1,
            1,
            1,
            1,
            1,
            1,
            1,
            1,
            1,
            1,
            1,
            1,
            1,
            1,
            1,
            1,
            1,
            1,
            1
           ]
          }
         ],
         "name": "2002"
        },
        {
         "data": [
          {
           "coloraxis": "coloraxis",
           "geo": "geo",
           "hovertemplate": "release_year=2003<br>country=%{location}<br>counts=%{z}<extra></extra>",
           "locationmode": "country names",
           "locations": [
            "United States",
            "India",
            "Japan",
            "United States, Australia",
            "Colombia, United States",
            "India, France",
            "Indonesia",
            "Lebanon, France",
            "Malaysia",
            "New Zealand, United States",
            "Nigeria",
            "Taiwan",
            "United Kingdom, Australia, France, United States",
            "United Kingdom, Germany, Spain, United States",
            "United States, Canada",
            "United States, France, Canada, Spain",
            "United States, Germany",
            "United States, Germany, United Kingdom",
            "United States, Italy, Romania, United Kingdom",
            "United States, Japan",
            "United States, New Zealand",
            "United States, United Kingdom",
            "United States, United Kingdom, Germany, Hungary"
           ],
           "name": "",
           "type": "choropleth",
           "z": [
            22,
            12,
            4,
            2,
            1,
            1,
            1,
            1,
            1,
            1,
            1,
            1,
            1,
            1,
            1,
            1,
            1,
            1,
            1,
            1,
            1,
            1,
            1
           ]
          }
         ],
         "name": "2003"
        },
        {
         "data": [
          {
           "coloraxis": "coloraxis",
           "geo": "geo",
           "hovertemplate": "release_year=2004<br>country=%{location}<br>counts=%{z}<extra></extra>",
           "locationmode": "country names",
           "locations": [
            "United States",
            "India",
            "Japan",
            "Egypt",
            "Mexico",
            "Taiwan",
            "Turkey",
            "United Kingdom",
            "United States, Germany",
            "Argentina",
            "Canada",
            "Canada, United States",
            "France",
            "Hong Kong, China",
            "Hong Kong, China, United States",
            "Malaysia",
            "South Korea",
            "Spain, France, United Kingdom, United States",
            "Thailand",
            "United Kingdom, United States",
            "United States, Canada",
            "United States, Canada, Germany",
            "United States, Czech Republic",
            "Uruguay, Argentina, Germany, Spain"
           ],
           "name": "",
           "type": "choropleth",
           "z": [
            17,
            15,
            3,
            2,
            2,
            2,
            2,
            2,
            2,
            1,
            1,
            1,
            1,
            1,
            1,
            1,
            1,
            1,
            1,
            1,
            1,
            1,
            1,
            1
           ]
          }
         ],
         "name": "2004"
        },
        {
         "data": [
          {
           "coloraxis": "coloraxis",
           "geo": "geo",
           "hovertemplate": "release_year=2005<br>country=%{location}<br>counts=%{z}<extra></extra>",
           "locationmode": "country names",
           "locations": [
            "United States",
            "India",
            "Turkey",
            "Japan",
            "Taiwan",
            "United States, Germany",
            "United States, United Kingdom",
            "Australia",
            "China, Hong Kong",
            "Egypt",
            "France, Japan, United States",
            "Germany, United States",
            "Germany, United States, Canada",
            "Indonesia",
            "Lebanon",
            "Romania",
            "Sweden, Czech Republic, United Kingdom, Denmark, Netherlands",
            "Thailand",
            "United Kingdom",
            "United Kingdom, Czech Republic, Germany, United States",
            "United Kingdom, France, Germany, United States",
            "United Kingdom, United States",
            "United Kingdom, United States, Japan",
            "United States, Australia",
            "United States, Canada",
            "United States, Czech Republic, United Kingdom",
            "United States, France, United Kingdom, Japan",
            "United States, Germany, Australia",
            "United States, New Zealand",
            "United States, United Kingdom, Germany"
           ],
           "name": "",
           "type": "choropleth",
           "z": [
            25,
            20,
            3,
            2,
            2,
            2,
            2,
            1,
            1,
            1,
            1,
            1,
            1,
            1,
            1,
            1,
            1,
            1,
            1,
            1,
            1,
            1,
            1,
            1,
            1,
            1,
            1,
            1,
            1,
            1
           ]
          }
         ],
         "name": "2005"
        },
        {
         "data": [
          {
           "coloraxis": "coloraxis",
           "geo": "geo",
           "hovertemplate": "release_year=2006<br>country=%{location}<br>counts=%{z}<extra></extra>",
           "locationmode": "country names",
           "locations": [
            "United States",
            "India",
            "Egypt",
            "Japan",
            "United States, Germany",
            "Canada",
            "Turkey",
            "United Kingdom",
            "United Kingdom, United States",
            "Argentina",
            "Argentina, Chile",
            "Argentina, Spain",
            "Australia, United States",
            "Canada, United States",
            "France, United States, Mexico",
            "Germany",
            "Hong Kong, China",
            "Malaysia",
            "Mexico, Spain",
            "Netherlands",
            "Philippines",
            "Saudi Arabia, United Arab Emirates",
            "United Kingdom, Czech Republic, United States, Germany, Bahamas",
            "United Kingdom, Thailand",
            "United Kingdom, United States, France, Italy",
            "United States, Canada",
            "United States, Czech Republic",
            "United States, Hong Kong",
            "United States, Malta, France, United Kingdom",
            "United States, Mexico",
            "United States, United Kingdom"
           ],
           "name": "",
           "type": "choropleth",
           "z": [
            32,
            20,
            5,
            5,
            3,
            2,
            2,
            2,
            2,
            1,
            1,
            1,
            1,
            1,
            1,
            1,
            1,
            1,
            1,
            1,
            1,
            1,
            1,
            1,
            1,
            1,
            1,
            1,
            1,
            1,
            1
           ]
          }
         ],
         "name": "2006"
        },
        {
         "data": [
          {
           "coloraxis": "coloraxis",
           "geo": "geo",
           "hovertemplate": "release_year=2007<br>country=%{location}<br>counts=%{z}<extra></extra>",
           "locationmode": "country names",
           "locations": [
            "United States",
            "India",
            "United States, United Kingdom",
            "United States, Canada",
            "Canada",
            "Egypt",
            "Japan",
            "Thailand",
            "Argentina",
            "Australia",
            "Colombia",
            "Denmark",
            "France, Belgium",
            "France, Lebanon, United Kingdom",
            "Germany",
            "Germany, United States",
            "Hong Kong, China",
            "Hong Kong, Taiwan",
            "Hong Kong, United States",
            "Mexico",
            "New Zealand, United Kingdom, Australia",
            "Norway",
            "Philippines",
            "United Kingdom, India",
            "United Kingdom, Ireland",
            "United Kingdom, United States",
            "United States, Australia",
            "United States, Germany",
            "United States, New Zealand, Japan",
            "United States, United Kingdom, Canada",
            "Venezuela, Colombia"
           ],
           "name": "",
           "type": "choropleth",
           "z": [
            33,
            16,
            4,
            3,
            2,
            2,
            2,
            2,
            1,
            1,
            1,
            1,
            1,
            1,
            1,
            1,
            1,
            1,
            1,
            1,
            1,
            1,
            1,
            1,
            1,
            1,
            1,
            1,
            1,
            1,
            1
           ]
          }
         ],
         "name": "2007"
        },
        {
         "data": [
          {
           "coloraxis": "coloraxis",
           "geo": "geo",
           "hovertemplate": "release_year=2008<br>country=%{location}<br>counts=%{z}<extra></extra>",
           "locationmode": "country names",
           "locations": [
            "United States",
            "India",
            "Japan",
            "United Kingdom",
            "Egypt",
            "Indonesia",
            "Philippines",
            "China",
            "Germany, United States",
            "United Kingdom, United States",
            "United States, Canada",
            "United States, China",
            "United States, France",
            "United States, United Kingdom",
            "Canada",
            "Canada, United States",
            "Chile, Brazil",
            "Colombia",
            "Colombia, Mexico, United States",
            "France",
            "Germany",
            "Germany, United Kingdom, United States",
            "Hong Kong",
            "Hong Kong, China",
            "India, United States",
            "Saudi Arabia",
            "Spain",
            "Taiwan",
            "Thailand",
            "United Kingdom, Germany, United States",
            "United Kingdom, United States, Australia",
            "United States, Australia",
            "United States, South Africa",
            "United States, South Korea",
            "United States, United Kingdom, France"
           ],
           "name": "",
           "type": "choropleth",
           "z": [
            45,
            25,
            10,
            6,
            5,
            3,
            3,
            2,
            2,
            2,
            2,
            2,
            2,
            2,
            1,
            1,
            1,
            1,
            1,
            1,
            1,
            1,
            1,
            1,
            1,
            1,
            1,
            1,
            1,
            1,
            1,
            1,
            1,
            1,
            1
           ]
          }
         ],
         "name": "2008"
        },
        {
         "data": [
          {
           "coloraxis": "coloraxis",
           "geo": "geo",
           "hovertemplate": "release_year=2009<br>country=%{location}<br>counts=%{z}<extra></extra>",
           "locationmode": "country names",
           "locations": [
            "United States",
            "India",
            "Taiwan",
            "Egypt",
            "Japan",
            "United States, United Kingdom",
            "Hong Kong",
            "Indonesia",
            "Singapore",
            "South Korea",
            "Canada",
            "Germany, United States",
            "Thailand",
            "Turkey",
            "United Kingdom",
            "United Kingdom, United States",
            "United States, Canada",
            "United States, Germany",
            "United States, United Kingdom, France",
            "Australia",
            "Canada, United States",
            "Czech Republic, United Kingdom, France",
            "France",
            "France, Switzerland, Spain, United States, United Arab Emirates",
            "Germany, United States, France",
            "Malaysia",
            "Nigeria",
            "Philippines",
            "South Africa, United States, New Zealand, Canada",
            "South Korea, United States",
            "Spain, United Kingdom, United States",
            "United Kingdom, Australia, France",
            "United Kingdom, Canada",
            "United Kingdom, Canada, France, United States",
            "United States, Canada, France",
            "United States, Germany, United Kingdom, Australia",
            "United States, Germany, United Kingdom, Italy",
            "United States, Italy",
            "United States, Japan",
            "United States, New Zealand",
            "United States, United Arab Emirates",
            "United States, United Kingdom, Australia",
            "United States, United Kingdom, New Zealand"
           ],
           "name": "",
           "type": "choropleth",
           "z": [
            42,
            28,
            6,
            4,
            4,
            4,
            3,
            3,
            3,
            3,
            2,
            2,
            2,
            2,
            2,
            2,
            2,
            2,
            2,
            1,
            1,
            1,
            1,
            1,
            1,
            1,
            1,
            1,
            1,
            1,
            1,
            1,
            1,
            1,
            1,
            1,
            1,
            1,
            1,
            1,
            1,
            1,
            1
           ]
          }
         ],
         "name": "2009"
        },
        {
         "data": [
          {
           "coloraxis": "coloraxis",
           "geo": "geo",
           "hovertemplate": "release_year=2010<br>country=%{location}<br>counts=%{z}<extra></extra>",
           "locationmode": "country names",
           "locations": [
            "United States",
            "India",
            "Japan",
            "Egypt",
            "Turkey",
            "United Kingdom",
            "Canada",
            "Thailand",
            "United States, Canada",
            "Hong Kong",
            "United States, France",
            "China",
            "Lebanon",
            "Mexico",
            "South Korea",
            "United States, Australia",
            "United States, United Kingdom",
            "Australia, France, Ireland",
            "Canada, Nigeria",
            "Canada, United States, India, United Kingdom",
            "Colombia",
            "France",
            "France, United Kingdom, United States",
            "France, United States",
            "Germany, France, United States, Canada, United Kingdom",
            "Germany, Sri Lanka",
            "Hong Kong, China",
            "Hong Kong, China, Singapore",
            "India, Australia",
            "India, Germany, France",
            "India, Japan",
            "India, Pakistan",
            "India, United States",
            "Ireland, Canada, United States, United Kingdom",
            "Japan, United States",
            "Mexico, United States",
            "Nigeria",
            "Philippines",
            "Romania, France, Switzerland, Germany",
            "South Africa",
            "Spain, Mexico, France",
            "Taiwan",
            "Turkey, United States",
            "United Kingdom, Australia, Canada, United States",
            "United Kingdom, France, Spain, United States",
            "United Kingdom, France, United States",
            "United Kingdom, United States, Australia",
            "United States, Australia, Mexico",
            "United States, France, Italy, United Kingdom",
            "United States, Ireland",
            "United States, Japan",
            "United States, Nigeria",
            "United States, United Kingdom, Australia",
            "United States, United Kingdom, Canada, Japan"
           ],
           "name": "",
           "type": "choropleth",
           "z": [
            54,
            35,
            7,
            5,
            5,
            5,
            4,
            4,
            4,
            3,
            3,
            2,
            2,
            2,
            2,
            2,
            2,
            1,
            1,
            1,
            1,
            1,
            1,
            1,
            1,
            1,
            1,
            1,
            1,
            1,
            1,
            1,
            1,
            1,
            1,
            1,
            1,
            1,
            1,
            1,
            1,
            1,
            1,
            1,
            1,
            1,
            1,
            1,
            1,
            1,
            1,
            1,
            1,
            1
           ]
          }
         ],
         "name": "2010"
        },
        {
         "data": [
          {
           "coloraxis": "coloraxis",
           "geo": "geo",
           "hovertemplate": "release_year=2011<br>country=%{location}<br>counts=%{z}<extra></extra>",
           "locationmode": "country names",
           "locations": [
            "United States",
            "India",
            "United Kingdom",
            "Egypt",
            "Japan",
            "United States, Canada",
            "Indonesia",
            "Singapore",
            "Taiwan",
            "Thailand",
            "Canada",
            "Turkey",
            "United Kingdom, United States, Spain, Germany, Greece, Canada",
            "France",
            "United Kingdom, United States",
            "United States, India",
            "United States, United Kingdom",
            "Australia",
            "Canada, United States, United Kingdom, France, Luxembourg",
            "China",
            "China, Hong Kong",
            "France, Belgium",
            "France, Belgium, United States",
            "Hong Kong",
            "Hong Kong, China",
            "India, Germany",
            "Iran, France",
            "Ireland, United States",
            "Italy, Canada, France",
            "Malaysia",
            "Pakistan",
            "Philippines",
            "South Korea",
            "United Kingdom, France",
            "United Kingdom, Germany, France, United States",
            "United Kingdom, Nigeria",
            "United Kingdom, United States, France",
            "United States, Belgium, Canada, France",
            "United States, China",
            "United States, France, Japan",
            "United States, Germany",
            "United States, Italy",
            "United States, Japan",
            "United States, New Zealand, United Kingdom",
            "United States, Russia",
            "United States, Sweden, Norway"
           ],
           "name": "",
           "type": "choropleth",
           "z": [
            56,
            30,
            9,
            8,
            8,
            6,
            4,
            4,
            4,
            4,
            3,
            3,
            3,
            2,
            2,
            2,
            2,
            1,
            1,
            1,
            1,
            1,
            1,
            1,
            1,
            1,
            1,
            1,
            1,
            1,
            1,
            1,
            1,
            1,
            1,
            1,
            1,
            1,
            1,
            1,
            1,
            1,
            1,
            1,
            1,
            1
           ]
          }
         ],
         "name": "2011"
        },
        {
         "data": [
          {
           "coloraxis": "coloraxis",
           "geo": "geo",
           "hovertemplate": "release_year=2012<br>country=%{location}<br>counts=%{z}<extra></extra>",
           "locationmode": "country names",
           "locations": [
            "United States",
            "India",
            "South Korea",
            "Egypt",
            "United Kingdom",
            "United States, Canada",
            "Japan",
            "Taiwan",
            "Australia",
            "Canada",
            "Philippines",
            "Singapore",
            "Thailand",
            "Turkey",
            "United States, France",
            "China",
            "Colombia",
            "France",
            "Mexico",
            "South Africa",
            "United Kingdom, Germany",
            "United Kingdom, United States",
            "Brazil",
            "Brazil, United States",
            "Canada, France, United States",
            "Canada, United States",
            "Denmark",
            "France, United States",
            "Germany, United States, Hong Kong, Singapore",
            "Indonesia",
            "Indonesia, Singapore",
            "Israel",
            "Lebanon, United Arab Emirates",
            "Lebanon, United States, United Arab Emirates",
            "Nigeria",
            "Nigeria, United Kingdom",
            "Pakistan",
            "Philippines, Canada, United Kingdom, United States",
            "Saudi Arabia, Netherlands, Germany, Jordan, United Arab Emirates, United States",
            "South Africa, United States, Japan",
            "Spain, Thailand, United States",
            "Sweden, United Kingdom, Finland",
            "United Kingdom, Denmark, Canada, Croatia",
            "United Kingdom, India",
            "United Kingdom, Norway, Denmark, Germany, Sweden",
            "United Kingdom, United States, Spain, Germany, Greece, Canada",
            "United States, Brazil",
            "United States, Canada, Belgium, United Kingdom",
            "United States, Chile",
            "United States, India",
            "United States, India, Bangladesh",
            "United States, Mexico",
            "United States, Russia",
            "United States, United Kingdom"
           ],
           "name": "",
           "type": "choropleth",
           "z": [
            70,
            38,
            11,
            9,
            9,
            7,
            6,
            5,
            3,
            3,
            3,
            3,
            3,
            3,
            3,
            2,
            2,
            2,
            2,
            2,
            2,
            2,
            1,
            1,
            1,
            1,
            1,
            1,
            1,
            1,
            1,
            1,
            1,
            1,
            1,
            1,
            1,
            1,
            1,
            1,
            1,
            1,
            1,
            1,
            1,
            1,
            1,
            1,
            1,
            1,
            1,
            1,
            1,
            1
           ]
          }
         ],
         "name": "2012"
        },
        {
         "data": [
          {
           "coloraxis": "coloraxis",
           "geo": "geo",
           "hovertemplate": "release_year=2013<br>country=%{location}<br>counts=%{z}<extra></extra>",
           "locationmode": "country names",
           "locations": [
            "United States",
            "India",
            "United Kingdom",
            "Japan",
            "Turkey",
            "Philippines",
            "Taiwan",
            "Egypt",
            "South Korea",
            "Brazil",
            "Indonesia",
            "Nigeria",
            "United Kingdom, United States",
            "United States, Canada",
            "Chile",
            "France, Belgium",
            "Germany",
            "Hong Kong",
            "Hong Kong, China",
            "Mexico",
            "South Africa",
            "Spain",
            "Argentina, Spain",
            "Australia",
            "Australia, France",
            "Canada",
            "Canada, Spain, France",
            "Canada, United States",
            "Denmark, France, United States, Sweden",
            "Denmark, Germany, Belgium, United Kingdom, France",
            "Denmark, Germany, Belgium, United Kingdom, France, Sweden",
            "France, Belgium, Spain",
            "India, Switzerland",
            "Israel, Germany, Poland, Luxembourg, Belgium, France, United States",
            "Italy",
            "Italy, France",
            "Lebanon",
            "Malaysia",
            "Norway",
            "Pakistan",
            "Russia",
            "Saudi Arabia",
            "Singapore",
            "South Korea, Czech Republic",
            "Switzerland, United Kingdom, Australia",
            "Switzerland, United Kingdom, United States",
            "Thailand",
            "Turkey, Azerbaijan",
            "United Kingdom, Egypt, United States",
            "United Kingdom, Germany, United States",
            "United Kingdom, India, United States",
            "United Kingdom, South Africa, France",
            "United Kingdom, United States, France",
            "United States, Chile",
            "United States, China, Hong Kong",
            "United States, France",
            "United States, France, Canada, Belgium",
            "United States, Hungary, Ireland, Canada",
            "United States, India",
            "United States, India, France",
            "United States, Israel, Italy, South Africa",
            "United States, Italy",
            "United States, Russia",
            "United States, Spain",
            "United States, United Kingdom, Australia",
            "United States, United Kingdom, France, Germany, Japan"
           ],
           "name": "",
           "type": "choropleth",
           "z": [
            85,
            54,
            15,
            10,
            9,
            6,
            6,
            5,
            5,
            3,
            3,
            3,
            3,
            3,
            2,
            2,
            2,
            2,
            2,
            2,
            2,
            2,
            1,
            1,
            1,
            1,
            1,
            1,
            1,
            1,
            1,
            1,
            1,
            1,
            1,
            1,
            1,
            1,
            1,
            1,
            1,
            1,
            1,
            1,
            1,
            1,
            1,
            1,
            1,
            1,
            1,
            1,
            1,
            1,
            1,
            1,
            1,
            1,
            1,
            1,
            1,
            1,
            1,
            1,
            1,
            1
           ]
          }
         ],
         "name": "2013"
        },
        {
         "data": [
          {
           "coloraxis": "coloraxis",
           "geo": "geo",
           "hovertemplate": "release_year=2014<br>country=%{location}<br>counts=%{z}<extra></extra>",
           "locationmode": "country names",
           "locations": [
            "United States",
            "India",
            "United Kingdom",
            "Turkey",
            "Japan",
            "Canada",
            "South Korea",
            "France",
            "Singapore",
            "Germany",
            "Egypt",
            "Philippines",
            "United States, United Kingdom",
            "Mexico",
            "Nigeria",
            "Taiwan",
            "Australia, United States",
            "Hong Kong",
            "Thailand",
            "United Kingdom, United States",
            "United States, Canada",
            "United States, France",
            ", France, Algeria",
            "Argentina, Venezuela",
            "Australia, United Kingdom, Canada",
            "Australia, United Kingdom, United States, New Zealand, Italy, France",
            "Austria, Czech Republic",
            "Brazil",
            "Bulgaria, United States, Spain, Canada",
            "Canada, France, Italy, Morocco, United States",
            "Canada, Germany, France, United States",
            "Canada, India",
            "Canada, Luxembourg",
            "Canada, South Korea, United States",
            "Canada, United Kingdom, United States",
            "Canada, United States",
            "Canada, United States, Denmark",
            "China, Hong Kong",
            "Denmark, Brazil, France, Portugal, Sweden",
            "Denmark, Indonesia, Finland, Norway, United Kingdom, Israel, France, United States, Germany, Netherlands",
            "Denmark, United Kingdom, South Africa, Sweden, Belgium",
            "Denmark, Zimbabwe",
            "France, Belgium",
            "France, Canada, United States, Spain",
            "France, Germany, Switzerland",
            "Germany, United Kingdom",
            "Germany, United States, Italy",
            "Hong Kong, China",
            "Hong Kong, United States",
            "India, Canada",
            "India, France",
            "Indonesia",
            "Israel",
            "Kenya, United States",
            "Lebanon, United Arab Emirates, France, Switzerland, Germany",
            "Malaysia",
            "Mexico, United States",
            "Norway, Denmark, Sweden",
            "Norway, United Kingdom, France, Ireland",
            "Norway, United States",
            "Pakistan",
            "Pakistan, Norway, United States",
            "Poland",
            "Romania",
            "Russia",
            "Saudi Arabia",
            "Spain",
            "Thailand, Canada, United States",
            "United Arab Emirates",
            "United Arab Emirates, Jordan, Lebanon, Saudi Arabia",
            "United Arab Emirates, United States",
            "United Kingdom,",
            "United Kingdom, Brazil, Germany",
            "United Kingdom, China, United States",
            "United Kingdom, France, Canada, Belgium, United States",
            "United Kingdom, Japan",
            "United Kingdom, United States, Morocco",
            "United States, Bermuda, Ecuador",
            "United States, Bulgaria",
            "United States, France, Canada, Lebanon, Qatar",
            "United States, France, Serbia",
            "United States, Greece, United Kingdom",
            "United States, India",
            "United States, India, United Arab Emirates",
            "United States, Japan, Canada",
            "United States, Russia",
            "United States, United Kingdom, Canada, China",
            "United States, United Kingdom, Denmark, Sweden",
            "Vietnam"
           ],
           "name": "",
           "type": "choropleth",
           "z": [
            94,
            51,
            24,
            15,
            14,
            11,
            7,
            6,
            6,
            5,
            4,
            4,
            4,
            3,
            3,
            3,
            2,
            2,
            2,
            2,
            2,
            2,
            1,
            1,
            1,
            1,
            1,
            1,
            1,
            1,
            1,
            1,
            1,
            1,
            1,
            1,
            1,
            1,
            1,
            1,
            1,
            1,
            1,
            1,
            1,
            1,
            1,
            1,
            1,
            1,
            1,
            1,
            1,
            1,
            1,
            1,
            1,
            1,
            1,
            1,
            1,
            1,
            1,
            1,
            1,
            1,
            1,
            1,
            1,
            1,
            1,
            1,
            1,
            1,
            1,
            1,
            1,
            1,
            1,
            1,
            1,
            1,
            1,
            1,
            1,
            1,
            1,
            1,
            1
           ]
          }
         ],
         "name": "2014"
        },
        {
         "data": [
          {
           "coloraxis": "coloraxis",
           "geo": "geo",
           "hovertemplate": "release_year=2015<br>country=%{location}<br>counts=%{z}<extra></extra>",
           "locationmode": "country names",
           "locations": [
            "United States",
            "India",
            "United Kingdom",
            "Canada",
            "Turkey",
            "South Korea",
            "Japan",
            "Spain",
            "France",
            "Philippines",
            "Australia",
            "Taiwan",
            "Mexico",
            "Nigeria",
            "Indonesia",
            "Argentina",
            "Germany",
            "Russia",
            "Thailand",
            "United States, Canada",
            "Brazil",
            "Canada, United States",
            "Egypt",
            "France, Belgium",
            "Italy",
            "Malaysia",
            "Netherlands",
            "United Kingdom, France",
            "United Kingdom, United States",
            "Chile",
            "China",
            "India, United States",
            "Japan, United States",
            "New Zealand",
            "Pakistan",
            "Singapore",
            "South Africa",
            "South Africa, United States",
            "United Kingdom, France, United States",
            "United States, Australia",
            "United States, India",
            "Argentina, Chile, Peru",
            "Australia, Iraq",
            "Australia, United Kingdom, United Arab Emirates, Canada",
            "Australia, United States",
            "Belgium",
            "Canada, Australia",
            "Canada, Mexico, Germany, South Africa",
            "Canada, Nigeria, United States",
            "Canada, United Kingdom, Netherlands",
            "Canada, United States, France",
            "Canada, United States, Mexico",
            "Canada, United States, United Kingdom",
            "Chile, Spain, Argentina, Germany",
            "China, Germany, India, United States",
            "China, Hong Kong",
            "China, South Korea, United States",
            "Colombia",
            "Croatia, Slovenia, Serbia, Montenegro",
            "Denmark",
            "Denmark, United Kingdom, Sweden",
            "France, Canada, Belgium",
            "France, Canada, Italy, United States, China",
            "France, Germany",
            "France, Malta, United States",
            "France, Morocco",
            "France, United States, Canada",
            "Germany, Australia, France, China",
            "Germany, France, Luxembourg, United Kingdom, United States",
            "Hong Kong",
            "Hong Kong, China, United States",
            "Iceland",
            "India, France",
            "India, Germany",
            "Ireland",
            "Ireland, Canada, United Kingdom, United States",
            "Ireland, United Kingdom, Greece, France, Netherlands",
            "Israel",
            "Israel, Sweden, Germany, Netherlands",
            "Israel, United States",
            "Italy, France",
            "Japan, Canada",
            "Lebanon, Qatar",
            "Malaysia, Singapore, Hong Kong",
            "Mexico, France",
            "Netherlands, Belgium, United Kingdom, United States",
            "Netherlands, Denmark, South Africa",
            "Pakistan, United States",
            "Peru",
            "Poland",
            "Romania",
            "Romania, Bulgaria, Hungary",
            "Russia, Spain",
            "Russia, United States, China",
            "South Korea, China, United States",
            "Spain, France, Uruguay",
            "Switzerland",
            "Ukraine",
            "United Arab Emirates",
            "United Arab Emirates, Jordan",
            "United Kingdom, Canada, United States",
            "United Kingdom, Lithuania",
            "United Kingdom, New Zealand",
            "United Kingdom, Russia, United States",
            "United Kingdom, South Korea",
            "United Kingdom, Ukraine, United States",
            "United Kingdom, United States, Australia",
            "United Kingdom, United States, Germany, Denmark, Belgium, Japan",
            "United States, Argentina",
            "United States, Canada, Japan, Panama",
            "United States, Chile",
            "United States, Chile, Israel",
            "United States, Indonesia",
            "United States, Ireland, United Kingdom, India",
            "United States, Morocco",
            "United States, Nicaragua",
            "United States, Senegal",
            "United States, Spain, Germany",
            "United States, Sweden",
            "United States, Switzerland",
            "United States, Thailand",
            "United States, United Arab Emirates",
            "United States, United Kingdom",
            "United States, United Kingdom, Canada",
            "United States, United Kingdom, France",
            "United States, United Kingdom, Morocco",
            "United States, United Kingdom, Spain, South Korea",
            "United States, Uruguay",
            "Vietnam"
           ],
           "name": "",
           "type": "choropleth",
           "z": [
            145,
            62,
            36,
            13,
            13,
            12,
            11,
            11,
            10,
            10,
            9,
            8,
            6,
            6,
            5,
            4,
            4,
            4,
            4,
            4,
            3,
            3,
            3,
            3,
            3,
            3,
            3,
            3,
            3,
            2,
            2,
            2,
            2,
            2,
            2,
            2,
            2,
            2,
            2,
            2,
            2,
            1,
            1,
            1,
            1,
            1,
            1,
            1,
            1,
            1,
            1,
            1,
            1,
            1,
            1,
            1,
            1,
            1,
            1,
            1,
            1,
            1,
            1,
            1,
            1,
            1,
            1,
            1,
            1,
            1,
            1,
            1,
            1,
            1,
            1,
            1,
            1,
            1,
            1,
            1,
            1,
            1,
            1,
            1,
            1,
            1,
            1,
            1,
            1,
            1,
            1,
            1,
            1,
            1,
            1,
            1,
            1,
            1,
            1,
            1,
            1,
            1,
            1,
            1,
            1,
            1,
            1,
            1,
            1,
            1,
            1,
            1,
            1,
            1,
            1,
            1,
            1,
            1,
            1,
            1,
            1,
            1,
            1,
            1,
            1,
            1,
            1,
            1,
            1
           ]
          }
         ],
         "name": "2015"
        },
        {
         "data": [
          {
           "coloraxis": "coloraxis",
           "geo": "geo",
           "hovertemplate": "release_year=2016<br>country=%{location}<br>counts=%{z}<extra></extra>",
           "locationmode": "country names",
           "locations": [
            "United States",
            "India",
            "United Kingdom",
            "South Korea",
            "Canada",
            "Japan",
            "Mexico",
            "Australia",
            "Spain",
            "France",
            "Nigeria",
            "Turkey",
            "Germany",
            "Philippines",
            "China",
            "Indonesia",
            "Taiwan",
            "Argentina",
            "United Kingdom, United States",
            "Brazil",
            "Canada, United States",
            "Egypt",
            "France, Belgium",
            "Italy",
            "United States, Canada",
            "China, Hong Kong",
            "Hong Kong",
            "Ireland",
            "New Zealand",
            "Pakistan",
            "Thailand",
            "Chile",
            "Denmark",
            "Japan, United States",
            "Norway",
            "South Africa",
            "Sweden",
            "Belgium, France",
            "Canada, United States, United Kingdom",
            "Colombia",
            "Germany, United States",
            "Hong Kong, China",
            "Israel",
            "Singapore",
            "Sweden, United States",
            "United Arab Emirates",
            "United States, China",
            "United States, Greece",
            "United States, Ireland",
            "United States, Spain",
            "Argentina, Spain",
            "Australia, India",
            "Austria",
            "Belarus",
            "Belgium, France, Netherlands",
            "Belgium, Ireland, Netherlands, Germany, Afghanistan",
            "Brazil, Netherlands, United States, Colombia, Austria, Germany",
            "Bulgaria, United States",
            "Canada, France",
            "Canada, India, Thailand, United States, United Arab Emirates",
            "Canada, Ireland, United States",
            "Canada, Spain",
            "Canada, United Kingdom",
            "Canada, United Kingdom, United States",
            "Chile, Argentina, France, Spain, United States",
            "Chile, France",
            "Chile, United States, France",
            "China, Hong Kong, United States",
            "China, United States",
            "Colombia, Mexico, United States",
            "Czech Republic, France",
            "Czech Republic, Slovakia",
            "Denmark, China",
            "Denmark, Spain",
            "Denmark, United States",
            "Egypt, France",
            "Finland, Sweden, Norway, Latvia, Germany",
            "France, Canada",
            "France, Canada, China, Cambodia",
            "France, Canada, United States",
            "France, Germany, Czech Republic, Belgium",
            "France, Qatar",
            "France, South Korea, Japan",
            "France, United Kingdom, United States",
            "France, United States, United Kingdom, Canada",
            "Germany, Jordan, Netherlands",
            "Hong Kong, Canada, United States",
            "Hungary",
            "India, United Kingdom",
            "India, United States",
            "Ireland, South Africa",
            "Ireland, United Kingdom",
            "Ireland, United Kingdom, Italy, United States",
            "Ireland, United Kingdom, United States",
            "Ireland, United States, United Kingdom",
            "Israel, Germany, France",
            "Italy, France",
            "Italy, Germany",
            "Italy, India",
            "Malaysia",
            "Mexico, Spain",
            "Mexico, United States",
            "Netherlands",
            "Netherlands, Belgium",
            "Netherlands, Belgium, Germany, Jordan",
            "Netherlands, Denmark, France, Germany",
            "Norway, Germany",
            "Peru, United States, United Kingdom",
            "Philippines, Qatar",
            "Portugal, France, Poland, United States",
            "Portugal, Spain",
            "Romania",
            "Russia",
            "Saudi Arabia",
            "Serbia, South Korea, Slovenia",
            "Singapore, France",
            "Slovenia, Croatia, Germany, Czech Republic, Qatar",
            "South Africa, United States, Germany",
            "South Korea, Canada, United States, China",
            "South Korea, China",
            "South Korea, France",
            "Spain, Argentina",
            "Spain, Cuba",
            "Spain, Italy, Argentina",
            "Spain, Mexico",
            "Spain, Switzerland",
            "Switzerland, France",
            "Turkey, France, Germany, Poland",
            "Turkey, India",
            "United Arab Emirates, Romania",
            "United Kingdom, Canada, Italy",
            "United Kingdom, Canada, United States",
            "United Kingdom, Finland, Germany, United States, Australia, Japan, France, Ireland",
            "United Kingdom, France",
            "United Kingdom, France, Belgium",
            "United Kingdom, France, Germany",
            "United Kingdom, France, Germany, United States",
            "United Kingdom, France, United States, Belgium, Luxembourg, China, Germany",
            "United Kingdom, Germany, Canada",
            "United Kingdom, Germany, United Arab Emirates, New Zealand",
            "United Kingdom, Hong Kong",
            "United Kingdom, Israel, Russia",
            "United Kingdom, Italy, Israel, Peru, United States",
            "United Kingdom, Jordan, Qatar, Iran",
            "United Kingdom, Poland, United States",
            "United Kingdom, Russia",
            "United Kingdom, South Africa",
            "United Kingdom, Spain, Belgium",
            "United Kingdom, Spain, United States",
            "United States, Botswana",
            "United States, Bulgaria",
            "United States, Cambodia",
            "United States, Cambodia, Romania",
            "United States, Canada, China",
            "United States, Canada, Ireland",
            "United States, France",
            "United States, France, South Korea, Indonesia",
            "United States, Greece, Brazil",
            "United States, Hong Kong",
            "United States, Hungary",
            "United States, India, United Kingdom",
            "United States, Italy",
            "United States, Kazakhstan",
            "United States, Mexico",
            "United States, South Korea, China",
            "United States, Sweden",
            "United States, United Kingdom, Japan",
            "United States, Venezuela",
            "Vietnam"
           ],
           "name": "",
           "type": "choropleth",
           "z": [
            263,
            73,
            62,
            29,
            27,
            19,
            18,
            16,
            16,
            14,
            14,
            11,
            9,
            9,
            8,
            8,
            8,
            7,
            7,
            6,
            6,
            6,
            5,
            5,
            5,
            4,
            4,
            4,
            4,
            4,
            4,
            3,
            3,
            3,
            3,
            3,
            3,
            2,
            2,
            2,
            2,
            2,
            2,
            2,
            2,
            2,
            2,
            2,
            2,
            2,
            1,
            1,
            1,
            1,
            1,
            1,
            1,
            1,
            1,
            1,
            1,
            1,
            1,
            1,
            1,
            1,
            1,
            1,
            1,
            1,
            1,
            1,
            1,
            1,
            1,
            1,
            1,
            1,
            1,
            1,
            1,
            1,
            1,
            1,
            1,
            1,
            1,
            1,
            1,
            1,
            1,
            1,
            1,
            1,
            1,
            1,
            1,
            1,
            1,
            1,
            1,
            1,
            1,
            1,
            1,
            1,
            1,
            1,
            1,
            1,
            1,
            1,
            1,
            1,
            1,
            1,
            1,
            1,
            1,
            1,
            1,
            1,
            1,
            1,
            1,
            1,
            1,
            1,
            1,
            1,
            1,
            1,
            1,
            1,
            1,
            1,
            1,
            1,
            1,
            1,
            1,
            1,
            1,
            1,
            1,
            1,
            1,
            1,
            1,
            1,
            1,
            1,
            1,
            1,
            1,
            1,
            1,
            1,
            1,
            1,
            1,
            1,
            1,
            1,
            1,
            1,
            1,
            1,
            1
           ]
          }
         ],
         "name": "2016"
        },
        {
         "data": [
          {
           "coloraxis": "coloraxis",
           "geo": "geo",
           "hovertemplate": "release_year=2017<br>country=%{location}<br>counts=%{z}<extra></extra>",
           "locationmode": "country names",
           "locations": [
            "United States",
            "India",
            "United Kingdom",
            "South Korea",
            "Japan",
            "Canada",
            "Spain",
            "France",
            "Nigeria",
            "Egypt",
            "Mexico",
            "China",
            "Australia",
            "Brazil",
            "Canada, United States",
            "Philippines",
            "Turkey",
            "Indonesia",
            "Taiwan",
            "Germany",
            "United States, Canada",
            "Pakistan",
            "Thailand",
            "Argentina",
            "France, Belgium",
            "Italy",
            "Lebanon",
            "South Africa",
            "United Kingdom, United States",
            "United States, United Kingdom",
            "Belgium",
            "China, Hong Kong",
            "Ireland",
            "Malaysia",
            "Russia",
            "Argentina, Spain",
            "Australia, United Arab Emirates",
            "Bulgaria, United States",
            "China, Canada, United States",
            "Colombia",
            "Israel",
            "Italy, United States",
            "Mexico, United States",
            "Netherlands",
            "Peru",
            "Poland",
            "Sweden",
            "United Kingdom, Canada, United States",
            "United States, China",
            "United States, Japan",
            "United States, Mexico",
            "Argentina, Brazil, France, Poland, Germany, Denmark",
            "Argentina, Chile",
            "Argentina, France",
            "Argentina, France, United States, Germany, Qatar",
            "Argentina, Italy",
            "Argentina, Uruguay, Spain, France",
            "Australia, Armenia, Japan, Jordan, Mexico, Mongolia, New Zealand, Philippines, South Africa, Sweden, United States, Uruguay",
            "Australia, Canada",
            "Australia, New Zealand, United States",
            "Australia, United States",
            "Austria",
            "Austria, United States",
            "Bangladesh",
            "Brazil, France",
            "Brazil, India, China, United States",
            "Cambodia",
            "Cambodia, United States",
            "Canada, Germany, South Africa",
            "Canada, India",
            "Canada, Japan, Netherlands",
            "Canada, United States, France",
            "Chile",
            "Chile, Peru",
            "China, India, Nepal",
            "Cyprus",
            "Czech Republic, United Kingdom, United States",
            "Czech Republic, United States",
            "Denmark",
            "Denmark, Sweden, Israel, United States",
            "France, Belgium, China, United States",
            "France, Canada",
            "France, Japan",
            "France, Netherlands, South Africa, Finland",
            "Georgia, Germany, France",
            "Germany, Australia",
            "Germany, Belgium",
            "Germany, France, Russia",
            "Germany, Italy",
            "Germany, United Kingdom",
            "Ghana",
            "Greece, United States",
            "Guatemala",
            "Hong Kong",
            "Hong Kong, China",
            "Hungary",
            "Iceland",
            "India, France",
            "India, Mexico",
            "India, United States",
            "Indonesia, Netherlands",
            "Ireland, Canada, Luxembourg, United States, United Kingdom, Philippines, India",
            "Ireland, United Kingdom",
            "Israel, Germany",
            "Italy, France, Switzerland",
            "Italy, Turkey",
            "Italy, United States, Argentina",
            "Japan, United States",
            "Kuwait, United States",
            "Netherlands, Germany, Denmark, United Kingdom",
            "Netherlands, Germany, Italy, Canada",
            "Netherlands, United States",
            "New Zealand, United Kingdom",
            "Norway, Germany, Sweden",
            "Peru, Germany, Norway",
            "Saudi Arabia, Syria, Egypt, Lebanon, Kuwait",
            "Serbia, United States",
            "Singapore, United States",
            "Somalia, Kenya, Sudan, South Africa, United States",
            "South Africa, China, United States",
            "South Africa, Germany, Netherlands, France",
            "South Africa, Nigeria",
            "South Korea, United States",
            "Spain, Argentina",
            "Spain, Canada, United States",
            "Spain, Colombia",
            "Spain, Germany",
            "Spain, Mexico",
            "Spain, United Kingdom",
            "Sweden, Netherlands",
            "Switzerland, France, Belgium, United States",
            "Switzerland, United States",
            "Thailand, United States",
            "Turkey, United States",
            "Ukraine",
            "United Arab Emirates, United States, United Kingdom",
            "United Kingdom, Canada, Japan",
            "United Kingdom, China, United States, India",
            "United Kingdom, France, Belgium, Canada, United States",
            "United Kingdom, France, Belgium, United States",
            "United Kingdom, France, United States, Belgium",
            "United Kingdom, India, Sweden",
            "United Kingdom, India, United States",
            "United Kingdom, Ireland",
            "United Kingdom, Namibia, South Africa, Zimbabwe, United States",
            "United Kingdom, Nigeria",
            "United Kingdom, Singapore",
            "United Kingdom, United States, Canada",
            "United Kingdom, United States, Dominican Republic",
            "United States, Australia, China",
            "United States, Australia, Samoa, United Kingdom",
            "United States, Australia, South Africa, United Kingdom",
            "United States, Bulgaria",
            "United States, Canada, Indonesia, United Kingdom, China, Singapore",
            "United States, China, Hong Kong",
            "United States, Colombia, Mexico",
            "United States, Denmark",
            "United States, Iceland",
            "United States, South Africa",
            "United States, South Korea, Japan",
            "United States, Sweden",
            "United States, United Kingdom, Australia",
            "Uruguay",
            "Venezuela",
            "Zimbabwe"
           ],
           "name": "",
           "type": "choropleth",
           "z": [
            352,
            101,
            66,
            31,
            29,
            26,
            24,
            17,
            15,
            13,
            12,
            11,
            9,
            9,
            9,
            9,
            8,
            7,
            7,
            6,
            6,
            5,
            5,
            4,
            4,
            4,
            4,
            4,
            4,
            4,
            3,
            3,
            3,
            3,
            3,
            2,
            2,
            2,
            2,
            2,
            2,
            2,
            2,
            2,
            2,
            2,
            2,
            2,
            2,
            2,
            2,
            1,
            1,
            1,
            1,
            1,
            1,
            1,
            1,
            1,
            1,
            1,
            1,
            1,
            1,
            1,
            1,
            1,
            1,
            1,
            1,
            1,
            1,
            1,
            1,
            1,
            1,
            1,
            1,
            1,
            1,
            1,
            1,
            1,
            1,
            1,
            1,
            1,
            1,
            1,
            1,
            1,
            1,
            1,
            1,
            1,
            1,
            1,
            1,
            1,
            1,
            1,
            1,
            1,
            1,
            1,
            1,
            1,
            1,
            1,
            1,
            1,
            1,
            1,
            1,
            1,
            1,
            1,
            1,
            1,
            1,
            1,
            1,
            1,
            1,
            1,
            1,
            1,
            1,
            1,
            1,
            1,
            1,
            1,
            1,
            1,
            1,
            1,
            1,
            1,
            1,
            1,
            1,
            1,
            1,
            1,
            1,
            1,
            1,
            1,
            1,
            1,
            1,
            1,
            1,
            1,
            1,
            1,
            1,
            1,
            1,
            1,
            1,
            1,
            1
           ]
          }
         ],
         "name": "2017"
        },
        {
         "data": [
          {
           "coloraxis": "coloraxis",
           "geo": "geo",
           "hovertemplate": "release_year=2018<br>country=%{location}<br>counts=%{z}<extra></extra>",
           "locationmode": "country names",
           "locations": [
            "United States",
            "India",
            "United Kingdom",
            "Japan",
            "Canada",
            "Spain",
            "South Korea",
            "France",
            "Nigeria",
            "Mexico",
            "Australia",
            "Egypt",
            "United Kingdom, United States",
            "Brazil",
            "Indonesia",
            "Argentina",
            "China",
            "Colombia",
            "Philippines",
            "Turkey",
            "Canada, United States",
            "Taiwan",
            "France, Belgium",
            "Malaysia",
            "Thailand",
            "United States, Canada",
            "Denmark",
            "Germany",
            "United States, United Kingdom",
            "Netherlands",
            "New Zealand",
            "Spain, France",
            "Chile",
            "Israel",
            "Italy",
            "Lebanon",
            "Mexico, United States",
            "Pakistan",
            "United Arab Emirates",
            "Argentina, Spain",
            "Australia, United States",
            "Bangladesh",
            "Canada, South Africa",
            "China, Hong Kong",
            "France, United States",
            "Ireland",
            "Norway, Iceland, United States",
            "Poland, United States",
            "Russia",
            "South Africa",
            "South Korea, United States",
            "United States, Colombia",
            "United States, Czech Republic",
            "Argentina, Uruguay, Serbia",
            "Australia, Canada",
            "Austria, Iraq, United States",
            "Belgium",
            "Belgium, United Kingdom, United States",
            "Bulgaria",
            "Canada, Belgium",
            "Canada, Japan, United States",
            "Canada, United States, Germany",
            "Chile, Argentina",
            "China, Canada, United States",
            "China, Japan",
            "China, Morocco, Hong Kong",
            "China, United Kingdom",
            "China, United States, Australia",
            "China, United States, United Kingdom",
            "Colombia, Mexico",
            "Colombia, Peru, United Kingdom",
            "Croatia",
            "Czech Republic, United States",
            "Egypt, Austria, United States",
            "Finland",
            "France, Belgium, Luxembourg, Cambodia,",
            "France, Belgium, Luxembourg, Romania, Canada, United States",
            "France, Canada",
            "France, China, Japan, United States",
            "France, Iran, United States",
            "France, Luxembourg, United States",
            "Georgia",
            "Germany, United States, Sweden",
            "Ghana",
            "Ghana, United States",
            "Hong Kong",
            "Hong Kong, China",
            "Hong Kong, Iceland, United States",
            "Hong Kong, United States",
            "Hungary",
            "Iceland, Sweden, Belgium",
            "India, France",
            "India, Germany, Austria",
            "India, Iran",
            "India, Nepal",
            "India, United States",
            "Indonesia, Singapore",
            "Indonesia, South Korea, Singapore",
            "Indonesia, United States",
            "Ireland, Canada",
            "Ireland, Luxembourg, Belgium",
            "Ireland, Switzerland, United Kingdom, France, United States",
            "Ireland, United States, France",
            "Israel, United States",
            "Italy, Switzerland, Albania, Poland",
            "Italy, Switzerland, France, Germany",
            "Jamaica, United States",
            "Japan, Canada, United States",
            "Japan, United States",
            "Kenya",
            "Kuwait",
            "Mexico, Argentina",
            "Mexico, Netherlands",
            "Netherlands, Belgium",
            "Norway",
            "Norway, Denmark, Netherlands, Sweden",
            "Pakistan, United Arab Emirates",
            "Paraguay, Argentina",
            "Peru",
            "Poland",
            "Puerto Rico, United States, Colombia",
            "Romania, United Kingdom",
            "Russia, Poland, Serbia",
            "Singapore",
            "Singapore, Japan, France",
            "South Africa, United States",
            "South Korea, Japan",
            "Spain, Belgium",
            "Spain, Italy",
            "Spain, Portugal",
            "Switzerland",
            "Switzerland, Vatican City, Italy, Germany, France",
            "Syria, France, Lebanon, Qatar",
            "Taiwan, China, France, United States",
            "Turkey, South Korea",
            "United Arab Emirates, United Kingdom, India",
            "United Arab Emirates, United States",
            "United Kingdom, Belgium",
            "United Kingdom, Canada",
            "United Kingdom, Canada, United States",
            "United Kingdom, Canada, United States, Cayman Islands",
            "United Kingdom, Canada, United States, Germany",
            "United Kingdom, France, United States",
            "United Kingdom, Germany",
            "United Kingdom, Ireland, United States",
            "United Kingdom, Kenya",
            "United Kingdom, Pakistan",
            "United Kingdom, Poland",
            "United Kingdom, South Africa, Australia, United States",
            "United Kingdom, Spain, United States, Germany",
            "United Kingdom, United States, Czech Republic",
            "United States,",
            "United States, Australia",
            "United States, Brazil, India, Uganda, China",
            "United States, Brazil, South Korea, Mexico, Japan, Germany",
            "United States, China, Canada",
            "United States, China, Colombia",
            "United States, France",
            "United States, Israel, United Kingdom, Canada",
            "United States, Japan, Canada",
            "United States, Mexico",
            "United States, Mexico, Spain, Malta",
            "United States, New Zealand",
            "United States, Nigeria",
            "United States, South Africa",
            "United States, Taiwan",
            "Uruguay, Argentina, Spain",
            "Uruguay, Spain, Mexico"
           ],
           "name": "",
           "type": "choropleth",
           "z": [
            356,
            94,
            55,
            40,
            36,
            33,
            28,
            19,
            18,
            15,
            14,
            14,
            14,
            13,
            13,
            10,
            10,
            9,
            9,
            9,
            7,
            7,
            6,
            6,
            6,
            6,
            5,
            5,
            5,
            4,
            4,
            4,
            3,
            3,
            3,
            3,
            3,
            3,
            3,
            2,
            2,
            2,
            2,
            2,
            2,
            2,
            2,
            2,
            2,
            2,
            2,
            2,
            2,
            1,
            1,
            1,
            1,
            1,
            1,
            1,
            1,
            1,
            1,
            1,
            1,
            1,
            1,
            1,
            1,
            1,
            1,
            1,
            1,
            1,
            1,
            1,
            1,
            1,
            1,
            1,
            1,
            1,
            1,
            1,
            1,
            1,
            1,
            1,
            1,
            1,
            1,
            1,
            1,
            1,
            1,
            1,
            1,
            1,
            1,
            1,
            1,
            1,
            1,
            1,
            1,
            1,
            1,
            1,
            1,
            1,
            1,
            1,
            1,
            1,
            1,
            1,
            1,
            1,
            1,
            1,
            1,
            1,
            1,
            1,
            1,
            1,
            1,
            1,
            1,
            1,
            1,
            1,
            1,
            1,
            1,
            1,
            1,
            1,
            1,
            1,
            1,
            1,
            1,
            1,
            1,
            1,
            1,
            1,
            1,
            1,
            1,
            1,
            1,
            1,
            1,
            1,
            1,
            1,
            1,
            1,
            1,
            1,
            1,
            1,
            1,
            1,
            1,
            1
           ]
          }
         ],
         "name": "2018"
        },
        {
         "data": [
          {
           "coloraxis": "coloraxis",
           "geo": "geo",
           "hovertemplate": "release_year=2019<br>country=%{location}<br>counts=%{z}<extra></extra>",
           "locationmode": "country names",
           "locations": [
            "United States",
            "India",
            "United Kingdom",
            "France",
            "Japan",
            "South Korea",
            "Spain",
            "Canada",
            "Brazil",
            "China",
            "Nigeria",
            "Mexico",
            "Philippines",
            "Argentina",
            "Australia",
            "Thailand",
            "Indonesia",
            "Germany",
            "United States, Canada",
            "Colombia",
            "Taiwan",
            "Turkey",
            "United Kingdom, United States",
            "Italy",
            "Egypt",
            "United Arab Emirates",
            "United States, Japan",
            "Kuwait",
            "South Africa",
            "United States, Mexico",
            "Canada, United States",
            "France, Belgium",
            "Hong Kong",
            "Australia, United States",
            "Belgium",
            "Chile",
            "India, United States",
            "Japan, United States",
            "Lebanon",
            "Mexico, United States",
            "Netherlands",
            "Poland",
            "Romania",
            "Russia",
            "Sweden",
            "United Kingdom, Canada",
            "United Kingdom, Canada, United States",
            "United States, United Kingdom",
            "Vietnam",
            "Argentina, United States",
            "Austria",
            "Canada, Australia",
            "Canada, Brazil",
            "Canada, Germany",
            "Canada, Norway",
            "China, Hong Kong",
            "China, Taiwan",
            "China, United Kingdom",
            "Denmark, France, Belgium, Italy, Netherlands, United States, United Kingdom",
            "Denmark, Singapore, Canada, United States",
            "Egypt, Saudi Arabia",
            "Finland, France",
            "Finland, Germany, Belgium",
            "Finland, United States",
            "France, Israel, Germany, United States, United Kingdom",
            "France, Luxembourg, Canada",
            "France, Netherlands, Singapore",
            "France, New Zealand",
            "France, Senegal, Belgium",
            "France, South Korea, Japan, United States",
            "France, United Kingdom",
            "France, United States",
            "Ghana",
            "Hong Kong, China",
            "Hungary",
            "India, Turkey",
            "India, United Kingdom, Canada, United States",
            "India, United Kingdom, China, Canada, Japan, South Korea, United States",
            "Ireland, France, Iceland, United States, Mexico, Belgium, United Kingdom, Hong Kong",
            "Israel, United States",
            "Italy, Belgium",
            "Italy, France",
            "Italy, United Kingdom, France",
            "Jordan",
            "Kenya",
            "Lebanon, Palestine, Denmark, Qatar",
            "Lebanon, Syria",
            "Luxembourg",
            "Malaysia",
            "Mauritius, South Africa",
            "Mexico, Finland",
            "Mexico, United States, Spain, Colombia",
            "Mozambique",
            "Namibia",
            "New Zealand",
            "Norway, Sweden",
            "Philippines, Singapore",
            "Philippines, United States",
            "Poland, United States",
            "Romania, United States",
            "Senegal",
            "Serbia, United States",
            "Singapore, Malaysia",
            "Singapore, United States",
            "South Korea, United States",
            "Spain, France",
            "Spain, France, Canada",
            "Spain, France, Canada, United States",
            "Spain, France, Italy",
            "Spain, France, United States",
            "Spain, Germany",
            "Spain, Italy",
            "Spain, United Kingdom",
            "Spain, United States",
            "Sweden, United States",
            "Thailand, China, United States",
            "United Kingdom, Australia, United States",
            "United Kingdom, Belgium",
            "United Kingdom, Belgium, Sweden",
            "United Kingdom, France, Belgium, Ireland, United States",
            "United Kingdom, Hungary, Australia",
            "United Kingdom, Italy",
            "United Kingdom, Japan, United States",
            "United Kingdom, Malawi",
            "United States, China",
            "United States, Colombia",
            "United States, France, Denmark",
            "United States, France, Japan",
            "United States, Germany",
            "United States, India, South Korea, China",
            "United States, Mexico, Colombia",
            "United States, Norway, Canada",
            "United States, Philippines",
            "United States, Poland",
            "United States, South Korea",
            "United States, United Kingdom, Germany",
            "Uruguay",
            "Uruguay, Argentina",
            "Uruguay, Guatemala"
           ],
           "name": "",
           "type": "choropleth",
           "z": [
            351,
            87,
            37,
            25,
            25,
            22,
            22,
            18,
            17,
            16,
            16,
            15,
            12,
            11,
            11,
            11,
            9,
            8,
            8,
            7,
            7,
            7,
            7,
            6,
            5,
            5,
            5,
            4,
            4,
            4,
            3,
            3,
            3,
            2,
            2,
            2,
            2,
            2,
            2,
            2,
            2,
            2,
            2,
            2,
            2,
            2,
            2,
            2,
            2,
            1,
            1,
            1,
            1,
            1,
            1,
            1,
            1,
            1,
            1,
            1,
            1,
            1,
            1,
            1,
            1,
            1,
            1,
            1,
            1,
            1,
            1,
            1,
            1,
            1,
            1,
            1,
            1,
            1,
            1,
            1,
            1,
            1,
            1,
            1,
            1,
            1,
            1,
            1,
            1,
            1,
            1,
            1,
            1,
            1,
            1,
            1,
            1,
            1,
            1,
            1,
            1,
            1,
            1,
            1,
            1,
            1,
            1,
            1,
            1,
            1,
            1,
            1,
            1,
            1,
            1,
            1,
            1,
            1,
            1,
            1,
            1,
            1,
            1,
            1,
            1,
            1,
            1,
            1,
            1,
            1,
            1,
            1,
            1,
            1,
            1,
            1,
            1,
            1,
            1
           ]
          }
         ],
         "name": "2019"
        },
        {
         "data": [
          {
           "coloraxis": "coloraxis",
           "geo": "geo",
           "hovertemplate": "release_year=2020<br>country=%{location}<br>counts=%{z}<extra></extra>",
           "locationmode": "country names",
           "locations": [
            "United States",
            "India",
            "United Kingdom",
            "South Korea",
            "Canada",
            "Spain",
            "Brazil",
            "Germany",
            "Japan",
            "Mexico",
            "France",
            "Italy",
            "Indonesia",
            "Argentina",
            "Nigeria",
            "Taiwan",
            "Australia",
            "China",
            "Colombia",
            "Poland",
            "Turkey",
            "Canada, United States",
            "Norway",
            "Philippines",
            "South Africa",
            "United Kingdom, United States",
            "Netherlands",
            "Thailand",
            "Egypt",
            "Saudi Arabia",
            "Sweden",
            "United States, Canada",
            "Austria",
            "Denmark, United States",
            "Iceland",
            "Japan, United States",
            "Mexico, Spain",
            "Mexico, United States",
            "United States, Japan",
            "Argentina, United States, Mexico",
            "Australia, Germany",
            "Australia, New Zealand",
            "Austria, Germany",
            "Belgium, Netherlands",
            "Brazil, France",
            "Brazil, United Kingdom",
            "Cameroon",
            "Canada, Hungary, United States",
            "Canada, United Kingdom",
            "Canada, United States, United Kingdom",
            "Chile",
            "Chile, Italy",
            "China, Spain, South Korea, United States",
            "China, United States",
            "Denmark",
            "Finland, Germany",
            "France, Algeria",
            "France, Australia, Germany",
            "France, Belgium",
            "France, Brazil, Spain, Belgium",
            "Germany, China, United Kingdom",
            "Germany, Czech Republic",
            "Germany, France",
            "Germany, United States",
            "Indonesia, United Kingdom",
            "Israel",
            "Israel, United States",
            "Kenya",
            "Lebanon",
            "Malaysia",
            "Pakistan, United States",
            "Poland, United States",
            "Portugal, Spain",
            "Portugal, United States",
            "Russia",
            "Singapore",
            "South Africa, Angola",
            "South Korea, United States",
            "Spain, Belgium, United States",
            "Spain, Germany",
            "Spain, Germany, Denmark, United States",
            "Taiwan, China",
            "Taiwan, Malaysia",
            "Thailand, United States",
            "United Kingdom,",
            "United Kingdom, Australia",
            "United Kingdom, China",
            "United Kingdom, France, Germany, Spain",
            "United Kingdom, Germany",
            "United Kingdom, Germany, United States, France",
            "United Kingdom, Ireland",
            "United Kingdom, Italy",
            "United Kingdom, Spain",
            "United Kingdom, United States, Ireland",
            "United States, Argentina",
            "United States, Bulgaria",
            "United States, Canada, United Kingdom",
            "United States, China, United Kingdom",
            "United States, France",
            "United States, France, Canada",
            "United States, India",
            "United States, South Korea, China",
            "United States, Thailand",
            "United States, United Kingdom",
            "United States, United Kingdom, India",
            "Uruguay",
            "Vietnam"
           ],
           "name": "",
           "type": "choropleth",
           "z": [
            336,
            75,
            44,
            28,
            26,
            21,
            20,
            20,
            20,
            18,
            16,
            16,
            15,
            12,
            12,
            11,
            9,
            8,
            6,
            6,
            6,
            5,
            5,
            5,
            5,
            5,
            4,
            4,
            3,
            3,
            3,
            3,
            2,
            2,
            2,
            2,
            2,
            2,
            2,
            1,
            1,
            1,
            1,
            1,
            1,
            1,
            1,
            1,
            1,
            1,
            1,
            1,
            1,
            1,
            1,
            1,
            1,
            1,
            1,
            1,
            1,
            1,
            1,
            1,
            1,
            1,
            1,
            1,
            1,
            1,
            1,
            1,
            1,
            1,
            1,
            1,
            1,
            1,
            1,
            1,
            1,
            1,
            1,
            1,
            1,
            1,
            1,
            1,
            1,
            1,
            1,
            1,
            1,
            1,
            1,
            1,
            1,
            1,
            1,
            1,
            1,
            1,
            1,
            1,
            1,
            1,
            1
           ]
          }
         ],
         "name": "2020"
        },
        {
         "data": [
          {
           "coloraxis": "coloraxis",
           "geo": "geo",
           "hovertemplate": "release_year=2021<br>country=%{location}<br>counts=%{z}<extra></extra>",
           "locationmode": "country names",
           "locations": [
            "United States",
            "India",
            "United Kingdom",
            "South Korea",
            "Spain",
            "Japan",
            "Mexico",
            "Australia",
            "France",
            "Italy",
            "Germany",
            "South Africa",
            "Turkey",
            "Brazil",
            "China",
            "Indonesia",
            "Nigeria",
            "Poland",
            "Thailand",
            "United Kingdom, United States",
            "United States, United Kingdom",
            "Canada",
            "Colombia",
            "France, United States",
            "Sweden",
            "United States, Canada",
            "Argentina",
            "Belgium",
            "Canada, United States",
            "Israel",
            "Netherlands",
            "United Arab Emirates",
            "United States, Japan",
            ", South Korea",
            "Australia, United Kingdom",
            "Australia, United States",
            "Belgium, France",
            "Belgium, Netherlands",
            "Belgium, United Kingdom",
            "Canada, United States, Cayman Islands",
            "Canada, United States, Ireland",
            "China, Taiwan",
            "China, United Kingdom",
            "China, United States, Canada",
            "Egypt",
            "Egypt, Denmark, Germany",
            "Germany, Czech Republic",
            "Germany, United States",
            "Hungary, United States",
            "Iceland",
            "India, United Kingdom, France, Qatar",
            "India, United States",
            "Israel, United States",
            "Italy, Brazil, Greece",
            "Italy, United Kingdom",
            "Jordan",
            "Mauritius",
            "Mexico, Brazil",
            "Mexico, France, Colombia",
            "Mexico, United States",
            "New Zealand",
            "Norway, Denmark",
            "Philippines, Singapore, Indonesia",
            "Russia, United States",
            "Saudi Arabia",
            "Spain, Argentina",
            "United Kingdom, Canada, United States",
            "United States, Australia",
            "United States, Brazil, Japan, Spain, India",
            "United States, Czech Republic",
            "United States, India",
            "United States, Mexico",
            "United States, Singapore",
            "Uruguay, Germany",
            "Vietnam"
           ],
           "name": "",
           "type": "choropleth",
           "z": [
            138,
            31,
            22,
            19,
            14,
            12,
            9,
            7,
            7,
            6,
            5,
            5,
            5,
            4,
            4,
            4,
            4,
            4,
            4,
            4,
            4,
            3,
            3,
            3,
            3,
            3,
            2,
            2,
            2,
            2,
            2,
            2,
            2,
            1,
            1,
            1,
            1,
            1,
            1,
            1,
            1,
            1,
            1,
            1,
            1,
            1,
            1,
            1,
            1,
            1,
            1,
            1,
            1,
            1,
            1,
            1,
            1,
            1,
            1,
            1,
            1,
            1,
            1,
            1,
            1,
            1,
            1,
            1,
            1,
            1,
            1,
            1,
            1,
            1,
            1
           ]
          }
         ],
         "name": "2021"
        }
       ],
       "layout": {
        "coloraxis": {
         "cmax": 100,
         "cmin": 0,
         "colorbar": {
          "title": {
           "text": "counts"
          }
         },
         "colorscale": [
          [
           0,
           "#0d0887"
          ],
          [
           0.1111111111111111,
           "#46039f"
          ],
          [
           0.2222222222222222,
           "#7201a8"
          ],
          [
           0.3333333333333333,
           "#9c179e"
          ],
          [
           0.4444444444444444,
           "#bd3786"
          ],
          [
           0.5555555555555556,
           "#d8576b"
          ],
          [
           0.6666666666666666,
           "#ed7953"
          ],
          [
           0.7777777777777778,
           "#fb9f3a"
          ],
          [
           0.8888888888888888,
           "#fdca26"
          ],
          [
           1,
           "#f0f921"
          ]
         ]
        },
        "geo": {
         "center": {},
         "domain": {
          "x": [
           0,
           1
          ],
          "y": [
           0,
           1
          ]
         }
        },
        "legend": {
         "tracegroupgap": 0
        },
        "margin": {
         "t": 60
        },
        "sliders": [
         {
          "active": 0,
          "currentvalue": {
           "prefix": "release_year="
          },
          "len": 0.9,
          "pad": {
           "b": 10,
           "t": 60
          },
          "steps": [
           {
            "args": [
             [
              "1942"
             ],
             {
              "frame": {
               "duration": 0,
               "redraw": true
              },
              "fromcurrent": true,
              "mode": "immediate",
              "transition": {
               "duration": 0,
               "easing": "linear"
              }
             }
            ],
            "label": "1942",
            "method": "animate"
           },
           {
            "args": [
             [
              "1943"
             ],
             {
              "frame": {
               "duration": 0,
               "redraw": true
              },
              "fromcurrent": true,
              "mode": "immediate",
              "transition": {
               "duration": 0,
               "easing": "linear"
              }
             }
            ],
            "label": "1943",
            "method": "animate"
           },
           {
            "args": [
             [
              "1944"
             ],
             {
              "frame": {
               "duration": 0,
               "redraw": true
              },
              "fromcurrent": true,
              "mode": "immediate",
              "transition": {
               "duration": 0,
               "easing": "linear"
              }
             }
            ],
            "label": "1944",
            "method": "animate"
           },
           {
            "args": [
             [
              "1945"
             ],
             {
              "frame": {
               "duration": 0,
               "redraw": true
              },
              "fromcurrent": true,
              "mode": "immediate",
              "transition": {
               "duration": 0,
               "easing": "linear"
              }
             }
            ],
            "label": "1945",
            "method": "animate"
           },
           {
            "args": [
             [
              "1946"
             ],
             {
              "frame": {
               "duration": 0,
               "redraw": true
              },
              "fromcurrent": true,
              "mode": "immediate",
              "transition": {
               "duration": 0,
               "easing": "linear"
              }
             }
            ],
            "label": "1946",
            "method": "animate"
           },
           {
            "args": [
             [
              "1947"
             ],
             {
              "frame": {
               "duration": 0,
               "redraw": true
              },
              "fromcurrent": true,
              "mode": "immediate",
              "transition": {
               "duration": 0,
               "easing": "linear"
              }
             }
            ],
            "label": "1947",
            "method": "animate"
           },
           {
            "args": [
             [
              "1954"
             ],
             {
              "frame": {
               "duration": 0,
               "redraw": true
              },
              "fromcurrent": true,
              "mode": "immediate",
              "transition": {
               "duration": 0,
               "easing": "linear"
              }
             }
            ],
            "label": "1954",
            "method": "animate"
           },
           {
            "args": [
             [
              "1955"
             ],
             {
              "frame": {
               "duration": 0,
               "redraw": true
              },
              "fromcurrent": true,
              "mode": "immediate",
              "transition": {
               "duration": 0,
               "easing": "linear"
              }
             }
            ],
            "label": "1955",
            "method": "animate"
           },
           {
            "args": [
             [
              "1956"
             ],
             {
              "frame": {
               "duration": 0,
               "redraw": true
              },
              "fromcurrent": true,
              "mode": "immediate",
              "transition": {
               "duration": 0,
               "easing": "linear"
              }
             }
            ],
            "label": "1956",
            "method": "animate"
           },
           {
            "args": [
             [
              "1958"
             ],
             {
              "frame": {
               "duration": 0,
               "redraw": true
              },
              "fromcurrent": true,
              "mode": "immediate",
              "transition": {
               "duration": 0,
               "easing": "linear"
              }
             }
            ],
            "label": "1958",
            "method": "animate"
           },
           {
            "args": [
             [
              "1959"
             ],
             {
              "frame": {
               "duration": 0,
               "redraw": true
              },
              "fromcurrent": true,
              "mode": "immediate",
              "transition": {
               "duration": 0,
               "easing": "linear"
              }
             }
            ],
            "label": "1959",
            "method": "animate"
           },
           {
            "args": [
             [
              "1960"
             ],
             {
              "frame": {
               "duration": 0,
               "redraw": true
              },
              "fromcurrent": true,
              "mode": "immediate",
              "transition": {
               "duration": 0,
               "easing": "linear"
              }
             }
            ],
            "label": "1960",
            "method": "animate"
           },
           {
            "args": [
             [
              "1961"
             ],
             {
              "frame": {
               "duration": 0,
               "redraw": true
              },
              "fromcurrent": true,
              "mode": "immediate",
              "transition": {
               "duration": 0,
               "easing": "linear"
              }
             }
            ],
            "label": "1961",
            "method": "animate"
           },
           {
            "args": [
             [
              "1962"
             ],
             {
              "frame": {
               "duration": 0,
               "redraw": true
              },
              "fromcurrent": true,
              "mode": "immediate",
              "transition": {
               "duration": 0,
               "easing": "linear"
              }
             }
            ],
            "label": "1962",
            "method": "animate"
           },
           {
            "args": [
             [
              "1963"
             ],
             {
              "frame": {
               "duration": 0,
               "redraw": true
              },
              "fromcurrent": true,
              "mode": "immediate",
              "transition": {
               "duration": 0,
               "easing": "linear"
              }
             }
            ],
            "label": "1963",
            "method": "animate"
           },
           {
            "args": [
             [
              "1964"
             ],
             {
              "frame": {
               "duration": 0,
               "redraw": true
              },
              "fromcurrent": true,
              "mode": "immediate",
              "transition": {
               "duration": 0,
               "easing": "linear"
              }
             }
            ],
            "label": "1964",
            "method": "animate"
           },
           {
            "args": [
             [
              "1965"
             ],
             {
              "frame": {
               "duration": 0,
               "redraw": true
              },
              "fromcurrent": true,
              "mode": "immediate",
              "transition": {
               "duration": 0,
               "easing": "linear"
              }
             }
            ],
            "label": "1965",
            "method": "animate"
           },
           {
            "args": [
             [
              "1966"
             ],
             {
              "frame": {
               "duration": 0,
               "redraw": true
              },
              "fromcurrent": true,
              "mode": "immediate",
              "transition": {
               "duration": 0,
               "easing": "linear"
              }
             }
            ],
            "label": "1966",
            "method": "animate"
           },
           {
            "args": [
             [
              "1967"
             ],
             {
              "frame": {
               "duration": 0,
               "redraw": true
              },
              "fromcurrent": true,
              "mode": "immediate",
              "transition": {
               "duration": 0,
               "easing": "linear"
              }
             }
            ],
            "label": "1967",
            "method": "animate"
           },
           {
            "args": [
             [
              "1968"
             ],
             {
              "frame": {
               "duration": 0,
               "redraw": true
              },
              "fromcurrent": true,
              "mode": "immediate",
              "transition": {
               "duration": 0,
               "easing": "linear"
              }
             }
            ],
            "label": "1968",
            "method": "animate"
           },
           {
            "args": [
             [
              "1969"
             ],
             {
              "frame": {
               "duration": 0,
               "redraw": true
              },
              "fromcurrent": true,
              "mode": "immediate",
              "transition": {
               "duration": 0,
               "easing": "linear"
              }
             }
            ],
            "label": "1969",
            "method": "animate"
           },
           {
            "args": [
             [
              "1970"
             ],
             {
              "frame": {
               "duration": 0,
               "redraw": true
              },
              "fromcurrent": true,
              "mode": "immediate",
              "transition": {
               "duration": 0,
               "easing": "linear"
              }
             }
            ],
            "label": "1970",
            "method": "animate"
           },
           {
            "args": [
             [
              "1971"
             ],
             {
              "frame": {
               "duration": 0,
               "redraw": true
              },
              "fromcurrent": true,
              "mode": "immediate",
              "transition": {
               "duration": 0,
               "easing": "linear"
              }
             }
            ],
            "label": "1971",
            "method": "animate"
           },
           {
            "args": [
             [
              "1972"
             ],
             {
              "frame": {
               "duration": 0,
               "redraw": true
              },
              "fromcurrent": true,
              "mode": "immediate",
              "transition": {
               "duration": 0,
               "easing": "linear"
              }
             }
            ],
            "label": "1972",
            "method": "animate"
           },
           {
            "args": [
             [
              "1973"
             ],
             {
              "frame": {
               "duration": 0,
               "redraw": true
              },
              "fromcurrent": true,
              "mode": "immediate",
              "transition": {
               "duration": 0,
               "easing": "linear"
              }
             }
            ],
            "label": "1973",
            "method": "animate"
           },
           {
            "args": [
             [
              "1974"
             ],
             {
              "frame": {
               "duration": 0,
               "redraw": true
              },
              "fromcurrent": true,
              "mode": "immediate",
              "transition": {
               "duration": 0,
               "easing": "linear"
              }
             }
            ],
            "label": "1974",
            "method": "animate"
           },
           {
            "args": [
             [
              "1975"
             ],
             {
              "frame": {
               "duration": 0,
               "redraw": true
              },
              "fromcurrent": true,
              "mode": "immediate",
              "transition": {
               "duration": 0,
               "easing": "linear"
              }
             }
            ],
            "label": "1975",
            "method": "animate"
           },
           {
            "args": [
             [
              "1976"
             ],
             {
              "frame": {
               "duration": 0,
               "redraw": true
              },
              "fromcurrent": true,
              "mode": "immediate",
              "transition": {
               "duration": 0,
               "easing": "linear"
              }
             }
            ],
            "label": "1976",
            "method": "animate"
           },
           {
            "args": [
             [
              "1977"
             ],
             {
              "frame": {
               "duration": 0,
               "redraw": true
              },
              "fromcurrent": true,
              "mode": "immediate",
              "transition": {
               "duration": 0,
               "easing": "linear"
              }
             }
            ],
            "label": "1977",
            "method": "animate"
           },
           {
            "args": [
             [
              "1978"
             ],
             {
              "frame": {
               "duration": 0,
               "redraw": true
              },
              "fromcurrent": true,
              "mode": "immediate",
              "transition": {
               "duration": 0,
               "easing": "linear"
              }
             }
            ],
            "label": "1978",
            "method": "animate"
           },
           {
            "args": [
             [
              "1979"
             ],
             {
              "frame": {
               "duration": 0,
               "redraw": true
              },
              "fromcurrent": true,
              "mode": "immediate",
              "transition": {
               "duration": 0,
               "easing": "linear"
              }
             }
            ],
            "label": "1979",
            "method": "animate"
           },
           {
            "args": [
             [
              "1980"
             ],
             {
              "frame": {
               "duration": 0,
               "redraw": true
              },
              "fromcurrent": true,
              "mode": "immediate",
              "transition": {
               "duration": 0,
               "easing": "linear"
              }
             }
            ],
            "label": "1980",
            "method": "animate"
           },
           {
            "args": [
             [
              "1981"
             ],
             {
              "frame": {
               "duration": 0,
               "redraw": true
              },
              "fromcurrent": true,
              "mode": "immediate",
              "transition": {
               "duration": 0,
               "easing": "linear"
              }
             }
            ],
            "label": "1981",
            "method": "animate"
           },
           {
            "args": [
             [
              "1982"
             ],
             {
              "frame": {
               "duration": 0,
               "redraw": true
              },
              "fromcurrent": true,
              "mode": "immediate",
              "transition": {
               "duration": 0,
               "easing": "linear"
              }
             }
            ],
            "label": "1982",
            "method": "animate"
           },
           {
            "args": [
             [
              "1983"
             ],
             {
              "frame": {
               "duration": 0,
               "redraw": true
              },
              "fromcurrent": true,
              "mode": "immediate",
              "transition": {
               "duration": 0,
               "easing": "linear"
              }
             }
            ],
            "label": "1983",
            "method": "animate"
           },
           {
            "args": [
             [
              "1984"
             ],
             {
              "frame": {
               "duration": 0,
               "redraw": true
              },
              "fromcurrent": true,
              "mode": "immediate",
              "transition": {
               "duration": 0,
               "easing": "linear"
              }
             }
            ],
            "label": "1984",
            "method": "animate"
           },
           {
            "args": [
             [
              "1985"
             ],
             {
              "frame": {
               "duration": 0,
               "redraw": true
              },
              "fromcurrent": true,
              "mode": "immediate",
              "transition": {
               "duration": 0,
               "easing": "linear"
              }
             }
            ],
            "label": "1985",
            "method": "animate"
           },
           {
            "args": [
             [
              "1986"
             ],
             {
              "frame": {
               "duration": 0,
               "redraw": true
              },
              "fromcurrent": true,
              "mode": "immediate",
              "transition": {
               "duration": 0,
               "easing": "linear"
              }
             }
            ],
            "label": "1986",
            "method": "animate"
           },
           {
            "args": [
             [
              "1987"
             ],
             {
              "frame": {
               "duration": 0,
               "redraw": true
              },
              "fromcurrent": true,
              "mode": "immediate",
              "transition": {
               "duration": 0,
               "easing": "linear"
              }
             }
            ],
            "label": "1987",
            "method": "animate"
           },
           {
            "args": [
             [
              "1988"
             ],
             {
              "frame": {
               "duration": 0,
               "redraw": true
              },
              "fromcurrent": true,
              "mode": "immediate",
              "transition": {
               "duration": 0,
               "easing": "linear"
              }
             }
            ],
            "label": "1988",
            "method": "animate"
           },
           {
            "args": [
             [
              "1989"
             ],
             {
              "frame": {
               "duration": 0,
               "redraw": true
              },
              "fromcurrent": true,
              "mode": "immediate",
              "transition": {
               "duration": 0,
               "easing": "linear"
              }
             }
            ],
            "label": "1989",
            "method": "animate"
           },
           {
            "args": [
             [
              "1990"
             ],
             {
              "frame": {
               "duration": 0,
               "redraw": true
              },
              "fromcurrent": true,
              "mode": "immediate",
              "transition": {
               "duration": 0,
               "easing": "linear"
              }
             }
            ],
            "label": "1990",
            "method": "animate"
           },
           {
            "args": [
             [
              "1991"
             ],
             {
              "frame": {
               "duration": 0,
               "redraw": true
              },
              "fromcurrent": true,
              "mode": "immediate",
              "transition": {
               "duration": 0,
               "easing": "linear"
              }
             }
            ],
            "label": "1991",
            "method": "animate"
           },
           {
            "args": [
             [
              "1992"
             ],
             {
              "frame": {
               "duration": 0,
               "redraw": true
              },
              "fromcurrent": true,
              "mode": "immediate",
              "transition": {
               "duration": 0,
               "easing": "linear"
              }
             }
            ],
            "label": "1992",
            "method": "animate"
           },
           {
            "args": [
             [
              "1993"
             ],
             {
              "frame": {
               "duration": 0,
               "redraw": true
              },
              "fromcurrent": true,
              "mode": "immediate",
              "transition": {
               "duration": 0,
               "easing": "linear"
              }
             }
            ],
            "label": "1993",
            "method": "animate"
           },
           {
            "args": [
             [
              "1994"
             ],
             {
              "frame": {
               "duration": 0,
               "redraw": true
              },
              "fromcurrent": true,
              "mode": "immediate",
              "transition": {
               "duration": 0,
               "easing": "linear"
              }
             }
            ],
            "label": "1994",
            "method": "animate"
           },
           {
            "args": [
             [
              "1995"
             ],
             {
              "frame": {
               "duration": 0,
               "redraw": true
              },
              "fromcurrent": true,
              "mode": "immediate",
              "transition": {
               "duration": 0,
               "easing": "linear"
              }
             }
            ],
            "label": "1995",
            "method": "animate"
           },
           {
            "args": [
             [
              "1996"
             ],
             {
              "frame": {
               "duration": 0,
               "redraw": true
              },
              "fromcurrent": true,
              "mode": "immediate",
              "transition": {
               "duration": 0,
               "easing": "linear"
              }
             }
            ],
            "label": "1996",
            "method": "animate"
           },
           {
            "args": [
             [
              "1997"
             ],
             {
              "frame": {
               "duration": 0,
               "redraw": true
              },
              "fromcurrent": true,
              "mode": "immediate",
              "transition": {
               "duration": 0,
               "easing": "linear"
              }
             }
            ],
            "label": "1997",
            "method": "animate"
           },
           {
            "args": [
             [
              "1998"
             ],
             {
              "frame": {
               "duration": 0,
               "redraw": true
              },
              "fromcurrent": true,
              "mode": "immediate",
              "transition": {
               "duration": 0,
               "easing": "linear"
              }
             }
            ],
            "label": "1998",
            "method": "animate"
           },
           {
            "args": [
             [
              "1999"
             ],
             {
              "frame": {
               "duration": 0,
               "redraw": true
              },
              "fromcurrent": true,
              "mode": "immediate",
              "transition": {
               "duration": 0,
               "easing": "linear"
              }
             }
            ],
            "label": "1999",
            "method": "animate"
           },
           {
            "args": [
             [
              "2000"
             ],
             {
              "frame": {
               "duration": 0,
               "redraw": true
              },
              "fromcurrent": true,
              "mode": "immediate",
              "transition": {
               "duration": 0,
               "easing": "linear"
              }
             }
            ],
            "label": "2000",
            "method": "animate"
           },
           {
            "args": [
             [
              "2001"
             ],
             {
              "frame": {
               "duration": 0,
               "redraw": true
              },
              "fromcurrent": true,
              "mode": "immediate",
              "transition": {
               "duration": 0,
               "easing": "linear"
              }
             }
            ],
            "label": "2001",
            "method": "animate"
           },
           {
            "args": [
             [
              "2002"
             ],
             {
              "frame": {
               "duration": 0,
               "redraw": true
              },
              "fromcurrent": true,
              "mode": "immediate",
              "transition": {
               "duration": 0,
               "easing": "linear"
              }
             }
            ],
            "label": "2002",
            "method": "animate"
           },
           {
            "args": [
             [
              "2003"
             ],
             {
              "frame": {
               "duration": 0,
               "redraw": true
              },
              "fromcurrent": true,
              "mode": "immediate",
              "transition": {
               "duration": 0,
               "easing": "linear"
              }
             }
            ],
            "label": "2003",
            "method": "animate"
           },
           {
            "args": [
             [
              "2004"
             ],
             {
              "frame": {
               "duration": 0,
               "redraw": true
              },
              "fromcurrent": true,
              "mode": "immediate",
              "transition": {
               "duration": 0,
               "easing": "linear"
              }
             }
            ],
            "label": "2004",
            "method": "animate"
           },
           {
            "args": [
             [
              "2005"
             ],
             {
              "frame": {
               "duration": 0,
               "redraw": true
              },
              "fromcurrent": true,
              "mode": "immediate",
              "transition": {
               "duration": 0,
               "easing": "linear"
              }
             }
            ],
            "label": "2005",
            "method": "animate"
           },
           {
            "args": [
             [
              "2006"
             ],
             {
              "frame": {
               "duration": 0,
               "redraw": true
              },
              "fromcurrent": true,
              "mode": "immediate",
              "transition": {
               "duration": 0,
               "easing": "linear"
              }
             }
            ],
            "label": "2006",
            "method": "animate"
           },
           {
            "args": [
             [
              "2007"
             ],
             {
              "frame": {
               "duration": 0,
               "redraw": true
              },
              "fromcurrent": true,
              "mode": "immediate",
              "transition": {
               "duration": 0,
               "easing": "linear"
              }
             }
            ],
            "label": "2007",
            "method": "animate"
           },
           {
            "args": [
             [
              "2008"
             ],
             {
              "frame": {
               "duration": 0,
               "redraw": true
              },
              "fromcurrent": true,
              "mode": "immediate",
              "transition": {
               "duration": 0,
               "easing": "linear"
              }
             }
            ],
            "label": "2008",
            "method": "animate"
           },
           {
            "args": [
             [
              "2009"
             ],
             {
              "frame": {
               "duration": 0,
               "redraw": true
              },
              "fromcurrent": true,
              "mode": "immediate",
              "transition": {
               "duration": 0,
               "easing": "linear"
              }
             }
            ],
            "label": "2009",
            "method": "animate"
           },
           {
            "args": [
             [
              "2010"
             ],
             {
              "frame": {
               "duration": 0,
               "redraw": true
              },
              "fromcurrent": true,
              "mode": "immediate",
              "transition": {
               "duration": 0,
               "easing": "linear"
              }
             }
            ],
            "label": "2010",
            "method": "animate"
           },
           {
            "args": [
             [
              "2011"
             ],
             {
              "frame": {
               "duration": 0,
               "redraw": true
              },
              "fromcurrent": true,
              "mode": "immediate",
              "transition": {
               "duration": 0,
               "easing": "linear"
              }
             }
            ],
            "label": "2011",
            "method": "animate"
           },
           {
            "args": [
             [
              "2012"
             ],
             {
              "frame": {
               "duration": 0,
               "redraw": true
              },
              "fromcurrent": true,
              "mode": "immediate",
              "transition": {
               "duration": 0,
               "easing": "linear"
              }
             }
            ],
            "label": "2012",
            "method": "animate"
           },
           {
            "args": [
             [
              "2013"
             ],
             {
              "frame": {
               "duration": 0,
               "redraw": true
              },
              "fromcurrent": true,
              "mode": "immediate",
              "transition": {
               "duration": 0,
               "easing": "linear"
              }
             }
            ],
            "label": "2013",
            "method": "animate"
           },
           {
            "args": [
             [
              "2014"
             ],
             {
              "frame": {
               "duration": 0,
               "redraw": true
              },
              "fromcurrent": true,
              "mode": "immediate",
              "transition": {
               "duration": 0,
               "easing": "linear"
              }
             }
            ],
            "label": "2014",
            "method": "animate"
           },
           {
            "args": [
             [
              "2015"
             ],
             {
              "frame": {
               "duration": 0,
               "redraw": true
              },
              "fromcurrent": true,
              "mode": "immediate",
              "transition": {
               "duration": 0,
               "easing": "linear"
              }
             }
            ],
            "label": "2015",
            "method": "animate"
           },
           {
            "args": [
             [
              "2016"
             ],
             {
              "frame": {
               "duration": 0,
               "redraw": true
              },
              "fromcurrent": true,
              "mode": "immediate",
              "transition": {
               "duration": 0,
               "easing": "linear"
              }
             }
            ],
            "label": "2016",
            "method": "animate"
           },
           {
            "args": [
             [
              "2017"
             ],
             {
              "frame": {
               "duration": 0,
               "redraw": true
              },
              "fromcurrent": true,
              "mode": "immediate",
              "transition": {
               "duration": 0,
               "easing": "linear"
              }
             }
            ],
            "label": "2017",
            "method": "animate"
           },
           {
            "args": [
             [
              "2018"
             ],
             {
              "frame": {
               "duration": 0,
               "redraw": true
              },
              "fromcurrent": true,
              "mode": "immediate",
              "transition": {
               "duration": 0,
               "easing": "linear"
              }
             }
            ],
            "label": "2018",
            "method": "animate"
           },
           {
            "args": [
             [
              "2019"
             ],
             {
              "frame": {
               "duration": 0,
               "redraw": true
              },
              "fromcurrent": true,
              "mode": "immediate",
              "transition": {
               "duration": 0,
               "easing": "linear"
              }
             }
            ],
            "label": "2019",
            "method": "animate"
           },
           {
            "args": [
             [
              "2020"
             ],
             {
              "frame": {
               "duration": 0,
               "redraw": true
              },
              "fromcurrent": true,
              "mode": "immediate",
              "transition": {
               "duration": 0,
               "easing": "linear"
              }
             }
            ],
            "label": "2020",
            "method": "animate"
           },
           {
            "args": [
             [
              "2021"
             ],
             {
              "frame": {
               "duration": 0,
               "redraw": true
              },
              "fromcurrent": true,
              "mode": "immediate",
              "transition": {
               "duration": 0,
               "easing": "linear"
              }
             }
            ],
            "label": "2021",
            "method": "animate"
           }
          ],
          "x": 0.1,
          "xanchor": "left",
          "y": 0,
          "yanchor": "top"
         }
        ],
        "template": {
         "data": {
          "bar": [
           {
            "error_x": {
             "color": "#2a3f5f"
            },
            "error_y": {
             "color": "#2a3f5f"
            },
            "marker": {
             "line": {
              "color": "#E5ECF6",
              "width": 0.5
             },
             "pattern": {
              "fillmode": "overlay",
              "size": 10,
              "solidity": 0.2
             }
            },
            "type": "bar"
           }
          ],
          "barpolar": [
           {
            "marker": {
             "line": {
              "color": "#E5ECF6",
              "width": 0.5
             },
             "pattern": {
              "fillmode": "overlay",
              "size": 10,
              "solidity": 0.2
             }
            },
            "type": "barpolar"
           }
          ],
          "carpet": [
           {
            "aaxis": {
             "endlinecolor": "#2a3f5f",
             "gridcolor": "white",
             "linecolor": "white",
             "minorgridcolor": "white",
             "startlinecolor": "#2a3f5f"
            },
            "baxis": {
             "endlinecolor": "#2a3f5f",
             "gridcolor": "white",
             "linecolor": "white",
             "minorgridcolor": "white",
             "startlinecolor": "#2a3f5f"
            },
            "type": "carpet"
           }
          ],
          "choropleth": [
           {
            "colorbar": {
             "outlinewidth": 0,
             "ticks": ""
            },
            "type": "choropleth"
           }
          ],
          "contour": [
           {
            "colorbar": {
             "outlinewidth": 0,
             "ticks": ""
            },
            "colorscale": [
             [
              0,
              "#0d0887"
             ],
             [
              0.1111111111111111,
              "#46039f"
             ],
             [
              0.2222222222222222,
              "#7201a8"
             ],
             [
              0.3333333333333333,
              "#9c179e"
             ],
             [
              0.4444444444444444,
              "#bd3786"
             ],
             [
              0.5555555555555556,
              "#d8576b"
             ],
             [
              0.6666666666666666,
              "#ed7953"
             ],
             [
              0.7777777777777778,
              "#fb9f3a"
             ],
             [
              0.8888888888888888,
              "#fdca26"
             ],
             [
              1,
              "#f0f921"
             ]
            ],
            "type": "contour"
           }
          ],
          "contourcarpet": [
           {
            "colorbar": {
             "outlinewidth": 0,
             "ticks": ""
            },
            "type": "contourcarpet"
           }
          ],
          "heatmap": [
           {
            "colorbar": {
             "outlinewidth": 0,
             "ticks": ""
            },
            "colorscale": [
             [
              0,
              "#0d0887"
             ],
             [
              0.1111111111111111,
              "#46039f"
             ],
             [
              0.2222222222222222,
              "#7201a8"
             ],
             [
              0.3333333333333333,
              "#9c179e"
             ],
             [
              0.4444444444444444,
              "#bd3786"
             ],
             [
              0.5555555555555556,
              "#d8576b"
             ],
             [
              0.6666666666666666,
              "#ed7953"
             ],
             [
              0.7777777777777778,
              "#fb9f3a"
             ],
             [
              0.8888888888888888,
              "#fdca26"
             ],
             [
              1,
              "#f0f921"
             ]
            ],
            "type": "heatmap"
           }
          ],
          "heatmapgl": [
           {
            "colorbar": {
             "outlinewidth": 0,
             "ticks": ""
            },
            "colorscale": [
             [
              0,
              "#0d0887"
             ],
             [
              0.1111111111111111,
              "#46039f"
             ],
             [
              0.2222222222222222,
              "#7201a8"
             ],
             [
              0.3333333333333333,
              "#9c179e"
             ],
             [
              0.4444444444444444,
              "#bd3786"
             ],
             [
              0.5555555555555556,
              "#d8576b"
             ],
             [
              0.6666666666666666,
              "#ed7953"
             ],
             [
              0.7777777777777778,
              "#fb9f3a"
             ],
             [
              0.8888888888888888,
              "#fdca26"
             ],
             [
              1,
              "#f0f921"
             ]
            ],
            "type": "heatmapgl"
           }
          ],
          "histogram": [
           {
            "marker": {
             "pattern": {
              "fillmode": "overlay",
              "size": 10,
              "solidity": 0.2
             }
            },
            "type": "histogram"
           }
          ],
          "histogram2d": [
           {
            "colorbar": {
             "outlinewidth": 0,
             "ticks": ""
            },
            "colorscale": [
             [
              0,
              "#0d0887"
             ],
             [
              0.1111111111111111,
              "#46039f"
             ],
             [
              0.2222222222222222,
              "#7201a8"
             ],
             [
              0.3333333333333333,
              "#9c179e"
             ],
             [
              0.4444444444444444,
              "#bd3786"
             ],
             [
              0.5555555555555556,
              "#d8576b"
             ],
             [
              0.6666666666666666,
              "#ed7953"
             ],
             [
              0.7777777777777778,
              "#fb9f3a"
             ],
             [
              0.8888888888888888,
              "#fdca26"
             ],
             [
              1,
              "#f0f921"
             ]
            ],
            "type": "histogram2d"
           }
          ],
          "histogram2dcontour": [
           {
            "colorbar": {
             "outlinewidth": 0,
             "ticks": ""
            },
            "colorscale": [
             [
              0,
              "#0d0887"
             ],
             [
              0.1111111111111111,
              "#46039f"
             ],
             [
              0.2222222222222222,
              "#7201a8"
             ],
             [
              0.3333333333333333,
              "#9c179e"
             ],
             [
              0.4444444444444444,
              "#bd3786"
             ],
             [
              0.5555555555555556,
              "#d8576b"
             ],
             [
              0.6666666666666666,
              "#ed7953"
             ],
             [
              0.7777777777777778,
              "#fb9f3a"
             ],
             [
              0.8888888888888888,
              "#fdca26"
             ],
             [
              1,
              "#f0f921"
             ]
            ],
            "type": "histogram2dcontour"
           }
          ],
          "mesh3d": [
           {
            "colorbar": {
             "outlinewidth": 0,
             "ticks": ""
            },
            "type": "mesh3d"
           }
          ],
          "parcoords": [
           {
            "line": {
             "colorbar": {
              "outlinewidth": 0,
              "ticks": ""
             }
            },
            "type": "parcoords"
           }
          ],
          "pie": [
           {
            "automargin": true,
            "type": "pie"
           }
          ],
          "scatter": [
           {
            "fillpattern": {
             "fillmode": "overlay",
             "size": 10,
             "solidity": 0.2
            },
            "type": "scatter"
           }
          ],
          "scatter3d": [
           {
            "line": {
             "colorbar": {
              "outlinewidth": 0,
              "ticks": ""
             }
            },
            "marker": {
             "colorbar": {
              "outlinewidth": 0,
              "ticks": ""
             }
            },
            "type": "scatter3d"
           }
          ],
          "scattercarpet": [
           {
            "marker": {
             "colorbar": {
              "outlinewidth": 0,
              "ticks": ""
             }
            },
            "type": "scattercarpet"
           }
          ],
          "scattergeo": [
           {
            "marker": {
             "colorbar": {
              "outlinewidth": 0,
              "ticks": ""
             }
            },
            "type": "scattergeo"
           }
          ],
          "scattergl": [
           {
            "marker": {
             "colorbar": {
              "outlinewidth": 0,
              "ticks": ""
             }
            },
            "type": "scattergl"
           }
          ],
          "scattermapbox": [
           {
            "marker": {
             "colorbar": {
              "outlinewidth": 0,
              "ticks": ""
             }
            },
            "type": "scattermapbox"
           }
          ],
          "scatterpolar": [
           {
            "marker": {
             "colorbar": {
              "outlinewidth": 0,
              "ticks": ""
             }
            },
            "type": "scatterpolar"
           }
          ],
          "scatterpolargl": [
           {
            "marker": {
             "colorbar": {
              "outlinewidth": 0,
              "ticks": ""
             }
            },
            "type": "scatterpolargl"
           }
          ],
          "scatterternary": [
           {
            "marker": {
             "colorbar": {
              "outlinewidth": 0,
              "ticks": ""
             }
            },
            "type": "scatterternary"
           }
          ],
          "surface": [
           {
            "colorbar": {
             "outlinewidth": 0,
             "ticks": ""
            },
            "colorscale": [
             [
              0,
              "#0d0887"
             ],
             [
              0.1111111111111111,
              "#46039f"
             ],
             [
              0.2222222222222222,
              "#7201a8"
             ],
             [
              0.3333333333333333,
              "#9c179e"
             ],
             [
              0.4444444444444444,
              "#bd3786"
             ],
             [
              0.5555555555555556,
              "#d8576b"
             ],
             [
              0.6666666666666666,
              "#ed7953"
             ],
             [
              0.7777777777777778,
              "#fb9f3a"
             ],
             [
              0.8888888888888888,
              "#fdca26"
             ],
             [
              1,
              "#f0f921"
             ]
            ],
            "type": "surface"
           }
          ],
          "table": [
           {
            "cells": {
             "fill": {
              "color": "#EBF0F8"
             },
             "line": {
              "color": "white"
             }
            },
            "header": {
             "fill": {
              "color": "#C8D4E3"
             },
             "line": {
              "color": "white"
             }
            },
            "type": "table"
           }
          ]
         },
         "layout": {
          "annotationdefaults": {
           "arrowcolor": "#2a3f5f",
           "arrowhead": 0,
           "arrowwidth": 1
          },
          "autotypenumbers": "strict",
          "coloraxis": {
           "colorbar": {
            "outlinewidth": 0,
            "ticks": ""
           }
          },
          "colorscale": {
           "diverging": [
            [
             0,
             "#8e0152"
            ],
            [
             0.1,
             "#c51b7d"
            ],
            [
             0.2,
             "#de77ae"
            ],
            [
             0.3,
             "#f1b6da"
            ],
            [
             0.4,
             "#fde0ef"
            ],
            [
             0.5,
             "#f7f7f7"
            ],
            [
             0.6,
             "#e6f5d0"
            ],
            [
             0.7,
             "#b8e186"
            ],
            [
             0.8,
             "#7fbc41"
            ],
            [
             0.9,
             "#4d9221"
            ],
            [
             1,
             "#276419"
            ]
           ],
           "sequential": [
            [
             0,
             "#0d0887"
            ],
            [
             0.1111111111111111,
             "#46039f"
            ],
            [
             0.2222222222222222,
             "#7201a8"
            ],
            [
             0.3333333333333333,
             "#9c179e"
            ],
            [
             0.4444444444444444,
             "#bd3786"
            ],
            [
             0.5555555555555556,
             "#d8576b"
            ],
            [
             0.6666666666666666,
             "#ed7953"
            ],
            [
             0.7777777777777778,
             "#fb9f3a"
            ],
            [
             0.8888888888888888,
             "#fdca26"
            ],
            [
             1,
             "#f0f921"
            ]
           ],
           "sequentialminus": [
            [
             0,
             "#0d0887"
            ],
            [
             0.1111111111111111,
             "#46039f"
            ],
            [
             0.2222222222222222,
             "#7201a8"
            ],
            [
             0.3333333333333333,
             "#9c179e"
            ],
            [
             0.4444444444444444,
             "#bd3786"
            ],
            [
             0.5555555555555556,
             "#d8576b"
            ],
            [
             0.6666666666666666,
             "#ed7953"
            ],
            [
             0.7777777777777778,
             "#fb9f3a"
            ],
            [
             0.8888888888888888,
             "#fdca26"
            ],
            [
             1,
             "#f0f921"
            ]
           ]
          },
          "colorway": [
           "#636efa",
           "#EF553B",
           "#00cc96",
           "#ab63fa",
           "#FFA15A",
           "#19d3f3",
           "#FF6692",
           "#B6E880",
           "#FF97FF",
           "#FECB52"
          ],
          "font": {
           "color": "#2a3f5f"
          },
          "geo": {
           "bgcolor": "white",
           "lakecolor": "white",
           "landcolor": "#E5ECF6",
           "showlakes": true,
           "showland": true,
           "subunitcolor": "white"
          },
          "hoverlabel": {
           "align": "left"
          },
          "hovermode": "closest",
          "mapbox": {
           "style": "light"
          },
          "paper_bgcolor": "white",
          "plot_bgcolor": "#E5ECF6",
          "polar": {
           "angularaxis": {
            "gridcolor": "white",
            "linecolor": "white",
            "ticks": ""
           },
           "bgcolor": "#E5ECF6",
           "radialaxis": {
            "gridcolor": "white",
            "linecolor": "white",
            "ticks": ""
           }
          },
          "scene": {
           "xaxis": {
            "backgroundcolor": "#E5ECF6",
            "gridcolor": "white",
            "gridwidth": 2,
            "linecolor": "white",
            "showbackground": true,
            "ticks": "",
            "zerolinecolor": "white"
           },
           "yaxis": {
            "backgroundcolor": "#E5ECF6",
            "gridcolor": "white",
            "gridwidth": 2,
            "linecolor": "white",
            "showbackground": true,
            "ticks": "",
            "zerolinecolor": "white"
           },
           "zaxis": {
            "backgroundcolor": "#E5ECF6",
            "gridcolor": "white",
            "gridwidth": 2,
            "linecolor": "white",
            "showbackground": true,
            "ticks": "",
            "zerolinecolor": "white"
           }
          },
          "shapedefaults": {
           "line": {
            "color": "#2a3f5f"
           }
          },
          "ternary": {
           "aaxis": {
            "gridcolor": "white",
            "linecolor": "white",
            "ticks": ""
           },
           "baxis": {
            "gridcolor": "white",
            "linecolor": "white",
            "ticks": ""
           },
           "bgcolor": "#E5ECF6",
           "caxis": {
            "gridcolor": "white",
            "linecolor": "white",
            "ticks": ""
           }
          },
          "title": {
           "x": 0.05
          },
          "xaxis": {
           "automargin": true,
           "gridcolor": "white",
           "linecolor": "white",
           "ticks": "",
           "title": {
            "standoff": 15
           },
           "zerolinecolor": "white",
           "zerolinewidth": 2
          },
          "yaxis": {
           "automargin": true,
           "gridcolor": "white",
           "linecolor": "white",
           "ticks": "",
           "title": {
            "standoff": 15
           },
           "zerolinecolor": "white",
           "zerolinewidth": 2
          }
         }
        },
        "title": {
         "text": "Dynamics of content by years (no international projects)"
        },
        "updatemenus": [
         {
          "buttons": [
           {
            "args": [
             null,
             {
              "frame": {
               "duration": 500,
               "redraw": true
              },
              "fromcurrent": true,
              "mode": "immediate",
              "transition": {
               "duration": 500,
               "easing": "linear"
              }
             }
            ],
            "label": "&#9654;",
            "method": "animate"
           },
           {
            "args": [
             [
              null
             ],
             {
              "frame": {
               "duration": 0,
               "redraw": true
              },
              "fromcurrent": true,
              "mode": "immediate",
              "transition": {
               "duration": 0,
               "easing": "linear"
              }
             }
            ],
            "label": "&#9724;",
            "method": "animate"
           }
          ],
          "direction": "left",
          "pad": {
           "r": 10,
           "t": 70
          },
          "showactive": false,
          "type": "buttons",
          "x": 0.1,
          "xanchor": "right",
          "y": 0,
          "yanchor": "top"
         }
        ]
       }
      },
      "text/html": [
       "<div>                            <div id=\"7bd53dcf-c8ba-47dd-bece-f5c22949d902\" class=\"plotly-graph-div\" style=\"height:525px; width:100%;\"></div>            <script type=\"text/javascript\">                require([\"plotly\"], function(Plotly) {                    window.PLOTLYENV=window.PLOTLYENV || {};                                    if (document.getElementById(\"7bd53dcf-c8ba-47dd-bece-f5c22949d902\")) {                    Plotly.newPlot(                        \"7bd53dcf-c8ba-47dd-bece-f5c22949d902\",                        [{\"coloraxis\":\"coloraxis\",\"geo\":\"geo\",\"hovertemplate\":\"release_year=1942<br>country=%{location}<br>counts=%{z}<extra></extra>\",\"locationmode\":\"country names\",\"locations\":[\"United States\"],\"name\":\"\",\"z\":[2],\"type\":\"choropleth\"}],                        {\"template\":{\"data\":{\"histogram2dcontour\":[{\"type\":\"histogram2dcontour\",\"colorbar\":{\"outlinewidth\":0,\"ticks\":\"\"},\"colorscale\":[[0.0,\"#0d0887\"],[0.1111111111111111,\"#46039f\"],[0.2222222222222222,\"#7201a8\"],[0.3333333333333333,\"#9c179e\"],[0.4444444444444444,\"#bd3786\"],[0.5555555555555556,\"#d8576b\"],[0.6666666666666666,\"#ed7953\"],[0.7777777777777778,\"#fb9f3a\"],[0.8888888888888888,\"#fdca26\"],[1.0,\"#f0f921\"]]}],\"choropleth\":[{\"type\":\"choropleth\",\"colorbar\":{\"outlinewidth\":0,\"ticks\":\"\"}}],\"histogram2d\":[{\"type\":\"histogram2d\",\"colorbar\":{\"outlinewidth\":0,\"ticks\":\"\"},\"colorscale\":[[0.0,\"#0d0887\"],[0.1111111111111111,\"#46039f\"],[0.2222222222222222,\"#7201a8\"],[0.3333333333333333,\"#9c179e\"],[0.4444444444444444,\"#bd3786\"],[0.5555555555555556,\"#d8576b\"],[0.6666666666666666,\"#ed7953\"],[0.7777777777777778,\"#fb9f3a\"],[0.8888888888888888,\"#fdca26\"],[1.0,\"#f0f921\"]]}],\"heatmap\":[{\"type\":\"heatmap\",\"colorbar\":{\"outlinewidth\":0,\"ticks\":\"\"},\"colorscale\":[[0.0,\"#0d0887\"],[0.1111111111111111,\"#46039f\"],[0.2222222222222222,\"#7201a8\"],[0.3333333333333333,\"#9c179e\"],[0.4444444444444444,\"#bd3786\"],[0.5555555555555556,\"#d8576b\"],[0.6666666666666666,\"#ed7953\"],[0.7777777777777778,\"#fb9f3a\"],[0.8888888888888888,\"#fdca26\"],[1.0,\"#f0f921\"]]}],\"heatmapgl\":[{\"type\":\"heatmapgl\",\"colorbar\":{\"outlinewidth\":0,\"ticks\":\"\"},\"colorscale\":[[0.0,\"#0d0887\"],[0.1111111111111111,\"#46039f\"],[0.2222222222222222,\"#7201a8\"],[0.3333333333333333,\"#9c179e\"],[0.4444444444444444,\"#bd3786\"],[0.5555555555555556,\"#d8576b\"],[0.6666666666666666,\"#ed7953\"],[0.7777777777777778,\"#fb9f3a\"],[0.8888888888888888,\"#fdca26\"],[1.0,\"#f0f921\"]]}],\"contourcarpet\":[{\"type\":\"contourcarpet\",\"colorbar\":{\"outlinewidth\":0,\"ticks\":\"\"}}],\"contour\":[{\"type\":\"contour\",\"colorbar\":{\"outlinewidth\":0,\"ticks\":\"\"},\"colorscale\":[[0.0,\"#0d0887\"],[0.1111111111111111,\"#46039f\"],[0.2222222222222222,\"#7201a8\"],[0.3333333333333333,\"#9c179e\"],[0.4444444444444444,\"#bd3786\"],[0.5555555555555556,\"#d8576b\"],[0.6666666666666666,\"#ed7953\"],[0.7777777777777778,\"#fb9f3a\"],[0.8888888888888888,\"#fdca26\"],[1.0,\"#f0f921\"]]}],\"surface\":[{\"type\":\"surface\",\"colorbar\":{\"outlinewidth\":0,\"ticks\":\"\"},\"colorscale\":[[0.0,\"#0d0887\"],[0.1111111111111111,\"#46039f\"],[0.2222222222222222,\"#7201a8\"],[0.3333333333333333,\"#9c179e\"],[0.4444444444444444,\"#bd3786\"],[0.5555555555555556,\"#d8576b\"],[0.6666666666666666,\"#ed7953\"],[0.7777777777777778,\"#fb9f3a\"],[0.8888888888888888,\"#fdca26\"],[1.0,\"#f0f921\"]]}],\"mesh3d\":[{\"type\":\"mesh3d\",\"colorbar\":{\"outlinewidth\":0,\"ticks\":\"\"}}],\"scatter\":[{\"fillpattern\":{\"fillmode\":\"overlay\",\"size\":10,\"solidity\":0.2},\"type\":\"scatter\"}],\"parcoords\":[{\"type\":\"parcoords\",\"line\":{\"colorbar\":{\"outlinewidth\":0,\"ticks\":\"\"}}}],\"scatterpolargl\":[{\"type\":\"scatterpolargl\",\"marker\":{\"colorbar\":{\"outlinewidth\":0,\"ticks\":\"\"}}}],\"bar\":[{\"error_x\":{\"color\":\"#2a3f5f\"},\"error_y\":{\"color\":\"#2a3f5f\"},\"marker\":{\"line\":{\"color\":\"#E5ECF6\",\"width\":0.5},\"pattern\":{\"fillmode\":\"overlay\",\"size\":10,\"solidity\":0.2}},\"type\":\"bar\"}],\"scattergeo\":[{\"type\":\"scattergeo\",\"marker\":{\"colorbar\":{\"outlinewidth\":0,\"ticks\":\"\"}}}],\"scatterpolar\":[{\"type\":\"scatterpolar\",\"marker\":{\"colorbar\":{\"outlinewidth\":0,\"ticks\":\"\"}}}],\"histogram\":[{\"marker\":{\"pattern\":{\"fillmode\":\"overlay\",\"size\":10,\"solidity\":0.2}},\"type\":\"histogram\"}],\"scattergl\":[{\"type\":\"scattergl\",\"marker\":{\"colorbar\":{\"outlinewidth\":0,\"ticks\":\"\"}}}],\"scatter3d\":[{\"type\":\"scatter3d\",\"line\":{\"colorbar\":{\"outlinewidth\":0,\"ticks\":\"\"}},\"marker\":{\"colorbar\":{\"outlinewidth\":0,\"ticks\":\"\"}}}],\"scattermapbox\":[{\"type\":\"scattermapbox\",\"marker\":{\"colorbar\":{\"outlinewidth\":0,\"ticks\":\"\"}}}],\"scatterternary\":[{\"type\":\"scatterternary\",\"marker\":{\"colorbar\":{\"outlinewidth\":0,\"ticks\":\"\"}}}],\"scattercarpet\":[{\"type\":\"scattercarpet\",\"marker\":{\"colorbar\":{\"outlinewidth\":0,\"ticks\":\"\"}}}],\"carpet\":[{\"aaxis\":{\"endlinecolor\":\"#2a3f5f\",\"gridcolor\":\"white\",\"linecolor\":\"white\",\"minorgridcolor\":\"white\",\"startlinecolor\":\"#2a3f5f\"},\"baxis\":{\"endlinecolor\":\"#2a3f5f\",\"gridcolor\":\"white\",\"linecolor\":\"white\",\"minorgridcolor\":\"white\",\"startlinecolor\":\"#2a3f5f\"},\"type\":\"carpet\"}],\"table\":[{\"cells\":{\"fill\":{\"color\":\"#EBF0F8\"},\"line\":{\"color\":\"white\"}},\"header\":{\"fill\":{\"color\":\"#C8D4E3\"},\"line\":{\"color\":\"white\"}},\"type\":\"table\"}],\"barpolar\":[{\"marker\":{\"line\":{\"color\":\"#E5ECF6\",\"width\":0.5},\"pattern\":{\"fillmode\":\"overlay\",\"size\":10,\"solidity\":0.2}},\"type\":\"barpolar\"}],\"pie\":[{\"automargin\":true,\"type\":\"pie\"}]},\"layout\":{\"autotypenumbers\":\"strict\",\"colorway\":[\"#636efa\",\"#EF553B\",\"#00cc96\",\"#ab63fa\",\"#FFA15A\",\"#19d3f3\",\"#FF6692\",\"#B6E880\",\"#FF97FF\",\"#FECB52\"],\"font\":{\"color\":\"#2a3f5f\"},\"hovermode\":\"closest\",\"hoverlabel\":{\"align\":\"left\"},\"paper_bgcolor\":\"white\",\"plot_bgcolor\":\"#E5ECF6\",\"polar\":{\"bgcolor\":\"#E5ECF6\",\"angularaxis\":{\"gridcolor\":\"white\",\"linecolor\":\"white\",\"ticks\":\"\"},\"radialaxis\":{\"gridcolor\":\"white\",\"linecolor\":\"white\",\"ticks\":\"\"}},\"ternary\":{\"bgcolor\":\"#E5ECF6\",\"aaxis\":{\"gridcolor\":\"white\",\"linecolor\":\"white\",\"ticks\":\"\"},\"baxis\":{\"gridcolor\":\"white\",\"linecolor\":\"white\",\"ticks\":\"\"},\"caxis\":{\"gridcolor\":\"white\",\"linecolor\":\"white\",\"ticks\":\"\"}},\"coloraxis\":{\"colorbar\":{\"outlinewidth\":0,\"ticks\":\"\"}},\"colorscale\":{\"sequential\":[[0.0,\"#0d0887\"],[0.1111111111111111,\"#46039f\"],[0.2222222222222222,\"#7201a8\"],[0.3333333333333333,\"#9c179e\"],[0.4444444444444444,\"#bd3786\"],[0.5555555555555556,\"#d8576b\"],[0.6666666666666666,\"#ed7953\"],[0.7777777777777778,\"#fb9f3a\"],[0.8888888888888888,\"#fdca26\"],[1.0,\"#f0f921\"]],\"sequentialminus\":[[0.0,\"#0d0887\"],[0.1111111111111111,\"#46039f\"],[0.2222222222222222,\"#7201a8\"],[0.3333333333333333,\"#9c179e\"],[0.4444444444444444,\"#bd3786\"],[0.5555555555555556,\"#d8576b\"],[0.6666666666666666,\"#ed7953\"],[0.7777777777777778,\"#fb9f3a\"],[0.8888888888888888,\"#fdca26\"],[1.0,\"#f0f921\"]],\"diverging\":[[0,\"#8e0152\"],[0.1,\"#c51b7d\"],[0.2,\"#de77ae\"],[0.3,\"#f1b6da\"],[0.4,\"#fde0ef\"],[0.5,\"#f7f7f7\"],[0.6,\"#e6f5d0\"],[0.7,\"#b8e186\"],[0.8,\"#7fbc41\"],[0.9,\"#4d9221\"],[1,\"#276419\"]]},\"xaxis\":{\"gridcolor\":\"white\",\"linecolor\":\"white\",\"ticks\":\"\",\"title\":{\"standoff\":15},\"zerolinecolor\":\"white\",\"automargin\":true,\"zerolinewidth\":2},\"yaxis\":{\"gridcolor\":\"white\",\"linecolor\":\"white\",\"ticks\":\"\",\"title\":{\"standoff\":15},\"zerolinecolor\":\"white\",\"automargin\":true,\"zerolinewidth\":2},\"scene\":{\"xaxis\":{\"backgroundcolor\":\"#E5ECF6\",\"gridcolor\":\"white\",\"linecolor\":\"white\",\"showbackground\":true,\"ticks\":\"\",\"zerolinecolor\":\"white\",\"gridwidth\":2},\"yaxis\":{\"backgroundcolor\":\"#E5ECF6\",\"gridcolor\":\"white\",\"linecolor\":\"white\",\"showbackground\":true,\"ticks\":\"\",\"zerolinecolor\":\"white\",\"gridwidth\":2},\"zaxis\":{\"backgroundcolor\":\"#E5ECF6\",\"gridcolor\":\"white\",\"linecolor\":\"white\",\"showbackground\":true,\"ticks\":\"\",\"zerolinecolor\":\"white\",\"gridwidth\":2}},\"shapedefaults\":{\"line\":{\"color\":\"#2a3f5f\"}},\"annotationdefaults\":{\"arrowcolor\":\"#2a3f5f\",\"arrowhead\":0,\"arrowwidth\":1},\"geo\":{\"bgcolor\":\"white\",\"landcolor\":\"#E5ECF6\",\"subunitcolor\":\"white\",\"showland\":true,\"showlakes\":true,\"lakecolor\":\"white\"},\"title\":{\"x\":0.05},\"mapbox\":{\"style\":\"light\"}}},\"geo\":{\"domain\":{\"x\":[0.0,1.0],\"y\":[0.0,1.0]},\"center\":{}},\"coloraxis\":{\"colorbar\":{\"title\":{\"text\":\"counts\"}},\"colorscale\":[[0.0,\"#0d0887\"],[0.1111111111111111,\"#46039f\"],[0.2222222222222222,\"#7201a8\"],[0.3333333333333333,\"#9c179e\"],[0.4444444444444444,\"#bd3786\"],[0.5555555555555556,\"#d8576b\"],[0.6666666666666666,\"#ed7953\"],[0.7777777777777778,\"#fb9f3a\"],[0.8888888888888888,\"#fdca26\"],[1.0,\"#f0f921\"]],\"cmin\":0,\"cmax\":100},\"legend\":{\"tracegroupgap\":0},\"margin\":{\"t\":60},\"updatemenus\":[{\"buttons\":[{\"args\":[null,{\"frame\":{\"duration\":500,\"redraw\":true},\"mode\":\"immediate\",\"fromcurrent\":true,\"transition\":{\"duration\":500,\"easing\":\"linear\"}}],\"label\":\"&#9654;\",\"method\":\"animate\"},{\"args\":[[null],{\"frame\":{\"duration\":0,\"redraw\":true},\"mode\":\"immediate\",\"fromcurrent\":true,\"transition\":{\"duration\":0,\"easing\":\"linear\"}}],\"label\":\"&#9724;\",\"method\":\"animate\"}],\"direction\":\"left\",\"pad\":{\"r\":10,\"t\":70},\"showactive\":false,\"type\":\"buttons\",\"x\":0.1,\"xanchor\":\"right\",\"y\":0,\"yanchor\":\"top\"}],\"sliders\":[{\"active\":0,\"currentvalue\":{\"prefix\":\"release_year=\"},\"len\":0.9,\"pad\":{\"b\":10,\"t\":60},\"steps\":[{\"args\":[[\"1942\"],{\"frame\":{\"duration\":0,\"redraw\":true},\"mode\":\"immediate\",\"fromcurrent\":true,\"transition\":{\"duration\":0,\"easing\":\"linear\"}}],\"label\":\"1942\",\"method\":\"animate\"},{\"args\":[[\"1943\"],{\"frame\":{\"duration\":0,\"redraw\":true},\"mode\":\"immediate\",\"fromcurrent\":true,\"transition\":{\"duration\":0,\"easing\":\"linear\"}}],\"label\":\"1943\",\"method\":\"animate\"},{\"args\":[[\"1944\"],{\"frame\":{\"duration\":0,\"redraw\":true},\"mode\":\"immediate\",\"fromcurrent\":true,\"transition\":{\"duration\":0,\"easing\":\"linear\"}}],\"label\":\"1944\",\"method\":\"animate\"},{\"args\":[[\"1945\"],{\"frame\":{\"duration\":0,\"redraw\":true},\"mode\":\"immediate\",\"fromcurrent\":true,\"transition\":{\"duration\":0,\"easing\":\"linear\"}}],\"label\":\"1945\",\"method\":\"animate\"},{\"args\":[[\"1946\"],{\"frame\":{\"duration\":0,\"redraw\":true},\"mode\":\"immediate\",\"fromcurrent\":true,\"transition\":{\"duration\":0,\"easing\":\"linear\"}}],\"label\":\"1946\",\"method\":\"animate\"},{\"args\":[[\"1947\"],{\"frame\":{\"duration\":0,\"redraw\":true},\"mode\":\"immediate\",\"fromcurrent\":true,\"transition\":{\"duration\":0,\"easing\":\"linear\"}}],\"label\":\"1947\",\"method\":\"animate\"},{\"args\":[[\"1954\"],{\"frame\":{\"duration\":0,\"redraw\":true},\"mode\":\"immediate\",\"fromcurrent\":true,\"transition\":{\"duration\":0,\"easing\":\"linear\"}}],\"label\":\"1954\",\"method\":\"animate\"},{\"args\":[[\"1955\"],{\"frame\":{\"duration\":0,\"redraw\":true},\"mode\":\"immediate\",\"fromcurrent\":true,\"transition\":{\"duration\":0,\"easing\":\"linear\"}}],\"label\":\"1955\",\"method\":\"animate\"},{\"args\":[[\"1956\"],{\"frame\":{\"duration\":0,\"redraw\":true},\"mode\":\"immediate\",\"fromcurrent\":true,\"transition\":{\"duration\":0,\"easing\":\"linear\"}}],\"label\":\"1956\",\"method\":\"animate\"},{\"args\":[[\"1958\"],{\"frame\":{\"duration\":0,\"redraw\":true},\"mode\":\"immediate\",\"fromcurrent\":true,\"transition\":{\"duration\":0,\"easing\":\"linear\"}}],\"label\":\"1958\",\"method\":\"animate\"},{\"args\":[[\"1959\"],{\"frame\":{\"duration\":0,\"redraw\":true},\"mode\":\"immediate\",\"fromcurrent\":true,\"transition\":{\"duration\":0,\"easing\":\"linear\"}}],\"label\":\"1959\",\"method\":\"animate\"},{\"args\":[[\"1960\"],{\"frame\":{\"duration\":0,\"redraw\":true},\"mode\":\"immediate\",\"fromcurrent\":true,\"transition\":{\"duration\":0,\"easing\":\"linear\"}}],\"label\":\"1960\",\"method\":\"animate\"},{\"args\":[[\"1961\"],{\"frame\":{\"duration\":0,\"redraw\":true},\"mode\":\"immediate\",\"fromcurrent\":true,\"transition\":{\"duration\":0,\"easing\":\"linear\"}}],\"label\":\"1961\",\"method\":\"animate\"},{\"args\":[[\"1962\"],{\"frame\":{\"duration\":0,\"redraw\":true},\"mode\":\"immediate\",\"fromcurrent\":true,\"transition\":{\"duration\":0,\"easing\":\"linear\"}}],\"label\":\"1962\",\"method\":\"animate\"},{\"args\":[[\"1963\"],{\"frame\":{\"duration\":0,\"redraw\":true},\"mode\":\"immediate\",\"fromcurrent\":true,\"transition\":{\"duration\":0,\"easing\":\"linear\"}}],\"label\":\"1963\",\"method\":\"animate\"},{\"args\":[[\"1964\"],{\"frame\":{\"duration\":0,\"redraw\":true},\"mode\":\"immediate\",\"fromcurrent\":true,\"transition\":{\"duration\":0,\"easing\":\"linear\"}}],\"label\":\"1964\",\"method\":\"animate\"},{\"args\":[[\"1965\"],{\"frame\":{\"duration\":0,\"redraw\":true},\"mode\":\"immediate\",\"fromcurrent\":true,\"transition\":{\"duration\":0,\"easing\":\"linear\"}}],\"label\":\"1965\",\"method\":\"animate\"},{\"args\":[[\"1966\"],{\"frame\":{\"duration\":0,\"redraw\":true},\"mode\":\"immediate\",\"fromcurrent\":true,\"transition\":{\"duration\":0,\"easing\":\"linear\"}}],\"label\":\"1966\",\"method\":\"animate\"},{\"args\":[[\"1967\"],{\"frame\":{\"duration\":0,\"redraw\":true},\"mode\":\"immediate\",\"fromcurrent\":true,\"transition\":{\"duration\":0,\"easing\":\"linear\"}}],\"label\":\"1967\",\"method\":\"animate\"},{\"args\":[[\"1968\"],{\"frame\":{\"duration\":0,\"redraw\":true},\"mode\":\"immediate\",\"fromcurrent\":true,\"transition\":{\"duration\":0,\"easing\":\"linear\"}}],\"label\":\"1968\",\"method\":\"animate\"},{\"args\":[[\"1969\"],{\"frame\":{\"duration\":0,\"redraw\":true},\"mode\":\"immediate\",\"fromcurrent\":true,\"transition\":{\"duration\":0,\"easing\":\"linear\"}}],\"label\":\"1969\",\"method\":\"animate\"},{\"args\":[[\"1970\"],{\"frame\":{\"duration\":0,\"redraw\":true},\"mode\":\"immediate\",\"fromcurrent\":true,\"transition\":{\"duration\":0,\"easing\":\"linear\"}}],\"label\":\"1970\",\"method\":\"animate\"},{\"args\":[[\"1971\"],{\"frame\":{\"duration\":0,\"redraw\":true},\"mode\":\"immediate\",\"fromcurrent\":true,\"transition\":{\"duration\":0,\"easing\":\"linear\"}}],\"label\":\"1971\",\"method\":\"animate\"},{\"args\":[[\"1972\"],{\"frame\":{\"duration\":0,\"redraw\":true},\"mode\":\"immediate\",\"fromcurrent\":true,\"transition\":{\"duration\":0,\"easing\":\"linear\"}}],\"label\":\"1972\",\"method\":\"animate\"},{\"args\":[[\"1973\"],{\"frame\":{\"duration\":0,\"redraw\":true},\"mode\":\"immediate\",\"fromcurrent\":true,\"transition\":{\"duration\":0,\"easing\":\"linear\"}}],\"label\":\"1973\",\"method\":\"animate\"},{\"args\":[[\"1974\"],{\"frame\":{\"duration\":0,\"redraw\":true},\"mode\":\"immediate\",\"fromcurrent\":true,\"transition\":{\"duration\":0,\"easing\":\"linear\"}}],\"label\":\"1974\",\"method\":\"animate\"},{\"args\":[[\"1975\"],{\"frame\":{\"duration\":0,\"redraw\":true},\"mode\":\"immediate\",\"fromcurrent\":true,\"transition\":{\"duration\":0,\"easing\":\"linear\"}}],\"label\":\"1975\",\"method\":\"animate\"},{\"args\":[[\"1976\"],{\"frame\":{\"duration\":0,\"redraw\":true},\"mode\":\"immediate\",\"fromcurrent\":true,\"transition\":{\"duration\":0,\"easing\":\"linear\"}}],\"label\":\"1976\",\"method\":\"animate\"},{\"args\":[[\"1977\"],{\"frame\":{\"duration\":0,\"redraw\":true},\"mode\":\"immediate\",\"fromcurrent\":true,\"transition\":{\"duration\":0,\"easing\":\"linear\"}}],\"label\":\"1977\",\"method\":\"animate\"},{\"args\":[[\"1978\"],{\"frame\":{\"duration\":0,\"redraw\":true},\"mode\":\"immediate\",\"fromcurrent\":true,\"transition\":{\"duration\":0,\"easing\":\"linear\"}}],\"label\":\"1978\",\"method\":\"animate\"},{\"args\":[[\"1979\"],{\"frame\":{\"duration\":0,\"redraw\":true},\"mode\":\"immediate\",\"fromcurrent\":true,\"transition\":{\"duration\":0,\"easing\":\"linear\"}}],\"label\":\"1979\",\"method\":\"animate\"},{\"args\":[[\"1980\"],{\"frame\":{\"duration\":0,\"redraw\":true},\"mode\":\"immediate\",\"fromcurrent\":true,\"transition\":{\"duration\":0,\"easing\":\"linear\"}}],\"label\":\"1980\",\"method\":\"animate\"},{\"args\":[[\"1981\"],{\"frame\":{\"duration\":0,\"redraw\":true},\"mode\":\"immediate\",\"fromcurrent\":true,\"transition\":{\"duration\":0,\"easing\":\"linear\"}}],\"label\":\"1981\",\"method\":\"animate\"},{\"args\":[[\"1982\"],{\"frame\":{\"duration\":0,\"redraw\":true},\"mode\":\"immediate\",\"fromcurrent\":true,\"transition\":{\"duration\":0,\"easing\":\"linear\"}}],\"label\":\"1982\",\"method\":\"animate\"},{\"args\":[[\"1983\"],{\"frame\":{\"duration\":0,\"redraw\":true},\"mode\":\"immediate\",\"fromcurrent\":true,\"transition\":{\"duration\":0,\"easing\":\"linear\"}}],\"label\":\"1983\",\"method\":\"animate\"},{\"args\":[[\"1984\"],{\"frame\":{\"duration\":0,\"redraw\":true},\"mode\":\"immediate\",\"fromcurrent\":true,\"transition\":{\"duration\":0,\"easing\":\"linear\"}}],\"label\":\"1984\",\"method\":\"animate\"},{\"args\":[[\"1985\"],{\"frame\":{\"duration\":0,\"redraw\":true},\"mode\":\"immediate\",\"fromcurrent\":true,\"transition\":{\"duration\":0,\"easing\":\"linear\"}}],\"label\":\"1985\",\"method\":\"animate\"},{\"args\":[[\"1986\"],{\"frame\":{\"duration\":0,\"redraw\":true},\"mode\":\"immediate\",\"fromcurrent\":true,\"transition\":{\"duration\":0,\"easing\":\"linear\"}}],\"label\":\"1986\",\"method\":\"animate\"},{\"args\":[[\"1987\"],{\"frame\":{\"duration\":0,\"redraw\":true},\"mode\":\"immediate\",\"fromcurrent\":true,\"transition\":{\"duration\":0,\"easing\":\"linear\"}}],\"label\":\"1987\",\"method\":\"animate\"},{\"args\":[[\"1988\"],{\"frame\":{\"duration\":0,\"redraw\":true},\"mode\":\"immediate\",\"fromcurrent\":true,\"transition\":{\"duration\":0,\"easing\":\"linear\"}}],\"label\":\"1988\",\"method\":\"animate\"},{\"args\":[[\"1989\"],{\"frame\":{\"duration\":0,\"redraw\":true},\"mode\":\"immediate\",\"fromcurrent\":true,\"transition\":{\"duration\":0,\"easing\":\"linear\"}}],\"label\":\"1989\",\"method\":\"animate\"},{\"args\":[[\"1990\"],{\"frame\":{\"duration\":0,\"redraw\":true},\"mode\":\"immediate\",\"fromcurrent\":true,\"transition\":{\"duration\":0,\"easing\":\"linear\"}}],\"label\":\"1990\",\"method\":\"animate\"},{\"args\":[[\"1991\"],{\"frame\":{\"duration\":0,\"redraw\":true},\"mode\":\"immediate\",\"fromcurrent\":true,\"transition\":{\"duration\":0,\"easing\":\"linear\"}}],\"label\":\"1991\",\"method\":\"animate\"},{\"args\":[[\"1992\"],{\"frame\":{\"duration\":0,\"redraw\":true},\"mode\":\"immediate\",\"fromcurrent\":true,\"transition\":{\"duration\":0,\"easing\":\"linear\"}}],\"label\":\"1992\",\"method\":\"animate\"},{\"args\":[[\"1993\"],{\"frame\":{\"duration\":0,\"redraw\":true},\"mode\":\"immediate\",\"fromcurrent\":true,\"transition\":{\"duration\":0,\"easing\":\"linear\"}}],\"label\":\"1993\",\"method\":\"animate\"},{\"args\":[[\"1994\"],{\"frame\":{\"duration\":0,\"redraw\":true},\"mode\":\"immediate\",\"fromcurrent\":true,\"transition\":{\"duration\":0,\"easing\":\"linear\"}}],\"label\":\"1994\",\"method\":\"animate\"},{\"args\":[[\"1995\"],{\"frame\":{\"duration\":0,\"redraw\":true},\"mode\":\"immediate\",\"fromcurrent\":true,\"transition\":{\"duration\":0,\"easing\":\"linear\"}}],\"label\":\"1995\",\"method\":\"animate\"},{\"args\":[[\"1996\"],{\"frame\":{\"duration\":0,\"redraw\":true},\"mode\":\"immediate\",\"fromcurrent\":true,\"transition\":{\"duration\":0,\"easing\":\"linear\"}}],\"label\":\"1996\",\"method\":\"animate\"},{\"args\":[[\"1997\"],{\"frame\":{\"duration\":0,\"redraw\":true},\"mode\":\"immediate\",\"fromcurrent\":true,\"transition\":{\"duration\":0,\"easing\":\"linear\"}}],\"label\":\"1997\",\"method\":\"animate\"},{\"args\":[[\"1998\"],{\"frame\":{\"duration\":0,\"redraw\":true},\"mode\":\"immediate\",\"fromcurrent\":true,\"transition\":{\"duration\":0,\"easing\":\"linear\"}}],\"label\":\"1998\",\"method\":\"animate\"},{\"args\":[[\"1999\"],{\"frame\":{\"duration\":0,\"redraw\":true},\"mode\":\"immediate\",\"fromcurrent\":true,\"transition\":{\"duration\":0,\"easing\":\"linear\"}}],\"label\":\"1999\",\"method\":\"animate\"},{\"args\":[[\"2000\"],{\"frame\":{\"duration\":0,\"redraw\":true},\"mode\":\"immediate\",\"fromcurrent\":true,\"transition\":{\"duration\":0,\"easing\":\"linear\"}}],\"label\":\"2000\",\"method\":\"animate\"},{\"args\":[[\"2001\"],{\"frame\":{\"duration\":0,\"redraw\":true},\"mode\":\"immediate\",\"fromcurrent\":true,\"transition\":{\"duration\":0,\"easing\":\"linear\"}}],\"label\":\"2001\",\"method\":\"animate\"},{\"args\":[[\"2002\"],{\"frame\":{\"duration\":0,\"redraw\":true},\"mode\":\"immediate\",\"fromcurrent\":true,\"transition\":{\"duration\":0,\"easing\":\"linear\"}}],\"label\":\"2002\",\"method\":\"animate\"},{\"args\":[[\"2003\"],{\"frame\":{\"duration\":0,\"redraw\":true},\"mode\":\"immediate\",\"fromcurrent\":true,\"transition\":{\"duration\":0,\"easing\":\"linear\"}}],\"label\":\"2003\",\"method\":\"animate\"},{\"args\":[[\"2004\"],{\"frame\":{\"duration\":0,\"redraw\":true},\"mode\":\"immediate\",\"fromcurrent\":true,\"transition\":{\"duration\":0,\"easing\":\"linear\"}}],\"label\":\"2004\",\"method\":\"animate\"},{\"args\":[[\"2005\"],{\"frame\":{\"duration\":0,\"redraw\":true},\"mode\":\"immediate\",\"fromcurrent\":true,\"transition\":{\"duration\":0,\"easing\":\"linear\"}}],\"label\":\"2005\",\"method\":\"animate\"},{\"args\":[[\"2006\"],{\"frame\":{\"duration\":0,\"redraw\":true},\"mode\":\"immediate\",\"fromcurrent\":true,\"transition\":{\"duration\":0,\"easing\":\"linear\"}}],\"label\":\"2006\",\"method\":\"animate\"},{\"args\":[[\"2007\"],{\"frame\":{\"duration\":0,\"redraw\":true},\"mode\":\"immediate\",\"fromcurrent\":true,\"transition\":{\"duration\":0,\"easing\":\"linear\"}}],\"label\":\"2007\",\"method\":\"animate\"},{\"args\":[[\"2008\"],{\"frame\":{\"duration\":0,\"redraw\":true},\"mode\":\"immediate\",\"fromcurrent\":true,\"transition\":{\"duration\":0,\"easing\":\"linear\"}}],\"label\":\"2008\",\"method\":\"animate\"},{\"args\":[[\"2009\"],{\"frame\":{\"duration\":0,\"redraw\":true},\"mode\":\"immediate\",\"fromcurrent\":true,\"transition\":{\"duration\":0,\"easing\":\"linear\"}}],\"label\":\"2009\",\"method\":\"animate\"},{\"args\":[[\"2010\"],{\"frame\":{\"duration\":0,\"redraw\":true},\"mode\":\"immediate\",\"fromcurrent\":true,\"transition\":{\"duration\":0,\"easing\":\"linear\"}}],\"label\":\"2010\",\"method\":\"animate\"},{\"args\":[[\"2011\"],{\"frame\":{\"duration\":0,\"redraw\":true},\"mode\":\"immediate\",\"fromcurrent\":true,\"transition\":{\"duration\":0,\"easing\":\"linear\"}}],\"label\":\"2011\",\"method\":\"animate\"},{\"args\":[[\"2012\"],{\"frame\":{\"duration\":0,\"redraw\":true},\"mode\":\"immediate\",\"fromcurrent\":true,\"transition\":{\"duration\":0,\"easing\":\"linear\"}}],\"label\":\"2012\",\"method\":\"animate\"},{\"args\":[[\"2013\"],{\"frame\":{\"duration\":0,\"redraw\":true},\"mode\":\"immediate\",\"fromcurrent\":true,\"transition\":{\"duration\":0,\"easing\":\"linear\"}}],\"label\":\"2013\",\"method\":\"animate\"},{\"args\":[[\"2014\"],{\"frame\":{\"duration\":0,\"redraw\":true},\"mode\":\"immediate\",\"fromcurrent\":true,\"transition\":{\"duration\":0,\"easing\":\"linear\"}}],\"label\":\"2014\",\"method\":\"animate\"},{\"args\":[[\"2015\"],{\"frame\":{\"duration\":0,\"redraw\":true},\"mode\":\"immediate\",\"fromcurrent\":true,\"transition\":{\"duration\":0,\"easing\":\"linear\"}}],\"label\":\"2015\",\"method\":\"animate\"},{\"args\":[[\"2016\"],{\"frame\":{\"duration\":0,\"redraw\":true},\"mode\":\"immediate\",\"fromcurrent\":true,\"transition\":{\"duration\":0,\"easing\":\"linear\"}}],\"label\":\"2016\",\"method\":\"animate\"},{\"args\":[[\"2017\"],{\"frame\":{\"duration\":0,\"redraw\":true},\"mode\":\"immediate\",\"fromcurrent\":true,\"transition\":{\"duration\":0,\"easing\":\"linear\"}}],\"label\":\"2017\",\"method\":\"animate\"},{\"args\":[[\"2018\"],{\"frame\":{\"duration\":0,\"redraw\":true},\"mode\":\"immediate\",\"fromcurrent\":true,\"transition\":{\"duration\":0,\"easing\":\"linear\"}}],\"label\":\"2018\",\"method\":\"animate\"},{\"args\":[[\"2019\"],{\"frame\":{\"duration\":0,\"redraw\":true},\"mode\":\"immediate\",\"fromcurrent\":true,\"transition\":{\"duration\":0,\"easing\":\"linear\"}}],\"label\":\"2019\",\"method\":\"animate\"},{\"args\":[[\"2020\"],{\"frame\":{\"duration\":0,\"redraw\":true},\"mode\":\"immediate\",\"fromcurrent\":true,\"transition\":{\"duration\":0,\"easing\":\"linear\"}}],\"label\":\"2020\",\"method\":\"animate\"},{\"args\":[[\"2021\"],{\"frame\":{\"duration\":0,\"redraw\":true},\"mode\":\"immediate\",\"fromcurrent\":true,\"transition\":{\"duration\":0,\"easing\":\"linear\"}}],\"label\":\"2021\",\"method\":\"animate\"}],\"x\":0.1,\"xanchor\":\"left\",\"y\":0,\"yanchor\":\"top\"}],\"title\":{\"text\":\"Dynamics of content by years (no international projects)\"}},                        {\"responsive\": true}                    ).then(function(){\n",
       "                            Plotly.addFrames('7bd53dcf-c8ba-47dd-bece-f5c22949d902', [{\"data\":[{\"coloraxis\":\"coloraxis\",\"geo\":\"geo\",\"hovertemplate\":\"release_year=1942<br>country=%{location}<br>counts=%{z}<extra></extra>\",\"locationmode\":\"country names\",\"locations\":[\"United States\"],\"name\":\"\",\"z\":[2],\"type\":\"choropleth\"}],\"name\":\"1942\"},{\"data\":[{\"coloraxis\":\"coloraxis\",\"geo\":\"geo\",\"hovertemplate\":\"release_year=1943<br>country=%{location}<br>counts=%{z}<extra></extra>\",\"locationmode\":\"country names\",\"locations\":[\"United States\"],\"name\":\"\",\"z\":[3],\"type\":\"choropleth\"}],\"name\":\"1943\"},{\"data\":[{\"coloraxis\":\"coloraxis\",\"geo\":\"geo\",\"hovertemplate\":\"release_year=1944<br>country=%{location}<br>counts=%{z}<extra></extra>\",\"locationmode\":\"country names\",\"locations\":[\"United States\",\"United States, United Kingdom\"],\"name\":\"\",\"z\":[2,1],\"type\":\"choropleth\"}],\"name\":\"1944\"},{\"data\":[{\"coloraxis\":\"coloraxis\",\"geo\":\"geo\",\"hovertemplate\":\"release_year=1945<br>country=%{location}<br>counts=%{z}<extra></extra>\",\"locationmode\":\"country names\",\"locations\":[\"United States\"],\"name\":\"\",\"z\":[4],\"type\":\"choropleth\"}],\"name\":\"1945\"},{\"data\":[{\"coloraxis\":\"coloraxis\",\"geo\":\"geo\",\"hovertemplate\":\"release_year=1946<br>country=%{location}<br>counts=%{z}<extra></extra>\",\"locationmode\":\"country names\",\"locations\":[\"United States\"],\"name\":\"\",\"z\":[2],\"type\":\"choropleth\"}],\"name\":\"1946\"},{\"data\":[{\"coloraxis\":\"coloraxis\",\"geo\":\"geo\",\"hovertemplate\":\"release_year=1947<br>country=%{location}<br>counts=%{z}<extra></extra>\",\"locationmode\":\"country names\",\"locations\":[\"United States\"],\"name\":\"\",\"z\":[1],\"type\":\"choropleth\"}],\"name\":\"1947\"},{\"data\":[{\"coloraxis\":\"coloraxis\",\"geo\":\"geo\",\"hovertemplate\":\"release_year=1954<br>country=%{location}<br>counts=%{z}<extra></extra>\",\"locationmode\":\"country names\",\"locations\":[\"Egypt\",\"United States\"],\"name\":\"\",\"z\":[1,1],\"type\":\"choropleth\"}],\"name\":\"1954\"},{\"data\":[{\"coloraxis\":\"coloraxis\",\"geo\":\"geo\",\"hovertemplate\":\"release_year=1955<br>country=%{location}<br>counts=%{z}<extra></extra>\",\"locationmode\":\"country names\",\"locations\":[\"Italy\",\"Italy, France\",\"United States\"],\"name\":\"\",\"z\":[1,1,1],\"type\":\"choropleth\"}],\"name\":\"1955\"},{\"data\":[{\"coloraxis\":\"coloraxis\",\"geo\":\"geo\",\"hovertemplate\":\"release_year=1956<br>country=%{location}<br>counts=%{z}<extra></extra>\",\"locationmode\":\"country names\",\"locations\":[\"Egypt\",\"United States\"],\"name\":\"\",\"z\":[1,1],\"type\":\"choropleth\"}],\"name\":\"1956\"},{\"data\":[{\"coloraxis\":\"coloraxis\",\"geo\":\"geo\",\"hovertemplate\":\"release_year=1958<br>country=%{location}<br>counts=%{z}<extra></extra>\",\"locationmode\":\"country names\",\"locations\":[\"United States\",\"Egypt\"],\"name\":\"\",\"z\":[2,1],\"type\":\"choropleth\"}],\"name\":\"1958\"},{\"data\":[{\"coloraxis\":\"coloraxis\",\"geo\":\"geo\",\"hovertemplate\":\"release_year=1959<br>country=%{location}<br>counts=%{z}<extra></extra>\",\"locationmode\":\"country names\",\"locations\":[\"India\"],\"name\":\"\",\"z\":[1],\"type\":\"choropleth\"}],\"name\":\"1959\"},{\"data\":[{\"coloraxis\":\"coloraxis\",\"geo\":\"geo\",\"hovertemplate\":\"release_year=1960<br>country=%{location}<br>counts=%{z}<extra></extra>\",\"locationmode\":\"country names\",\"locations\":[\"United States\",\"India, Malaysia\"],\"name\":\"\",\"z\":[2,1],\"type\":\"choropleth\"}],\"name\":\"1960\"},{\"data\":[{\"coloraxis\":\"coloraxis\",\"geo\":\"geo\",\"hovertemplate\":\"release_year=1961<br>country=%{location}<br>counts=%{z}<extra></extra>\",\"locationmode\":\"country names\",\"locations\":[\"United Kingdom, United States\"],\"name\":\"\",\"z\":[1],\"type\":\"choropleth\"}],\"name\":\"1961\"},{\"data\":[{\"coloraxis\":\"coloraxis\",\"geo\":\"geo\",\"hovertemplate\":\"release_year=1962<br>country=%{location}<br>counts=%{z}<extra></extra>\",\"locationmode\":\"country names\",\"locations\":[\"India\",\"United Kingdom, United States\",\"United States\"],\"name\":\"\",\"z\":[1,1,1],\"type\":\"choropleth\"}],\"name\":\"1962\"},{\"data\":[{\"coloraxis\":\"coloraxis\",\"geo\":\"geo\",\"hovertemplate\":\"release_year=1963<br>country=%{location}<br>counts=%{z}<extra></extra>\",\"locationmode\":\"country names\",\"locations\":[\"Egypt\",\"United States\"],\"name\":\"\",\"z\":[1,1],\"type\":\"choropleth\"}],\"name\":\"1963\"},{\"data\":[{\"coloraxis\":\"coloraxis\",\"geo\":\"geo\",\"hovertemplate\":\"release_year=1964<br>country=%{location}<br>counts=%{z}<extra></extra>\",\"locationmode\":\"country names\",\"locations\":[\"India\",\"United States\"],\"name\":\"\",\"z\":[1,1],\"type\":\"choropleth\"}],\"name\":\"1964\"},{\"data\":[{\"coloraxis\":\"coloraxis\",\"geo\":\"geo\",\"hovertemplate\":\"release_year=1965<br>country=%{location}<br>counts=%{z}<extra></extra>\",\"locationmode\":\"country names\",\"locations\":[\"United States\",\"United States, Italy, United Kingdom, Liechtenstein\"],\"name\":\"\",\"z\":[1,1],\"type\":\"choropleth\"}],\"name\":\"1965\"},{\"data\":[{\"coloraxis\":\"coloraxis\",\"geo\":\"geo\",\"hovertemplate\":\"release_year=1966<br>country=%{location}<br>counts=%{z}<extra></extra>\",\"locationmode\":\"country names\",\"locations\":[\"India\"],\"name\":\"\",\"z\":[1],\"type\":\"choropleth\"}],\"name\":\"1966\"},{\"data\":[{\"coloraxis\":\"coloraxis\",\"geo\":\"geo\",\"hovertemplate\":\"release_year=1967<br>country=%{location}<br>counts=%{z}<extra></extra>\",\"locationmode\":\"country names\",\"locations\":[\"United States\",\"Poland\"],\"name\":\"\",\"z\":[4,1],\"type\":\"choropleth\"}],\"name\":\"1967\"},{\"data\":[{\"coloraxis\":\"coloraxis\",\"geo\":\"geo\",\"hovertemplate\":\"release_year=1968<br>country=%{location}<br>counts=%{z}<extra></extra>\",\"locationmode\":\"country names\",\"locations\":[\"Italy, United States\",\"United Kingdom, United States\",\"United States\"],\"name\":\"\",\"z\":[1,1,1],\"type\":\"choropleth\"}],\"name\":\"1968\"},{\"data\":[{\"coloraxis\":\"coloraxis\",\"geo\":\"geo\",\"hovertemplate\":\"release_year=1969<br>country=%{location}<br>counts=%{z}<extra></extra>\",\"locationmode\":\"country names\",\"locations\":[\"India\",\"United States\"],\"name\":\"\",\"z\":[1,1],\"type\":\"choropleth\"}],\"name\":\"1969\"},{\"data\":[{\"coloraxis\":\"coloraxis\",\"geo\":\"geo\",\"hovertemplate\":\"release_year=1970<br>country=%{location}<br>counts=%{z}<extra></extra>\",\"locationmode\":\"country names\",\"locations\":[\"Egypt\",\"Poland\"],\"name\":\"\",\"z\":[1,1],\"type\":\"choropleth\"}],\"name\":\"1970\"},{\"data\":[{\"coloraxis\":\"coloraxis\",\"geo\":\"geo\",\"hovertemplate\":\"release_year=1971<br>country=%{location}<br>counts=%{z}<extra></extra>\",\"locationmode\":\"country names\",\"locations\":[\"India\",\"United Kingdom, United States\",\"United States\",\"United States, East Germany, West Germany\"],\"name\":\"\",\"z\":[2,1,1,1],\"type\":\"choropleth\"}],\"name\":\"1971\"},{\"data\":[{\"coloraxis\":\"coloraxis\",\"geo\":\"geo\",\"hovertemplate\":\"release_year=1972<br>country=%{location}<br>counts=%{z}<extra></extra>\",\"locationmode\":\"country names\",\"locations\":[\"India\",\"United States\",\"United Kingdom, West Germany\"],\"name\":\"\",\"z\":[2,2,1],\"type\":\"choropleth\"}],\"name\":\"1972\"},{\"data\":[{\"coloraxis\":\"coloraxis\",\"geo\":\"geo\",\"hovertemplate\":\"release_year=1973<br>country=%{location}<br>counts=%{z}<extra></extra>\",\"locationmode\":\"country names\",\"locations\":[\"United States\",\"India\",\"Egypt\",\"Hong Kong\",\"Hong Kong, United States\",\"Poland\"],\"name\":\"\",\"z\":[4,2,1,1,1,1],\"type\":\"choropleth\"}],\"name\":\"1973\"},{\"data\":[{\"coloraxis\":\"coloraxis\",\"geo\":\"geo\",\"hovertemplate\":\"release_year=1974<br>country=%{location}<br>counts=%{z}<extra></extra>\",\"locationmode\":\"country names\",\"locations\":[\"United States\",\"India\",\"France\",\"United Kingdom\"],\"name\":\"\",\"z\":[3,2,1,1],\"type\":\"choropleth\"}],\"name\":\"1974\"},{\"data\":[{\"coloraxis\":\"coloraxis\",\"geo\":\"geo\",\"hovertemplate\":\"release_year=1975<br>country=%{location}<br>counts=%{z}<extra></extra>\",\"locationmode\":\"country names\",\"locations\":[\"India\",\"Hong Kong\",\"Lebanon\",\"Poland,\",\"United Kingdom\",\"United States\"],\"name\":\"\",\"z\":[2,1,1,1,1,1],\"type\":\"choropleth\"}],\"name\":\"1975\"},{\"data\":[{\"coloraxis\":\"coloraxis\",\"geo\":\"geo\",\"hovertemplate\":\"release_year=1976<br>country=%{location}<br>counts=%{z}<extra></extra>\",\"locationmode\":\"country names\",\"locations\":[\"United States\",\"Egypt\",\"India\"],\"name\":\"\",\"z\":[5,2,2],\"type\":\"choropleth\"}],\"name\":\"1976\"},{\"data\":[{\"coloraxis\":\"coloraxis\",\"geo\":\"geo\",\"hovertemplate\":\"release_year=1977<br>country=%{location}<br>counts=%{z}<extra></extra>\",\"locationmode\":\"country names\",\"locations\":[\"India\",\"United States\",\"United Kingdom\",\"United States, United Kingdom\",\"West Germany\"],\"name\":\"\",\"z\":[2,2,1,1,1],\"type\":\"choropleth\"}],\"name\":\"1977\"},{\"data\":[{\"coloraxis\":\"coloraxis\",\"geo\":\"geo\",\"hovertemplate\":\"release_year=1978<br>country=%{location}<br>counts=%{z}<extra></extra>\",\"locationmode\":\"country names\",\"locations\":[\"United States\",\"Hong Kong\",\"India\",\"Poland\"],\"name\":\"\",\"z\":[3,2,1,1],\"type\":\"choropleth\"}],\"name\":\"1978\"},{\"data\":[{\"coloraxis\":\"coloraxis\",\"geo\":\"geo\",\"hovertemplate\":\"release_year=1979<br>country=%{location}<br>counts=%{z}<extra></extra>\",\"locationmode\":\"country names\",\"locations\":[\"India\",\"United States\",\"Australia, United States\",\"Egypt\",\"Egypt, Algeria\",\"Japan\",\"Lebanon, Canada, France\",\"Mexico\",\"United Kingdom\"],\"name\":\"\",\"z\":[2,2,1,1,1,1,1,1,1],\"type\":\"choropleth\"}],\"name\":\"1979\"},{\"data\":[{\"coloraxis\":\"coloraxis\",\"geo\":\"geo\",\"hovertemplate\":\"release_year=1980<br>country=%{location}<br>counts=%{z}<extra></extra>\",\"locationmode\":\"country names\",\"locations\":[\"United States\",\"Hong Kong\",\"India\",\"Lebanon, Canada, France\",\"Soviet Union, India\"],\"name\":\"\",\"z\":[5,2,2,1,1],\"type\":\"choropleth\"}],\"name\":\"1980\"},{\"data\":[{\"coloraxis\":\"coloraxis\",\"geo\":\"geo\",\"hovertemplate\":\"release_year=1981<br>country=%{location}<br>counts=%{z}<extra></extra>\",\"locationmode\":\"country names\",\"locations\":[\"United States\",\"Australia\",\"Egypt\",\"Hong Kong\",\"India\",\"Japan\",\"Kuwait\"],\"name\":\"\",\"z\":[5,1,1,1,1,1,1],\"type\":\"choropleth\"}],\"name\":\"1981\"},{\"data\":[{\"coloraxis\":\"coloraxis\",\"geo\":\"geo\",\"hovertemplate\":\"release_year=1982<br>country=%{location}<br>counts=%{z}<extra></extra>\",\"locationmode\":\"country names\",\"locations\":[\"India\",\"Hong Kong\",\"United States\",\"Egypt\",\"France, Lebanon\",\"Poland\",\"United Kingdom\",\"United States, United Kingdom\"],\"name\":\"\",\"z\":[6,2,2,1,1,1,1,1],\"type\":\"choropleth\"}],\"name\":\"1982\"},{\"data\":[{\"coloraxis\":\"coloraxis\",\"geo\":\"geo\",\"hovertemplate\":\"release_year=1983<br>country=%{location}<br>counts=%{z}<extra></extra>\",\"locationmode\":\"country names\",\"locations\":[\"India\",\"Hong Kong\",\"United States\",\"Poland\"],\"name\":\"\",\"z\":[4,3,2,1],\"type\":\"choropleth\"}],\"name\":\"1983\"},{\"data\":[{\"coloraxis\":\"coloraxis\",\"geo\":\"geo\",\"hovertemplate\":\"release_year=1984<br>country=%{location}<br>counts=%{z}<extra></extra>\",\"locationmode\":\"country names\",\"locations\":[\"United States\",\"Hong Kong\",\"India\",\"India, Soviet Union\",\"Italy, United States\"],\"name\":\"\",\"z\":[5,3,1,1,1],\"type\":\"choropleth\"}],\"name\":\"1984\"},{\"data\":[{\"coloraxis\":\"coloraxis\",\"geo\":\"geo\",\"hovertemplate\":\"release_year=1985<br>country=%{location}<br>counts=%{z}<extra></extra>\",\"locationmode\":\"country names\",\"locations\":[\"Argentina\",\"Hong Kong\",\"India\",\"Poland, West Germany\",\"United States\",\"United States, Japan\"],\"name\":\"\",\"z\":[2,2,2,1,1,1],\"type\":\"choropleth\"}],\"name\":\"1985\"},{\"data\":[{\"coloraxis\":\"coloraxis\",\"geo\":\"geo\",\"hovertemplate\":\"release_year=1986<br>country=%{location}<br>counts=%{z}<extra></extra>\",\"locationmode\":\"country names\",\"locations\":[\"United States\",\"India\",\"Hong Kong, China\",\"Italy, South Africa, West Germany, Australia, United States\",\"Japan\",\"United Kingdom, United States\",\"United States, United Kingdom\"],\"name\":\"\",\"z\":[6,2,1,1,1,1,1],\"type\":\"choropleth\"}],\"name\":\"1986\"},{\"data\":[{\"coloraxis\":\"coloraxis\",\"geo\":\"geo\",\"hovertemplate\":\"release_year=1987<br>country=%{location}<br>counts=%{z}<extra></extra>\",\"locationmode\":\"country names\",\"locations\":[\"United States\",\"India\"],\"name\":\"\",\"z\":[7,1],\"type\":\"choropleth\"}],\"name\":\"1987\"},{\"data\":[{\"coloraxis\":\"coloraxis\",\"geo\":\"geo\",\"hovertemplate\":\"release_year=1988<br>country=%{location}<br>counts=%{z}<extra></extra>\",\"locationmode\":\"country names\",\"locations\":[\"United States\",\"India\",\"Hong Kong\"],\"name\":\"\",\"z\":[14,2,1],\"type\":\"choropleth\"}],\"name\":\"1988\"},{\"data\":[{\"coloraxis\":\"coloraxis\",\"geo\":\"geo\",\"hovertemplate\":\"release_year=1989<br>country=%{location}<br>counts=%{z}<extra></extra>\",\"locationmode\":\"country names\",\"locations\":[\"United States\",\"India\",\"Denmark, France, Poland\",\"France, Egypt\",\"Hong Kong\",\"Ireland, United Kingdom, United States\",\"United Kingdom\",\"United States, Canada\"],\"name\":\"\",\"z\":[8,2,1,1,1,1,1,1],\"type\":\"choropleth\"}],\"name\":\"1989\"},{\"data\":[{\"coloraxis\":\"coloraxis\",\"geo\":\"geo\",\"hovertemplate\":\"release_year=1990<br>country=%{location}<br>counts=%{z}<extra></extra>\",\"locationmode\":\"country names\",\"locations\":[\"United States\",\"India\",\"Australia, United States\",\"Hong Kong\",\"Poland\",\"United States, Mexico\",\"United States, United Kingdom\"],\"name\":\"\",\"z\":[11,4,1,1,1,1,1],\"type\":\"choropleth\"}],\"name\":\"1990\"},{\"data\":[{\"coloraxis\":\"coloraxis\",\"geo\":\"geo\",\"hovertemplate\":\"release_year=1991<br>country=%{location}<br>counts=%{z}<extra></extra>\",\"locationmode\":\"country names\",\"locations\":[\"United States\",\"France, Belgium, Italy\",\"India, Soviet Union\",\"Mexico\",\"United Kingdom\",\"United Kingdom, United States\",\"United States, Hong Kong\"],\"name\":\"\",\"z\":[9,1,1,1,1,1,1],\"type\":\"choropleth\"}],\"name\":\"1991\"},{\"data\":[{\"coloraxis\":\"coloraxis\",\"geo\":\"geo\",\"hovertemplate\":\"release_year=1992<br>country=%{location}<br>counts=%{z}<extra></extra>\",\"locationmode\":\"country names\",\"locations\":[\"United States\",\"Hong Kong\",\"United Kingdom\",\"United Kingdom, Japan, United States\",\"Australia\",\"Australia, United Kingdom\",\"France, United States\",\"India\",\"Mexico\",\"United States, France\",\"United States, United Kingdom\"],\"name\":\"\",\"z\":[8,3,2,2,1,1,1,1,1,1,1],\"type\":\"choropleth\"}],\"name\":\"1992\"},{\"data\":[{\"coloraxis\":\"coloraxis\",\"geo\":\"geo\",\"hovertemplate\":\"release_year=1993<br>country=%{location}<br>counts=%{z}<extra></extra>\",\"locationmode\":\"country names\",\"locations\":[\"United States\",\"India\",\"Hong Kong\",\"Argentina, Spain\",\"France, United Kingdom, India\",\"New Zealand, Australia, France, United States\",\"United Kingdom\",\"United Kingdom, United States\",\"United States, Canada\",\"United States, France, Mexico\",\"United States, Ghana, Burkina Faso, United Kingdom, Germany, Ethiopia\",\"United States, Italy, France, Japan\"],\"name\":\"\",\"z\":[13,3,2,1,1,1,1,1,1,1,1,1],\"type\":\"choropleth\"}],\"name\":\"1993\"},{\"data\":[{\"coloraxis\":\"coloraxis\",\"geo\":\"geo\",\"hovertemplate\":\"release_year=1994<br>country=%{location}<br>counts=%{z}<extra></extra>\",\"locationmode\":\"country names\",\"locations\":[\"United States\",\"India\",\"United Kingdom\",\"Egypt, France\",\"Hong Kong\",\"United States, France\",\"United States, Mexico\"],\"name\":\"\",\"z\":[9,5,3,1,1,1,1],\"type\":\"choropleth\"}],\"name\":\"1994\"},{\"data\":[{\"coloraxis\":\"coloraxis\",\"geo\":\"geo\",\"hovertemplate\":\"release_year=1995<br>country=%{location}<br>counts=%{z}<extra></extra>\",\"locationmode\":\"country names\",\"locations\":[\"United States\",\"India\",\"Hong Kong\",\"Japan\",\"United Kingdom, United States\"],\"name\":\"\",\"z\":[15,5,2,1,1],\"type\":\"choropleth\"}],\"name\":\"1995\"},{\"data\":[{\"coloraxis\":\"coloraxis\",\"geo\":\"geo\",\"hovertemplate\":\"release_year=1996<br>country=%{location}<br>counts=%{z}<extra></extra>\",\"locationmode\":\"country names\",\"locations\":[\"United States\",\"India\",\"United Kingdom\",\"United States, France, Japan\"],\"name\":\"\",\"z\":[16,3,1,1],\"type\":\"choropleth\"}],\"name\":\"1996\"},{\"data\":[{\"coloraxis\":\"coloraxis\",\"geo\":\"geo\",\"hovertemplate\":\"release_year=1997<br>country=%{location}<br>counts=%{z}<extra></extra>\",\"locationmode\":\"country names\",\"locations\":[\"United States\",\"Canada, United States\",\"India\",\"United Kingdom, United States\",\"United States, France, Japan\",\"United States, Germany\",\"France, Egypt\",\"Hong Kong\",\"Hong Kong, China\",\"Japan\"],\"name\":\"\",\"z\":[20,3,3,3,2,2,1,1,1,1],\"type\":\"choropleth\"}],\"name\":\"1997\"},{\"data\":[{\"coloraxis\":\"coloraxis\",\"geo\":\"geo\",\"hovertemplate\":\"release_year=1998<br>country=%{location}<br>counts=%{z}<extra></extra>\",\"locationmode\":\"country names\",\"locations\":[\"United States\",\"India\",\"Canada\",\"Japan\",\"United Kingdom\",\"Argentina\",\"Australia\",\"Ireland, United Kingdom, France, Germany\",\"United States, France, Japan\",\"United States, Germany, Mexico\",\"United States, New Zealand\"],\"name\":\"\",\"z\":[18,6,2,2,2,1,1,1,1,1,1],\"type\":\"choropleth\"}],\"name\":\"1998\"},{\"data\":[{\"coloraxis\":\"coloraxis\",\"geo\":\"geo\",\"hovertemplate\":\"release_year=1999<br>country=%{location}<br>counts=%{z}<extra></extra>\",\"locationmode\":\"country names\",\"locations\":[\"United States\",\"India\",\"Germany, United States\",\"United Kingdom\",\"Australia\",\"France, Egypt\",\"France, Norway, Lebanon, Belgium\",\"Japan\",\"Mexico\",\"Thailand\",\"Turkey\",\"United Kingdom, United States\",\"United States, France, Japan\",\"United States, Germany, Canada\",\"United States, Mexico\"],\"name\":\"\",\"z\":[17,6,2,2,1,1,1,1,1,1,1,1,1,1,1],\"type\":\"choropleth\"}],\"name\":\"1999\"},{\"data\":[{\"coloraxis\":\"coloraxis\",\"geo\":\"geo\",\"hovertemplate\":\"release_year=2000<br>country=%{location}<br>counts=%{z}<extra></extra>\",\"locationmode\":\"country names\",\"locations\":[\"United States\",\"India\",\"United States, Canada\",\"France, Japan, United States\",\"Germany, United States\",\"Germany, United States, United Kingdom, Canada\",\"Japan\",\"Taiwan, Hong Kong, United States, China\",\"United Kingdom\",\"United Kingdom, France\",\"United States, France, United Kingdom\",\"United States, Germany\"],\"name\":\"\",\"z\":[18,7,2,1,1,1,1,1,1,1,1,1],\"type\":\"choropleth\"}],\"name\":\"2000\"},{\"data\":[{\"coloraxis\":\"coloraxis\",\"geo\":\"geo\",\"hovertemplate\":\"release_year=2001<br>country=%{location}<br>counts=%{z}<extra></extra>\",\"locationmode\":\"country names\",\"locations\":[\"United States\",\"India\",\"Japan\",\"United Kingdom\",\"Australia, United States\",\"Germany, Canada, United States\",\"Hong Kong\",\"India, United Kingdom\",\"Mexico\",\"Turkey\",\"United States, Germany, Canada\",\"United States, Spain\",\"United States, United Kingdom\",\"United States, United Kingdom, Italy\"],\"name\":\"\",\"z\":[23,7,2,2,1,1,1,1,1,1,1,1,1,1],\"type\":\"choropleth\"}],\"name\":\"2001\"},{\"data\":[{\"coloraxis\":\"coloraxis\",\"geo\":\"geo\",\"hovertemplate\":\"release_year=2002<br>country=%{location}<br>counts=%{z}<extra></extra>\",\"locationmode\":\"country names\",\"locations\":[\"United States\",\"India\",\"Japan\",\"Taiwan\",\"Brazil, France, Germany\",\"France\",\"France, United States\",\"Hong Kong\",\"Indonesia\",\"New Zealand, United States\",\"South Africa, United States\",\"Thailand\",\"United Kingdom\",\"United Kingdom, France, Poland, Germany, United States\",\"United Kingdom, Germany, Canada, United States\",\"United Kingdom, United States\",\"United Kingdom, United States, France, Germany\",\"United States, Canada\",\"United States, Germany\",\"United States, Germany, Canada\",\"United States, Italy\",\"United States, Netherlands, Japan, France\",\"United States, United Arab Emirates\"],\"name\":\"\",\"z\":[16,10,3,2,1,1,1,1,1,1,1,1,1,1,1,1,1,1,1,1,1,1,1],\"type\":\"choropleth\"}],\"name\":\"2002\"},{\"data\":[{\"coloraxis\":\"coloraxis\",\"geo\":\"geo\",\"hovertemplate\":\"release_year=2003<br>country=%{location}<br>counts=%{z}<extra></extra>\",\"locationmode\":\"country names\",\"locations\":[\"United States\",\"India\",\"Japan\",\"United States, Australia\",\"Colombia, United States\",\"India, France\",\"Indonesia\",\"Lebanon, France\",\"Malaysia\",\"New Zealand, United States\",\"Nigeria\",\"Taiwan\",\"United Kingdom, Australia, France, United States\",\"United Kingdom, Germany, Spain, United States\",\"United States, Canada\",\"United States, France, Canada, Spain\",\"United States, Germany\",\"United States, Germany, United Kingdom\",\"United States, Italy, Romania, United Kingdom\",\"United States, Japan\",\"United States, New Zealand\",\"United States, United Kingdom\",\"United States, United Kingdom, Germany, Hungary\"],\"name\":\"\",\"z\":[22,12,4,2,1,1,1,1,1,1,1,1,1,1,1,1,1,1,1,1,1,1,1],\"type\":\"choropleth\"}],\"name\":\"2003\"},{\"data\":[{\"coloraxis\":\"coloraxis\",\"geo\":\"geo\",\"hovertemplate\":\"release_year=2004<br>country=%{location}<br>counts=%{z}<extra></extra>\",\"locationmode\":\"country names\",\"locations\":[\"United States\",\"India\",\"Japan\",\"Egypt\",\"Mexico\",\"Taiwan\",\"Turkey\",\"United Kingdom\",\"United States, Germany\",\"Argentina\",\"Canada\",\"Canada, United States\",\"France\",\"Hong Kong, China\",\"Hong Kong, China, United States\",\"Malaysia\",\"South Korea\",\"Spain, France, United Kingdom, United States\",\"Thailand\",\"United Kingdom, United States\",\"United States, Canada\",\"United States, Canada, Germany\",\"United States, Czech Republic\",\"Uruguay, Argentina, Germany, Spain\"],\"name\":\"\",\"z\":[17,15,3,2,2,2,2,2,2,1,1,1,1,1,1,1,1,1,1,1,1,1,1,1],\"type\":\"choropleth\"}],\"name\":\"2004\"},{\"data\":[{\"coloraxis\":\"coloraxis\",\"geo\":\"geo\",\"hovertemplate\":\"release_year=2005<br>country=%{location}<br>counts=%{z}<extra></extra>\",\"locationmode\":\"country names\",\"locations\":[\"United States\",\"India\",\"Turkey\",\"Japan\",\"Taiwan\",\"United States, Germany\",\"United States, United Kingdom\",\"Australia\",\"China, Hong Kong\",\"Egypt\",\"France, Japan, United States\",\"Germany, United States\",\"Germany, United States, Canada\",\"Indonesia\",\"Lebanon\",\"Romania\",\"Sweden, Czech Republic, United Kingdom, Denmark, Netherlands\",\"Thailand\",\"United Kingdom\",\"United Kingdom, Czech Republic, Germany, United States\",\"United Kingdom, France, Germany, United States\",\"United Kingdom, United States\",\"United Kingdom, United States, Japan\",\"United States, Australia\",\"United States, Canada\",\"United States, Czech Republic, United Kingdom\",\"United States, France, United Kingdom, Japan\",\"United States, Germany, Australia\",\"United States, New Zealand\",\"United States, United Kingdom, Germany\"],\"name\":\"\",\"z\":[25,20,3,2,2,2,2,1,1,1,1,1,1,1,1,1,1,1,1,1,1,1,1,1,1,1,1,1,1,1],\"type\":\"choropleth\"}],\"name\":\"2005\"},{\"data\":[{\"coloraxis\":\"coloraxis\",\"geo\":\"geo\",\"hovertemplate\":\"release_year=2006<br>country=%{location}<br>counts=%{z}<extra></extra>\",\"locationmode\":\"country names\",\"locations\":[\"United States\",\"India\",\"Egypt\",\"Japan\",\"United States, Germany\",\"Canada\",\"Turkey\",\"United Kingdom\",\"United Kingdom, United States\",\"Argentina\",\"Argentina, Chile\",\"Argentina, Spain\",\"Australia, United States\",\"Canada, United States\",\"France, United States, Mexico\",\"Germany\",\"Hong Kong, China\",\"Malaysia\",\"Mexico, Spain\",\"Netherlands\",\"Philippines\",\"Saudi Arabia, United Arab Emirates\",\"United Kingdom, Czech Republic, United States, Germany, Bahamas\",\"United Kingdom, Thailand\",\"United Kingdom, United States, France, Italy\",\"United States, Canada\",\"United States, Czech Republic\",\"United States, Hong Kong\",\"United States, Malta, France, United Kingdom\",\"United States, Mexico\",\"United States, United Kingdom\"],\"name\":\"\",\"z\":[32,20,5,5,3,2,2,2,2,1,1,1,1,1,1,1,1,1,1,1,1,1,1,1,1,1,1,1,1,1,1],\"type\":\"choropleth\"}],\"name\":\"2006\"},{\"data\":[{\"coloraxis\":\"coloraxis\",\"geo\":\"geo\",\"hovertemplate\":\"release_year=2007<br>country=%{location}<br>counts=%{z}<extra></extra>\",\"locationmode\":\"country names\",\"locations\":[\"United States\",\"India\",\"United States, United Kingdom\",\"United States, Canada\",\"Canada\",\"Egypt\",\"Japan\",\"Thailand\",\"Argentina\",\"Australia\",\"Colombia\",\"Denmark\",\"France, Belgium\",\"France, Lebanon, United Kingdom\",\"Germany\",\"Germany, United States\",\"Hong Kong, China\",\"Hong Kong, Taiwan\",\"Hong Kong, United States\",\"Mexico\",\"New Zealand, United Kingdom, Australia\",\"Norway\",\"Philippines\",\"United Kingdom, India\",\"United Kingdom, Ireland\",\"United Kingdom, United States\",\"United States, Australia\",\"United States, Germany\",\"United States, New Zealand, Japan\",\"United States, United Kingdom, Canada\",\"Venezuela, Colombia\"],\"name\":\"\",\"z\":[33,16,4,3,2,2,2,2,1,1,1,1,1,1,1,1,1,1,1,1,1,1,1,1,1,1,1,1,1,1,1],\"type\":\"choropleth\"}],\"name\":\"2007\"},{\"data\":[{\"coloraxis\":\"coloraxis\",\"geo\":\"geo\",\"hovertemplate\":\"release_year=2008<br>country=%{location}<br>counts=%{z}<extra></extra>\",\"locationmode\":\"country names\",\"locations\":[\"United States\",\"India\",\"Japan\",\"United Kingdom\",\"Egypt\",\"Indonesia\",\"Philippines\",\"China\",\"Germany, United States\",\"United Kingdom, United States\",\"United States, Canada\",\"United States, China\",\"United States, France\",\"United States, United Kingdom\",\"Canada\",\"Canada, United States\",\"Chile, Brazil\",\"Colombia\",\"Colombia, Mexico, United States\",\"France\",\"Germany\",\"Germany, United Kingdom, United States\",\"Hong Kong\",\"Hong Kong, China\",\"India, United States\",\"Saudi Arabia\",\"Spain\",\"Taiwan\",\"Thailand\",\"United Kingdom, Germany, United States\",\"United Kingdom, United States, Australia\",\"United States, Australia\",\"United States, South Africa\",\"United States, South Korea\",\"United States, United Kingdom, France\"],\"name\":\"\",\"z\":[45,25,10,6,5,3,3,2,2,2,2,2,2,2,1,1,1,1,1,1,1,1,1,1,1,1,1,1,1,1,1,1,1,1,1],\"type\":\"choropleth\"}],\"name\":\"2008\"},{\"data\":[{\"coloraxis\":\"coloraxis\",\"geo\":\"geo\",\"hovertemplate\":\"release_year=2009<br>country=%{location}<br>counts=%{z}<extra></extra>\",\"locationmode\":\"country names\",\"locations\":[\"United States\",\"India\",\"Taiwan\",\"Egypt\",\"Japan\",\"United States, United Kingdom\",\"Hong Kong\",\"Indonesia\",\"Singapore\",\"South Korea\",\"Canada\",\"Germany, United States\",\"Thailand\",\"Turkey\",\"United Kingdom\",\"United Kingdom, United States\",\"United States, Canada\",\"United States, Germany\",\"United States, United Kingdom, France\",\"Australia\",\"Canada, United States\",\"Czech Republic, United Kingdom, France\",\"France\",\"France, Switzerland, Spain, United States, United Arab Emirates\",\"Germany, United States, France\",\"Malaysia\",\"Nigeria\",\"Philippines\",\"South Africa, United States, New Zealand, Canada\",\"South Korea, United States\",\"Spain, United Kingdom, United States\",\"United Kingdom, Australia, France\",\"United Kingdom, Canada\",\"United Kingdom, Canada, France, United States\",\"United States, Canada, France\",\"United States, Germany, United Kingdom, Australia\",\"United States, Germany, United Kingdom, Italy\",\"United States, Italy\",\"United States, Japan\",\"United States, New Zealand\",\"United States, United Arab Emirates\",\"United States, United Kingdom, Australia\",\"United States, United Kingdom, New Zealand\"],\"name\":\"\",\"z\":[42,28,6,4,4,4,3,3,3,3,2,2,2,2,2,2,2,2,2,1,1,1,1,1,1,1,1,1,1,1,1,1,1,1,1,1,1,1,1,1,1,1,1],\"type\":\"choropleth\"}],\"name\":\"2009\"},{\"data\":[{\"coloraxis\":\"coloraxis\",\"geo\":\"geo\",\"hovertemplate\":\"release_year=2010<br>country=%{location}<br>counts=%{z}<extra></extra>\",\"locationmode\":\"country names\",\"locations\":[\"United States\",\"India\",\"Japan\",\"Egypt\",\"Turkey\",\"United Kingdom\",\"Canada\",\"Thailand\",\"United States, Canada\",\"Hong Kong\",\"United States, France\",\"China\",\"Lebanon\",\"Mexico\",\"South Korea\",\"United States, Australia\",\"United States, United Kingdom\",\"Australia, France, Ireland\",\"Canada, Nigeria\",\"Canada, United States, India, United Kingdom\",\"Colombia\",\"France\",\"France, United Kingdom, United States\",\"France, United States\",\"Germany, France, United States, Canada, United Kingdom\",\"Germany, Sri Lanka\",\"Hong Kong, China\",\"Hong Kong, China, Singapore\",\"India, Australia\",\"India, Germany, France\",\"India, Japan\",\"India, Pakistan\",\"India, United States\",\"Ireland, Canada, United States, United Kingdom\",\"Japan, United States\",\"Mexico, United States\",\"Nigeria\",\"Philippines\",\"Romania, France, Switzerland, Germany\",\"South Africa\",\"Spain, Mexico, France\",\"Taiwan\",\"Turkey, United States\",\"United Kingdom, Australia, Canada, United States\",\"United Kingdom, France, Spain, United States\",\"United Kingdom, France, United States\",\"United Kingdom, United States, Australia\",\"United States, Australia, Mexico\",\"United States, France, Italy, United Kingdom\",\"United States, Ireland\",\"United States, Japan\",\"United States, Nigeria\",\"United States, United Kingdom, Australia\",\"United States, United Kingdom, Canada, Japan\"],\"name\":\"\",\"z\":[54,35,7,5,5,5,4,4,4,3,3,2,2,2,2,2,2,1,1,1,1,1,1,1,1,1,1,1,1,1,1,1,1,1,1,1,1,1,1,1,1,1,1,1,1,1,1,1,1,1,1,1,1,1],\"type\":\"choropleth\"}],\"name\":\"2010\"},{\"data\":[{\"coloraxis\":\"coloraxis\",\"geo\":\"geo\",\"hovertemplate\":\"release_year=2011<br>country=%{location}<br>counts=%{z}<extra></extra>\",\"locationmode\":\"country names\",\"locations\":[\"United States\",\"India\",\"United Kingdom\",\"Egypt\",\"Japan\",\"United States, Canada\",\"Indonesia\",\"Singapore\",\"Taiwan\",\"Thailand\",\"Canada\",\"Turkey\",\"United Kingdom, United States, Spain, Germany, Greece, Canada\",\"France\",\"United Kingdom, United States\",\"United States, India\",\"United States, United Kingdom\",\"Australia\",\"Canada, United States, United Kingdom, France, Luxembourg\",\"China\",\"China, Hong Kong\",\"France, Belgium\",\"France, Belgium, United States\",\"Hong Kong\",\"Hong Kong, China\",\"India, Germany\",\"Iran, France\",\"Ireland, United States\",\"Italy, Canada, France\",\"Malaysia\",\"Pakistan\",\"Philippines\",\"South Korea\",\"United Kingdom, France\",\"United Kingdom, Germany, France, United States\",\"United Kingdom, Nigeria\",\"United Kingdom, United States, France\",\"United States, Belgium, Canada, France\",\"United States, China\",\"United States, France, Japan\",\"United States, Germany\",\"United States, Italy\",\"United States, Japan\",\"United States, New Zealand, United Kingdom\",\"United States, Russia\",\"United States, Sweden, Norway\"],\"name\":\"\",\"z\":[56,30,9,8,8,6,4,4,4,4,3,3,3,2,2,2,2,1,1,1,1,1,1,1,1,1,1,1,1,1,1,1,1,1,1,1,1,1,1,1,1,1,1,1,1,1],\"type\":\"choropleth\"}],\"name\":\"2011\"},{\"data\":[{\"coloraxis\":\"coloraxis\",\"geo\":\"geo\",\"hovertemplate\":\"release_year=2012<br>country=%{location}<br>counts=%{z}<extra></extra>\",\"locationmode\":\"country names\",\"locations\":[\"United States\",\"India\",\"South Korea\",\"Egypt\",\"United Kingdom\",\"United States, Canada\",\"Japan\",\"Taiwan\",\"Australia\",\"Canada\",\"Philippines\",\"Singapore\",\"Thailand\",\"Turkey\",\"United States, France\",\"China\",\"Colombia\",\"France\",\"Mexico\",\"South Africa\",\"United Kingdom, Germany\",\"United Kingdom, United States\",\"Brazil\",\"Brazil, United States\",\"Canada, France, United States\",\"Canada, United States\",\"Denmark\",\"France, United States\",\"Germany, United States, Hong Kong, Singapore\",\"Indonesia\",\"Indonesia, Singapore\",\"Israel\",\"Lebanon, United Arab Emirates\",\"Lebanon, United States, United Arab Emirates\",\"Nigeria\",\"Nigeria, United Kingdom\",\"Pakistan\",\"Philippines, Canada, United Kingdom, United States\",\"Saudi Arabia, Netherlands, Germany, Jordan, United Arab Emirates, United States\",\"South Africa, United States, Japan\",\"Spain, Thailand, United States\",\"Sweden, United Kingdom, Finland\",\"United Kingdom, Denmark, Canada, Croatia\",\"United Kingdom, India\",\"United Kingdom, Norway, Denmark, Germany, Sweden\",\"United Kingdom, United States, Spain, Germany, Greece, Canada\",\"United States, Brazil\",\"United States, Canada, Belgium, United Kingdom\",\"United States, Chile\",\"United States, India\",\"United States, India, Bangladesh\",\"United States, Mexico\",\"United States, Russia\",\"United States, United Kingdom\"],\"name\":\"\",\"z\":[70,38,11,9,9,7,6,5,3,3,3,3,3,3,3,2,2,2,2,2,2,2,1,1,1,1,1,1,1,1,1,1,1,1,1,1,1,1,1,1,1,1,1,1,1,1,1,1,1,1,1,1,1,1],\"type\":\"choropleth\"}],\"name\":\"2012\"},{\"data\":[{\"coloraxis\":\"coloraxis\",\"geo\":\"geo\",\"hovertemplate\":\"release_year=2013<br>country=%{location}<br>counts=%{z}<extra></extra>\",\"locationmode\":\"country names\",\"locations\":[\"United States\",\"India\",\"United Kingdom\",\"Japan\",\"Turkey\",\"Philippines\",\"Taiwan\",\"Egypt\",\"South Korea\",\"Brazil\",\"Indonesia\",\"Nigeria\",\"United Kingdom, United States\",\"United States, Canada\",\"Chile\",\"France, Belgium\",\"Germany\",\"Hong Kong\",\"Hong Kong, China\",\"Mexico\",\"South Africa\",\"Spain\",\"Argentina, Spain\",\"Australia\",\"Australia, France\",\"Canada\",\"Canada, Spain, France\",\"Canada, United States\",\"Denmark, France, United States, Sweden\",\"Denmark, Germany, Belgium, United Kingdom, France\",\"Denmark, Germany, Belgium, United Kingdom, France, Sweden\",\"France, Belgium, Spain\",\"India, Switzerland\",\"Israel, Germany, Poland, Luxembourg, Belgium, France, United States\",\"Italy\",\"Italy, France\",\"Lebanon\",\"Malaysia\",\"Norway\",\"Pakistan\",\"Russia\",\"Saudi Arabia\",\"Singapore\",\"South Korea, Czech Republic\",\"Switzerland, United Kingdom, Australia\",\"Switzerland, United Kingdom, United States\",\"Thailand\",\"Turkey, Azerbaijan\",\"United Kingdom, Egypt, United States\",\"United Kingdom, Germany, United States\",\"United Kingdom, India, United States\",\"United Kingdom, South Africa, France\",\"United Kingdom, United States, France\",\"United States, Chile\",\"United States, China, Hong Kong\",\"United States, France\",\"United States, France, Canada, Belgium\",\"United States, Hungary, Ireland, Canada\",\"United States, India\",\"United States, India, France\",\"United States, Israel, Italy, South Africa\",\"United States, Italy\",\"United States, Russia\",\"United States, Spain\",\"United States, United Kingdom, Australia\",\"United States, United Kingdom, France, Germany, Japan\"],\"name\":\"\",\"z\":[85,54,15,10,9,6,6,5,5,3,3,3,3,3,2,2,2,2,2,2,2,2,1,1,1,1,1,1,1,1,1,1,1,1,1,1,1,1,1,1,1,1,1,1,1,1,1,1,1,1,1,1,1,1,1,1,1,1,1,1,1,1,1,1,1,1],\"type\":\"choropleth\"}],\"name\":\"2013\"},{\"data\":[{\"coloraxis\":\"coloraxis\",\"geo\":\"geo\",\"hovertemplate\":\"release_year=2014<br>country=%{location}<br>counts=%{z}<extra></extra>\",\"locationmode\":\"country names\",\"locations\":[\"United States\",\"India\",\"United Kingdom\",\"Turkey\",\"Japan\",\"Canada\",\"South Korea\",\"France\",\"Singapore\",\"Germany\",\"Egypt\",\"Philippines\",\"United States, United Kingdom\",\"Mexico\",\"Nigeria\",\"Taiwan\",\"Australia, United States\",\"Hong Kong\",\"Thailand\",\"United Kingdom, United States\",\"United States, Canada\",\"United States, France\",\", France, Algeria\",\"Argentina, Venezuela\",\"Australia, United Kingdom, Canada\",\"Australia, United Kingdom, United States, New Zealand, Italy, France\",\"Austria, Czech Republic\",\"Brazil\",\"Bulgaria, United States, Spain, Canada\",\"Canada, France, Italy, Morocco, United States\",\"Canada, Germany, France, United States\",\"Canada, India\",\"Canada, Luxembourg\",\"Canada, South Korea, United States\",\"Canada, United Kingdom, United States\",\"Canada, United States\",\"Canada, United States, Denmark\",\"China, Hong Kong\",\"Denmark, Brazil, France, Portugal, Sweden\",\"Denmark, Indonesia, Finland, Norway, United Kingdom, Israel, France, United States, Germany, Netherlands\",\"Denmark, United Kingdom, South Africa, Sweden, Belgium\",\"Denmark, Zimbabwe\",\"France, Belgium\",\"France, Canada, United States, Spain\",\"France, Germany, Switzerland\",\"Germany, United Kingdom\",\"Germany, United States, Italy\",\"Hong Kong, China\",\"Hong Kong, United States\",\"India, Canada\",\"India, France\",\"Indonesia\",\"Israel\",\"Kenya, United States\",\"Lebanon, United Arab Emirates, France, Switzerland, Germany\",\"Malaysia\",\"Mexico, United States\",\"Norway, Denmark, Sweden\",\"Norway, United Kingdom, France, Ireland\",\"Norway, United States\",\"Pakistan\",\"Pakistan, Norway, United States\",\"Poland\",\"Romania\",\"Russia\",\"Saudi Arabia\",\"Spain\",\"Thailand, Canada, United States\",\"United Arab Emirates\",\"United Arab Emirates, Jordan, Lebanon, Saudi Arabia\",\"United Arab Emirates, United States\",\"United Kingdom,\",\"United Kingdom, Brazil, Germany\",\"United Kingdom, China, United States\",\"United Kingdom, France, Canada, Belgium, United States\",\"United Kingdom, Japan\",\"United Kingdom, United States, Morocco\",\"United States, Bermuda, Ecuador\",\"United States, Bulgaria\",\"United States, France, Canada, Lebanon, Qatar\",\"United States, France, Serbia\",\"United States, Greece, United Kingdom\",\"United States, India\",\"United States, India, United Arab Emirates\",\"United States, Japan, Canada\",\"United States, Russia\",\"United States, United Kingdom, Canada, China\",\"United States, United Kingdom, Denmark, Sweden\",\"Vietnam\"],\"name\":\"\",\"z\":[94,51,24,15,14,11,7,6,6,5,4,4,4,3,3,3,2,2,2,2,2,2,1,1,1,1,1,1,1,1,1,1,1,1,1,1,1,1,1,1,1,1,1,1,1,1,1,1,1,1,1,1,1,1,1,1,1,1,1,1,1,1,1,1,1,1,1,1,1,1,1,1,1,1,1,1,1,1,1,1,1,1,1,1,1,1,1,1,1],\"type\":\"choropleth\"}],\"name\":\"2014\"},{\"data\":[{\"coloraxis\":\"coloraxis\",\"geo\":\"geo\",\"hovertemplate\":\"release_year=2015<br>country=%{location}<br>counts=%{z}<extra></extra>\",\"locationmode\":\"country names\",\"locations\":[\"United States\",\"India\",\"United Kingdom\",\"Canada\",\"Turkey\",\"South Korea\",\"Japan\",\"Spain\",\"France\",\"Philippines\",\"Australia\",\"Taiwan\",\"Mexico\",\"Nigeria\",\"Indonesia\",\"Argentina\",\"Germany\",\"Russia\",\"Thailand\",\"United States, Canada\",\"Brazil\",\"Canada, United States\",\"Egypt\",\"France, Belgium\",\"Italy\",\"Malaysia\",\"Netherlands\",\"United Kingdom, France\",\"United Kingdom, United States\",\"Chile\",\"China\",\"India, United States\",\"Japan, United States\",\"New Zealand\",\"Pakistan\",\"Singapore\",\"South Africa\",\"South Africa, United States\",\"United Kingdom, France, United States\",\"United States, Australia\",\"United States, India\",\"Argentina, Chile, Peru\",\"Australia, Iraq\",\"Australia, United Kingdom, United Arab Emirates, Canada\",\"Australia, United States\",\"Belgium\",\"Canada, Australia\",\"Canada, Mexico, Germany, South Africa\",\"Canada, Nigeria, United States\",\"Canada, United Kingdom, Netherlands\",\"Canada, United States, France\",\"Canada, United States, Mexico\",\"Canada, United States, United Kingdom\",\"Chile, Spain, Argentina, Germany\",\"China, Germany, India, United States\",\"China, Hong Kong\",\"China, South Korea, United States\",\"Colombia\",\"Croatia, Slovenia, Serbia, Montenegro\",\"Denmark\",\"Denmark, United Kingdom, Sweden\",\"France, Canada, Belgium\",\"France, Canada, Italy, United States, China\",\"France, Germany\",\"France, Malta, United States\",\"France, Morocco\",\"France, United States, Canada\",\"Germany, Australia, France, China\",\"Germany, France, Luxembourg, United Kingdom, United States\",\"Hong Kong\",\"Hong Kong, China, United States\",\"Iceland\",\"India, France\",\"India, Germany\",\"Ireland\",\"Ireland, Canada, United Kingdom, United States\",\"Ireland, United Kingdom, Greece, France, Netherlands\",\"Israel\",\"Israel, Sweden, Germany, Netherlands\",\"Israel, United States\",\"Italy, France\",\"Japan, Canada\",\"Lebanon, Qatar\",\"Malaysia, Singapore, Hong Kong\",\"Mexico, France\",\"Netherlands, Belgium, United Kingdom, United States\",\"Netherlands, Denmark, South Africa\",\"Pakistan, United States\",\"Peru\",\"Poland\",\"Romania\",\"Romania, Bulgaria, Hungary\",\"Russia, Spain\",\"Russia, United States, China\",\"South Korea, China, United States\",\"Spain, France, Uruguay\",\"Switzerland\",\"Ukraine\",\"United Arab Emirates\",\"United Arab Emirates, Jordan\",\"United Kingdom, Canada, United States\",\"United Kingdom, Lithuania\",\"United Kingdom, New Zealand\",\"United Kingdom, Russia, United States\",\"United Kingdom, South Korea\",\"United Kingdom, Ukraine, United States\",\"United Kingdom, United States, Australia\",\"United Kingdom, United States, Germany, Denmark, Belgium, Japan\",\"United States, Argentina\",\"United States, Canada, Japan, Panama\",\"United States, Chile\",\"United States, Chile, Israel\",\"United States, Indonesia\",\"United States, Ireland, United Kingdom, India\",\"United States, Morocco\",\"United States, Nicaragua\",\"United States, Senegal\",\"United States, Spain, Germany\",\"United States, Sweden\",\"United States, Switzerland\",\"United States, Thailand\",\"United States, United Arab Emirates\",\"United States, United Kingdom\",\"United States, United Kingdom, Canada\",\"United States, United Kingdom, France\",\"United States, United Kingdom, Morocco\",\"United States, United Kingdom, Spain, South Korea\",\"United States, Uruguay\",\"Vietnam\"],\"name\":\"\",\"z\":[145,62,36,13,13,12,11,11,10,10,9,8,6,6,5,4,4,4,4,4,3,3,3,3,3,3,3,3,3,2,2,2,2,2,2,2,2,2,2,2,2,1,1,1,1,1,1,1,1,1,1,1,1,1,1,1,1,1,1,1,1,1,1,1,1,1,1,1,1,1,1,1,1,1,1,1,1,1,1,1,1,1,1,1,1,1,1,1,1,1,1,1,1,1,1,1,1,1,1,1,1,1,1,1,1,1,1,1,1,1,1,1,1,1,1,1,1,1,1,1,1,1,1,1,1,1,1,1,1],\"type\":\"choropleth\"}],\"name\":\"2015\"},{\"data\":[{\"coloraxis\":\"coloraxis\",\"geo\":\"geo\",\"hovertemplate\":\"release_year=2016<br>country=%{location}<br>counts=%{z}<extra></extra>\",\"locationmode\":\"country names\",\"locations\":[\"United States\",\"India\",\"United Kingdom\",\"South Korea\",\"Canada\",\"Japan\",\"Mexico\",\"Australia\",\"Spain\",\"France\",\"Nigeria\",\"Turkey\",\"Germany\",\"Philippines\",\"China\",\"Indonesia\",\"Taiwan\",\"Argentina\",\"United Kingdom, United States\",\"Brazil\",\"Canada, United States\",\"Egypt\",\"France, Belgium\",\"Italy\",\"United States, Canada\",\"China, Hong Kong\",\"Hong Kong\",\"Ireland\",\"New Zealand\",\"Pakistan\",\"Thailand\",\"Chile\",\"Denmark\",\"Japan, United States\",\"Norway\",\"South Africa\",\"Sweden\",\"Belgium, France\",\"Canada, United States, United Kingdom\",\"Colombia\",\"Germany, United States\",\"Hong Kong, China\",\"Israel\",\"Singapore\",\"Sweden, United States\",\"United Arab Emirates\",\"United States, China\",\"United States, Greece\",\"United States, Ireland\",\"United States, Spain\",\"Argentina, Spain\",\"Australia, India\",\"Austria\",\"Belarus\",\"Belgium, France, Netherlands\",\"Belgium, Ireland, Netherlands, Germany, Afghanistan\",\"Brazil, Netherlands, United States, Colombia, Austria, Germany\",\"Bulgaria, United States\",\"Canada, France\",\"Canada, India, Thailand, United States, United Arab Emirates\",\"Canada, Ireland, United States\",\"Canada, Spain\",\"Canada, United Kingdom\",\"Canada, United Kingdom, United States\",\"Chile, Argentina, France, Spain, United States\",\"Chile, France\",\"Chile, United States, France\",\"China, Hong Kong, United States\",\"China, United States\",\"Colombia, Mexico, United States\",\"Czech Republic, France\",\"Czech Republic, Slovakia\",\"Denmark, China\",\"Denmark, Spain\",\"Denmark, United States\",\"Egypt, France\",\"Finland, Sweden, Norway, Latvia, Germany\",\"France, Canada\",\"France, Canada, China, Cambodia\",\"France, Canada, United States\",\"France, Germany, Czech Republic, Belgium\",\"France, Qatar\",\"France, South Korea, Japan\",\"France, United Kingdom, United States\",\"France, United States, United Kingdom, Canada\",\"Germany, Jordan, Netherlands\",\"Hong Kong, Canada, United States\",\"Hungary\",\"India, United Kingdom\",\"India, United States\",\"Ireland, South Africa\",\"Ireland, United Kingdom\",\"Ireland, United Kingdom, Italy, United States\",\"Ireland, United Kingdom, United States\",\"Ireland, United States, United Kingdom\",\"Israel, Germany, France\",\"Italy, France\",\"Italy, Germany\",\"Italy, India\",\"Malaysia\",\"Mexico, Spain\",\"Mexico, United States\",\"Netherlands\",\"Netherlands, Belgium\",\"Netherlands, Belgium, Germany, Jordan\",\"Netherlands, Denmark, France, Germany\",\"Norway, Germany\",\"Peru, United States, United Kingdom\",\"Philippines, Qatar\",\"Portugal, France, Poland, United States\",\"Portugal, Spain\",\"Romania\",\"Russia\",\"Saudi Arabia\",\"Serbia, South Korea, Slovenia\",\"Singapore, France\",\"Slovenia, Croatia, Germany, Czech Republic, Qatar\",\"South Africa, United States, Germany\",\"South Korea, Canada, United States, China\",\"South Korea, China\",\"South Korea, France\",\"Spain, Argentina\",\"Spain, Cuba\",\"Spain, Italy, Argentina\",\"Spain, Mexico\",\"Spain, Switzerland\",\"Switzerland, France\",\"Turkey, France, Germany, Poland\",\"Turkey, India\",\"United Arab Emirates, Romania\",\"United Kingdom, Canada, Italy\",\"United Kingdom, Canada, United States\",\"United Kingdom, Finland, Germany, United States, Australia, Japan, France, Ireland\",\"United Kingdom, France\",\"United Kingdom, France, Belgium\",\"United Kingdom, France, Germany\",\"United Kingdom, France, Germany, United States\",\"United Kingdom, France, United States, Belgium, Luxembourg, China, Germany\",\"United Kingdom, Germany, Canada\",\"United Kingdom, Germany, United Arab Emirates, New Zealand\",\"United Kingdom, Hong Kong\",\"United Kingdom, Israel, Russia\",\"United Kingdom, Italy, Israel, Peru, United States\",\"United Kingdom, Jordan, Qatar, Iran\",\"United Kingdom, Poland, United States\",\"United Kingdom, Russia\",\"United Kingdom, South Africa\",\"United Kingdom, Spain, Belgium\",\"United Kingdom, Spain, United States\",\"United States, Botswana\",\"United States, Bulgaria\",\"United States, Cambodia\",\"United States, Cambodia, Romania\",\"United States, Canada, China\",\"United States, Canada, Ireland\",\"United States, France\",\"United States, France, South Korea, Indonesia\",\"United States, Greece, Brazil\",\"United States, Hong Kong\",\"United States, Hungary\",\"United States, India, United Kingdom\",\"United States, Italy\",\"United States, Kazakhstan\",\"United States, Mexico\",\"United States, South Korea, China\",\"United States, Sweden\",\"United States, United Kingdom, Japan\",\"United States, Venezuela\",\"Vietnam\"],\"name\":\"\",\"z\":[263,73,62,29,27,19,18,16,16,14,14,11,9,9,8,8,8,7,7,6,6,6,5,5,5,4,4,4,4,4,4,3,3,3,3,3,3,2,2,2,2,2,2,2,2,2,2,2,2,2,1,1,1,1,1,1,1,1,1,1,1,1,1,1,1,1,1,1,1,1,1,1,1,1,1,1,1,1,1,1,1,1,1,1,1,1,1,1,1,1,1,1,1,1,1,1,1,1,1,1,1,1,1,1,1,1,1,1,1,1,1,1,1,1,1,1,1,1,1,1,1,1,1,1,1,1,1,1,1,1,1,1,1,1,1,1,1,1,1,1,1,1,1,1,1,1,1,1,1,1,1,1,1,1,1,1,1,1,1,1,1,1,1,1,1,1,1,1,1],\"type\":\"choropleth\"}],\"name\":\"2016\"},{\"data\":[{\"coloraxis\":\"coloraxis\",\"geo\":\"geo\",\"hovertemplate\":\"release_year=2017<br>country=%{location}<br>counts=%{z}<extra></extra>\",\"locationmode\":\"country names\",\"locations\":[\"United States\",\"India\",\"United Kingdom\",\"South Korea\",\"Japan\",\"Canada\",\"Spain\",\"France\",\"Nigeria\",\"Egypt\",\"Mexico\",\"China\",\"Australia\",\"Brazil\",\"Canada, United States\",\"Philippines\",\"Turkey\",\"Indonesia\",\"Taiwan\",\"Germany\",\"United States, Canada\",\"Pakistan\",\"Thailand\",\"Argentina\",\"France, Belgium\",\"Italy\",\"Lebanon\",\"South Africa\",\"United Kingdom, United States\",\"United States, United Kingdom\",\"Belgium\",\"China, Hong Kong\",\"Ireland\",\"Malaysia\",\"Russia\",\"Argentina, Spain\",\"Australia, United Arab Emirates\",\"Bulgaria, United States\",\"China, Canada, United States\",\"Colombia\",\"Israel\",\"Italy, United States\",\"Mexico, United States\",\"Netherlands\",\"Peru\",\"Poland\",\"Sweden\",\"United Kingdom, Canada, United States\",\"United States, China\",\"United States, Japan\",\"United States, Mexico\",\"Argentina, Brazil, France, Poland, Germany, Denmark\",\"Argentina, Chile\",\"Argentina, France\",\"Argentina, France, United States, Germany, Qatar\",\"Argentina, Italy\",\"Argentina, Uruguay, Spain, France\",\"Australia, Armenia, Japan, Jordan, Mexico, Mongolia, New Zealand, Philippines, South Africa, Sweden, United States, Uruguay\",\"Australia, Canada\",\"Australia, New Zealand, United States\",\"Australia, United States\",\"Austria\",\"Austria, United States\",\"Bangladesh\",\"Brazil, France\",\"Brazil, India, China, United States\",\"Cambodia\",\"Cambodia, United States\",\"Canada, Germany, South Africa\",\"Canada, India\",\"Canada, Japan, Netherlands\",\"Canada, United States, France\",\"Chile\",\"Chile, Peru\",\"China, India, Nepal\",\"Cyprus\",\"Czech Republic, United Kingdom, United States\",\"Czech Republic, United States\",\"Denmark\",\"Denmark, Sweden, Israel, United States\",\"France, Belgium, China, United States\",\"France, Canada\",\"France, Japan\",\"France, Netherlands, South Africa, Finland\",\"Georgia, Germany, France\",\"Germany, Australia\",\"Germany, Belgium\",\"Germany, France, Russia\",\"Germany, Italy\",\"Germany, United Kingdom\",\"Ghana\",\"Greece, United States\",\"Guatemala\",\"Hong Kong\",\"Hong Kong, China\",\"Hungary\",\"Iceland\",\"India, France\",\"India, Mexico\",\"India, United States\",\"Indonesia, Netherlands\",\"Ireland, Canada, Luxembourg, United States, United Kingdom, Philippines, India\",\"Ireland, United Kingdom\",\"Israel, Germany\",\"Italy, France, Switzerland\",\"Italy, Turkey\",\"Italy, United States, Argentina\",\"Japan, United States\",\"Kuwait, United States\",\"Netherlands, Germany, Denmark, United Kingdom\",\"Netherlands, Germany, Italy, Canada\",\"Netherlands, United States\",\"New Zealand, United Kingdom\",\"Norway, Germany, Sweden\",\"Peru, Germany, Norway\",\"Saudi Arabia, Syria, Egypt, Lebanon, Kuwait\",\"Serbia, United States\",\"Singapore, United States\",\"Somalia, Kenya, Sudan, South Africa, United States\",\"South Africa, China, United States\",\"South Africa, Germany, Netherlands, France\",\"South Africa, Nigeria\",\"South Korea, United States\",\"Spain, Argentina\",\"Spain, Canada, United States\",\"Spain, Colombia\",\"Spain, Germany\",\"Spain, Mexico\",\"Spain, United Kingdom\",\"Sweden, Netherlands\",\"Switzerland, France, Belgium, United States\",\"Switzerland, United States\",\"Thailand, United States\",\"Turkey, United States\",\"Ukraine\",\"United Arab Emirates, United States, United Kingdom\",\"United Kingdom, Canada, Japan\",\"United Kingdom, China, United States, India\",\"United Kingdom, France, Belgium, Canada, United States\",\"United Kingdom, France, Belgium, United States\",\"United Kingdom, France, United States, Belgium\",\"United Kingdom, India, Sweden\",\"United Kingdom, India, United States\",\"United Kingdom, Ireland\",\"United Kingdom, Namibia, South Africa, Zimbabwe, United States\",\"United Kingdom, Nigeria\",\"United Kingdom, Singapore\",\"United Kingdom, United States, Canada\",\"United Kingdom, United States, Dominican Republic\",\"United States, Australia, China\",\"United States, Australia, Samoa, United Kingdom\",\"United States, Australia, South Africa, United Kingdom\",\"United States, Bulgaria\",\"United States, Canada, Indonesia, United Kingdom, China, Singapore\",\"United States, China, Hong Kong\",\"United States, Colombia, Mexico\",\"United States, Denmark\",\"United States, Iceland\",\"United States, South Africa\",\"United States, South Korea, Japan\",\"United States, Sweden\",\"United States, United Kingdom, Australia\",\"Uruguay\",\"Venezuela\",\"Zimbabwe\"],\"name\":\"\",\"z\":[352,101,66,31,29,26,24,17,15,13,12,11,9,9,9,9,8,7,7,6,6,5,5,4,4,4,4,4,4,4,3,3,3,3,3,2,2,2,2,2,2,2,2,2,2,2,2,2,2,2,2,1,1,1,1,1,1,1,1,1,1,1,1,1,1,1,1,1,1,1,1,1,1,1,1,1,1,1,1,1,1,1,1,1,1,1,1,1,1,1,1,1,1,1,1,1,1,1,1,1,1,1,1,1,1,1,1,1,1,1,1,1,1,1,1,1,1,1,1,1,1,1,1,1,1,1,1,1,1,1,1,1,1,1,1,1,1,1,1,1,1,1,1,1,1,1,1,1,1,1,1,1,1,1,1,1,1,1,1,1,1,1,1,1,1],\"type\":\"choropleth\"}],\"name\":\"2017\"},{\"data\":[{\"coloraxis\":\"coloraxis\",\"geo\":\"geo\",\"hovertemplate\":\"release_year=2018<br>country=%{location}<br>counts=%{z}<extra></extra>\",\"locationmode\":\"country names\",\"locations\":[\"United States\",\"India\",\"United Kingdom\",\"Japan\",\"Canada\",\"Spain\",\"South Korea\",\"France\",\"Nigeria\",\"Mexico\",\"Australia\",\"Egypt\",\"United Kingdom, United States\",\"Brazil\",\"Indonesia\",\"Argentina\",\"China\",\"Colombia\",\"Philippines\",\"Turkey\",\"Canada, United States\",\"Taiwan\",\"France, Belgium\",\"Malaysia\",\"Thailand\",\"United States, Canada\",\"Denmark\",\"Germany\",\"United States, United Kingdom\",\"Netherlands\",\"New Zealand\",\"Spain, France\",\"Chile\",\"Israel\",\"Italy\",\"Lebanon\",\"Mexico, United States\",\"Pakistan\",\"United Arab Emirates\",\"Argentina, Spain\",\"Australia, United States\",\"Bangladesh\",\"Canada, South Africa\",\"China, Hong Kong\",\"France, United States\",\"Ireland\",\"Norway, Iceland, United States\",\"Poland, United States\",\"Russia\",\"South Africa\",\"South Korea, United States\",\"United States, Colombia\",\"United States, Czech Republic\",\"Argentina, Uruguay, Serbia\",\"Australia, Canada\",\"Austria, Iraq, United States\",\"Belgium\",\"Belgium, United Kingdom, United States\",\"Bulgaria\",\"Canada, Belgium\",\"Canada, Japan, United States\",\"Canada, United States, Germany\",\"Chile, Argentina\",\"China, Canada, United States\",\"China, Japan\",\"China, Morocco, Hong Kong\",\"China, United Kingdom\",\"China, United States, Australia\",\"China, United States, United Kingdom\",\"Colombia, Mexico\",\"Colombia, Peru, United Kingdom\",\"Croatia\",\"Czech Republic, United States\",\"Egypt, Austria, United States\",\"Finland\",\"France, Belgium, Luxembourg, Cambodia,\",\"France, Belgium, Luxembourg, Romania, Canada, United States\",\"France, Canada\",\"France, China, Japan, United States\",\"France, Iran, United States\",\"France, Luxembourg, United States\",\"Georgia\",\"Germany, United States, Sweden\",\"Ghana\",\"Ghana, United States\",\"Hong Kong\",\"Hong Kong, China\",\"Hong Kong, Iceland, United States\",\"Hong Kong, United States\",\"Hungary\",\"Iceland, Sweden, Belgium\",\"India, France\",\"India, Germany, Austria\",\"India, Iran\",\"India, Nepal\",\"India, United States\",\"Indonesia, Singapore\",\"Indonesia, South Korea, Singapore\",\"Indonesia, United States\",\"Ireland, Canada\",\"Ireland, Luxembourg, Belgium\",\"Ireland, Switzerland, United Kingdom, France, United States\",\"Ireland, United States, France\",\"Israel, United States\",\"Italy, Switzerland, Albania, Poland\",\"Italy, Switzerland, France, Germany\",\"Jamaica, United States\",\"Japan, Canada, United States\",\"Japan, United States\",\"Kenya\",\"Kuwait\",\"Mexico, Argentina\",\"Mexico, Netherlands\",\"Netherlands, Belgium\",\"Norway\",\"Norway, Denmark, Netherlands, Sweden\",\"Pakistan, United Arab Emirates\",\"Paraguay, Argentina\",\"Peru\",\"Poland\",\"Puerto Rico, United States, Colombia\",\"Romania, United Kingdom\",\"Russia, Poland, Serbia\",\"Singapore\",\"Singapore, Japan, France\",\"South Africa, United States\",\"South Korea, Japan\",\"Spain, Belgium\",\"Spain, Italy\",\"Spain, Portugal\",\"Switzerland\",\"Switzerland, Vatican City, Italy, Germany, France\",\"Syria, France, Lebanon, Qatar\",\"Taiwan, China, France, United States\",\"Turkey, South Korea\",\"United Arab Emirates, United Kingdom, India\",\"United Arab Emirates, United States\",\"United Kingdom, Belgium\",\"United Kingdom, Canada\",\"United Kingdom, Canada, United States\",\"United Kingdom, Canada, United States, Cayman Islands\",\"United Kingdom, Canada, United States, Germany\",\"United Kingdom, France, United States\",\"United Kingdom, Germany\",\"United Kingdom, Ireland, United States\",\"United Kingdom, Kenya\",\"United Kingdom, Pakistan\",\"United Kingdom, Poland\",\"United Kingdom, South Africa, Australia, United States\",\"United Kingdom, Spain, United States, Germany\",\"United Kingdom, United States, Czech Republic\",\"United States,\",\"United States, Australia\",\"United States, Brazil, India, Uganda, China\",\"United States, Brazil, South Korea, Mexico, Japan, Germany\",\"United States, China, Canada\",\"United States, China, Colombia\",\"United States, France\",\"United States, Israel, United Kingdom, Canada\",\"United States, Japan, Canada\",\"United States, Mexico\",\"United States, Mexico, Spain, Malta\",\"United States, New Zealand\",\"United States, Nigeria\",\"United States, South Africa\",\"United States, Taiwan\",\"Uruguay, Argentina, Spain\",\"Uruguay, Spain, Mexico\"],\"name\":\"\",\"z\":[356,94,55,40,36,33,28,19,18,15,14,14,14,13,13,10,10,9,9,9,7,7,6,6,6,6,5,5,5,4,4,4,3,3,3,3,3,3,3,2,2,2,2,2,2,2,2,2,2,2,2,2,2,1,1,1,1,1,1,1,1,1,1,1,1,1,1,1,1,1,1,1,1,1,1,1,1,1,1,1,1,1,1,1,1,1,1,1,1,1,1,1,1,1,1,1,1,1,1,1,1,1,1,1,1,1,1,1,1,1,1,1,1,1,1,1,1,1,1,1,1,1,1,1,1,1,1,1,1,1,1,1,1,1,1,1,1,1,1,1,1,1,1,1,1,1,1,1,1,1,1,1,1,1,1,1,1,1,1,1,1,1,1,1,1,1,1,1],\"type\":\"choropleth\"}],\"name\":\"2018\"},{\"data\":[{\"coloraxis\":\"coloraxis\",\"geo\":\"geo\",\"hovertemplate\":\"release_year=2019<br>country=%{location}<br>counts=%{z}<extra></extra>\",\"locationmode\":\"country names\",\"locations\":[\"United States\",\"India\",\"United Kingdom\",\"France\",\"Japan\",\"South Korea\",\"Spain\",\"Canada\",\"Brazil\",\"China\",\"Nigeria\",\"Mexico\",\"Philippines\",\"Argentina\",\"Australia\",\"Thailand\",\"Indonesia\",\"Germany\",\"United States, Canada\",\"Colombia\",\"Taiwan\",\"Turkey\",\"United Kingdom, United States\",\"Italy\",\"Egypt\",\"United Arab Emirates\",\"United States, Japan\",\"Kuwait\",\"South Africa\",\"United States, Mexico\",\"Canada, United States\",\"France, Belgium\",\"Hong Kong\",\"Australia, United States\",\"Belgium\",\"Chile\",\"India, United States\",\"Japan, United States\",\"Lebanon\",\"Mexico, United States\",\"Netherlands\",\"Poland\",\"Romania\",\"Russia\",\"Sweden\",\"United Kingdom, Canada\",\"United Kingdom, Canada, United States\",\"United States, United Kingdom\",\"Vietnam\",\"Argentina, United States\",\"Austria\",\"Canada, Australia\",\"Canada, Brazil\",\"Canada, Germany\",\"Canada, Norway\",\"China, Hong Kong\",\"China, Taiwan\",\"China, United Kingdom\",\"Denmark, France, Belgium, Italy, Netherlands, United States, United Kingdom\",\"Denmark, Singapore, Canada, United States\",\"Egypt, Saudi Arabia\",\"Finland, France\",\"Finland, Germany, Belgium\",\"Finland, United States\",\"France, Israel, Germany, United States, United Kingdom\",\"France, Luxembourg, Canada\",\"France, Netherlands, Singapore\",\"France, New Zealand\",\"France, Senegal, Belgium\",\"France, South Korea, Japan, United States\",\"France, United Kingdom\",\"France, United States\",\"Ghana\",\"Hong Kong, China\",\"Hungary\",\"India, Turkey\",\"India, United Kingdom, Canada, United States\",\"India, United Kingdom, China, Canada, Japan, South Korea, United States\",\"Ireland, France, Iceland, United States, Mexico, Belgium, United Kingdom, Hong Kong\",\"Israel, United States\",\"Italy, Belgium\",\"Italy, France\",\"Italy, United Kingdom, France\",\"Jordan\",\"Kenya\",\"Lebanon, Palestine, Denmark, Qatar\",\"Lebanon, Syria\",\"Luxembourg\",\"Malaysia\",\"Mauritius, South Africa\",\"Mexico, Finland\",\"Mexico, United States, Spain, Colombia\",\"Mozambique\",\"Namibia\",\"New Zealand\",\"Norway, Sweden\",\"Philippines, Singapore\",\"Philippines, United States\",\"Poland, United States\",\"Romania, United States\",\"Senegal\",\"Serbia, United States\",\"Singapore, Malaysia\",\"Singapore, United States\",\"South Korea, United States\",\"Spain, France\",\"Spain, France, Canada\",\"Spain, France, Canada, United States\",\"Spain, France, Italy\",\"Spain, France, United States\",\"Spain, Germany\",\"Spain, Italy\",\"Spain, United Kingdom\",\"Spain, United States\",\"Sweden, United States\",\"Thailand, China, United States\",\"United Kingdom, Australia, United States\",\"United Kingdom, Belgium\",\"United Kingdom, Belgium, Sweden\",\"United Kingdom, France, Belgium, Ireland, United States\",\"United Kingdom, Hungary, Australia\",\"United Kingdom, Italy\",\"United Kingdom, Japan, United States\",\"United Kingdom, Malawi\",\"United States, China\",\"United States, Colombia\",\"United States, France, Denmark\",\"United States, France, Japan\",\"United States, Germany\",\"United States, India, South Korea, China\",\"United States, Mexico, Colombia\",\"United States, Norway, Canada\",\"United States, Philippines\",\"United States, Poland\",\"United States, South Korea\",\"United States, United Kingdom, Germany\",\"Uruguay\",\"Uruguay, Argentina\",\"Uruguay, Guatemala\"],\"name\":\"\",\"z\":[351,87,37,25,25,22,22,18,17,16,16,15,12,11,11,11,9,8,8,7,7,7,7,6,5,5,5,4,4,4,3,3,3,2,2,2,2,2,2,2,2,2,2,2,2,2,2,2,2,1,1,1,1,1,1,1,1,1,1,1,1,1,1,1,1,1,1,1,1,1,1,1,1,1,1,1,1,1,1,1,1,1,1,1,1,1,1,1,1,1,1,1,1,1,1,1,1,1,1,1,1,1,1,1,1,1,1,1,1,1,1,1,1,1,1,1,1,1,1,1,1,1,1,1,1,1,1,1,1,1,1,1,1,1,1,1,1,1,1],\"type\":\"choropleth\"}],\"name\":\"2019\"},{\"data\":[{\"coloraxis\":\"coloraxis\",\"geo\":\"geo\",\"hovertemplate\":\"release_year=2020<br>country=%{location}<br>counts=%{z}<extra></extra>\",\"locationmode\":\"country names\",\"locations\":[\"United States\",\"India\",\"United Kingdom\",\"South Korea\",\"Canada\",\"Spain\",\"Brazil\",\"Germany\",\"Japan\",\"Mexico\",\"France\",\"Italy\",\"Indonesia\",\"Argentina\",\"Nigeria\",\"Taiwan\",\"Australia\",\"China\",\"Colombia\",\"Poland\",\"Turkey\",\"Canada, United States\",\"Norway\",\"Philippines\",\"South Africa\",\"United Kingdom, United States\",\"Netherlands\",\"Thailand\",\"Egypt\",\"Saudi Arabia\",\"Sweden\",\"United States, Canada\",\"Austria\",\"Denmark, United States\",\"Iceland\",\"Japan, United States\",\"Mexico, Spain\",\"Mexico, United States\",\"United States, Japan\",\"Argentina, United States, Mexico\",\"Australia, Germany\",\"Australia, New Zealand\",\"Austria, Germany\",\"Belgium, Netherlands\",\"Brazil, France\",\"Brazil, United Kingdom\",\"Cameroon\",\"Canada, Hungary, United States\",\"Canada, United Kingdom\",\"Canada, United States, United Kingdom\",\"Chile\",\"Chile, Italy\",\"China, Spain, South Korea, United States\",\"China, United States\",\"Denmark\",\"Finland, Germany\",\"France, Algeria\",\"France, Australia, Germany\",\"France, Belgium\",\"France, Brazil, Spain, Belgium\",\"Germany, China, United Kingdom\",\"Germany, Czech Republic\",\"Germany, France\",\"Germany, United States\",\"Indonesia, United Kingdom\",\"Israel\",\"Israel, United States\",\"Kenya\",\"Lebanon\",\"Malaysia\",\"Pakistan, United States\",\"Poland, United States\",\"Portugal, Spain\",\"Portugal, United States\",\"Russia\",\"Singapore\",\"South Africa, Angola\",\"South Korea, United States\",\"Spain, Belgium, United States\",\"Spain, Germany\",\"Spain, Germany, Denmark, United States\",\"Taiwan, China\",\"Taiwan, Malaysia\",\"Thailand, United States\",\"United Kingdom,\",\"United Kingdom, Australia\",\"United Kingdom, China\",\"United Kingdom, France, Germany, Spain\",\"United Kingdom, Germany\",\"United Kingdom, Germany, United States, France\",\"United Kingdom, Ireland\",\"United Kingdom, Italy\",\"United Kingdom, Spain\",\"United Kingdom, United States, Ireland\",\"United States, Argentina\",\"United States, Bulgaria\",\"United States, Canada, United Kingdom\",\"United States, China, United Kingdom\",\"United States, France\",\"United States, France, Canada\",\"United States, India\",\"United States, South Korea, China\",\"United States, Thailand\",\"United States, United Kingdom\",\"United States, United Kingdom, India\",\"Uruguay\",\"Vietnam\"],\"name\":\"\",\"z\":[336,75,44,28,26,21,20,20,20,18,16,16,15,12,12,11,9,8,6,6,6,5,5,5,5,5,4,4,3,3,3,3,2,2,2,2,2,2,2,1,1,1,1,1,1,1,1,1,1,1,1,1,1,1,1,1,1,1,1,1,1,1,1,1,1,1,1,1,1,1,1,1,1,1,1,1,1,1,1,1,1,1,1,1,1,1,1,1,1,1,1,1,1,1,1,1,1,1,1,1,1,1,1,1,1,1,1],\"type\":\"choropleth\"}],\"name\":\"2020\"},{\"data\":[{\"coloraxis\":\"coloraxis\",\"geo\":\"geo\",\"hovertemplate\":\"release_year=2021<br>country=%{location}<br>counts=%{z}<extra></extra>\",\"locationmode\":\"country names\",\"locations\":[\"United States\",\"India\",\"United Kingdom\",\"South Korea\",\"Spain\",\"Japan\",\"Mexico\",\"Australia\",\"France\",\"Italy\",\"Germany\",\"South Africa\",\"Turkey\",\"Brazil\",\"China\",\"Indonesia\",\"Nigeria\",\"Poland\",\"Thailand\",\"United Kingdom, United States\",\"United States, United Kingdom\",\"Canada\",\"Colombia\",\"France, United States\",\"Sweden\",\"United States, Canada\",\"Argentina\",\"Belgium\",\"Canada, United States\",\"Israel\",\"Netherlands\",\"United Arab Emirates\",\"United States, Japan\",\", South Korea\",\"Australia, United Kingdom\",\"Australia, United States\",\"Belgium, France\",\"Belgium, Netherlands\",\"Belgium, United Kingdom\",\"Canada, United States, Cayman Islands\",\"Canada, United States, Ireland\",\"China, Taiwan\",\"China, United Kingdom\",\"China, United States, Canada\",\"Egypt\",\"Egypt, Denmark, Germany\",\"Germany, Czech Republic\",\"Germany, United States\",\"Hungary, United States\",\"Iceland\",\"India, United Kingdom, France, Qatar\",\"India, United States\",\"Israel, United States\",\"Italy, Brazil, Greece\",\"Italy, United Kingdom\",\"Jordan\",\"Mauritius\",\"Mexico, Brazil\",\"Mexico, France, Colombia\",\"Mexico, United States\",\"New Zealand\",\"Norway, Denmark\",\"Philippines, Singapore, Indonesia\",\"Russia, United States\",\"Saudi Arabia\",\"Spain, Argentina\",\"United Kingdom, Canada, United States\",\"United States, Australia\",\"United States, Brazil, Japan, Spain, India\",\"United States, Czech Republic\",\"United States, India\",\"United States, Mexico\",\"United States, Singapore\",\"Uruguay, Germany\",\"Vietnam\"],\"name\":\"\",\"z\":[138,31,22,19,14,12,9,7,7,6,5,5,5,4,4,4,4,4,4,4,4,3,3,3,3,3,2,2,2,2,2,2,2,1,1,1,1,1,1,1,1,1,1,1,1,1,1,1,1,1,1,1,1,1,1,1,1,1,1,1,1,1,1,1,1,1,1,1,1,1,1,1,1,1,1],\"type\":\"choropleth\"}],\"name\":\"2021\"}]);\n",
       "                        }).then(function(){\n",
       "                            \n",
       "var gd = document.getElementById('7bd53dcf-c8ba-47dd-bece-f5c22949d902');\n",
       "var x = new MutationObserver(function (mutations, observer) {{\n",
       "        var display = window.getComputedStyle(gd).display;\n",
       "        if (!display || display === 'none') {{\n",
       "            console.log([gd, 'removed!']);\n",
       "            Plotly.purge(gd);\n",
       "            observer.disconnect();\n",
       "        }}\n",
       "}});\n",
       "\n",
       "// Listen for the removal of the full notebook cells\n",
       "var notebookContainer = gd.closest('#notebook-container');\n",
       "if (notebookContainer) {{\n",
       "    x.observe(notebookContainer, {childList: true});\n",
       "}}\n",
       "\n",
       "// Listen for the clearing of the current output cell\n",
       "var outputEl = gd.closest('.output');\n",
       "if (outputEl) {{\n",
       "    x.observe(outputEl, {childList: true});\n",
       "}}\n",
       "\n",
       "                        })                };                });            </script>        </div>"
      ]
     },
     "metadata": {},
     "output_type": "display_data"
    }
   ],
   "source": [
    "import plotly.express as px\n",
    "yc = movies.groupby('release_year')['country'].value_counts().reset_index(name='counts')\n",
    "\n",
    "fig = px.choropleth(yc, locations=\"country\", color=\"counts\", \n",
    "                    locationmode='country names',\n",
    "                    animation_frame='release_year',\n",
    "                    range_color=[0,100])\n",
    "\n",
    "fig.update_layout(title='Dynamics of content by years (no international projects)')\n",
    "fig.show()"
   ]
  },
  {
   "cell_type": "markdown",
   "metadata": {},
   "source": [
    "# Merge dataset for Ratings"
   ]
  },
  {
   "cell_type": "code",
   "execution_count": 119,
   "metadata": {},
   "outputs": [
    {
     "data": {
      "text/html": [
       "<div>\n",
       "<style scoped>\n",
       "    .dataframe tbody tr th:only-of-type {\n",
       "        vertical-align: middle;\n",
       "    }\n",
       "\n",
       "    .dataframe tbody tr th {\n",
       "        vertical-align: top;\n",
       "    }\n",
       "\n",
       "    .dataframe thead th {\n",
       "        text-align: right;\n",
       "    }\n",
       "</style>\n",
       "<table border=\"1\" class=\"dataframe\">\n",
       "  <thead>\n",
       "    <tr style=\"text-align: right;\">\n",
       "      <th></th>\n",
       "      <th>id</th>\n",
       "      <th>title</th>\n",
       "      <th>type</th>\n",
       "      <th>description</th>\n",
       "      <th>release_year</th>\n",
       "      <th>age_certification</th>\n",
       "      <th>runtime</th>\n",
       "      <th>genres</th>\n",
       "      <th>production_countries</th>\n",
       "      <th>seasons</th>\n",
       "      <th>imdb_id</th>\n",
       "      <th>imdb_score</th>\n",
       "      <th>imdb_votes</th>\n",
       "      <th>tmdb_popularity</th>\n",
       "      <th>tmdb_score</th>\n",
       "    </tr>\n",
       "  </thead>\n",
       "  <tbody>\n",
       "    <tr>\n",
       "      <th>0</th>\n",
       "      <td>ts300399</td>\n",
       "      <td>Five Came Back: The Reference Films</td>\n",
       "      <td>SHOW</td>\n",
       "      <td>This collection includes 12 World War II-era p...</td>\n",
       "      <td>1945</td>\n",
       "      <td>TV-MA</td>\n",
       "      <td>51</td>\n",
       "      <td>['documentation']</td>\n",
       "      <td>['US']</td>\n",
       "      <td>1.0</td>\n",
       "      <td>NaN</td>\n",
       "      <td>NaN</td>\n",
       "      <td>NaN</td>\n",
       "      <td>0.600</td>\n",
       "      <td>NaN</td>\n",
       "    </tr>\n",
       "    <tr>\n",
       "      <th>1</th>\n",
       "      <td>tm84618</td>\n",
       "      <td>Taxi Driver</td>\n",
       "      <td>MOVIE</td>\n",
       "      <td>A mentally unstable Vietnam War veteran works ...</td>\n",
       "      <td>1976</td>\n",
       "      <td>R</td>\n",
       "      <td>114</td>\n",
       "      <td>['drama', 'crime']</td>\n",
       "      <td>['US']</td>\n",
       "      <td>NaN</td>\n",
       "      <td>tt0075314</td>\n",
       "      <td>8.2</td>\n",
       "      <td>808582.0</td>\n",
       "      <td>40.965</td>\n",
       "      <td>8.179</td>\n",
       "    </tr>\n",
       "    <tr>\n",
       "      <th>2</th>\n",
       "      <td>tm154986</td>\n",
       "      <td>Deliverance</td>\n",
       "      <td>MOVIE</td>\n",
       "      <td>Intent on seeing the Cahulawassee River before...</td>\n",
       "      <td>1972</td>\n",
       "      <td>R</td>\n",
       "      <td>109</td>\n",
       "      <td>['drama', 'action', 'thriller', 'european']</td>\n",
       "      <td>['US']</td>\n",
       "      <td>NaN</td>\n",
       "      <td>tt0068473</td>\n",
       "      <td>7.7</td>\n",
       "      <td>107673.0</td>\n",
       "      <td>10.010</td>\n",
       "      <td>7.300</td>\n",
       "    </tr>\n",
       "    <tr>\n",
       "      <th>3</th>\n",
       "      <td>tm127384</td>\n",
       "      <td>Monty Python and the Holy Grail</td>\n",
       "      <td>MOVIE</td>\n",
       "      <td>King Arthur, accompanied by his squire, recrui...</td>\n",
       "      <td>1975</td>\n",
       "      <td>PG</td>\n",
       "      <td>91</td>\n",
       "      <td>['fantasy', 'action', 'comedy']</td>\n",
       "      <td>['GB']</td>\n",
       "      <td>NaN</td>\n",
       "      <td>tt0071853</td>\n",
       "      <td>8.2</td>\n",
       "      <td>534486.0</td>\n",
       "      <td>15.461</td>\n",
       "      <td>7.811</td>\n",
       "    </tr>\n",
       "    <tr>\n",
       "      <th>4</th>\n",
       "      <td>tm120801</td>\n",
       "      <td>The Dirty Dozen</td>\n",
       "      <td>MOVIE</td>\n",
       "      <td>12 American military prisoners in World War II...</td>\n",
       "      <td>1967</td>\n",
       "      <td>NaN</td>\n",
       "      <td>150</td>\n",
       "      <td>['war', 'action']</td>\n",
       "      <td>['GB', 'US']</td>\n",
       "      <td>NaN</td>\n",
       "      <td>tt0061578</td>\n",
       "      <td>7.7</td>\n",
       "      <td>72662.0</td>\n",
       "      <td>20.398</td>\n",
       "      <td>7.600</td>\n",
       "    </tr>\n",
       "  </tbody>\n",
       "</table>\n",
       "</div>"
      ],
      "text/plain": [
       "         id                                title   type  \\\n",
       "0  ts300399  Five Came Back: The Reference Films   SHOW   \n",
       "1   tm84618                          Taxi Driver  MOVIE   \n",
       "2  tm154986                          Deliverance  MOVIE   \n",
       "3  tm127384      Monty Python and the Holy Grail  MOVIE   \n",
       "4  tm120801                      The Dirty Dozen  MOVIE   \n",
       "\n",
       "                                         description  release_year  \\\n",
       "0  This collection includes 12 World War II-era p...          1945   \n",
       "1  A mentally unstable Vietnam War veteran works ...          1976   \n",
       "2  Intent on seeing the Cahulawassee River before...          1972   \n",
       "3  King Arthur, accompanied by his squire, recrui...          1975   \n",
       "4  12 American military prisoners in World War II...          1967   \n",
       "\n",
       "  age_certification  runtime                                       genres  \\\n",
       "0             TV-MA       51                            ['documentation']   \n",
       "1                 R      114                           ['drama', 'crime']   \n",
       "2                 R      109  ['drama', 'action', 'thriller', 'european']   \n",
       "3                PG       91              ['fantasy', 'action', 'comedy']   \n",
       "4               NaN      150                            ['war', 'action']   \n",
       "\n",
       "  production_countries  seasons    imdb_id  imdb_score  imdb_votes  \\\n",
       "0               ['US']      1.0        NaN         NaN         NaN   \n",
       "1               ['US']      NaN  tt0075314         8.2    808582.0   \n",
       "2               ['US']      NaN  tt0068473         7.7    107673.0   \n",
       "3               ['GB']      NaN  tt0071853         8.2    534486.0   \n",
       "4         ['GB', 'US']      NaN  tt0061578         7.7     72662.0   \n",
       "\n",
       "   tmdb_popularity  tmdb_score  \n",
       "0            0.600         NaN  \n",
       "1           40.965       8.179  \n",
       "2           10.010       7.300  \n",
       "3           15.461       7.811  \n",
       "4           20.398       7.600  "
      ]
     },
     "execution_count": 119,
     "metadata": {},
     "output_type": "execute_result"
    }
   ],
   "source": [
    "titles = pd.read_csv('titles.csv')\n",
    "titles.head()"
   ]
  },
  {
   "cell_type": "code",
   "execution_count": 120,
   "metadata": {},
   "outputs": [
    {
     "data": {
      "text/plain": [
       "id                         0\n",
       "title                      1\n",
       "type                       0\n",
       "description               18\n",
       "release_year               0\n",
       "age_certification       2619\n",
       "runtime                    0\n",
       "genres                     0\n",
       "production_countries       0\n",
       "seasons                 3744\n",
       "imdb_id                  403\n",
       "imdb_score               482\n",
       "imdb_votes               498\n",
       "tmdb_popularity           91\n",
       "tmdb_score               311\n",
       "dtype: int64"
      ]
     },
     "execution_count": 120,
     "metadata": {},
     "output_type": "execute_result"
    }
   ],
   "source": [
    "titles.isna().sum()"
   ]
  },
  {
   "cell_type": "code",
   "execution_count": 121,
   "metadata": {},
   "outputs": [],
   "source": [
    "titles_score=titles[['title','imdb_score','imdb_votes','tmdb_popularity','tmdb_score']]"
   ]
  },
  {
   "cell_type": "code",
   "execution_count": 122,
   "metadata": {},
   "outputs": [],
   "source": [
    "movies_score=movies.merge(titles_score,on='title',how='inner')"
   ]
  },
  {
   "cell_type": "markdown",
   "metadata": {},
   "source": [
    "# What score range do most movies and series have?Plot with a graph"
   ]
  },
  {
   "cell_type": "code",
   "execution_count": 123,
   "metadata": {},
   "outputs": [
    {
     "data": {
      "text/plain": [
       "show_id               0\n",
       "type                  0\n",
       "title                 0\n",
       "director           1361\n",
       "cast                354\n",
       "country             295\n",
       "date_added            0\n",
       "release_year          0\n",
       "rating                1\n",
       "duration              1\n",
       "listed_in             0\n",
       "description           0\n",
       "year                  0\n",
       "Minutes               1\n",
       "Unit                  1\n",
       "month                 0\n",
       "imdb_score            0\n",
       "imdb_votes            0\n",
       "tmdb_popularity      42\n",
       "tmdb_score          139\n",
       "dtype: int64"
      ]
     },
     "execution_count": 123,
     "metadata": {},
     "output_type": "execute_result"
    }
   ],
   "source": [
    "movies_score_imdb = movies_score[movies_score['imdb_votes'].notna()]\n",
    "movies_score_imdb.isna().sum()"
   ]
  },
  {
   "cell_type": "code",
   "execution_count": 124,
   "metadata": {},
   "outputs": [
    {
     "name": "stderr",
     "output_type": "stream",
     "text": [
      "C:\\Users\\petro\\anaconda3\\lib\\site-packages\\ipykernel_launcher.py:3: SettingWithCopyWarning:\n",
      "\n",
      "\n",
      "A value is trying to be set on a copy of a slice from a DataFrame.\n",
      "Try using .loc[row_indexer,col_indexer] = value instead\n",
      "\n",
      "See the caveats in the documentation: https://pandas.pydata.org/pandas-docs/stable/user_guide/indexing.html#returning-a-view-versus-a-copy\n",
      "\n"
     ]
    },
    {
     "data": {
      "image/png": "[encoded data removed]",
      "text/plain": [
       "<Figure size 720x720 with 1 Axes>"
      ]
     },
     "metadata": {},
     "output_type": "display_data"
    }
   ],
   "source": [
    "# We will categorized the values of imdb score for better solutions.\n",
    "plt.figure(figsize=(10,10))\n",
    "movies_score_imdb['imdb_score_categorized'] = pd.cut(movies_score_imdb['imdb_score'], bins=[0,2 ,4, 6, 8, 10],labels=['(0-2)','(2-4)','(4-6)','(6-8)','(8-10)'], include_lowest=True)\n",
    "sns.countplot(data=movies_score_imdb,x='imdb_score_categorized',hue='type',dodge=False)\n",
    "plt.title('Imdb score for movies and tv shows')\n",
    "plt.show()"
   ]
  },
  {
   "cell_type": "code",
   "execution_count": 125,
   "metadata": {},
   "outputs": [
    {
     "data": {
      "text/plain": [
       "Text(0.5, 1.0, 'Distribution of imdb score for movies and tv shows')"
      ]
     },
     "execution_count": 125,
     "metadata": {},
     "output_type": "execute_result"
    },
    {
     "data": {
      "image/png": "[encoded data removed]",
      "text/plain": [
       "<Figure size 864x576 with 1 Axes>"
      ]
     },
     "metadata": {},
     "output_type": "display_data"
    }
   ],
   "source": [
    "plt.figure(figsize=(12,8))\n",
    "sns.distplot(movies_score_imdb['imdb_score'])\n",
    "plt.title('Distribution of imdb score for movies and tv shows')"
   ]
  },
  {
   "cell_type": "markdown",
   "metadata": {},
   "source": [
    "## Conclusion\n",
    "We can observe that the most movies and tv shows have imdb score between 6 and 8."
   ]
  }
 ],
 "metadata": {
  "kernelspec": {
   "display_name": "Python 3",
   "language": "python",
   "name": "python3"
  },
  "language_info": {
   "codemirror_mode": {
    "name": "ipython",
    "version": 3
   },
   "file_extension": ".py",
   "mimetype": "text/x-python",
   "name": "python",
   "nbconvert_exporter": "python",
   "pygments_lexer": "ipython3",
   "version": "3.7.6"
  }
 },
 "nbformat": 4,
 "nbformat_minor": 4
}
